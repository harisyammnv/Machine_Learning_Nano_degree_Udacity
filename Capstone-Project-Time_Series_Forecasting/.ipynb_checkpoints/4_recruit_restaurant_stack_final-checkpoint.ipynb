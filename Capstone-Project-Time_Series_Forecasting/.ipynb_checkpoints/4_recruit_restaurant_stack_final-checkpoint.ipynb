{
 "cells": [
  {
   "cell_type": "markdown",
   "metadata": {},
   "source": [
    "# Recruit Restaurant Vistor Forecasting Stacking\n",
    "\n",
    "** This notebook is a followup to my previous notebooks (EDA -> ARIMA -> TSCV or KFold -> Stacking)**\n",
    "\n",
    "* In this notebook all the inferences made in the previous notebooks are taken into account\n",
    "\n",
    "* I will be using the features from the previous notebooks and along with new features which i will create in this notebook\n",
    "\n",
    "* I will be implementing RandomizedGridSearch with Cross validation stratagies from my previous notebooks\n",
    "\n",
    "* I will check the RMSLE score of the individual models\n",
    "\n",
    "* Finally i will stack up the models and check the RMSLE score of the stacked model"
   ]
  },
  {
   "cell_type": "markdown",
   "metadata": {},
   "source": [
    "# 1) Importing necessary modules"
   ]
  },
  {
   "cell_type": "code",
   "execution_count": 1,
   "metadata": {},
   "outputs": [
    {
     "name": "stderr",
     "output_type": "stream",
     "text": [
      "C:\\Users\\namanda\\AppData\\Local\\Continuum\\anaconda3\\lib\\site-packages\\sklearn\\cross_validation.py:41: DeprecationWarning: This module was deprecated in version 0.18 in favor of the model_selection module into which all the refactored classes and functions are moved. Also note that the interface of the new CV iterators are different from that of this module. This module will be removed in 0.20.\n",
      "  \"This module will be removed in 0.20.\", DeprecationWarning)\n"
     ]
    }
   ],
   "source": [
    "import pandas as pd\n",
    "import matplotlib.pyplot as plt\n",
    "import numpy as np\n",
    "import seaborn as sns\n",
    "%matplotlib inline\n",
    "import warnings\n",
    "warnings.filterwarnings(\"ignore\")\n",
    "from sklearn import metrics\n",
    "from sklearn.preprocessing import LabelEncoder\n",
    "from sklearn.ensemble import GradientBoostingRegressor,RandomForestRegressor\n",
    "from sklearn.neighbors import KNeighborsRegressor\n",
    "from sklearn import model_selection\n",
    "from sklearn.model_selection import learning_curve\n",
    "from xgboost import XGBRegressor\n",
    "import lightgbm as lgb\n",
    "import scipy.stats as st"
   ]
  },
  {
   "cell_type": "markdown",
   "metadata": {},
   "source": [
    "# 2) Data I/O"
   ]
  },
  {
   "cell_type": "markdown",
   "metadata": {},
   "source": [
    "**Observation:** I  used weather data to improve my LB scores. The weather data is provided by the competitors in the competition "
   ]
  },
  {
   "cell_type": "code",
   "execution_count": 2,
   "metadata": {},
   "outputs": [],
   "source": [
    "# air_visit_data: Visitos data as main training set\n",
    "train_data=pd.read_csv('air_visit_data.csv')\n",
    "\n",
    "#air store info and hpg store informations from the weather data file are better formatted\n",
    "air_store_info=pd.read_csv('air_store_info_with_nearest_active_station.csv',usecols=[0,1,2,3,4,7])\n",
    "hpg_store_info=pd.read_csv('hpg_store_info_with_nearest_active_station.csv',usecols=[0,1,2,3,4,7])\n",
    "\n",
    "#reservation info from air_reserve and hpg reserve \n",
    "air_reserve=pd.read_csv('air_reserve.csv')\n",
    "hpg_reserve=pd.read_csv('hpg_reserve.csv')\n",
    "\n",
    "#store id relation between hpg and air\n",
    "store_id_relation=pd.read_csv('store_id_relation.csv')\n",
    "date_info=pd.read_csv('date_info.csv').rename(columns={'calendar_date':'visit_date'})\n",
    "test_data=pd.read_csv('sample_submission.csv')\n",
    "\n",
    "train_size=train_data.shape[0]"
   ]
  },
  {
   "cell_type": "markdown",
   "metadata": {},
   "source": [
    "# 3) Feature Engineering "
   ]
  },
  {
   "cell_type": "markdown",
   "metadata": {},
   "source": [
    "** Observations from my previous notebooks:**\n",
    "\n",
    "* Lot of missing values in the time series-> Cannot really treat every restaurant as an individual time series problem\n",
    "\n",
    "* I have to tackle about the area names because one area is equivalent to 3 local areas (can be used to induce diversity for the stack)\n",
    "\n",
    "* To give a time series effect to the regression problem we need features like Exponential Weighted avg (used it from this discussion: ), rolling averages and rolling weighted averages\n",
    "\n",
    "* adjusting the holidays(giving special status for few days) and the golden week will be crucial for minimizing the RMSLE score"
   ]
  },
  {
   "cell_type": "code",
   "execution_count": 6,
   "metadata": {},
   "outputs": [
    {
     "name": "stdout",
     "output_type": "stream",
     "text": [
      "The number of restaurants before July in the Air Database:  316\n"
     ]
    }
   ],
   "source": [
    "# extracting the unique restaurants before July\n",
    "restaurants_before_July=train_data[train_data.visit_date<'2016-07-01'].air_store_id.unique()\n",
    "print('The number of restaurants before July in the Air Database: ', len(restaurants_before_July))"
   ]
  },
  {
   "cell_type": "code",
   "execution_count": 7,
   "metadata": {},
   "outputs": [
    {
     "name": "stdout",
     "output_type": "stream",
     "text": [
      "The number of restaurants after July in the Air Database:  829\n"
     ]
    }
   ],
   "source": [
    "# extracting the unique restaurants after July\n",
    "restaurants_after_July=train_data[train_data.visit_date>='2016-07-01'].air_store_id.unique()\n",
    "print('The number of restaurants after July in the Air Database: ', len(restaurants_after_July))"
   ]
  },
  {
   "cell_type": "markdown",
   "metadata": {},
   "source": [
    "**Observation**: there are missing restaurants in the air-database before July 1st 2016."
   ]
  },
  {
   "cell_type": "markdown",
   "metadata": {},
   "source": [
    "1) In the **date_info dataframe**: Creating new features like previous_day_is_holiday and next_day_is_holiday := helps in understanding the reservation data later"
   ]
  },
  {
   "cell_type": "code",
   "execution_count": 3,
   "metadata": {},
   "outputs": [
    {
     "data": {
      "text/html": [
       "<div>\n",
       "<style scoped>\n",
       "    .dataframe tbody tr th:only-of-type {\n",
       "        vertical-align: middle;\n",
       "    }\n",
       "\n",
       "    .dataframe tbody tr th {\n",
       "        vertical-align: top;\n",
       "    }\n",
       "\n",
       "    .dataframe thead th {\n",
       "        text-align: right;\n",
       "    }\n",
       "</style>\n",
       "<table border=\"1\" class=\"dataframe\">\n",
       "  <thead>\n",
       "    <tr style=\"text-align: right;\">\n",
       "      <th></th>\n",
       "      <th>visit_date</th>\n",
       "      <th>day_of_week</th>\n",
       "      <th>is_holiday</th>\n",
       "      <th>prev_day_is_holiday</th>\n",
       "      <th>next_day_is_holiday</th>\n",
       "      <th>is_weekend</th>\n",
       "    </tr>\n",
       "  </thead>\n",
       "  <tbody>\n",
       "    <tr>\n",
       "      <th>0</th>\n",
       "      <td>2016-01-01</td>\n",
       "      <td>Friday</td>\n",
       "      <td>1</td>\n",
       "      <td>0.0</td>\n",
       "      <td>1.0</td>\n",
       "      <td>0</td>\n",
       "    </tr>\n",
       "    <tr>\n",
       "      <th>1</th>\n",
       "      <td>2016-01-02</td>\n",
       "      <td>Saturday</td>\n",
       "      <td>1</td>\n",
       "      <td>1.0</td>\n",
       "      <td>1.0</td>\n",
       "      <td>1</td>\n",
       "    </tr>\n",
       "    <tr>\n",
       "      <th>2</th>\n",
       "      <td>2016-01-03</td>\n",
       "      <td>Sunday</td>\n",
       "      <td>1</td>\n",
       "      <td>1.0</td>\n",
       "      <td>0.0</td>\n",
       "      <td>1</td>\n",
       "    </tr>\n",
       "    <tr>\n",
       "      <th>3</th>\n",
       "      <td>2016-01-04</td>\n",
       "      <td>Monday</td>\n",
       "      <td>0</td>\n",
       "      <td>1.0</td>\n",
       "      <td>0.0</td>\n",
       "      <td>0</td>\n",
       "    </tr>\n",
       "    <tr>\n",
       "      <th>4</th>\n",
       "      <td>2016-01-05</td>\n",
       "      <td>Tuesday</td>\n",
       "      <td>0</td>\n",
       "      <td>0.0</td>\n",
       "      <td>0.0</td>\n",
       "      <td>0</td>\n",
       "    </tr>\n",
       "  </tbody>\n",
       "</table>\n",
       "</div>"
      ],
      "text/plain": [
       "   visit_date day_of_week  is_holiday  prev_day_is_holiday  \\\n",
       "0  2016-01-01      Friday           1                  0.0   \n",
       "1  2016-01-02    Saturday           1                  1.0   \n",
       "2  2016-01-03      Sunday           1                  1.0   \n",
       "3  2016-01-04      Monday           0                  1.0   \n",
       "4  2016-01-05     Tuesday           0                  0.0   \n",
       "\n",
       "   next_day_is_holiday  is_weekend  \n",
       "0                  1.0           0  \n",
       "1                  1.0           1  \n",
       "2                  0.0           1  \n",
       "3                  0.0           0  \n",
       "4                  0.0           0  "
      ]
     },
     "execution_count": 3,
     "metadata": {},
     "output_type": "execute_result"
    }
   ],
   "source": [
    "date_info.rename(columns={'holiday_flg': 'is_holiday', 'calendar_date': 'visit_date'}, inplace=True)\n",
    "\n",
    "# extracting feature for previous day being a holiday or the next day being a holiday using the lag function\n",
    "# this feature will help in tagging that there will be reservations on thes days and also to observe the pattern of visitors\n",
    "date_info['prev_day_is_holiday'] = date_info['is_holiday'].shift().fillna(0)\n",
    "date_info['next_day_is_holiday'] = date_info['is_holiday'].shift(-1).fillna(0)\n",
    "date_info['is_weekend'] = date_info['day_of_week'].isin(['Saturday', 'Sunday']).astype(int)\n",
    "date_info.head()"
   ]
  },
  {
   "cell_type": "markdown",
   "metadata": {},
   "source": [
    "2) In the **train_data dataframe**: Creating features from the previous notebook and adding new features:\n",
    "* From the EDA notebook and the ARIMA notebook, it is clear that the restaurants have missing data => It is necessary to resample the data by keeping the value of visitors to zero in the missing dates (but resampling did not help me to improve my score) => I have commented the resampling code part"
   ]
  },
  {
   "cell_type": "code",
   "execution_count": 4,
   "metadata": {},
   "outputs": [
    {
     "data": {
      "text/html": [
       "<div>\n",
       "<style scoped>\n",
       "    .dataframe tbody tr th:only-of-type {\n",
       "        vertical-align: middle;\n",
       "    }\n",
       "\n",
       "    .dataframe tbody tr th {\n",
       "        vertical-align: top;\n",
       "    }\n",
       "\n",
       "    .dataframe thead th {\n",
       "        text-align: right;\n",
       "    }\n",
       "</style>\n",
       "<table border=\"1\" class=\"dataframe\">\n",
       "  <thead>\n",
       "    <tr style=\"text-align: right;\">\n",
       "      <th></th>\n",
       "      <th>air_store_id</th>\n",
       "      <th>visit_date</th>\n",
       "      <th>visitors</th>\n",
       "    </tr>\n",
       "  </thead>\n",
       "  <tbody>\n",
       "    <tr>\n",
       "      <th>0</th>\n",
       "      <td>air_ba937bf13d40fb24</td>\n",
       "      <td>2016-01-13</td>\n",
       "      <td>25</td>\n",
       "    </tr>\n",
       "    <tr>\n",
       "      <th>1</th>\n",
       "      <td>air_ba937bf13d40fb24</td>\n",
       "      <td>2016-01-14</td>\n",
       "      <td>32</td>\n",
       "    </tr>\n",
       "    <tr>\n",
       "      <th>2</th>\n",
       "      <td>air_ba937bf13d40fb24</td>\n",
       "      <td>2016-01-15</td>\n",
       "      <td>29</td>\n",
       "    </tr>\n",
       "    <tr>\n",
       "      <th>3</th>\n",
       "      <td>air_ba937bf13d40fb24</td>\n",
       "      <td>2016-01-16</td>\n",
       "      <td>22</td>\n",
       "    </tr>\n",
       "    <tr>\n",
       "      <th>4</th>\n",
       "      <td>air_ba937bf13d40fb24</td>\n",
       "      <td>2016-01-18</td>\n",
       "      <td>6</td>\n",
       "    </tr>\n",
       "  </tbody>\n",
       "</table>\n",
       "</div>"
      ],
      "text/plain": [
       "           air_store_id  visit_date  visitors\n",
       "0  air_ba937bf13d40fb24  2016-01-13        25\n",
       "1  air_ba937bf13d40fb24  2016-01-14        32\n",
       "2  air_ba937bf13d40fb24  2016-01-15        29\n",
       "3  air_ba937bf13d40fb24  2016-01-16        22\n",
       "4  air_ba937bf13d40fb24  2016-01-18         6"
      ]
     },
     "execution_count": 4,
     "metadata": {},
     "output_type": "execute_result"
    }
   ],
   "source": [
    "train_data['visit_date'] = pd.to_datetime(train_data['visit_date'])\n",
    "train_data['visit_date'] = train_data['visit_date'].dt.strftime('%Y-%m-%d')\n",
    "train_data.head()"
   ]
  },
  {
   "cell_type": "markdown",
   "metadata": {},
   "source": [
    "3) Creating temporal features from the visit date to get the time series effect"
   ]
  },
  {
   "cell_type": "code",
   "execution_count": 5,
   "metadata": {},
   "outputs": [
    {
     "data": {
      "text/html": [
       "<div>\n",
       "<style scoped>\n",
       "    .dataframe tbody tr th:only-of-type {\n",
       "        vertical-align: middle;\n",
       "    }\n",
       "\n",
       "    .dataframe tbody tr th {\n",
       "        vertical-align: top;\n",
       "    }\n",
       "\n",
       "    .dataframe thead th {\n",
       "        text-align: right;\n",
       "    }\n",
       "</style>\n",
       "<table border=\"1\" class=\"dataframe\">\n",
       "  <thead>\n",
       "    <tr style=\"text-align: right;\">\n",
       "      <th></th>\n",
       "      <th>air_store_id</th>\n",
       "      <th>visit_date</th>\n",
       "      <th>visitors</th>\n",
       "      <th>dow</th>\n",
       "      <th>year</th>\n",
       "      <th>month</th>\n",
       "      <th>doy</th>\n",
       "      <th>dim</th>\n",
       "      <th>woy</th>\n",
       "    </tr>\n",
       "  </thead>\n",
       "  <tbody>\n",
       "    <tr>\n",
       "      <th>0</th>\n",
       "      <td>air_ba937bf13d40fb24</td>\n",
       "      <td>2016-01-13</td>\n",
       "      <td>25</td>\n",
       "      <td>2</td>\n",
       "      <td>2016</td>\n",
       "      <td>1</td>\n",
       "      <td>13</td>\n",
       "      <td>13</td>\n",
       "      <td>2</td>\n",
       "    </tr>\n",
       "    <tr>\n",
       "      <th>1</th>\n",
       "      <td>air_ba937bf13d40fb24</td>\n",
       "      <td>2016-01-14</td>\n",
       "      <td>32</td>\n",
       "      <td>3</td>\n",
       "      <td>2016</td>\n",
       "      <td>1</td>\n",
       "      <td>14</td>\n",
       "      <td>14</td>\n",
       "      <td>2</td>\n",
       "    </tr>\n",
       "    <tr>\n",
       "      <th>2</th>\n",
       "      <td>air_ba937bf13d40fb24</td>\n",
       "      <td>2016-01-15</td>\n",
       "      <td>29</td>\n",
       "      <td>4</td>\n",
       "      <td>2016</td>\n",
       "      <td>1</td>\n",
       "      <td>15</td>\n",
       "      <td>15</td>\n",
       "      <td>2</td>\n",
       "    </tr>\n",
       "    <tr>\n",
       "      <th>3</th>\n",
       "      <td>air_ba937bf13d40fb24</td>\n",
       "      <td>2016-01-16</td>\n",
       "      <td>22</td>\n",
       "      <td>5</td>\n",
       "      <td>2016</td>\n",
       "      <td>1</td>\n",
       "      <td>16</td>\n",
       "      <td>16</td>\n",
       "      <td>2</td>\n",
       "    </tr>\n",
       "    <tr>\n",
       "      <th>4</th>\n",
       "      <td>air_ba937bf13d40fb24</td>\n",
       "      <td>2016-01-18</td>\n",
       "      <td>6</td>\n",
       "      <td>0</td>\n",
       "      <td>2016</td>\n",
       "      <td>1</td>\n",
       "      <td>18</td>\n",
       "      <td>18</td>\n",
       "      <td>3</td>\n",
       "    </tr>\n",
       "  </tbody>\n",
       "</table>\n",
       "</div>"
      ],
      "text/plain": [
       "           air_store_id  visit_date  visitors  dow  year  month  doy  dim  woy\n",
       "0  air_ba937bf13d40fb24  2016-01-13        25    2  2016      1   13   13    2\n",
       "1  air_ba937bf13d40fb24  2016-01-14        32    3  2016      1   14   14    2\n",
       "2  air_ba937bf13d40fb24  2016-01-15        29    4  2016      1   15   15    2\n",
       "3  air_ba937bf13d40fb24  2016-01-16        22    5  2016      1   16   16    2\n",
       "4  air_ba937bf13d40fb24  2016-01-18         6    0  2016      1   18   18    3"
      ]
     },
     "execution_count": 5,
     "metadata": {},
     "output_type": "execute_result"
    }
   ],
   "source": [
    "# extracting the temporal features for the train set\n",
    "train_data['visit_date'] = pd.to_datetime(train_data['visit_date'])\n",
    "train_data['dow'] = train_data['visit_date'].dt.dayofweek\n",
    "train_data['year'] = train_data['visit_date'].dt.year\n",
    "train_data['month'] = train_data['visit_date'].dt.month\n",
    "train_data['doy'] = train_data['visit_date'].dt.dayofyear\n",
    "train_data['dim'] = train_data['visit_date'].dt.day\n",
    "train_data['woy'] = train_data['visit_date'].dt.weekofyear\n",
    "train_data['visit_date'] = train_data['visit_date'].dt.date\n",
    "train_data.head()"
   ]
  },
  {
   "cell_type": "markdown",
   "metadata": {},
   "source": [
    "4) Processing the **test_data dataframe** into proper format to suit the the training set from above"
   ]
  },
  {
   "cell_type": "code",
   "execution_count": 6,
   "metadata": {},
   "outputs": [
    {
     "data": {
      "text/html": [
       "<div>\n",
       "<style scoped>\n",
       "    .dataframe tbody tr th:only-of-type {\n",
       "        vertical-align: middle;\n",
       "    }\n",
       "\n",
       "    .dataframe tbody tr th {\n",
       "        vertical-align: top;\n",
       "    }\n",
       "\n",
       "    .dataframe thead th {\n",
       "        text-align: right;\n",
       "    }\n",
       "</style>\n",
       "<table border=\"1\" class=\"dataframe\">\n",
       "  <thead>\n",
       "    <tr style=\"text-align: right;\">\n",
       "      <th></th>\n",
       "      <th>id</th>\n",
       "      <th>visitors</th>\n",
       "      <th>visit_date</th>\n",
       "      <th>air_store_id</th>\n",
       "      <th>dow</th>\n",
       "      <th>year</th>\n",
       "      <th>month</th>\n",
       "      <th>doy</th>\n",
       "      <th>dim</th>\n",
       "      <th>woy</th>\n",
       "    </tr>\n",
       "  </thead>\n",
       "  <tbody>\n",
       "    <tr>\n",
       "      <th>0</th>\n",
       "      <td>air_00a91d42b08b08d9_2017-04-23</td>\n",
       "      <td>0</td>\n",
       "      <td>2017-04-23</td>\n",
       "      <td>air_00a91d42b08b08d9</td>\n",
       "      <td>6</td>\n",
       "      <td>2017</td>\n",
       "      <td>4</td>\n",
       "      <td>113</td>\n",
       "      <td>23</td>\n",
       "      <td>16</td>\n",
       "    </tr>\n",
       "    <tr>\n",
       "      <th>1</th>\n",
       "      <td>air_00a91d42b08b08d9_2017-04-24</td>\n",
       "      <td>0</td>\n",
       "      <td>2017-04-24</td>\n",
       "      <td>air_00a91d42b08b08d9</td>\n",
       "      <td>0</td>\n",
       "      <td>2017</td>\n",
       "      <td>4</td>\n",
       "      <td>114</td>\n",
       "      <td>24</td>\n",
       "      <td>17</td>\n",
       "    </tr>\n",
       "    <tr>\n",
       "      <th>2</th>\n",
       "      <td>air_00a91d42b08b08d9_2017-04-25</td>\n",
       "      <td>0</td>\n",
       "      <td>2017-04-25</td>\n",
       "      <td>air_00a91d42b08b08d9</td>\n",
       "      <td>1</td>\n",
       "      <td>2017</td>\n",
       "      <td>4</td>\n",
       "      <td>115</td>\n",
       "      <td>25</td>\n",
       "      <td>17</td>\n",
       "    </tr>\n",
       "    <tr>\n",
       "      <th>3</th>\n",
       "      <td>air_00a91d42b08b08d9_2017-04-26</td>\n",
       "      <td>0</td>\n",
       "      <td>2017-04-26</td>\n",
       "      <td>air_00a91d42b08b08d9</td>\n",
       "      <td>2</td>\n",
       "      <td>2017</td>\n",
       "      <td>4</td>\n",
       "      <td>116</td>\n",
       "      <td>26</td>\n",
       "      <td>17</td>\n",
       "    </tr>\n",
       "    <tr>\n",
       "      <th>4</th>\n",
       "      <td>air_00a91d42b08b08d9_2017-04-27</td>\n",
       "      <td>0</td>\n",
       "      <td>2017-04-27</td>\n",
       "      <td>air_00a91d42b08b08d9</td>\n",
       "      <td>3</td>\n",
       "      <td>2017</td>\n",
       "      <td>4</td>\n",
       "      <td>117</td>\n",
       "      <td>27</td>\n",
       "      <td>17</td>\n",
       "    </tr>\n",
       "  </tbody>\n",
       "</table>\n",
       "</div>"
      ],
      "text/plain": [
       "                                id  visitors  visit_date  \\\n",
       "0  air_00a91d42b08b08d9_2017-04-23         0  2017-04-23   \n",
       "1  air_00a91d42b08b08d9_2017-04-24         0  2017-04-24   \n",
       "2  air_00a91d42b08b08d9_2017-04-25         0  2017-04-25   \n",
       "3  air_00a91d42b08b08d9_2017-04-26         0  2017-04-26   \n",
       "4  air_00a91d42b08b08d9_2017-04-27         0  2017-04-27   \n",
       "\n",
       "           air_store_id  dow  year  month  doy  dim  woy  \n",
       "0  air_00a91d42b08b08d9    6  2017      4  113   23   16  \n",
       "1  air_00a91d42b08b08d9    0  2017      4  114   24   17  \n",
       "2  air_00a91d42b08b08d9    1  2017      4  115   25   17  \n",
       "3  air_00a91d42b08b08d9    2  2017      4  116   26   17  \n",
       "4  air_00a91d42b08b08d9    3  2017      4  117   27   17  "
      ]
     },
     "execution_count": 6,
     "metadata": {},
     "output_type": "execute_result"
    }
   ],
   "source": [
    "# extracting the temporal information for the test data\n",
    "test_data['visit_date'] = test_data['id'].map(lambda x: str(x).split('_')[2])\n",
    "test_data['air_store_id'] = test_data['id'].map(lambda x: '_'.join(x.split('_')[:2]))\n",
    "test_data['visit_date'] = pd.to_datetime(test_data['visit_date'])\n",
    "test_data['dow'] = test_data['visit_date'].dt.dayofweek\n",
    "test_data['year'] = test_data['visit_date'].dt.year\n",
    "test_data['month'] = test_data['visit_date'].dt.month\n",
    "test_data['doy'] = test_data['visit_date'].dt.dayofyear\n",
    "test_data['dim'] = test_data['visit_date'].dt.day\n",
    "test_data['woy'] = test_data['visit_date'].dt.weekofyear\n",
    "test_data['visit_date'] = test_data['visit_date'].dt.date\n",
    "test_data.head()"
   ]
  },
  {
   "cell_type": "code",
   "execution_count": 7,
   "metadata": {
    "collapsed": true
   },
   "outputs": [],
   "source": [
    "train_data['visit_date']=pd.to_datetime(train_data['visit_date'])\n",
    "test_data['visit_date']=pd.to_datetime(test_data['visit_date'])\n",
    "date_info['visit_date']=pd.to_datetime(date_info['visit_date'])"
   ]
  },
  {
   "cell_type": "code",
   "execution_count": 8,
   "metadata": {
    "collapsed": true
   },
   "outputs": [],
   "source": [
    "train_data=pd.merge(train_data,date_info,on=['visit_date'],how='left')\n",
    "test_data=pd.merge(test_data,date_info,on=['visit_date'],how='left')"
   ]
  },
  {
   "cell_type": "code",
   "execution_count": 9,
   "metadata": {
    "collapsed": true
   },
   "outputs": [],
   "source": [
    "train_data.drop(['day_of_week'],axis=1,inplace=True)\n",
    "test_data.drop(['day_of_week'],axis=1,inplace=True)"
   ]
  },
  {
   "cell_type": "markdown",
   "metadata": {},
   "source": [
    "5) **One of the most important idea was to create the holiday as a special status day**. It helped to improve the LB score"
   ]
  },
  {
   "cell_type": "code",
   "execution_count": 10,
   "metadata": {
    "collapsed": true
   },
   "outputs": [],
   "source": [
    "# marking the holiday flagged days as special criteria days\n",
    "train_data.loc[train_data.is_holiday==1,'dow'] = -1\n",
    "test_data.loc[test_data.is_holiday==1,'dow'] = -1"
   ]
  },
  {
   "cell_type": "code",
   "execution_count": 11,
   "metadata": {
    "collapsed": true
   },
   "outputs": [],
   "source": [
    "# week before and after Golden week special status for golden week and the week before and after\n",
    "train_data['before_golden_flag'] = 0\n",
    "train_data.loc[(train_data.visit_date<='2016-04-28') & (train_data.visit_date>='2016-04-22'),'before_golden_flag'] = 1\n",
    "train_data['after_golden_flag'] = 0\n",
    "train_data.loc[(train_data.visit_date<='2016-05-15') & (train_data.visit_date>='2016-05-09'),'after_golden_flag'] = 1\n",
    "test_data['before_golden_flag'] = 0\n",
    "test_data.loc[(test_data.visit_date<='2017-04-28') & (test_data.visit_date>='2017-04-22'),'before_golden_flag'] = 1\n",
    "test_data['after_golden_flag'] = 0\n",
    "test_data.loc[(test_data.visit_date<='2017-05-14') & (test_data.visit_date>='2017-05-08'),'after_golden_flag'] = 1"
   ]
  },
  {
   "cell_type": "markdown",
   "metadata": {},
   "source": [
    "4) Processing the **air_store_info** dataframe:\n",
    "\n",
    "* Dealing with genres := Bucketting them into 10 categories:\n",
    "\n",
    "1) Bar or Club\n",
    "2) Western\n",
    "3) Italian/French\n",
    "4) Japanese \t\n",
    "5) International Cuisine\n",
    "6) Creative Cuisine\n",
    "7) Asian (excluding Japanese)\n",
    "8) Korean food\n",
    "9) Okonomiyaki/Monja/Teppanyaki\n",
    "10) Dining and Cafe\n",
    "\n",
    "* Dealing with areas := Spatial features from separating the areas"
   ]
  },
  {
   "cell_type": "code",
   "execution_count": 12,
   "metadata": {
    "collapsed": true
   },
   "outputs": [],
   "source": [
    "# combining the genres into the 10 categories mentioned above\n",
    "genres = {\n",
    "    'Japanese style':'Japanese food',\n",
    "    'Italian':'Italian/French',\n",
    "    'International cuisine':'International cuisine',\n",
    "    'Grilled meat':'Okonomiyaki/Monja/Teppanyaki',\n",
    "    'Creation':'Creative cuisine',\n",
    "    'Seafood':'Other',\n",
    "    'Spain Bar/Italian Bar':'Italian/French',\n",
    "    'Japanese food in general':'Japanese food',\n",
    "    'Shabu-shabu/Sukiyaki':'Japanese food',\n",
    "    'Chinese general':'Asian',\n",
    "    'Creative Japanese food':'Japanese food',\n",
    "    'Japanese cuisine/Kaiseki':'Japanese food',\n",
    "    'Korean cuisine':'Yakiniku/Korean food',\n",
    "    'Okonomiyaki/Monja/Teppanyaki':'Okonomiyaki/Monja/Teppanyaki',\n",
    "    'Karaoke':'Karaoke/Party',\n",
    "    'Steak/Hamburger/Curry':'Western food',\n",
    "    'French':'Italian/French',\n",
    "    'Cafe':'Cafe/Sweets',\n",
    "    'Bistro':'Izakaya',\n",
    "    'Sushi':'Japanese food',\n",
    "    'Party':'Karaoke/Party',\n",
    "    'Western food':'Western food',\n",
    "    'Pasta/Pizza':'Italian/French',\n",
    "    'Thai/Vietnamese food':'Asian',\n",
    "    'Bar/Cocktail':'Bar/Cocktail',\n",
    "    'Amusement bar':'Bar/Cocktail',\n",
    "    'Cantonese food':'Asian',\n",
    "    'Dim Sum/Dumplings':'Asian',\n",
    "    'Sichuan food':'Asian',\n",
    "    'Sweets':'Cafe/Sweets',\n",
    "    'Spain/Mediterranean cuisine':'International cuisine',\n",
    "    'Udon/Soba':'Japanese food',\n",
    "    'Shanghai food':'Asian',\n",
    "    'Taiwanese/Hong Kong cuisine':'Asian',\n",
    "    'Japanese food':'Japanese food', \n",
    "    'Dining bar':'Dining bar', \n",
    "    'Izakaya':'Japanese food',\n",
    "    'Italian/French':'Italian/French', \n",
    "    'Cafe/Sweets':'Cafe/Sweets',\n",
    "    'Yakiniku/Korean food':'Yakiniku/Korean food', \n",
    "    'Western food':'Western food', \n",
    "    'Bar/Cocktail':'Bar/Cocktail', \n",
    "    'Other':'Other',\n",
    "    'Creative cuisine':'Creative cuisine', \n",
    "    'Karaoke/Party':'Karaoke/Party', \n",
    "    'International cuisine':'International cuisine',\n",
    "    'Asian':'Asian',\n",
    "    'None':'None',\n",
    "    'No Data':'No Data'}"
   ]
  },
  {
   "cell_type": "markdown",
   "metadata": {},
   "source": [
    "**Observation:** Separating the area_levels into 3 categories will help various groupby features with them"
   ]
  },
  {
   "cell_type": "code",
   "execution_count": 13,
   "metadata": {},
   "outputs": [
    {
     "data": {
      "text/html": [
       "<div>\n",
       "<style scoped>\n",
       "    .dataframe tbody tr th:only-of-type {\n",
       "        vertical-align: middle;\n",
       "    }\n",
       "\n",
       "    .dataframe tbody tr th {\n",
       "        vertical-align: top;\n",
       "    }\n",
       "\n",
       "    .dataframe thead th {\n",
       "        text-align: right;\n",
       "    }\n",
       "</style>\n",
       "<table border=\"1\" class=\"dataframe\">\n",
       "  <thead>\n",
       "    <tr style=\"text-align: right;\">\n",
       "      <th></th>\n",
       "      <th>air_store_id</th>\n",
       "      <th>air_genre_name</th>\n",
       "      <th>air_area_name</th>\n",
       "      <th>latitude</th>\n",
       "      <th>longitude</th>\n",
       "      <th>station_id</th>\n",
       "      <th>area_lvl1</th>\n",
       "      <th>area_lvl2</th>\n",
       "      <th>area_lvl3</th>\n",
       "    </tr>\n",
       "  </thead>\n",
       "  <tbody>\n",
       "    <tr>\n",
       "      <th>0</th>\n",
       "      <td>air_0f0cdeee6c9bf3d7</td>\n",
       "      <td>Italian/French</td>\n",
       "      <td>Hyōgo-ken Kōbe-shi Kumoidōri</td>\n",
       "      <td>34.695124</td>\n",
       "      <td>135.197852</td>\n",
       "      <td>hyogo__kobe-kana__koube</td>\n",
       "      <td>Hyōgo-ken</td>\n",
       "      <td>Kōbe-shi</td>\n",
       "      <td>Kumoidōri</td>\n",
       "    </tr>\n",
       "    <tr>\n",
       "      <th>1</th>\n",
       "      <td>air_7cc17a324ae5c7dc</td>\n",
       "      <td>Italian/French</td>\n",
       "      <td>Hyōgo-ken Kōbe-shi Kumoidōri</td>\n",
       "      <td>34.695124</td>\n",
       "      <td>135.197852</td>\n",
       "      <td>hyogo__kobe-kana__koube</td>\n",
       "      <td>Hyōgo-ken</td>\n",
       "      <td>Kōbe-shi</td>\n",
       "      <td>Kumoidōri</td>\n",
       "    </tr>\n",
       "    <tr>\n",
       "      <th>2</th>\n",
       "      <td>air_fee8dcf4d619598e</td>\n",
       "      <td>Italian/French</td>\n",
       "      <td>Hyōgo-ken Kōbe-shi Kumoidōri</td>\n",
       "      <td>34.695124</td>\n",
       "      <td>135.197852</td>\n",
       "      <td>hyogo__kobe-kana__koube</td>\n",
       "      <td>Hyōgo-ken</td>\n",
       "      <td>Kōbe-shi</td>\n",
       "      <td>Kumoidōri</td>\n",
       "    </tr>\n",
       "    <tr>\n",
       "      <th>3</th>\n",
       "      <td>air_a17f0778617c76e2</td>\n",
       "      <td>Italian/French</td>\n",
       "      <td>Hyōgo-ken Kōbe-shi Kumoidōri</td>\n",
       "      <td>34.695124</td>\n",
       "      <td>135.197852</td>\n",
       "      <td>hyogo__kobe-kana__koube</td>\n",
       "      <td>Hyōgo-ken</td>\n",
       "      <td>Kōbe-shi</td>\n",
       "      <td>Kumoidōri</td>\n",
       "    </tr>\n",
       "    <tr>\n",
       "      <th>4</th>\n",
       "      <td>air_83db5aff8f50478e</td>\n",
       "      <td>Italian/French</td>\n",
       "      <td>Tōkyō-to Minato-ku Shibakōen</td>\n",
       "      <td>35.658068</td>\n",
       "      <td>139.751599</td>\n",
       "      <td>tokyo__tokyo-kana__tonokyo</td>\n",
       "      <td>Tōkyō-to</td>\n",
       "      <td>Minato-ku</td>\n",
       "      <td>Shibakōen</td>\n",
       "    </tr>\n",
       "  </tbody>\n",
       "</table>\n",
       "</div>"
      ],
      "text/plain": [
       "           air_store_id  air_genre_name                 air_area_name  \\\n",
       "0  air_0f0cdeee6c9bf3d7  Italian/French  Hyōgo-ken Kōbe-shi Kumoidōri   \n",
       "1  air_7cc17a324ae5c7dc  Italian/French  Hyōgo-ken Kōbe-shi Kumoidōri   \n",
       "2  air_fee8dcf4d619598e  Italian/French  Hyōgo-ken Kōbe-shi Kumoidōri   \n",
       "3  air_a17f0778617c76e2  Italian/French  Hyōgo-ken Kōbe-shi Kumoidōri   \n",
       "4  air_83db5aff8f50478e  Italian/French  Tōkyō-to Minato-ku Shibakōen   \n",
       "\n",
       "    latitude   longitude                  station_id  area_lvl1  area_lvl2  \\\n",
       "0  34.695124  135.197852     hyogo__kobe-kana__koube  Hyōgo-ken   Kōbe-shi   \n",
       "1  34.695124  135.197852     hyogo__kobe-kana__koube  Hyōgo-ken   Kōbe-shi   \n",
       "2  34.695124  135.197852     hyogo__kobe-kana__koube  Hyōgo-ken   Kōbe-shi   \n",
       "3  34.695124  135.197852     hyogo__kobe-kana__koube  Hyōgo-ken   Kōbe-shi   \n",
       "4  35.658068  139.751599  tokyo__tokyo-kana__tonokyo   Tōkyō-to  Minato-ku   \n",
       "\n",
       "   area_lvl3  \n",
       "0  Kumoidōri  \n",
       "1  Kumoidōri  \n",
       "2  Kumoidōri  \n",
       "3  Kumoidōri  \n",
       "4  Shibakōen  "
      ]
     },
     "execution_count": 13,
     "metadata": {},
     "output_type": "execute_result"
    }
   ],
   "source": [
    "# air_lvl-1 :is the city air_lvl2: is the distirct and air_lvl3: is the locality\n",
    "air_store_info[['area_lvl1','area_lvl2','area_lvl3']] = pd.DataFrame([x.split(' ',2) for x in air_store_info['air_area_name'].tolist()])\n",
    "air_store_info.head()"
   ]
  },
  {
   "cell_type": "code",
   "execution_count": 14,
   "metadata": {},
   "outputs": [
    {
     "data": {
      "text/html": [
       "<div>\n",
       "<style scoped>\n",
       "    .dataframe tbody tr th:only-of-type {\n",
       "        vertical-align: middle;\n",
       "    }\n",
       "\n",
       "    .dataframe tbody tr th {\n",
       "        vertical-align: top;\n",
       "    }\n",
       "\n",
       "    .dataframe thead th {\n",
       "        text-align: right;\n",
       "    }\n",
       "</style>\n",
       "<table border=\"1\" class=\"dataframe\">\n",
       "  <thead>\n",
       "    <tr style=\"text-align: right;\">\n",
       "      <th></th>\n",
       "      <th>hpg_store_id</th>\n",
       "      <th>hpg_genre_name</th>\n",
       "      <th>hpg_area_name</th>\n",
       "      <th>latitude</th>\n",
       "      <th>longitude</th>\n",
       "      <th>station_id</th>\n",
       "      <th>area_lvl1</th>\n",
       "      <th>area_lvl2</th>\n",
       "      <th>area_lvl3</th>\n",
       "    </tr>\n",
       "  </thead>\n",
       "  <tbody>\n",
       "    <tr>\n",
       "      <th>0</th>\n",
       "      <td>hpg_6622b62385aec8bf</td>\n",
       "      <td>Japanese style</td>\n",
       "      <td>Tōkyō-to Setagaya-ku Taishidō</td>\n",
       "      <td>35.643675</td>\n",
       "      <td>139.668221</td>\n",
       "      <td>tokyo__setagaya-kana__setagaya</td>\n",
       "      <td>Tōkyō-to</td>\n",
       "      <td>Setagaya-ku</td>\n",
       "      <td>Taishidō</td>\n",
       "    </tr>\n",
       "    <tr>\n",
       "      <th>1</th>\n",
       "      <td>hpg_e9e068dd49c5fa00</td>\n",
       "      <td>Japanese style</td>\n",
       "      <td>Tōkyō-to Setagaya-ku Taishidō</td>\n",
       "      <td>35.643675</td>\n",
       "      <td>139.668221</td>\n",
       "      <td>tokyo__setagaya-kana__setagaya</td>\n",
       "      <td>Tōkyō-to</td>\n",
       "      <td>Setagaya-ku</td>\n",
       "      <td>Taishidō</td>\n",
       "    </tr>\n",
       "    <tr>\n",
       "      <th>2</th>\n",
       "      <td>hpg_2976f7acb4b3a3bc</td>\n",
       "      <td>Japanese style</td>\n",
       "      <td>Tōkyō-to Setagaya-ku Taishidō</td>\n",
       "      <td>35.643675</td>\n",
       "      <td>139.668221</td>\n",
       "      <td>tokyo__setagaya-kana__setagaya</td>\n",
       "      <td>Tōkyō-to</td>\n",
       "      <td>Setagaya-ku</td>\n",
       "      <td>Taishidō</td>\n",
       "    </tr>\n",
       "    <tr>\n",
       "      <th>3</th>\n",
       "      <td>hpg_e51a522e098f024c</td>\n",
       "      <td>Japanese style</td>\n",
       "      <td>Tōkyō-to Setagaya-ku Taishidō</td>\n",
       "      <td>35.643675</td>\n",
       "      <td>139.668221</td>\n",
       "      <td>tokyo__setagaya-kana__setagaya</td>\n",
       "      <td>Tōkyō-to</td>\n",
       "      <td>Setagaya-ku</td>\n",
       "      <td>Taishidō</td>\n",
       "    </tr>\n",
       "    <tr>\n",
       "      <th>4</th>\n",
       "      <td>hpg_e3d0e1519894f275</td>\n",
       "      <td>Japanese style</td>\n",
       "      <td>Tōkyō-to Setagaya-ku Taishidō</td>\n",
       "      <td>35.643675</td>\n",
       "      <td>139.668221</td>\n",
       "      <td>tokyo__setagaya-kana__setagaya</td>\n",
       "      <td>Tōkyō-to</td>\n",
       "      <td>Setagaya-ku</td>\n",
       "      <td>Taishidō</td>\n",
       "    </tr>\n",
       "  </tbody>\n",
       "</table>\n",
       "</div>"
      ],
      "text/plain": [
       "           hpg_store_id  hpg_genre_name                  hpg_area_name  \\\n",
       "0  hpg_6622b62385aec8bf  Japanese style  Tōkyō-to Setagaya-ku Taishidō   \n",
       "1  hpg_e9e068dd49c5fa00  Japanese style  Tōkyō-to Setagaya-ku Taishidō   \n",
       "2  hpg_2976f7acb4b3a3bc  Japanese style  Tōkyō-to Setagaya-ku Taishidō   \n",
       "3  hpg_e51a522e098f024c  Japanese style  Tōkyō-to Setagaya-ku Taishidō   \n",
       "4  hpg_e3d0e1519894f275  Japanese style  Tōkyō-to Setagaya-ku Taishidō   \n",
       "\n",
       "    latitude   longitude                      station_id area_lvl1  \\\n",
       "0  35.643675  139.668221  tokyo__setagaya-kana__setagaya  Tōkyō-to   \n",
       "1  35.643675  139.668221  tokyo__setagaya-kana__setagaya  Tōkyō-to   \n",
       "2  35.643675  139.668221  tokyo__setagaya-kana__setagaya  Tōkyō-to   \n",
       "3  35.643675  139.668221  tokyo__setagaya-kana__setagaya  Tōkyō-to   \n",
       "4  35.643675  139.668221  tokyo__setagaya-kana__setagaya  Tōkyō-to   \n",
       "\n",
       "     area_lvl2 area_lvl3  \n",
       "0  Setagaya-ku  Taishidō  \n",
       "1  Setagaya-ku  Taishidō  \n",
       "2  Setagaya-ku  Taishidō  \n",
       "3  Setagaya-ku  Taishidō  \n",
       "4  Setagaya-ku  Taishidō  "
      ]
     },
     "execution_count": 14,
     "metadata": {},
     "output_type": "execute_result"
    }
   ],
   "source": [
    "hpg_store_info[['area_lvl1','area_lvl2','area_lvl3']] = pd.DataFrame([x.split(' ',2) for x in hpg_store_info['hpg_area_name'].tolist()])\n",
    "hpg_store_info.head()"
   ]
  },
  {
   "cell_type": "code",
   "execution_count": 15,
   "metadata": {
    "collapsed": true
   },
   "outputs": [],
   "source": [
    "air_store_info['store_id'] = air_store_info['air_store_id']\n",
    "hpg_store_info['store_id'] = hpg_store_info['hpg_store_id']\n",
    "air_store_info['genre_name'] = air_store_info['air_genre_name']\n",
    "hpg_store_info['genre_name'] = hpg_store_info['hpg_genre_name']\n",
    "\n",
    "store_info = pd.concat([air_store_info[['store_id','area_lvl2','genre_name']], hpg_store_info[['store_id','area_lvl2','genre_name']]]).reset_index(drop=True)"
   ]
  },
  {
   "cell_type": "code",
   "execution_count": 16,
   "metadata": {},
   "outputs": [
    {
     "data": {
      "text/html": [
       "<div>\n",
       "<style scoped>\n",
       "    .dataframe tbody tr th:only-of-type {\n",
       "        vertical-align: middle;\n",
       "    }\n",
       "\n",
       "    .dataframe tbody tr th {\n",
       "        vertical-align: top;\n",
       "    }\n",
       "\n",
       "    .dataframe thead th {\n",
       "        text-align: right;\n",
       "    }\n",
       "</style>\n",
       "<table border=\"1\" class=\"dataframe\">\n",
       "  <thead>\n",
       "    <tr style=\"text-align: right;\">\n",
       "      <th></th>\n",
       "      <th>store_id</th>\n",
       "      <th>area_lvl2</th>\n",
       "      <th>genre_name</th>\n",
       "    </tr>\n",
       "  </thead>\n",
       "  <tbody>\n",
       "    <tr>\n",
       "      <th>0</th>\n",
       "      <td>air_0f0cdeee6c9bf3d7</td>\n",
       "      <td>Kōbe-shi</td>\n",
       "      <td>Italian/French</td>\n",
       "    </tr>\n",
       "    <tr>\n",
       "      <th>1</th>\n",
       "      <td>air_7cc17a324ae5c7dc</td>\n",
       "      <td>Kōbe-shi</td>\n",
       "      <td>Italian/French</td>\n",
       "    </tr>\n",
       "    <tr>\n",
       "      <th>2</th>\n",
       "      <td>air_fee8dcf4d619598e</td>\n",
       "      <td>Kōbe-shi</td>\n",
       "      <td>Italian/French</td>\n",
       "    </tr>\n",
       "    <tr>\n",
       "      <th>3</th>\n",
       "      <td>air_a17f0778617c76e2</td>\n",
       "      <td>Kōbe-shi</td>\n",
       "      <td>Italian/French</td>\n",
       "    </tr>\n",
       "    <tr>\n",
       "      <th>4</th>\n",
       "      <td>air_83db5aff8f50478e</td>\n",
       "      <td>Minato-ku</td>\n",
       "      <td>Italian/French</td>\n",
       "    </tr>\n",
       "  </tbody>\n",
       "</table>\n",
       "</div>"
      ],
      "text/plain": [
       "               store_id  area_lvl2      genre_name\n",
       "0  air_0f0cdeee6c9bf3d7   Kōbe-shi  Italian/French\n",
       "1  air_7cc17a324ae5c7dc   Kōbe-shi  Italian/French\n",
       "2  air_fee8dcf4d619598e   Kōbe-shi  Italian/French\n",
       "3  air_a17f0778617c76e2   Kōbe-shi  Italian/French\n",
       "4  air_83db5aff8f50478e  Minato-ku  Italian/French"
      ]
     },
     "execution_count": 16,
     "metadata": {},
     "output_type": "execute_result"
    }
   ],
   "source": [
    "store_info.head()"
   ]
  },
  {
   "cell_type": "code",
   "execution_count": 17,
   "metadata": {
    "collapsed": true
   },
   "outputs": [],
   "source": [
    "store_info['genre_name'] = store_info['genre_name'].map(genres)"
   ]
  },
  {
   "cell_type": "code",
   "execution_count": 18,
   "metadata": {
    "collapsed": true
   },
   "outputs": [],
   "source": [
    "# stores grouped by city\n",
    "city_df = store_info.groupby('area_lvl2')['store_id'].nunique().reset_index()\n",
    "city_df.columns = ['area_lvl2', 'stores_per_city']\n",
    "city_genre_nbr_df = store_info.groupby(['area_lvl2','genre_name'])['store_id'].nunique().reset_index()\n",
    "city_genre_nbr_df.columns = ['area_lvl2', 'genre_name', 'stores_per_citygenre']"
   ]
  },
  {
   "cell_type": "markdown",
   "metadata": {},
   "source": [
    "**Note:** grouped the area_lvl2 to get the number of stores in the area_lvl2 => stores_per_city"
   ]
  },
  {
   "cell_type": "code",
   "execution_count": 19,
   "metadata": {},
   "outputs": [
    {
     "data": {
      "text/html": [
       "<div>\n",
       "<style scoped>\n",
       "    .dataframe tbody tr th:only-of-type {\n",
       "        vertical-align: middle;\n",
       "    }\n",
       "\n",
       "    .dataframe tbody tr th {\n",
       "        vertical-align: top;\n",
       "    }\n",
       "\n",
       "    .dataframe thead th {\n",
       "        text-align: right;\n",
       "    }\n",
       "</style>\n",
       "<table border=\"1\" class=\"dataframe\">\n",
       "  <thead>\n",
       "    <tr style=\"text-align: right;\">\n",
       "      <th></th>\n",
       "      <th>area_lvl2</th>\n",
       "      <th>stores_per_city</th>\n",
       "    </tr>\n",
       "  </thead>\n",
       "  <tbody>\n",
       "    <tr>\n",
       "      <th>0</th>\n",
       "      <td>Abashiri-shi</td>\n",
       "      <td>2</td>\n",
       "    </tr>\n",
       "    <tr>\n",
       "      <th>1</th>\n",
       "      <td>Adachi-ku</td>\n",
       "      <td>56</td>\n",
       "    </tr>\n",
       "    <tr>\n",
       "      <th>2</th>\n",
       "      <td>Akashi-shi</td>\n",
       "      <td>22</td>\n",
       "    </tr>\n",
       "    <tr>\n",
       "      <th>3</th>\n",
       "      <td>Amagasaki-shi</td>\n",
       "      <td>19</td>\n",
       "    </tr>\n",
       "    <tr>\n",
       "      <th>4</th>\n",
       "      <td>Asahikawa-shi</td>\n",
       "      <td>58</td>\n",
       "    </tr>\n",
       "  </tbody>\n",
       "</table>\n",
       "</div>"
      ],
      "text/plain": [
       "       area_lvl2  stores_per_city\n",
       "0   Abashiri-shi                2\n",
       "1      Adachi-ku               56\n",
       "2     Akashi-shi               22\n",
       "3  Amagasaki-shi               19\n",
       "4  Asahikawa-shi               58"
      ]
     },
     "execution_count": 19,
     "metadata": {},
     "output_type": "execute_result"
    }
   ],
   "source": [
    "city_df.head()"
   ]
  },
  {
   "cell_type": "code",
   "execution_count": 20,
   "metadata": {},
   "outputs": [
    {
     "data": {
      "text/html": [
       "<div>\n",
       "<style scoped>\n",
       "    .dataframe tbody tr th:only-of-type {\n",
       "        vertical-align: middle;\n",
       "    }\n",
       "\n",
       "    .dataframe tbody tr th {\n",
       "        vertical-align: top;\n",
       "    }\n",
       "\n",
       "    .dataframe thead th {\n",
       "        text-align: right;\n",
       "    }\n",
       "</style>\n",
       "<table border=\"1\" class=\"dataframe\">\n",
       "  <thead>\n",
       "    <tr style=\"text-align: right;\">\n",
       "      <th></th>\n",
       "      <th>area_lvl2</th>\n",
       "      <th>genre_name</th>\n",
       "      <th>stores_per_citygenre</th>\n",
       "    </tr>\n",
       "  </thead>\n",
       "  <tbody>\n",
       "    <tr>\n",
       "      <th>0</th>\n",
       "      <td>Abashiri-shi</td>\n",
       "      <td>Yakiniku/Korean food</td>\n",
       "      <td>2</td>\n",
       "    </tr>\n",
       "    <tr>\n",
       "      <th>1</th>\n",
       "      <td>Adachi-ku</td>\n",
       "      <td>Cafe/Sweets</td>\n",
       "      <td>2</td>\n",
       "    </tr>\n",
       "    <tr>\n",
       "      <th>2</th>\n",
       "      <td>Adachi-ku</td>\n",
       "      <td>Creative cuisine</td>\n",
       "      <td>2</td>\n",
       "    </tr>\n",
       "    <tr>\n",
       "      <th>3</th>\n",
       "      <td>Adachi-ku</td>\n",
       "      <td>Dining bar</td>\n",
       "      <td>2</td>\n",
       "    </tr>\n",
       "    <tr>\n",
       "      <th>4</th>\n",
       "      <td>Adachi-ku</td>\n",
       "      <td>International cuisine</td>\n",
       "      <td>5</td>\n",
       "    </tr>\n",
       "  </tbody>\n",
       "</table>\n",
       "</div>"
      ],
      "text/plain": [
       "      area_lvl2             genre_name  stores_per_citygenre\n",
       "0  Abashiri-shi   Yakiniku/Korean food                     2\n",
       "1     Adachi-ku            Cafe/Sweets                     2\n",
       "2     Adachi-ku       Creative cuisine                     2\n",
       "3     Adachi-ku             Dining bar                     2\n",
       "4     Adachi-ku  International cuisine                     5"
      ]
     },
     "execution_count": 20,
     "metadata": {},
     "output_type": "execute_result"
    }
   ],
   "source": [
    "city_genre_nbr_df.head() # added featrue for genre based category"
   ]
  },
  {
   "cell_type": "code",
   "execution_count": 21,
   "metadata": {
    "scrolled": false
   },
   "outputs": [
    {
     "data": {
      "text/html": [
       "<div>\n",
       "<style scoped>\n",
       "    .dataframe tbody tr th:only-of-type {\n",
       "        vertical-align: middle;\n",
       "    }\n",
       "\n",
       "    .dataframe tbody tr th {\n",
       "        vertical-align: top;\n",
       "    }\n",
       "\n",
       "    .dataframe thead th {\n",
       "        text-align: right;\n",
       "    }\n",
       "</style>\n",
       "<table border=\"1\" class=\"dataframe\">\n",
       "  <thead>\n",
       "    <tr style=\"text-align: right;\">\n",
       "      <th></th>\n",
       "      <th>air_store_id</th>\n",
       "      <th>air_genre_name</th>\n",
       "      <th>air_area_name</th>\n",
       "      <th>latitude</th>\n",
       "      <th>longitude</th>\n",
       "      <th>station_id</th>\n",
       "      <th>area_lvl1</th>\n",
       "      <th>area_lvl2</th>\n",
       "      <th>area_lvl3</th>\n",
       "      <th>store_id</th>\n",
       "      <th>genre_name</th>\n",
       "      <th>stores_per_city</th>\n",
       "      <th>stores_per_citygenre</th>\n",
       "    </tr>\n",
       "  </thead>\n",
       "  <tbody>\n",
       "    <tr>\n",
       "      <th>0</th>\n",
       "      <td>air_0f0cdeee6c9bf3d7</td>\n",
       "      <td>Italian/French</td>\n",
       "      <td>Hyōgo-ken Kōbe-shi Kumoidōri</td>\n",
       "      <td>34.695124</td>\n",
       "      <td>135.197852</td>\n",
       "      <td>hyogo__kobe-kana__koube</td>\n",
       "      <td>Hyōgo-ken</td>\n",
       "      <td>Kōbe-shi</td>\n",
       "      <td>Kumoidōri</td>\n",
       "      <td>air_0f0cdeee6c9bf3d7</td>\n",
       "      <td>Italian/French</td>\n",
       "      <td>217</td>\n",
       "      <td>27</td>\n",
       "    </tr>\n",
       "    <tr>\n",
       "      <th>1</th>\n",
       "      <td>air_7cc17a324ae5c7dc</td>\n",
       "      <td>Italian/French</td>\n",
       "      <td>Hyōgo-ken Kōbe-shi Kumoidōri</td>\n",
       "      <td>34.695124</td>\n",
       "      <td>135.197852</td>\n",
       "      <td>hyogo__kobe-kana__koube</td>\n",
       "      <td>Hyōgo-ken</td>\n",
       "      <td>Kōbe-shi</td>\n",
       "      <td>Kumoidōri</td>\n",
       "      <td>air_7cc17a324ae5c7dc</td>\n",
       "      <td>Italian/French</td>\n",
       "      <td>217</td>\n",
       "      <td>27</td>\n",
       "    </tr>\n",
       "    <tr>\n",
       "      <th>2</th>\n",
       "      <td>air_fee8dcf4d619598e</td>\n",
       "      <td>Italian/French</td>\n",
       "      <td>Hyōgo-ken Kōbe-shi Kumoidōri</td>\n",
       "      <td>34.695124</td>\n",
       "      <td>135.197852</td>\n",
       "      <td>hyogo__kobe-kana__koube</td>\n",
       "      <td>Hyōgo-ken</td>\n",
       "      <td>Kōbe-shi</td>\n",
       "      <td>Kumoidōri</td>\n",
       "      <td>air_fee8dcf4d619598e</td>\n",
       "      <td>Italian/French</td>\n",
       "      <td>217</td>\n",
       "      <td>27</td>\n",
       "    </tr>\n",
       "    <tr>\n",
       "      <th>3</th>\n",
       "      <td>air_a17f0778617c76e2</td>\n",
       "      <td>Italian/French</td>\n",
       "      <td>Hyōgo-ken Kōbe-shi Kumoidōri</td>\n",
       "      <td>34.695124</td>\n",
       "      <td>135.197852</td>\n",
       "      <td>hyogo__kobe-kana__koube</td>\n",
       "      <td>Hyōgo-ken</td>\n",
       "      <td>Kōbe-shi</td>\n",
       "      <td>Kumoidōri</td>\n",
       "      <td>air_a17f0778617c76e2</td>\n",
       "      <td>Italian/French</td>\n",
       "      <td>217</td>\n",
       "      <td>27</td>\n",
       "    </tr>\n",
       "    <tr>\n",
       "      <th>4</th>\n",
       "      <td>air_83db5aff8f50478e</td>\n",
       "      <td>Italian/French</td>\n",
       "      <td>Tōkyō-to Minato-ku Shibakōen</td>\n",
       "      <td>35.658068</td>\n",
       "      <td>139.751599</td>\n",
       "      <td>tokyo__tokyo-kana__tonokyo</td>\n",
       "      <td>Tōkyō-to</td>\n",
       "      <td>Minato-ku</td>\n",
       "      <td>Shibakōen</td>\n",
       "      <td>air_83db5aff8f50478e</td>\n",
       "      <td>Italian/French</td>\n",
       "      <td>302</td>\n",
       "      <td>58</td>\n",
       "    </tr>\n",
       "  </tbody>\n",
       "</table>\n",
       "</div>"
      ],
      "text/plain": [
       "           air_store_id  air_genre_name                 air_area_name  \\\n",
       "0  air_0f0cdeee6c9bf3d7  Italian/French  Hyōgo-ken Kōbe-shi Kumoidōri   \n",
       "1  air_7cc17a324ae5c7dc  Italian/French  Hyōgo-ken Kōbe-shi Kumoidōri   \n",
       "2  air_fee8dcf4d619598e  Italian/French  Hyōgo-ken Kōbe-shi Kumoidōri   \n",
       "3  air_a17f0778617c76e2  Italian/French  Hyōgo-ken Kōbe-shi Kumoidōri   \n",
       "4  air_83db5aff8f50478e  Italian/French  Tōkyō-to Minato-ku Shibakōen   \n",
       "\n",
       "    latitude   longitude                  station_id  area_lvl1  area_lvl2  \\\n",
       "0  34.695124  135.197852     hyogo__kobe-kana__koube  Hyōgo-ken   Kōbe-shi   \n",
       "1  34.695124  135.197852     hyogo__kobe-kana__koube  Hyōgo-ken   Kōbe-shi   \n",
       "2  34.695124  135.197852     hyogo__kobe-kana__koube  Hyōgo-ken   Kōbe-shi   \n",
       "3  34.695124  135.197852     hyogo__kobe-kana__koube  Hyōgo-ken   Kōbe-shi   \n",
       "4  35.658068  139.751599  tokyo__tokyo-kana__tonokyo   Tōkyō-to  Minato-ku   \n",
       "\n",
       "   area_lvl3              store_id      genre_name  stores_per_city  \\\n",
       "0  Kumoidōri  air_0f0cdeee6c9bf3d7  Italian/French              217   \n",
       "1  Kumoidōri  air_7cc17a324ae5c7dc  Italian/French              217   \n",
       "2  Kumoidōri  air_fee8dcf4d619598e  Italian/French              217   \n",
       "3  Kumoidōri  air_a17f0778617c76e2  Italian/French              217   \n",
       "4  Shibakōen  air_83db5aff8f50478e  Italian/French              302   \n",
       "\n",
       "   stores_per_citygenre  \n",
       "0                    27  \n",
       "1                    27  \n",
       "2                    27  \n",
       "3                    27  \n",
       "4                    58  "
      ]
     },
     "execution_count": 21,
     "metadata": {},
     "output_type": "execute_result"
    }
   ],
   "source": [
    "# merging the store infor with the groupby city info\n",
    "air_store_info['genre_name'] = air_store_info['genre_name'].map(genres)\n",
    "air_store_info = pd.merge(air_store_info, city_df, on='area_lvl2', how='left')\n",
    "air_store_info = pd.merge(air_store_info, city_genre_nbr_df, on=['area_lvl2', 'genre_name'], how='left')\n",
    "air_store_info.head()"
   ]
  },
  {
   "cell_type": "markdown",
   "metadata": {},
   "source": [
    "5) Label encoding the air gen after mapping them into the new bucketted genre categories from the above"
   ]
  },
  {
   "cell_type": "code",
   "execution_count": 22,
   "metadata": {
    "collapsed": true
   },
   "outputs": [],
   "source": [
    "# Label encoding\n",
    "lbl = LabelEncoder()\n",
    "air_store_info['air_genre_name'] = lbl.fit_transform(air_store_info['air_genre_name'])\n",
    "air_store_info['area_lvl1'] = lbl.fit_transform(air_store_info['area_lvl1'])\n",
    "air_store_info['area_lvl2'] = lbl.fit_transform(air_store_info['area_lvl2'])\n",
    "air_store_info['area_lvl3'] = lbl.fit_transform(air_store_info['area_lvl3'])\n",
    "air_store_info.drop(['air_area_name','store_id','genre_name'], axis=1, inplace=True)"
   ]
  },
  {
   "cell_type": "code",
   "execution_count": 23,
   "metadata": {
    "collapsed": true
   },
   "outputs": [],
   "source": [
    "air_store_info['stores_per_citygenre'].fillna(0,inplace=True)"
   ]
  },
  {
   "cell_type": "code",
   "execution_count": 24,
   "metadata": {
    "collapsed": true
   },
   "outputs": [],
   "source": [
    "train_data=pd.merge(train_data,air_store_info,on='air_store_id',how='left')\n",
    "test_data=pd.merge(test_data,air_store_info,on='air_store_id',how='left')"
   ]
  },
  {
   "cell_type": "code",
   "execution_count": 25,
   "metadata": {},
   "outputs": [
    {
     "name": "stdout",
     "output_type": "stream",
     "text": [
      "<class 'pandas.core.frame.DataFrame'>\n",
      "Int64Index: 252108 entries, 0 to 252107\n",
      "Data columns (total 24 columns):\n",
      "air_store_id            252108 non-null object\n",
      "visit_date              252108 non-null datetime64[ns]\n",
      "visitors                252108 non-null int64\n",
      "dow                     252108 non-null int64\n",
      "year                    252108 non-null int64\n",
      "month                   252108 non-null int64\n",
      "doy                     252108 non-null int64\n",
      "dim                     252108 non-null int64\n",
      "woy                     252108 non-null int64\n",
      "is_holiday              252108 non-null int64\n",
      "prev_day_is_holiday     252108 non-null float64\n",
      "next_day_is_holiday     252108 non-null float64\n",
      "is_weekend              252108 non-null int64\n",
      "before_golden_flag      252108 non-null int64\n",
      "after_golden_flag       252108 non-null int64\n",
      "air_genre_name          252108 non-null int64\n",
      "latitude                252108 non-null float64\n",
      "longitude               252108 non-null float64\n",
      "station_id              252108 non-null object\n",
      "area_lvl1               252108 non-null int64\n",
      "area_lvl2               252108 non-null int64\n",
      "area_lvl3               252108 non-null int64\n",
      "stores_per_city         252108 non-null int64\n",
      "stores_per_citygenre    252108 non-null int64\n",
      "dtypes: datetime64[ns](1), float64(4), int64(17), object(2)\n",
      "memory usage: 48.1+ MB\n"
     ]
    }
   ],
   "source": [
    "train_data.info()"
   ]
  },
  {
   "cell_type": "markdown",
   "metadata": {},
   "source": [
    "6) Collecting the weather data from the individual files from the folder and concatenating them into a single dataframe"
   ]
  },
  {
   "cell_type": "code",
   "execution_count": 26,
   "metadata": {},
   "outputs": [
    {
     "data": {
      "text/html": [
       "<div>\n",
       "<style scoped>\n",
       "    .dataframe tbody tr th:only-of-type {\n",
       "        vertical-align: middle;\n",
       "    }\n",
       "\n",
       "    .dataframe tbody tr th {\n",
       "        vertical-align: top;\n",
       "    }\n",
       "\n",
       "    .dataframe thead th {\n",
       "        text-align: right;\n",
       "    }\n",
       "</style>\n",
       "<table border=\"1\" class=\"dataframe\">\n",
       "  <thead>\n",
       "    <tr style=\"text-align: right;\">\n",
       "      <th></th>\n",
       "      <th>visit_date</th>\n",
       "      <th>avg_temperature</th>\n",
       "      <th>high_temperature</th>\n",
       "      <th>low_temperature</th>\n",
       "      <th>precipitation</th>\n",
       "      <th>hours_sunlight</th>\n",
       "      <th>solar_radiation</th>\n",
       "      <th>deepest_snowfall</th>\n",
       "      <th>total_snowfall</th>\n",
       "      <th>avg_wind_speed</th>\n",
       "      <th>avg_vapor_pressure</th>\n",
       "      <th>avg_local_pressure</th>\n",
       "      <th>avg_humidity</th>\n",
       "      <th>avg_sea_pressure</th>\n",
       "      <th>cloud_cover</th>\n",
       "      <th>station_id</th>\n",
       "    </tr>\n",
       "  </thead>\n",
       "  <tbody>\n",
       "    <tr>\n",
       "      <th>0</th>\n",
       "      <td>2016-01-01</td>\n",
       "      <td>NaN</td>\n",
       "      <td>NaN</td>\n",
       "      <td>NaN</td>\n",
       "      <td>0.0</td>\n",
       "      <td>NaN</td>\n",
       "      <td>NaN</td>\n",
       "      <td>NaN</td>\n",
       "      <td>NaN</td>\n",
       "      <td>NaN</td>\n",
       "      <td>NaN</td>\n",
       "      <td>NaN</td>\n",
       "      <td>NaN</td>\n",
       "      <td>NaN</td>\n",
       "      <td>NaN</td>\n",
       "      <td>oita__saga-ki-kana__saganoseki</td>\n",
       "    </tr>\n",
       "    <tr>\n",
       "      <th>1</th>\n",
       "      <td>2016-01-02</td>\n",
       "      <td>NaN</td>\n",
       "      <td>NaN</td>\n",
       "      <td>NaN</td>\n",
       "      <td>0.0</td>\n",
       "      <td>NaN</td>\n",
       "      <td>NaN</td>\n",
       "      <td>NaN</td>\n",
       "      <td>NaN</td>\n",
       "      <td>NaN</td>\n",
       "      <td>NaN</td>\n",
       "      <td>NaN</td>\n",
       "      <td>NaN</td>\n",
       "      <td>NaN</td>\n",
       "      <td>NaN</td>\n",
       "      <td>oita__saga-ki-kana__saganoseki</td>\n",
       "    </tr>\n",
       "    <tr>\n",
       "      <th>2</th>\n",
       "      <td>2016-01-03</td>\n",
       "      <td>NaN</td>\n",
       "      <td>NaN</td>\n",
       "      <td>NaN</td>\n",
       "      <td>0.0</td>\n",
       "      <td>NaN</td>\n",
       "      <td>NaN</td>\n",
       "      <td>NaN</td>\n",
       "      <td>NaN</td>\n",
       "      <td>NaN</td>\n",
       "      <td>NaN</td>\n",
       "      <td>NaN</td>\n",
       "      <td>NaN</td>\n",
       "      <td>NaN</td>\n",
       "      <td>NaN</td>\n",
       "      <td>oita__saga-ki-kana__saganoseki</td>\n",
       "    </tr>\n",
       "    <tr>\n",
       "      <th>3</th>\n",
       "      <td>2016-01-04</td>\n",
       "      <td>NaN</td>\n",
       "      <td>NaN</td>\n",
       "      <td>NaN</td>\n",
       "      <td>0.0</td>\n",
       "      <td>NaN</td>\n",
       "      <td>NaN</td>\n",
       "      <td>NaN</td>\n",
       "      <td>NaN</td>\n",
       "      <td>NaN</td>\n",
       "      <td>NaN</td>\n",
       "      <td>NaN</td>\n",
       "      <td>NaN</td>\n",
       "      <td>NaN</td>\n",
       "      <td>NaN</td>\n",
       "      <td>oita__saga-ki-kana__saganoseki</td>\n",
       "    </tr>\n",
       "    <tr>\n",
       "      <th>4</th>\n",
       "      <td>2016-01-05</td>\n",
       "      <td>NaN</td>\n",
       "      <td>NaN</td>\n",
       "      <td>NaN</td>\n",
       "      <td>5.0</td>\n",
       "      <td>NaN</td>\n",
       "      <td>NaN</td>\n",
       "      <td>NaN</td>\n",
       "      <td>NaN</td>\n",
       "      <td>NaN</td>\n",
       "      <td>NaN</td>\n",
       "      <td>NaN</td>\n",
       "      <td>NaN</td>\n",
       "      <td>NaN</td>\n",
       "      <td>NaN</td>\n",
       "      <td>oita__saga-ki-kana__saganoseki</td>\n",
       "    </tr>\n",
       "  </tbody>\n",
       "</table>\n",
       "</div>"
      ],
      "text/plain": [
       "   visit_date  avg_temperature  high_temperature  low_temperature  \\\n",
       "0  2016-01-01              NaN               NaN              NaN   \n",
       "1  2016-01-02              NaN               NaN              NaN   \n",
       "2  2016-01-03              NaN               NaN              NaN   \n",
       "3  2016-01-04              NaN               NaN              NaN   \n",
       "4  2016-01-05              NaN               NaN              NaN   \n",
       "\n",
       "   precipitation  hours_sunlight  solar_radiation  deepest_snowfall  \\\n",
       "0            0.0             NaN              NaN               NaN   \n",
       "1            0.0             NaN              NaN               NaN   \n",
       "2            0.0             NaN              NaN               NaN   \n",
       "3            0.0             NaN              NaN               NaN   \n",
       "4            5.0             NaN              NaN               NaN   \n",
       "\n",
       "   total_snowfall  avg_wind_speed  avg_vapor_pressure  avg_local_pressure  \\\n",
       "0             NaN             NaN                 NaN                 NaN   \n",
       "1             NaN             NaN                 NaN                 NaN   \n",
       "2             NaN             NaN                 NaN                 NaN   \n",
       "3             NaN             NaN                 NaN                 NaN   \n",
       "4             NaN             NaN                 NaN                 NaN   \n",
       "\n",
       "   avg_humidity  avg_sea_pressure  cloud_cover                      station_id  \n",
       "0           NaN               NaN          NaN  oita__saga-ki-kana__saganoseki  \n",
       "1           NaN               NaN          NaN  oita__saga-ki-kana__saganoseki  \n",
       "2           NaN               NaN          NaN  oita__saga-ki-kana__saganoseki  \n",
       "3           NaN               NaN          NaN  oita__saga-ki-kana__saganoseki  \n",
       "4           NaN               NaN          NaN  oita__saga-ki-kana__saganoseki  "
      ]
     },
     "execution_count": 26,
     "metadata": {},
     "output_type": "execute_result"
    }
   ],
   "source": [
    "import glob\n",
    "# importing the wether data from all the csv files and then finally concatenating them to create a weather dataframe\n",
    "weather_data = []\n",
    "\n",
    "for path in glob.glob('1-1-16_5-31-17_Weather/*.csv'):\n",
    "    weather_df = pd.read_csv(path)\n",
    "    weather_df['station_id'] = path.split('/')[-1].rstrip('.csv')\n",
    "    weather_data.append(weather_df)\n",
    "\n",
    "weather = pd.concat(weather_data, axis='rows')\n",
    "weather.rename(columns={'calendar_date': 'visit_date'}, inplace=True)\n",
    "\n",
    "weather.head()"
   ]
  },
  {
   "cell_type": "code",
   "execution_count": 27,
   "metadata": {},
   "outputs": [
    {
     "data": {
      "text/html": [
       "<div>\n",
       "<style scoped>\n",
       "    .dataframe tbody tr th:only-of-type {\n",
       "        vertical-align: middle;\n",
       "    }\n",
       "\n",
       "    .dataframe tbody tr th {\n",
       "        vertical-align: top;\n",
       "    }\n",
       "\n",
       "    .dataframe thead th {\n",
       "        text-align: right;\n",
       "    }\n",
       "</style>\n",
       "<table border=\"1\" class=\"dataframe\">\n",
       "  <thead>\n",
       "    <tr style=\"text-align: right;\">\n",
       "      <th></th>\n",
       "      <th>visit_date</th>\n",
       "      <th>avg_temperature</th>\n",
       "      <th>high_temperature</th>\n",
       "      <th>low_temperature</th>\n",
       "      <th>precipitation</th>\n",
       "      <th>hours_sunlight</th>\n",
       "      <th>solar_radiation</th>\n",
       "      <th>deepest_snowfall</th>\n",
       "      <th>total_snowfall</th>\n",
       "      <th>avg_wind_speed</th>\n",
       "      <th>avg_vapor_pressure</th>\n",
       "      <th>avg_local_pressure</th>\n",
       "      <th>avg_humidity</th>\n",
       "      <th>avg_sea_pressure</th>\n",
       "      <th>cloud_cover</th>\n",
       "      <th>station_id</th>\n",
       "      <th>global_avg_temperature</th>\n",
       "      <th>global_precipitation</th>\n",
       "      <th>global_sunlight</th>\n",
       "    </tr>\n",
       "  </thead>\n",
       "  <tbody>\n",
       "    <tr>\n",
       "      <th>0</th>\n",
       "      <td>2016-01-01</td>\n",
       "      <td>2.868353</td>\n",
       "      <td>NaN</td>\n",
       "      <td>NaN</td>\n",
       "      <td>0.0</td>\n",
       "      <td>NaN</td>\n",
       "      <td>NaN</td>\n",
       "      <td>NaN</td>\n",
       "      <td>NaN</td>\n",
       "      <td>NaN</td>\n",
       "      <td>NaN</td>\n",
       "      <td>NaN</td>\n",
       "      <td>NaN</td>\n",
       "      <td>NaN</td>\n",
       "      <td>NaN</td>\n",
       "      <td>oita__saga-ki-kana__saganoseki</td>\n",
       "      <td>2.868353</td>\n",
       "      <td>0.564662</td>\n",
       "      <td>5.421360</td>\n",
       "    </tr>\n",
       "    <tr>\n",
       "      <th>1</th>\n",
       "      <td>2016-01-02</td>\n",
       "      <td>5.279225</td>\n",
       "      <td>NaN</td>\n",
       "      <td>NaN</td>\n",
       "      <td>0.0</td>\n",
       "      <td>NaN</td>\n",
       "      <td>NaN</td>\n",
       "      <td>NaN</td>\n",
       "      <td>NaN</td>\n",
       "      <td>NaN</td>\n",
       "      <td>NaN</td>\n",
       "      <td>NaN</td>\n",
       "      <td>NaN</td>\n",
       "      <td>NaN</td>\n",
       "      <td>NaN</td>\n",
       "      <td>oita__saga-ki-kana__saganoseki</td>\n",
       "      <td>5.279225</td>\n",
       "      <td>2.341998</td>\n",
       "      <td>2.867184</td>\n",
       "    </tr>\n",
       "    <tr>\n",
       "      <th>2</th>\n",
       "      <td>2016-01-03</td>\n",
       "      <td>6.589978</td>\n",
       "      <td>NaN</td>\n",
       "      <td>NaN</td>\n",
       "      <td>0.0</td>\n",
       "      <td>NaN</td>\n",
       "      <td>NaN</td>\n",
       "      <td>NaN</td>\n",
       "      <td>NaN</td>\n",
       "      <td>NaN</td>\n",
       "      <td>NaN</td>\n",
       "      <td>NaN</td>\n",
       "      <td>NaN</td>\n",
       "      <td>NaN</td>\n",
       "      <td>NaN</td>\n",
       "      <td>oita__saga-ki-kana__saganoseki</td>\n",
       "      <td>6.589978</td>\n",
       "      <td>1.750616</td>\n",
       "      <td>3.743027</td>\n",
       "    </tr>\n",
       "    <tr>\n",
       "      <th>3</th>\n",
       "      <td>2016-01-04</td>\n",
       "      <td>5.857883</td>\n",
       "      <td>NaN</td>\n",
       "      <td>NaN</td>\n",
       "      <td>0.0</td>\n",
       "      <td>NaN</td>\n",
       "      <td>NaN</td>\n",
       "      <td>NaN</td>\n",
       "      <td>NaN</td>\n",
       "      <td>NaN</td>\n",
       "      <td>NaN</td>\n",
       "      <td>NaN</td>\n",
       "      <td>NaN</td>\n",
       "      <td>NaN</td>\n",
       "      <td>NaN</td>\n",
       "      <td>oita__saga-ki-kana__saganoseki</td>\n",
       "      <td>5.857883</td>\n",
       "      <td>1.644946</td>\n",
       "      <td>4.513262</td>\n",
       "    </tr>\n",
       "    <tr>\n",
       "      <th>4</th>\n",
       "      <td>2016-01-05</td>\n",
       "      <td>4.556850</td>\n",
       "      <td>NaN</td>\n",
       "      <td>NaN</td>\n",
       "      <td>5.0</td>\n",
       "      <td>NaN</td>\n",
       "      <td>NaN</td>\n",
       "      <td>NaN</td>\n",
       "      <td>NaN</td>\n",
       "      <td>NaN</td>\n",
       "      <td>NaN</td>\n",
       "      <td>NaN</td>\n",
       "      <td>NaN</td>\n",
       "      <td>NaN</td>\n",
       "      <td>NaN</td>\n",
       "      <td>oita__saga-ki-kana__saganoseki</td>\n",
       "      <td>4.556850</td>\n",
       "      <td>3.193625</td>\n",
       "      <td>2.434606</td>\n",
       "    </tr>\n",
       "  </tbody>\n",
       "</table>\n",
       "</div>"
      ],
      "text/plain": [
       "   visit_date  avg_temperature  high_temperature  low_temperature  \\\n",
       "0  2016-01-01         2.868353               NaN              NaN   \n",
       "1  2016-01-02         5.279225               NaN              NaN   \n",
       "2  2016-01-03         6.589978               NaN              NaN   \n",
       "3  2016-01-04         5.857883               NaN              NaN   \n",
       "4  2016-01-05         4.556850               NaN              NaN   \n",
       "\n",
       "   precipitation  hours_sunlight  solar_radiation  deepest_snowfall  \\\n",
       "0            0.0             NaN              NaN               NaN   \n",
       "1            0.0             NaN              NaN               NaN   \n",
       "2            0.0             NaN              NaN               NaN   \n",
       "3            0.0             NaN              NaN               NaN   \n",
       "4            5.0             NaN              NaN               NaN   \n",
       "\n",
       "   total_snowfall  avg_wind_speed  avg_vapor_pressure  avg_local_pressure  \\\n",
       "0             NaN             NaN                 NaN                 NaN   \n",
       "1             NaN             NaN                 NaN                 NaN   \n",
       "2             NaN             NaN                 NaN                 NaN   \n",
       "3             NaN             NaN                 NaN                 NaN   \n",
       "4             NaN             NaN                 NaN                 NaN   \n",
       "\n",
       "   avg_humidity  avg_sea_pressure  cloud_cover  \\\n",
       "0           NaN               NaN          NaN   \n",
       "1           NaN               NaN          NaN   \n",
       "2           NaN               NaN          NaN   \n",
       "3           NaN               NaN          NaN   \n",
       "4           NaN               NaN          NaN   \n",
       "\n",
       "                       station_id  global_avg_temperature  \\\n",
       "0  oita__saga-ki-kana__saganoseki                2.868353   \n",
       "1  oita__saga-ki-kana__saganoseki                5.279225   \n",
       "2  oita__saga-ki-kana__saganoseki                6.589978   \n",
       "3  oita__saga-ki-kana__saganoseki                5.857883   \n",
       "4  oita__saga-ki-kana__saganoseki                4.556850   \n",
       "\n",
       "   global_precipitation  global_sunlight  \n",
       "0              0.564662         5.421360  \n",
       "1              2.341998         2.867184  \n",
       "2              1.750616         3.743027  \n",
       "3              1.644946         4.513262  \n",
       "4              3.193625         2.434606  "
      ]
     },
     "execution_count": 27,
     "metadata": {},
     "output_type": "execute_result"
    }
   ],
   "source": [
    "# creating stats for the global avg temperature,precipitation and sunlight\n",
    "means = weather.groupby('visit_date')[['avg_temperature', 'precipitation','hours_sunlight']].mean().reset_index()\n",
    "means.rename(columns={'avg_temperature': 'global_avg_temperature', 'precipitation': 'global_precipitation','hours_sunlight':'global_sunlight'}, inplace=True)\n",
    "weather = pd.merge(left=weather, right=means, on='visit_date', how='left')\n",
    "weather['avg_temperature'].fillna(weather['global_avg_temperature'], inplace=True)\n",
    "weather['precipitation'].fillna(weather['global_precipitation'], inplace=True)\n",
    "\n",
    "weather.head()"
   ]
  },
  {
   "cell_type": "code",
   "execution_count": 31,
   "metadata": {},
   "outputs": [
    {
     "data": {
      "text/html": [
       "<div>\n",
       "<style scoped>\n",
       "    .dataframe tbody tr th:only-of-type {\n",
       "        vertical-align: middle;\n",
       "    }\n",
       "\n",
       "    .dataframe tbody tr th {\n",
       "        vertical-align: top;\n",
       "    }\n",
       "\n",
       "    .dataframe thead th {\n",
       "        text-align: right;\n",
       "    }\n",
       "</style>\n",
       "<table border=\"1\" class=\"dataframe\">\n",
       "  <thead>\n",
       "    <tr style=\"text-align: right;\">\n",
       "      <th></th>\n",
       "      <th>visit_date</th>\n",
       "      <th>station_id</th>\n",
       "      <th>global_avg_temperature</th>\n",
       "      <th>global_precipitation</th>\n",
       "      <th>global_sunlight</th>\n",
       "    </tr>\n",
       "  </thead>\n",
       "  <tbody>\n",
       "    <tr>\n",
       "      <th>0</th>\n",
       "      <td>2016-01-01</td>\n",
       "      <td>oita__saga-ki-kana__saganoseki</td>\n",
       "      <td>2.868353</td>\n",
       "      <td>0.564662</td>\n",
       "      <td>5.421360</td>\n",
       "    </tr>\n",
       "    <tr>\n",
       "      <th>1</th>\n",
       "      <td>2016-01-02</td>\n",
       "      <td>oita__saga-ki-kana__saganoseki</td>\n",
       "      <td>5.279225</td>\n",
       "      <td>2.341998</td>\n",
       "      <td>2.867184</td>\n",
       "    </tr>\n",
       "    <tr>\n",
       "      <th>2</th>\n",
       "      <td>2016-01-03</td>\n",
       "      <td>oita__saga-ki-kana__saganoseki</td>\n",
       "      <td>6.589978</td>\n",
       "      <td>1.750616</td>\n",
       "      <td>3.743027</td>\n",
       "    </tr>\n",
       "    <tr>\n",
       "      <th>3</th>\n",
       "      <td>2016-01-04</td>\n",
       "      <td>oita__saga-ki-kana__saganoseki</td>\n",
       "      <td>5.857883</td>\n",
       "      <td>1.644946</td>\n",
       "      <td>4.513262</td>\n",
       "    </tr>\n",
       "    <tr>\n",
       "      <th>4</th>\n",
       "      <td>2016-01-05</td>\n",
       "      <td>oita__saga-ki-kana__saganoseki</td>\n",
       "      <td>4.556850</td>\n",
       "      <td>3.193625</td>\n",
       "      <td>2.434606</td>\n",
       "    </tr>\n",
       "  </tbody>\n",
       "</table>\n",
       "</div>"
      ],
      "text/plain": [
       "   visit_date                      station_id  global_avg_temperature  \\\n",
       "0  2016-01-01  oita__saga-ki-kana__saganoseki                2.868353   \n",
       "1  2016-01-02  oita__saga-ki-kana__saganoseki                5.279225   \n",
       "2  2016-01-03  oita__saga-ki-kana__saganoseki                6.589978   \n",
       "3  2016-01-04  oita__saga-ki-kana__saganoseki                5.857883   \n",
       "4  2016-01-05  oita__saga-ki-kana__saganoseki                4.556850   \n",
       "\n",
       "   global_precipitation  global_sunlight  \n",
       "0              0.564662         5.421360  \n",
       "1              2.341998         2.867184  \n",
       "2              1.750616         3.743027  \n",
       "3              1.644946         4.513262  \n",
       "4              3.193625         2.434606  "
      ]
     },
     "execution_count": 31,
     "metadata": {},
     "output_type": "execute_result"
    }
   ],
   "source": [
    "weather_final=weather[['visit_date','station_id','global_avg_temperature', 'global_precipitation','global_sunlight']].copy()\n",
    "weather_final.reset_index(inplace=True)\n",
    "weather_final.drop('index',axis=1,inplace=True)\n",
    "weather_final.head()"
   ]
  },
  {
   "cell_type": "code",
   "execution_count": 32,
   "metadata": {
    "collapsed": true
   },
   "outputs": [],
   "source": [
    "train_data['visit_date']=pd.to_datetime(train_data['visit_date'])\n",
    "weather_final['visit_date']=pd.to_datetime(weather_final['visit_date'])"
   ]
  },
  {
   "cell_type": "markdown",
   "metadata": {},
   "source": [
    "7) Merging the train data with the weather dataframe (Inclusion or Exclusion of this can induce diversity in the base models for the stack)"
   ]
  },
  {
   "cell_type": "code",
   "execution_count": 33,
   "metadata": {
    "collapsed": true
   },
   "outputs": [],
   "source": [
    "train_data=pd.merge(train_data,weather_final,on=['visit_date','station_id'],how='left')"
   ]
  },
  {
   "cell_type": "code",
   "execution_count": 35,
   "metadata": {
    "collapsed": true
   },
   "outputs": [],
   "source": [
    "test_data['visit_date']=pd.to_datetime(test_data['visit_date'])\n",
    "test_data=pd.merge(test_data,weather_final,on=['visit_date','station_id'],how='left')"
   ]
  },
  {
   "cell_type": "markdown",
   "metadata": {},
   "source": [
    "8) Flagging the outliers in the train data: took the idea from this discussion thread: \n",
    "https://www.kaggle.com/c/recruit-restaurant-visitor-forecasting/discussion/46939"
   ]
  },
  {
   "cell_type": "code",
   "execution_count": 36,
   "metadata": {},
   "outputs": [
    {
     "data": {
      "text/plain": [
       "False    242846\n",
       "True       9262\n",
       "Name: is_outlier, dtype: int64"
      ]
     },
     "execution_count": 36,
     "metadata": {},
     "output_type": "execute_result"
    }
   ],
   "source": [
    "def find_outliers(series):\n",
    "    return (series - series.mean()) > 1.96 * series.std() # can be 2.4 as well just experimented with different number\n",
    "\n",
    "stored = train_data.groupby('air_store_id')\n",
    "train_data['is_outlier'] = stored.apply(lambda g: find_outliers(g['visitors'])).values\n",
    "train_data.is_outlier.value_counts()"
   ]
  },
  {
   "cell_type": "code",
   "execution_count": 37,
   "metadata": {},
   "outputs": [
    {
     "data": {
      "text/plain": [
       "(252108, 28)"
      ]
     },
     "execution_count": 37,
     "metadata": {},
     "output_type": "execute_result"
    }
   ],
   "source": [
    "train_data.shape"
   ]
  },
  {
   "cell_type": "markdown",
   "metadata": {},
   "source": [
    "** Reservations Info**"
   ]
  },
  {
   "cell_type": "code",
   "execution_count": 38,
   "metadata": {},
   "outputs": [
    {
     "data": {
      "text/html": [
       "<div>\n",
       "<style scoped>\n",
       "    .dataframe tbody tr th:only-of-type {\n",
       "        vertical-align: middle;\n",
       "    }\n",
       "\n",
       "    .dataframe tbody tr th {\n",
       "        vertical-align: top;\n",
       "    }\n",
       "\n",
       "    .dataframe thead th {\n",
       "        text-align: right;\n",
       "    }\n",
       "</style>\n",
       "<table border=\"1\" class=\"dataframe\">\n",
       "  <thead>\n",
       "    <tr style=\"text-align: right;\">\n",
       "      <th></th>\n",
       "      <th>air_store_id</th>\n",
       "      <th>visit_datetime</th>\n",
       "      <th>reserve_datetime</th>\n",
       "      <th>reserve_visitors</th>\n",
       "    </tr>\n",
       "  </thead>\n",
       "  <tbody>\n",
       "    <tr>\n",
       "      <th>0</th>\n",
       "      <td>air_877f79706adbfb06</td>\n",
       "      <td>2016-01-01 19:00:00</td>\n",
       "      <td>2016-01-01 16:00:00</td>\n",
       "      <td>1</td>\n",
       "    </tr>\n",
       "    <tr>\n",
       "      <th>1</th>\n",
       "      <td>air_db4b38ebe7a7ceff</td>\n",
       "      <td>2016-01-01 19:00:00</td>\n",
       "      <td>2016-01-01 19:00:00</td>\n",
       "      <td>3</td>\n",
       "    </tr>\n",
       "    <tr>\n",
       "      <th>2</th>\n",
       "      <td>air_db4b38ebe7a7ceff</td>\n",
       "      <td>2016-01-01 19:00:00</td>\n",
       "      <td>2016-01-01 19:00:00</td>\n",
       "      <td>6</td>\n",
       "    </tr>\n",
       "    <tr>\n",
       "      <th>3</th>\n",
       "      <td>air_877f79706adbfb06</td>\n",
       "      <td>2016-01-01 20:00:00</td>\n",
       "      <td>2016-01-01 16:00:00</td>\n",
       "      <td>2</td>\n",
       "    </tr>\n",
       "    <tr>\n",
       "      <th>4</th>\n",
       "      <td>air_db80363d35f10926</td>\n",
       "      <td>2016-01-01 20:00:00</td>\n",
       "      <td>2016-01-01 01:00:00</td>\n",
       "      <td>5</td>\n",
       "    </tr>\n",
       "  </tbody>\n",
       "</table>\n",
       "</div>"
      ],
      "text/plain": [
       "           air_store_id       visit_datetime     reserve_datetime  \\\n",
       "0  air_877f79706adbfb06  2016-01-01 19:00:00  2016-01-01 16:00:00   \n",
       "1  air_db4b38ebe7a7ceff  2016-01-01 19:00:00  2016-01-01 19:00:00   \n",
       "2  air_db4b38ebe7a7ceff  2016-01-01 19:00:00  2016-01-01 19:00:00   \n",
       "3  air_877f79706adbfb06  2016-01-01 20:00:00  2016-01-01 16:00:00   \n",
       "4  air_db80363d35f10926  2016-01-01 20:00:00  2016-01-01 01:00:00   \n",
       "\n",
       "   reserve_visitors  \n",
       "0                 1  \n",
       "1                 3  \n",
       "2                 6  \n",
       "3                 2  \n",
       "4                 5  "
      ]
     },
     "execution_count": 38,
     "metadata": {},
     "output_type": "execute_result"
    }
   ],
   "source": [
    "air_reserve.head()"
   ]
  },
  {
   "cell_type": "markdown",
   "metadata": {},
   "source": [
    "** Reservation and visitation time difference is calculated to know about the advance in reservation**"
   ]
  },
  {
   "cell_type": "code",
   "execution_count": 39,
   "metadata": {
    "collapsed": true
   },
   "outputs": [],
   "source": [
    "air_reserve['visit_datetime']=pd.to_datetime(air_reserve['visit_datetime'])\n",
    "air_reserve['reserve_datetime']=pd.to_datetime(air_reserve['reserve_datetime'])\n",
    "air_reserve['visit_datetime'] = air_reserve['visit_datetime'].dt.date\n",
    "air_reserve['reserve_datetime'] = air_reserve['reserve_datetime'].dt.date\n",
    "# creating feature which measures the time difference from the visit to the reservation \n",
    "air_reserve['reserve_date_diff'] = air_reserve.apply(lambda r: (r['visit_datetime'] - r['reserve_datetime']).days, axis=1)"
   ]
  },
  {
   "cell_type": "markdown",
   "metadata": {},
   "source": [
    "** Observations from the EDA notebook: ** The number of reservations is generally short term, but long term reservations are generally important i guess"
   ]
  },
  {
   "cell_type": "markdown",
   "metadata": {},
   "source": [
    "** Exclude the last 5 days (short term) reservations (to induce diversity we can change this number to 7)**"
   ]
  },
  {
   "cell_type": "code",
   "execution_count": 40,
   "metadata": {
    "collapsed": true
   },
   "outputs": [],
   "source": [
    "air_reserve = air_reserve.loc[air_reserve['reserve_date_diff']>=5]\n",
    "air_reserve = air_reserve.groupby(['air_store_id','visit_datetime']).agg({'reserve_visitors':[np.sum,np.mean],'reserve_date_diff':[np.sum,np.mean]}).reset_index()\n",
    "air_reserve.columns = ['air_store_id', 'visit_date', 'airR_visit_sum', 'airR_visit_mean', 'airR_date_diff_sum', 'airR_date_diff_mean']"
   ]
  },
  {
   "cell_type": "code",
   "execution_count": 41,
   "metadata": {},
   "outputs": [
    {
     "data": {
      "text/plain": [
       "(17275, 6)"
      ]
     },
     "execution_count": 41,
     "metadata": {},
     "output_type": "execute_result"
    }
   ],
   "source": [
    "air_reserve.shape"
   ]
  },
  {
   "cell_type": "code",
   "execution_count": 42,
   "metadata": {},
   "outputs": [
    {
     "name": "stdout",
     "output_type": "stream",
     "text": [
      "The mean value for the mean of reservations for the air is:  33.620311641575114\n"
     ]
    }
   ],
   "source": [
    "print('The mean value for the mean of reservations for the air is: ',np.mean(air_reserve.airR_date_diff_mean.unique()))"
   ]
  },
  {
   "cell_type": "code",
   "execution_count": 43,
   "metadata": {
    "collapsed": true
   },
   "outputs": [],
   "source": [
    "air_reserve['visit_date']=pd.to_datetime(air_reserve['visit_date'])"
   ]
  },
  {
   "cell_type": "code",
   "execution_count": 44,
   "metadata": {
    "collapsed": true
   },
   "outputs": [],
   "source": [
    "train_data = pd.merge(train_data, air_reserve, on=['air_store_id','visit_date'], how='left')\n",
    "test_data = pd.merge(test_data, air_reserve, on=['air_store_id','visit_date'], how='left')"
   ]
  },
  {
   "cell_type": "code",
   "execution_count": 45,
   "metadata": {
    "collapsed": true
   },
   "outputs": [],
   "source": [
    "hpg_reserve = pd.merge(store_id_relation, hpg_reserve, on='hpg_store_id', how='left')"
   ]
  },
  {
   "cell_type": "code",
   "execution_count": 46,
   "metadata": {
    "collapsed": true
   },
   "outputs": [],
   "source": [
    "hpg_reserve['visit_datetime']=pd.to_datetime(hpg_reserve['visit_datetime'])\n",
    "hpg_reserve['reserve_datetime']=pd.to_datetime(hpg_reserve['reserve_datetime'])\n",
    "hpg_reserve['visit_datetime'] = hpg_reserve['visit_datetime'].dt.date\n",
    "hpg_reserve['reserve_datetime'] = hpg_reserve['reserve_datetime'].dt.date\n",
    "# creating feature which measures the time difference from the visit to the reservation \n",
    "hpg_reserve['reserve_date_diff'] = hpg_reserve.apply(lambda r: (r['visit_datetime'] - r['reserve_datetime']).days, axis=1)"
   ]
  },
  {
   "cell_type": "code",
   "execution_count": 47,
   "metadata": {
    "collapsed": true
   },
   "outputs": [],
   "source": [
    "# using only long term reservations\n",
    "hpg_reserve = hpg_reserve.loc[hpg_reserve['reserve_date_diff']>=5]\n",
    "hpg_reserve = hpg_reserve.groupby(['air_store_id','visit_datetime']).agg({'reserve_visitors':[np.sum,np.mean],'reserve_date_diff':[np.sum,np.mean]}).reset_index()\n",
    "hpg_reserve.columns = ['air_store_id', 'visit_date', 'hpgR_visit_sum', 'hpgR_visit_mean', 'hpgR_date_diff_sum', 'hpgR_date_diff_mean']"
   ]
  },
  {
   "cell_type": "code",
   "execution_count": 48,
   "metadata": {},
   "outputs": [
    {
     "name": "stdout",
     "output_type": "stream",
     "text": [
      "The mean value for the mean of reservations for the hpg is:  25.564559447414496\n"
     ]
    }
   ],
   "source": [
    "print('The mean value for the mean of reservations for the hpg is: ',np.mean(hpg_reserve.hpgR_date_diff_mean.unique()))"
   ]
  },
  {
   "cell_type": "code",
   "execution_count": 49,
   "metadata": {},
   "outputs": [
    {
     "data": {
      "text/plain": [
       "(9574, 6)"
      ]
     },
     "execution_count": 49,
     "metadata": {},
     "output_type": "execute_result"
    }
   ],
   "source": [
    "hpg_reserve.shape"
   ]
  },
  {
   "cell_type": "code",
   "execution_count": 50,
   "metadata": {
    "collapsed": true
   },
   "outputs": [],
   "source": [
    "hpg_reserve['visit_date']=pd.to_datetime(hpg_reserve['visit_date'])"
   ]
  },
  {
   "cell_type": "code",
   "execution_count": 51,
   "metadata": {
    "collapsed": true
   },
   "outputs": [],
   "source": [
    "train_data = pd.merge(train_data, hpg_reserve, on=['air_store_id','visit_date'], how='left')\n",
    "test_data = pd.merge(test_data, hpg_reserve, on=['air_store_id','visit_date'], how='left')"
   ]
  },
  {
   "cell_type": "markdown",
   "metadata": {},
   "source": [
    "** Averaging the reservations from air and hpg databases**"
   ]
  },
  {
   "cell_type": "code",
   "execution_count": 53,
   "metadata": {
    "collapsed": true
   },
   "outputs": [],
   "source": [
    "# Creating avergaed stats\n",
    "train_data['tot_reserve_sum'] = train_data['airR_visit_sum'] + train_data['hpgR_visit_sum']\n",
    "test_data['tot_reserve_sum'] = test_data['airR_visit_sum'] + test_data['hpgR_visit_sum']\n",
    "train_data['tot_reserve_mean'] = (train_data['airR_visit_mean'] + train_data['hpgR_visit_mean']) /2\n",
    "test_data['tot_reserve_mean'] = (test_data['airR_visit_mean'] + test_data['hpgR_visit_mean']) /2\n",
    "train_data['tot_date_diff_mean'] = (train_data['airR_date_diff_mean'] + train_data['hpgR_date_diff_mean']) /2\n",
    "test_data['tot_date_diff_mean'] = (test_data['airR_date_diff_mean'] + test_data['hpgR_date_diff_mean']) /2"
   ]
  },
  {
   "cell_type": "markdown",
   "metadata": {},
   "source": [
    "**Combination feature of longitude and latitude from previous notebook **"
   ]
  },
  {
   "cell_type": "code",
   "execution_count": 55,
   "metadata": {
    "collapsed": true
   },
   "outputs": [],
   "source": [
    "train_data['lon_plus_lat'] = train_data['longitude'] + train_data['latitude'] \n",
    "test_data['lon_plus_lat'] = test_data['longitude'] + test_data['latitude']"
   ]
  },
  {
   "cell_type": "markdown",
   "metadata": {},
   "source": [
    "### The next part of the notebook is perhaps the important part for improving the LB score in the competition"
   ]
  },
  {
   "cell_type": "markdown",
   "metadata": {},
   "source": [
    "** Observations and Reasons for creating features using moving averages** \n",
    "\n",
    "* As this problem cannot be treated as an individual time series problem for every restaurant, we need to frame it as a regression problem. inorder to frame it as a regression problem we need to create features which give the time series effect for the dataset. Here comes the use of moving avergaes. I basically used the techniques mentioned Dr.Jason Brownlee's time series book.\n",
    "\n",
    "* From the observations in ARIMA notebook, 7 day seasonal period is observed in almost all the restaurants data. --> this can basically be the width of the sliding window for the rolling averages feature\n",
    "\n",
    "* the 3 ways which i used to create rolling average features are:\n",
    "\n",
    "    1) weighted moving averages\n",
    "    \n",
    "    2) moving averages\n",
    "    \n",
    "    3) exponential weighted moving average\n",
    "\n",
    "** i have used all the three different Feature engg techniques so that i could induce diversity in my baseline models whenever necessary**\n",
    "\n",
    "* From the reservation data i think it is good if i also take 27 days(on an average) as the window for Exponential weighting or rolling averages (but just my view)\n",
    "\n",
    "* I have tried different sliding window widths for the moving averages and the rolling averages and the exponential averages. And finally i decided to use:\n",
    "\n",
    "    1) 7 day sliding width for the weighted moving average whichh could take care of the seasonal effect\n",
    "    \n",
    "    2) 90 day and 180 day slding width for the moving averages (reflect seasonal weather patterns)\n",
    "    \n",
    "    3) 21 or 27 days sliding width for exponential weigthed averages for taking care of the reservation seasonal effect"
   ]
  },
  {
   "cell_type": "markdown",
   "metadata": {},
   "source": [
    "* I used Exponential weighted feature on the number of visitors grouped by :  groupby air_store, air_store & dow, area_lvl3 & genre\n",
    "* for this to be created i need to combine the train set and test set"
   ]
  },
  {
   "cell_type": "code",
   "execution_count": 56,
   "metadata": {
    "collapsed": true
   },
   "outputs": [],
   "source": [
    "ew_stats=train_data[['air_store_id','visit_date','visitors','dow','is_weekend','area_lvl3','air_genre_name','is_holiday','is_outlier']].copy().reset_index()\n",
    "#ew_stats=pd.concat([ew_stats,test_data[['air_store_id','visit_date','visitors','dow','is_weekend','area_lvl3','air_genre_name','is_holiday','is_outlier']]])"
   ]
  },
  {
   "cell_type": "code",
   "execution_count": 57,
   "metadata": {
    "collapsed": true
   },
   "outputs": [],
   "source": [
    "ew_stats.drop('index',axis=1,inplace=True)"
   ]
  },
  {
   "cell_type": "code",
   "execution_count": 58,
   "metadata": {
    "collapsed": true
   },
   "outputs": [],
   "source": [
    "from datetime import datetime,date,timedelta\n",
    "# datelist from the 23rd Jan\n",
    "datelist = pd.Series(pd.date_range(pd.datetime(2016,2,1), pd.datetime(2017,4,15))).dt.date[::-1][::7][::-1]\n",
    "# window width of 7 days\n",
    "dt1 = timedelta(days=7)\n",
    "dt2 = timedelta(days=39)"
   ]
  },
  {
   "cell_type": "markdown",
   "metadata": {},
   "source": [
    "* Creating the weighted moving averages feature with 7 days as the sliding window width:\n",
    "\n",
    "    * Created the wma for the train set first\n",
    "    * Created the wma for the test set separately\n",
    "    * Cubic variation of wieghts because recent observation more weight (**feature Inspiration from hklee kernel link below**)"
   ]
  },
  {
   "cell_type": "markdown",
   "metadata": {},
   "source": [
    "For the weighted rolling mean, in the training set i used a 1-week lagged rolling mean. For the test set, I have used the 1-week lagged rolling mean for the first week. For the weeks beyond, I used 2-weeks lagged rolling mean, 3-weeks lagged rolling mean and so on as this lagged rolling mean feature. Just a naive idea, i dont think it is perfect"
   ]
  },
  {
   "cell_type": "code",
   "execution_count": 59,
   "metadata": {
    "collapsed": true
   },
   "outputs": [],
   "source": [
    "# the below is a bit messy , donot how to optimize this\n",
    "# i used the loop to create weighted rolling average with window width of 7 days\n",
    "ew_train = ew_stats.copy()\n",
    "ew_train['visitors'] =ew_train.visitors.map(pd.np.log1p)\n",
    "error = [[],[]]\n",
    "date_info_f=date_info[['visit_date','day_of_week']]\n",
    "rwm1 = pd.DataFrame()\n",
    "rwm2=pd.DataFrame()\n",
    "for date in datelist[:]:    \n",
    "    train_c = ew_train[ew_train['visit_date'] <= date]\n",
    "    train_c = train_c[train_c['is_outlier'] == False]    \n",
    "    # get 7 days + the train date\n",
    "    val_c = ew_train[ew_train['visit_date'] <= date+dt1]\n",
    "    val_c = val_c[val_c['visit_date'] >date]\n",
    "    # get 39 days + the train date\n",
    "    test_c = ew_train[ew_train['visit_date'] <=date+dt2]\n",
    "    test_c = test_c[test_c['visit_date'] > date+dt1]\n",
    "    date_info_c = date_info_f[date_info_f['visit_date'] <= date]\n",
    "    # create weights to do weighting avergae\n",
    "    date_info_c['weight'] = ((date_info_c.index + 1) / len(date_info_c))**3\n",
    "    date_info_c['weight_hol'] = 1\n",
    "    visit_data = train_c.merge(date_info_c, on='visit_date', how='left')\n",
    "\n",
    "    wmean = lambda x:( (x.weight * x.visitors).sum() / x.weight.sum() )\n",
    "    wmean_hol = lambda x:( x.visitors.median() )\n",
    "    # calculated the weighted rolling average for the visitors\n",
    "    visitors = visit_data.groupby(['air_store_id', 'dow', 'is_holiday']).apply(wmean).reset_index()\n",
    "    visitors.rename(columns={0:'visitors'}, inplace=True) \n",
    "\n",
    "    visitors1 = visit_data.groupby(['air_store_id', 'is_holiday']).apply(wmean_hol).reset_index()\n",
    "    visitors1.rename(columns={0:'visitors'}, inplace=True)   \n",
    "\n",
    "    val_c = val_c.merge(date_info_f, on='visit_date', how='left')\n",
    "    test_c = test_c.merge(date_info_f, on='visit_date', how='left')\n",
    "    \n",
    "    i = 0\n",
    "    for df in [ val_c, test_c]:\n",
    "        real = df['visitors'].values    \n",
    "        df.drop('visitors', axis=1, inplace=True)\n",
    "        # merging the vistors into a temporary df\n",
    "        df = df.merge(\n",
    "            visitors1[visitors1.is_holiday==1], on=('air_store_id','is_holiday'), \n",
    "            how='left')\n",
    "        \n",
    "        missings = df.visitors.isnull()\n",
    "        df.loc[missings, 'visitors'] = df[missings].merge(\n",
    "            visitors[visitors.is_holiday==0], on=('air_store_id', 'dow'), \n",
    "            how='left')['visitors_y'].values\n",
    "        \n",
    "        missings = df.visitors.isnull()\n",
    "        df.loc[missings, 'visitors'] = df[missings].merge(\n",
    "            visitors[['air_store_id', 'visitors']].groupby('air_store_id').mean().reset_index(), \n",
    "            on='air_store_id', how='left')['visitors_y'].values\n",
    "        \n",
    "        missings = df.visitors.isnull()\n",
    "        df.loc[missings, 'visitors'] = df[missings].merge(\n",
    "            visitors[['dow','is_holiday', 'visitors']].groupby(['dow','is_holiday']).mean().reset_index(), \n",
    "            on=['dow','is_holiday'], how='left')['visitors_y'].values\n",
    "                \n",
    "        i += 1\n",
    "        if i == 1:\n",
    "            rwm1 = rwm1.append(df[['air_store_id', 'visitors','visit_date']])\n",
    "        else:\n",
    "            rwm2 = rwm2.append(df[['air_store_id', 'visitors','visit_date']])            \n",
    "\n",
    "rwm1.rename(columns={'visitors':'rwm_1week'}, inplace=True)\n",
    "#rwm2.rename(columns={'visitors':'rwm_39days'}, inplace=True)\n",
    "ew_train = ew_train.merge(rwm1, on = ('air_store_id','visit_date'), how = 'left')\n",
    "ew_train['visitors'] =ew_train.visitors.map(pd.np.expm1)"
   ]
  },
  {
   "cell_type": "code",
   "execution_count": 60,
   "metadata": {
    "collapsed": true
   },
   "outputs": [],
   "source": [
    "ew_stats['rwm_1week']=ew_train['rwm_1week']"
   ]
  },
  {
   "cell_type": "code",
   "execution_count": 61,
   "metadata": {
    "collapsed": true
   },
   "outputs": [],
   "source": [
    "ew_train.drop('rwm_1week',axis=1,inplace=True)"
   ]
  },
  {
   "cell_type": "code",
   "execution_count": 62,
   "metadata": {
    "collapsed": true
   },
   "outputs": [],
   "source": [
    "#applying the rolling mean for the test data a naive feature\n",
    "date_info_f['weight'] = ((date_info_f.index + 1) / len(date_info)) ** 3  \n",
    "date_info_f['weight_hol'] = 1\n",
    "\n",
    "visit_data = ew_train.merge(date_info_f, on='visit_date', how='left')\n",
    "visit_data['visitors'] = visit_data.visitors.map(pd.np.log1p)\n",
    "visit_data = visit_data[visit_data['is_outlier'] == False]\n",
    "# lambda function to apply the rolling mean\n",
    "wmean = lambda x:( (x.weight * x.visitors).sum() / x.weight.sum() )\n",
    "wmean_hol = lambda x:( x.visitors.median() )\n",
    "\n",
    "visitors = visit_data.groupby(['air_store_id', 'dow', 'is_holiday']).apply(wmean).reset_index()\n",
    "visitors.rename(columns={0:'visitors'}, inplace=True) \n",
    "\n",
    "visitors1 = visit_data.groupby(['air_store_id', 'is_holiday']).apply(wmean_hol).reset_index()\n",
    "visitors1.rename(columns={0:'visitors'}, inplace=True)\n",
    "\n",
    "sample_submission=test_data[['id','visitors']]\n",
    "sample_submission['air_store_id'] = sample_submission.id.map(lambda x: '_'.join(x.split('_')[:-1]))\n",
    "sample_submission['visit_date'] = sample_submission.id.map(lambda x: x.split('_')[2])\n",
    "sample_submission['visit_date']=pd.to_datetime(sample_submission['visit_date'])\n",
    "sample_submission['dow']=sample_submission['visit_date'].dt.dayofweek\n",
    "sample_submission.drop('visitors', axis=1, inplace=True)\n",
    "sample_submission = sample_submission.merge(date_info, on='visit_date', how='left')\n",
    "\n",
    "sample_submission = sample_submission.merge(\n",
    "            visitors1[visitors1.is_holiday==1], on=('air_store_id','is_holiday'), \n",
    "            how='left')\n",
    "\n",
    "missings = sample_submission.visitors.isnull()\n",
    "sample_submission.loc[missings, 'visitors'] = sample_submission[missings].merge(\n",
    "    visitors[visitors.is_holiday==0], on=('air_store_id', 'dow'), \n",
    "    how='left')['visitors_y'].values\n",
    "\n",
    "missings = sample_submission.visitors.isnull()\n",
    "sample_submission.loc[missings, 'visitors'] = sample_submission[missings].merge(\n",
    "    visitors[['air_store_id', 'visitors']].groupby('air_store_id').mean().reset_index(), \n",
    "    on='air_store_id', how='left')['visitors_y'].values\n",
    "\n",
    "sub2 = sample_submission[['id', 'visitors']].copy()"
   ]
  },
  {
   "cell_type": "code",
   "execution_count": 63,
   "metadata": {
    "collapsed": true
   },
   "outputs": [],
   "source": [
    "test_data['rwm_1week']=sub2['visitors']"
   ]
  },
  {
   "cell_type": "code",
   "execution_count": 64,
   "metadata": {
    "collapsed": true
   },
   "outputs": [],
   "source": [
    "ew_stats=pd.concat([ew_stats,test_data[['air_store_id','visit_date','visitors','dow','is_weekend','area_lvl3','air_genre_name','is_holiday','rwm_1week']]])"
   ]
  },
  {
   "cell_type": "code",
   "execution_count": 65,
   "metadata": {
    "collapsed": true
   },
   "outputs": [],
   "source": [
    "ew_stats.reset_index(inplace=True)\n",
    "ew_stats.drop('index',axis=1,inplace=True)"
   ]
  },
  {
   "cell_type": "code",
   "execution_count": 66,
   "metadata": {
    "collapsed": true
   },
   "outputs": [],
   "source": [
    "ew_stats.sort_values('visit_date', inplace=True)\n",
    "ew_stats['increment'] = pd.timedelta_range('1 second',freq='1ns',periods=len(ew_stats.index))\n",
    "ew_stats['dtindex'] = pd.to_datetime(ew_stats['visit_date']) + ew_stats['increment']\n",
    "ew_stats = ew_stats.set_index('dtindex',drop=True)"
   ]
  },
  {
   "cell_type": "markdown",
   "metadata": {},
   "source": [
    "* Creating the rolling averages for the whole dataset:\n",
    "    \n",
    "   * first with 90 day sliding window \n",
    "   * second with 180 day sliding window \n",
    "    \n",
    "** Observations: This method is very naive but did not get any idea how to optimize this stuff. But still this feature helped in improving the LB score**\n",
    "\n",
    "**Note:** Because of using this the train set has to be reduced, the observation will be taken from 01-03-2016, this is due to the incorrect rolling average values for the month of January and February (no past historic data in the year 2015)"
   ]
  },
  {
   "cell_type": "code",
   "execution_count": 67,
   "metadata": {
    "collapsed": true
   },
   "outputs": [],
   "source": [
    "# 90 day rolling averages and their computed stats on the visitors\n",
    "fsum = lambda x: x.rolling(window=\"90D\",closed='left').sum()\n",
    "ew_stats['visitdow_m3_sum'] = ew_stats.groupby(['air_store_id','dow']).visitors.apply(fsum).fillna(0)\n",
    "ew_stats['visit_m3_sum'] = ew_stats.groupby(['air_store_id']).visitors.apply(fsum).fillna(0)\n",
    "ew_stats['districtgenre_m3_sum'] = ew_stats.groupby(['area_lvl3','air_genre_name']).visitors.apply(fsum).fillna(0)\n",
    "# 180 day rolling averages and their computed stats on the visitors\n",
    "fsum = lambda x: x.rolling(window=\"180D\",closed='left').sum()\n",
    "ew_stats['visitdow_m6_sum'] = ew_stats.groupby(['air_store_id','dow']).visitors.apply(fsum).fillna(0)\n",
    "ew_stats['visit_m6_sum'] = ew_stats.groupby(['air_store_id']).visitors.apply(fsum).fillna(0)\n",
    "ew_stats['districtgenre_m6_sum'] = ew_stats.groupby(['area_lvl3','air_genre_name']).visitors.apply(fsum).fillna(0)\n",
    "ew_stats['genrehol_m6_sum'] = ew_stats.groupby(['air_genre_name','is_holiday']).visitors.apply(fsum).fillna(0)"
   ]
  },
  {
   "cell_type": "code",
   "execution_count": 68,
   "metadata": {
    "collapsed": true
   },
   "outputs": [],
   "source": [
    "ew_stats['visitors'] = ew_stats['visitors'].replace(0, np.NaN)"
   ]
  },
  {
   "cell_type": "markdown",
   "metadata": {},
   "source": [
    "* Creating the exponential weighted rolling averages for the whole dataset with 21 day span, can be 27 days as well\n",
    "    \n",
    "** Observations: This method is very naive but did not get any idea how to optimize this stuff. But still this feature helped in improving the LB score**"
   ]
  },
  {
   "cell_type": "code",
   "execution_count": 69,
   "metadata": {
    "collapsed": true
   },
   "outputs": [],
   "source": [
    "mean_ewm21 = lambda x: x.shift().ewm(span=21,adjust=True,ignore_na=True,min_periods=3).mean()\n",
    "std_ewm21 = lambda x: x.shift().ewm(span=21,adjust=True,ignore_na=True,min_periods=3).std()"
   ]
  },
  {
   "cell_type": "code",
   "execution_count": 70,
   "metadata": {
    "collapsed": true
   },
   "outputs": [],
   "source": [
    "# exponential weighted moving averages with 21 day span and the corresponding stats\n",
    "ew_stats['visit_dow_ewm21_mean'] = ew_stats.groupby(['air_store_id','dow']).visitors.apply(mean_ewm21).fillna(0)\n",
    "ew_stats['visit_dow_ewm21_std'] = ew_stats.groupby(['air_store_id','dow']).visitors.apply(std_ewm21).fillna(0)\n",
    "ew_stats['visit_ewm21_mean'] = ew_stats.groupby(['air_store_id']).visitors.apply(mean_ewm21).fillna(0)\n",
    "ew_stats['visit_ewm21_std'] = ew_stats.groupby(['air_store_id']).visitors.apply(std_ewm21).fillna(0)\n",
    "ew_stats['districtgenre_ewm21_mean'] = ew_stats.groupby(['area_lvl3','air_genre_name']).visitors.apply(mean_ewm21).fillna(0)\n",
    "ew_stats['districtgenre_ewm21_std'] = ew_stats.groupby(['area_lvl3','air_genre_name']).visitors.apply(std_ewm21).fillna(0)"
   ]
  },
  {
   "cell_type": "markdown",
   "metadata": {},
   "source": [
    "The rolling averages stats are from this kernel: https://www.kaggle.com/emorej/unexpected-10th-place-model"
   ]
  },
  {
   "cell_type": "code",
   "execution_count": 71,
   "metadata": {
    "collapsed": true
   },
   "outputs": [],
   "source": [
    "# lambda function for various statisitics for 90 day window width\n",
    "rmean = lambda x: x.rolling(window=\"90D\",min_periods=3,closed='left').mean()\n",
    "rstd = lambda x: x.rolling(window=\"90D\",min_periods=3,closed='left').std()\n",
    "rcount = lambda x: x.rolling(window=\"90D\",closed='left').count()\n",
    "rmin = lambda x: x.rolling(window=\"90D\",min_periods=3,closed='left').min()\n",
    "rmax = lambda x: x.rolling(window=\"90D\",min_periods=3,closed='left').max()"
   ]
  },
  {
   "cell_type": "code",
   "execution_count": 72,
   "metadata": {
    "collapsed": true
   },
   "outputs": [],
   "source": [
    "# 90 day rolling avergaes for the visitors stats based on the groupby for air_store_id and dow and air_genre_name\n",
    "ew_stats['visit_r90_mean'] = ew_stats.groupby(['air_store_id']).visitors.apply(rmean).fillna(0)\n",
    "ew_stats['visit_r90_max'] = ew_stats.groupby(['air_store_id']).visitors.apply(rmax).fillna(0)\n",
    "ew_stats['visit_r90_min'] = ew_stats.groupby(['air_store_id']).visitors.apply(rmin).fillna(0)\n",
    "ew_stats['visit_r90_count'] = ew_stats.groupby(['air_store_id']).visitors.apply(rcount).fillna(0)\n",
    "ew_stats['visit_r90_std'] = ew_stats.groupby(['air_store_id']).visitors.apply(rstd).fillna(0)\n",
    "ew_stats['visit_dow_r90_mean'] = ew_stats.groupby(['air_store_id','dow']).visitors.apply(rmean).fillna(0)\n",
    "ew_stats['visit_dow_r90_max'] = ew_stats.groupby(['air_store_id','dow']).visitors.apply(rmax).fillna(0)\n",
    "ew_stats['visit_dow_r90_min'] = ew_stats.groupby(['air_store_id','dow']).visitors.apply(rmin).fillna(0)\n",
    "ew_stats['visit_dow_r90_count'] = ew_stats.groupby(['air_store_id','dow']).visitors.apply(rcount).fillna(0)\n",
    "ew_stats['visit_dow_r90_std'] = ew_stats.groupby(['air_store_id','dow']).visitors.apply(rstd).fillna(0)\n",
    "ew_stats['districtgenre_r90_mean'] = ew_stats.groupby(['air_store_id','air_genre_name']).visitors.apply(rmean).fillna(0)\n",
    "ew_stats['districtgenre_r90_max'] = ew_stats.groupby(['air_store_id','air_genre_name']).visitors.apply(rmax).fillna(0)\n",
    "ew_stats['districtgenre_r90_min'] = ew_stats.groupby(['air_store_id','air_genre_name']).visitors.apply(rmin).fillna(0)\n",
    "ew_stats['districtgenre_r90_count'] = ew_stats.groupby(['air_store_id','air_genre_name']).visitors.apply(rcount).fillna(0)\n",
    "ew_stats['districtgenre_r90_std'] = ew_stats.groupby(['air_store_id','air_genre_name']).visitors.apply(rstd).fillna(0)"
   ]
  },
  {
   "cell_type": "code",
   "execution_count": 73,
   "metadata": {
    "collapsed": true
   },
   "outputs": [],
   "source": [
    "# 180 day rolling lambda function \n",
    "rmean = lambda x: x.rolling(window=\"180D\",min_periods=3,closed='left').mean()\n",
    "rstd = lambda x: x.rolling(window=\"180D\",min_periods=3,closed='left').std()\n",
    "rcount = lambda x: x.rolling(window=\"180D\",closed='left').count()\n",
    "rmin = lambda x: x.rolling(window=\"180D\",min_periods=3,closed='left').min()\n",
    "rmax = lambda x: x.rolling(window=\"180D\",min_periods=3,closed='left').max()"
   ]
  },
  {
   "cell_type": "code",
   "execution_count": 74,
   "metadata": {
    "collapsed": true
   },
   "outputs": [],
   "source": [
    "# applying the rolling averages for the 180 day window on the number of visitors grouped by air_id and dow and genre\n",
    "ew_stats['visit_r180_mean'] = ew_stats.groupby(['air_store_id']).visitors.apply(rmean).fillna(0)\n",
    "ew_stats['visit_r180_max'] = ew_stats.groupby(['air_store_id']).visitors.apply(rmax).fillna(0)\n",
    "ew_stats['visit_r180_min'] = ew_stats.groupby(['air_store_id']).visitors.apply(rmin).fillna(0)\n",
    "ew_stats['visit_r180_count'] = ew_stats.groupby(['air_store_id']).visitors.apply(rcount).fillna(0)\n",
    "ew_stats['visit_r180_std'] = ew_stats.groupby(['air_store_id']).visitors.apply(rstd).fillna(0)\n",
    "ew_stats['visit_dow_r180_mean'] = ew_stats.groupby(['air_store_id','dow']).visitors.apply(rmean).fillna(0)\n",
    "ew_stats['visit_dow_r180_max'] = ew_stats.groupby(['air_store_id','dow']).visitors.apply(rmax).fillna(0)\n",
    "ew_stats['visit_dow_r180_min'] = ew_stats.groupby(['air_store_id','dow']).visitors.apply(rmin).fillna(0)\n",
    "ew_stats['visit_dow_r180_count'] = ew_stats.groupby(['air_store_id','dow']).visitors.apply(rcount).fillna(0)\n",
    "ew_stats['visit_dow_r180_std'] = ew_stats.groupby(['air_store_id','dow']).visitors.apply(rstd).fillna(0)\n",
    "ew_stats['districtgenre_r180_mean'] = ew_stats.groupby(['air_store_id','air_genre_name']).visitors.apply(rmean).fillna(0)\n",
    "ew_stats['districtgenre_r180_max'] = ew_stats.groupby(['air_store_id','air_genre_name']).visitors.apply(rmax).fillna(0)\n",
    "ew_stats['districtgenre_r180_min'] = ew_stats.groupby(['air_store_id','air_genre_name']).visitors.apply(rmin).fillna(0)\n",
    "ew_stats['districtgenre_r180_count'] = ew_stats.groupby(['air_store_id','air_genre_name']).visitors.apply(rcount).fillna(0)\n",
    "ew_stats['districtgenre_r180_std'] = ew_stats.groupby(['air_store_id','air_genre_name']).visitors.apply(rstd).fillna(0)"
   ]
  },
  {
   "cell_type": "code",
   "execution_count": 75,
   "metadata": {
    "collapsed": true
   },
   "outputs": [],
   "source": [
    "ew_stats.drop(['dow','increment','visitors','air_genre_name','area_lvl3','is_holiday'], axis=1, inplace=True)\n",
    "train_data = pd.merge(train_data, ew_stats, on=['air_store_id','visit_date'], how='left')\n",
    "test_data = pd.merge(test_data, ew_stats, on=['air_store_id','visit_date'], how='left')"
   ]
  },
  {
   "cell_type": "code",
   "execution_count": 76,
   "metadata": {
    "collapsed": true
   },
   "outputs": [],
   "source": [
    "pd.set_option('max_columns',None)"
   ]
  },
  {
   "cell_type": "markdown",
   "metadata": {},
   "source": [
    "** Some more data cleaning **"
   ]
  },
  {
   "cell_type": "code",
   "execution_count": 77,
   "metadata": {
    "collapsed": true,
    "scrolled": true
   },
   "outputs": [],
   "source": [
    "train_data.drop('is_outlier_y',axis=1,inplace=True)"
   ]
  },
  {
   "cell_type": "code",
   "execution_count": 78,
   "metadata": {
    "collapsed": true
   },
   "outputs": [],
   "source": [
    "train_data.rename(columns={'is_outlier_x':'is_outlier'},inplace=True)"
   ]
  },
  {
   "cell_type": "code",
   "execution_count": 79,
   "metadata": {
    "collapsed": true
   },
   "outputs": [],
   "source": [
    "test_data.drop(['is_outlier','rwm_1week_y'],axis=1,inplace=True)\n",
    "test_data.rename(columns={'rwm_1week_x':'rwm_1week'},inplace=True)"
   ]
  },
  {
   "cell_type": "code",
   "execution_count": 80,
   "metadata": {
    "collapsed": true
   },
   "outputs": [],
   "source": [
    "train_data = train_data.loc[train_data.is_outlier == False]"
   ]
  },
  {
   "cell_type": "markdown",
   "metadata": {},
   "source": [
    "** label encoding the air store id will help in differentiating the restaurant**"
   ]
  },
  {
   "cell_type": "code",
   "execution_count": 81,
   "metadata": {
    "collapsed": true
   },
   "outputs": [],
   "source": [
    "lbl = LabelEncoder()\n",
    "train_data['air_store_id2'] = lbl.fit_transform(train_data['air_store_id'])\n",
    "test_data['air_store_id2'] = lbl.transform(test_data['air_store_id'])"
   ]
  },
  {
   "cell_type": "code",
   "execution_count": 82,
   "metadata": {
    "collapsed": true
   },
   "outputs": [],
   "source": [
    "train_data.drop(['is_outlier'],axis=1,inplace=True)"
   ]
  },
  {
   "cell_type": "code",
   "execution_count": 83,
   "metadata": {
    "collapsed": true
   },
   "outputs": [],
   "source": [
    "train_data['date_int'] = train_data['visit_date'].apply(lambda x: x.strftime('%Y%m%d')).astype(int)\n",
    "test_data['date_int'] = test_data['visit_date'].apply(lambda x: x.strftime('%Y%m%d')).astype(int)"
   ]
  },
  {
   "cell_type": "code",
   "execution_count": 84,
   "metadata": {
    "collapsed": true
   },
   "outputs": [],
   "source": [
    "train_data=train_data.fillna(-1)\n",
    "test_data=test_data.fillna(-1)"
   ]
  },
  {
   "cell_type": "code",
   "execution_count": 85,
   "metadata": {
    "collapsed": true
   },
   "outputs": [],
   "source": [
    "train_data.visitors = train_data.visitors.map(np.log1p)"
   ]
  },
  {
   "cell_type": "code",
   "execution_count": 86,
   "metadata": {
    "collapsed": true
   },
   "outputs": [],
   "source": [
    "import datetime"
   ]
  },
  {
   "cell_type": "code",
   "execution_count": 87,
   "metadata": {
    "collapsed": true
   },
   "outputs": [],
   "source": [
    "train_data.drop(['is_weekend_y'],axis=1,inplace=True)\n",
    "test_data.drop(['is_weekend_y'],axis=1,inplace=True)"
   ]
  },
  {
   "cell_type": "code",
   "execution_count": 88,
   "metadata": {
    "collapsed": true
   },
   "outputs": [],
   "source": [
    "# full data frames 1st copy\n",
    "train=train_data.copy()\n",
    "df_test=test_data.copy()"
   ]
  },
  {
   "cell_type": "code",
   "execution_count": 89,
   "metadata": {
    "collapsed": true
   },
   "outputs": [],
   "source": [
    "# full data frames 2nd copy\n",
    "train2=train_data.copy()\n",
    "df_test2=test_data.copy()"
   ]
  },
  {
   "cell_type": "markdown",
   "metadata": {},
   "source": [
    "** Note**: Removing the training data before march helped in reducing the overfitting because of the wrong values in the rolling averages due to the fact that the training data is not present for the year 2015"
   ]
  },
  {
   "cell_type": "code",
   "execution_count": 90,
   "metadata": {
    "collapsed": true
   },
   "outputs": [],
   "source": [
    "train_data = train_data.loc[train_data.visit_date>='2016-03-01']"
   ]
  },
  {
   "cell_type": "code",
   "execution_count": 91,
   "metadata": {
    "collapsed": true
   },
   "outputs": [],
   "source": [
    "x_val = train_data[train_data.visit_date >='2017-03-12']\n",
    "x_train = train_data[train_data.visit_date <'2017-03-12']\n",
    "x_test = test_data"
   ]
  },
  {
   "cell_type": "code",
   "execution_count": 92,
   "metadata": {},
   "outputs": [
    {
     "data": {
      "text/plain": [
       "((199484, 85), (29000, 85))"
      ]
     },
     "execution_count": 92,
     "metadata": {},
     "output_type": "execute_result"
    }
   ],
   "source": [
    "x_train.shape,x_val.shape"
   ]
  },
  {
   "cell_type": "code",
   "execution_count": 93,
   "metadata": {
    "collapsed": true
   },
   "outputs": [],
   "source": [
    "test_ids=test_data['id'].values"
   ]
  },
  {
   "cell_type": "code",
   "execution_count": 94,
   "metadata": {
    "collapsed": true
   },
   "outputs": [],
   "source": [
    "x_test.drop(['id','visitors','visit_date','air_store_id','station_id'],axis=1,inplace=True)"
   ]
  },
  {
   "cell_type": "code",
   "execution_count": 95,
   "metadata": {
    "collapsed": true
   },
   "outputs": [],
   "source": [
    "x_val.drop(['visit_date','air_store_id','station_id'],axis=1,inplace=True)\n",
    "x_train.drop(['visit_date','air_store_id','station_id'],axis=1,inplace=True)"
   ]
  },
  {
   "cell_type": "code",
   "execution_count": 96,
   "metadata": {
    "scrolled": true
   },
   "outputs": [
    {
     "data": {
      "text/html": [
       "<div>\n",
       "<style scoped>\n",
       "    .dataframe tbody tr th:only-of-type {\n",
       "        vertical-align: middle;\n",
       "    }\n",
       "\n",
       "    .dataframe tbody tr th {\n",
       "        vertical-align: top;\n",
       "    }\n",
       "\n",
       "    .dataframe thead th {\n",
       "        text-align: right;\n",
       "    }\n",
       "</style>\n",
       "<table border=\"1\" class=\"dataframe\">\n",
       "  <thead>\n",
       "    <tr style=\"text-align: right;\">\n",
       "      <th></th>\n",
       "      <th>air_store_id</th>\n",
       "      <th>visit_date</th>\n",
       "      <th>visitors</th>\n",
       "      <th>dow</th>\n",
       "      <th>year</th>\n",
       "      <th>month</th>\n",
       "      <th>doy</th>\n",
       "      <th>dim</th>\n",
       "      <th>woy</th>\n",
       "      <th>is_holiday</th>\n",
       "      <th>prev_day_is_holiday</th>\n",
       "      <th>next_day_is_holiday</th>\n",
       "      <th>is_weekend_x</th>\n",
       "      <th>before_golden_flag</th>\n",
       "      <th>after_golden_flag</th>\n",
       "      <th>air_genre_name</th>\n",
       "      <th>latitude</th>\n",
       "      <th>longitude</th>\n",
       "      <th>station_id</th>\n",
       "      <th>area_lvl1</th>\n",
       "      <th>area_lvl2</th>\n",
       "      <th>area_lvl3</th>\n",
       "      <th>stores_per_city</th>\n",
       "      <th>stores_per_citygenre</th>\n",
       "      <th>global_avg_temperature</th>\n",
       "      <th>global_precipitation</th>\n",
       "      <th>global_sunlight</th>\n",
       "      <th>airR_visit_sum</th>\n",
       "      <th>airR_visit_mean</th>\n",
       "      <th>airR_date_diff_sum</th>\n",
       "      <th>airR_date_diff_mean</th>\n",
       "      <th>hpgR_visit_sum</th>\n",
       "      <th>hpgR_visit_mean</th>\n",
       "      <th>hpgR_date_diff_sum</th>\n",
       "      <th>hpgR_date_diff_mean</th>\n",
       "      <th>tot_reserve_sum</th>\n",
       "      <th>tot_reserve_mean</th>\n",
       "      <th>tot_date_diff_mean</th>\n",
       "      <th>lon_plus_lat</th>\n",
       "      <th>rwm_1week</th>\n",
       "      <th>visitdow_m3_sum</th>\n",
       "      <th>visit_m3_sum</th>\n",
       "      <th>districtgenre_m3_sum</th>\n",
       "      <th>visitdow_m6_sum</th>\n",
       "      <th>visit_m6_sum</th>\n",
       "      <th>districtgenre_m6_sum</th>\n",
       "      <th>genrehol_m6_sum</th>\n",
       "      <th>visit_dow_ewm21_mean</th>\n",
       "      <th>visit_dow_ewm21_std</th>\n",
       "      <th>visit_ewm21_mean</th>\n",
       "      <th>visit_ewm21_std</th>\n",
       "      <th>districtgenre_ewm21_mean</th>\n",
       "      <th>districtgenre_ewm21_std</th>\n",
       "      <th>visit_r90_mean</th>\n",
       "      <th>visit_r90_max</th>\n",
       "      <th>visit_r90_min</th>\n",
       "      <th>visit_r90_count</th>\n",
       "      <th>visit_r90_std</th>\n",
       "      <th>visit_dow_r90_mean</th>\n",
       "      <th>visit_dow_r90_max</th>\n",
       "      <th>visit_dow_r90_min</th>\n",
       "      <th>visit_dow_r90_count</th>\n",
       "      <th>visit_dow_r90_std</th>\n",
       "      <th>districtgenre_r90_mean</th>\n",
       "      <th>districtgenre_r90_max</th>\n",
       "      <th>districtgenre_r90_min</th>\n",
       "      <th>districtgenre_r90_count</th>\n",
       "      <th>districtgenre_r90_std</th>\n",
       "      <th>visit_r180_mean</th>\n",
       "      <th>visit_r180_max</th>\n",
       "      <th>visit_r180_min</th>\n",
       "      <th>visit_r180_count</th>\n",
       "      <th>visit_r180_std</th>\n",
       "      <th>visit_dow_r180_mean</th>\n",
       "      <th>visit_dow_r180_max</th>\n",
       "      <th>visit_dow_r180_min</th>\n",
       "      <th>visit_dow_r180_count</th>\n",
       "      <th>visit_dow_r180_std</th>\n",
       "      <th>districtgenre_r180_mean</th>\n",
       "      <th>districtgenre_r180_max</th>\n",
       "      <th>districtgenre_r180_min</th>\n",
       "      <th>districtgenre_r180_count</th>\n",
       "      <th>districtgenre_r180_std</th>\n",
       "      <th>air_store_id2</th>\n",
       "      <th>date_int</th>\n",
       "    </tr>\n",
       "  </thead>\n",
       "  <tbody>\n",
       "    <tr>\n",
       "      <th>39</th>\n",
       "      <td>air_ba937bf13d40fb24</td>\n",
       "      <td>2016-03-01</td>\n",
       "      <td>2.995732</td>\n",
       "      <td>1</td>\n",
       "      <td>2016</td>\n",
       "      <td>3</td>\n",
       "      <td>61</td>\n",
       "      <td>1</td>\n",
       "      <td>9</td>\n",
       "      <td>0</td>\n",
       "      <td>0.0</td>\n",
       "      <td>0.0</td>\n",
       "      <td>0</td>\n",
       "      <td>0</td>\n",
       "      <td>0</td>\n",
       "      <td>4</td>\n",
       "      <td>35.658068</td>\n",
       "      <td>139.751599</td>\n",
       "      <td>tokyo__tokyo-kana__tonokyo</td>\n",
       "      <td>7</td>\n",
       "      <td>29</td>\n",
       "      <td>77</td>\n",
       "      <td>302</td>\n",
       "      <td>10</td>\n",
       "      <td>0.425998</td>\n",
       "      <td>1.875000</td>\n",
       "      <td>4.620883</td>\n",
       "      <td>-1.0</td>\n",
       "      <td>-1.0</td>\n",
       "      <td>-1.0</td>\n",
       "      <td>-1.0</td>\n",
       "      <td>-1.0</td>\n",
       "      <td>-1.0</td>\n",
       "      <td>-1.0</td>\n",
       "      <td>-1.0</td>\n",
       "      <td>-1.0</td>\n",
       "      <td>-1.0</td>\n",
       "      <td>-1.0</td>\n",
       "      <td>175.409667</td>\n",
       "      <td>2.776209</td>\n",
       "      <td>66.0</td>\n",
       "      <td>794.0</td>\n",
       "      <td>2004.0</td>\n",
       "      <td>66.0</td>\n",
       "      <td>794.0</td>\n",
       "      <td>2004.0</td>\n",
       "      <td>33770.0</td>\n",
       "      <td>13.536322</td>\n",
       "      <td>2.938588</td>\n",
       "      <td>20.892893</td>\n",
       "      <td>9.003928</td>\n",
       "      <td>13.726059</td>\n",
       "      <td>9.857571</td>\n",
       "      <td>20.358974</td>\n",
       "      <td>45.0</td>\n",
       "      <td>3.0</td>\n",
       "      <td>39.0</td>\n",
       "      <td>9.407408</td>\n",
       "      <td>13.200000</td>\n",
       "      <td>16.0</td>\n",
       "      <td>9.0</td>\n",
       "      <td>5.0</td>\n",
       "      <td>3.033150</td>\n",
       "      <td>20.358974</td>\n",
       "      <td>45.0</td>\n",
       "      <td>3.0</td>\n",
       "      <td>39.0</td>\n",
       "      <td>9.407408</td>\n",
       "      <td>20.358974</td>\n",
       "      <td>45.0</td>\n",
       "      <td>3.0</td>\n",
       "      <td>39.0</td>\n",
       "      <td>9.407408</td>\n",
       "      <td>13.200000</td>\n",
       "      <td>16.0</td>\n",
       "      <td>9.0</td>\n",
       "      <td>5.0</td>\n",
       "      <td>3.033150</td>\n",
       "      <td>20.358974</td>\n",
       "      <td>45.0</td>\n",
       "      <td>3.0</td>\n",
       "      <td>39.0</td>\n",
       "      <td>9.407408</td>\n",
       "      <td>603</td>\n",
       "      <td>20160301</td>\n",
       "    </tr>\n",
       "    <tr>\n",
       "      <th>40</th>\n",
       "      <td>air_ba937bf13d40fb24</td>\n",
       "      <td>2016-03-02</td>\n",
       "      <td>3.091042</td>\n",
       "      <td>2</td>\n",
       "      <td>2016</td>\n",
       "      <td>3</td>\n",
       "      <td>62</td>\n",
       "      <td>2</td>\n",
       "      <td>9</td>\n",
       "      <td>0</td>\n",
       "      <td>0.0</td>\n",
       "      <td>0.0</td>\n",
       "      <td>0</td>\n",
       "      <td>0</td>\n",
       "      <td>0</td>\n",
       "      <td>4</td>\n",
       "      <td>35.658068</td>\n",
       "      <td>139.751599</td>\n",
       "      <td>tokyo__tokyo-kana__tonokyo</td>\n",
       "      <td>7</td>\n",
       "      <td>29</td>\n",
       "      <td>77</td>\n",
       "      <td>302</td>\n",
       "      <td>10</td>\n",
       "      <td>1.539871</td>\n",
       "      <td>0.881667</td>\n",
       "      <td>6.564516</td>\n",
       "      <td>-1.0</td>\n",
       "      <td>-1.0</td>\n",
       "      <td>-1.0</td>\n",
       "      <td>-1.0</td>\n",
       "      <td>-1.0</td>\n",
       "      <td>-1.0</td>\n",
       "      <td>-1.0</td>\n",
       "      <td>-1.0</td>\n",
       "      <td>-1.0</td>\n",
       "      <td>-1.0</td>\n",
       "      <td>-1.0</td>\n",
       "      <td>175.409667</td>\n",
       "      <td>3.105187</td>\n",
       "      <td>168.0</td>\n",
       "      <td>813.0</td>\n",
       "      <td>2028.0</td>\n",
       "      <td>168.0</td>\n",
       "      <td>813.0</td>\n",
       "      <td>2028.0</td>\n",
       "      <td>34001.0</td>\n",
       "      <td>23.561360</td>\n",
       "      <td>5.985170</td>\n",
       "      <td>20.716924</td>\n",
       "      <td>8.592731</td>\n",
       "      <td>13.368643</td>\n",
       "      <td>9.479188</td>\n",
       "      <td>20.325000</td>\n",
       "      <td>45.0</td>\n",
       "      <td>3.0</td>\n",
       "      <td>40.0</td>\n",
       "      <td>9.288503</td>\n",
       "      <td>24.000000</td>\n",
       "      <td>32.0</td>\n",
       "      <td>17.0</td>\n",
       "      <td>7.0</td>\n",
       "      <td>5.887841</td>\n",
       "      <td>20.325000</td>\n",
       "      <td>45.0</td>\n",
       "      <td>3.0</td>\n",
       "      <td>40.0</td>\n",
       "      <td>9.288503</td>\n",
       "      <td>20.325000</td>\n",
       "      <td>45.0</td>\n",
       "      <td>3.0</td>\n",
       "      <td>40.0</td>\n",
       "      <td>9.288503</td>\n",
       "      <td>24.000000</td>\n",
       "      <td>32.0</td>\n",
       "      <td>17.0</td>\n",
       "      <td>7.0</td>\n",
       "      <td>5.887841</td>\n",
       "      <td>20.325000</td>\n",
       "      <td>45.0</td>\n",
       "      <td>3.0</td>\n",
       "      <td>40.0</td>\n",
       "      <td>9.288503</td>\n",
       "      <td>603</td>\n",
       "      <td>20160302</td>\n",
       "    </tr>\n",
       "    <tr>\n",
       "      <th>41</th>\n",
       "      <td>air_ba937bf13d40fb24</td>\n",
       "      <td>2016-03-03</td>\n",
       "      <td>3.044522</td>\n",
       "      <td>3</td>\n",
       "      <td>2016</td>\n",
       "      <td>3</td>\n",
       "      <td>63</td>\n",
       "      <td>3</td>\n",
       "      <td>9</td>\n",
       "      <td>0</td>\n",
       "      <td>0.0</td>\n",
       "      <td>0.0</td>\n",
       "      <td>0</td>\n",
       "      <td>0</td>\n",
       "      <td>0</td>\n",
       "      <td>4</td>\n",
       "      <td>35.658068</td>\n",
       "      <td>139.751599</td>\n",
       "      <td>tokyo__tokyo-kana__tonokyo</td>\n",
       "      <td>7</td>\n",
       "      <td>29</td>\n",
       "      <td>77</td>\n",
       "      <td>302</td>\n",
       "      <td>10</td>\n",
       "      <td>3.785668</td>\n",
       "      <td>1.554858</td>\n",
       "      <td>6.737605</td>\n",
       "      <td>-1.0</td>\n",
       "      <td>-1.0</td>\n",
       "      <td>-1.0</td>\n",
       "      <td>-1.0</td>\n",
       "      <td>-1.0</td>\n",
       "      <td>-1.0</td>\n",
       "      <td>-1.0</td>\n",
       "      <td>-1.0</td>\n",
       "      <td>-1.0</td>\n",
       "      <td>-1.0</td>\n",
       "      <td>-1.0</td>\n",
       "      <td>175.409667</td>\n",
       "      <td>3.110425</td>\n",
       "      <td>129.0</td>\n",
       "      <td>834.0</td>\n",
       "      <td>2071.0</td>\n",
       "      <td>129.0</td>\n",
       "      <td>834.0</td>\n",
       "      <td>2071.0</td>\n",
       "      <td>34587.0</td>\n",
       "      <td>21.062873</td>\n",
       "      <td>5.999936</td>\n",
       "      <td>20.743186</td>\n",
       "      <td>8.184020</td>\n",
       "      <td>13.497854</td>\n",
       "      <td>8.728610</td>\n",
       "      <td>20.341463</td>\n",
       "      <td>45.0</td>\n",
       "      <td>3.0</td>\n",
       "      <td>41.0</td>\n",
       "      <td>9.172267</td>\n",
       "      <td>21.500000</td>\n",
       "      <td>32.0</td>\n",
       "      <td>12.0</td>\n",
       "      <td>6.0</td>\n",
       "      <td>6.348228</td>\n",
       "      <td>20.341463</td>\n",
       "      <td>45.0</td>\n",
       "      <td>3.0</td>\n",
       "      <td>41.0</td>\n",
       "      <td>9.172267</td>\n",
       "      <td>20.341463</td>\n",
       "      <td>45.0</td>\n",
       "      <td>3.0</td>\n",
       "      <td>41.0</td>\n",
       "      <td>9.172267</td>\n",
       "      <td>21.500000</td>\n",
       "      <td>32.0</td>\n",
       "      <td>12.0</td>\n",
       "      <td>6.0</td>\n",
       "      <td>6.348228</td>\n",
       "      <td>20.341463</td>\n",
       "      <td>45.0</td>\n",
       "      <td>3.0</td>\n",
       "      <td>41.0</td>\n",
       "      <td>9.172267</td>\n",
       "      <td>603</td>\n",
       "      <td>20160303</td>\n",
       "    </tr>\n",
       "    <tr>\n",
       "      <th>42</th>\n",
       "      <td>air_ba937bf13d40fb24</td>\n",
       "      <td>2016-03-04</td>\n",
       "      <td>3.637586</td>\n",
       "      <td>4</td>\n",
       "      <td>2016</td>\n",
       "      <td>3</td>\n",
       "      <td>64</td>\n",
       "      <td>4</td>\n",
       "      <td>9</td>\n",
       "      <td>0</td>\n",
       "      <td>0.0</td>\n",
       "      <td>0.0</td>\n",
       "      <td>0</td>\n",
       "      <td>0</td>\n",
       "      <td>0</td>\n",
       "      <td>4</td>\n",
       "      <td>35.658068</td>\n",
       "      <td>139.751599</td>\n",
       "      <td>tokyo__tokyo-kana__tonokyo</td>\n",
       "      <td>7</td>\n",
       "      <td>29</td>\n",
       "      <td>77</td>\n",
       "      <td>302</td>\n",
       "      <td>10</td>\n",
       "      <td>5.048547</td>\n",
       "      <td>0.273029</td>\n",
       "      <td>6.935885</td>\n",
       "      <td>-1.0</td>\n",
       "      <td>-1.0</td>\n",
       "      <td>-1.0</td>\n",
       "      <td>-1.0</td>\n",
       "      <td>-1.0</td>\n",
       "      <td>-1.0</td>\n",
       "      <td>-1.0</td>\n",
       "      <td>-1.0</td>\n",
       "      <td>-1.0</td>\n",
       "      <td>-1.0</td>\n",
       "      <td>-1.0</td>\n",
       "      <td>175.409667</td>\n",
       "      <td>3.547916</td>\n",
       "      <td>219.0</td>\n",
       "      <td>854.0</td>\n",
       "      <td>2098.0</td>\n",
       "      <td>219.0</td>\n",
       "      <td>854.0</td>\n",
       "      <td>2098.0</td>\n",
       "      <td>35135.0</td>\n",
       "      <td>32.060504</td>\n",
       "      <td>9.572333</td>\n",
       "      <td>20.674367</td>\n",
       "      <td>7.798286</td>\n",
       "      <td>13.444507</td>\n",
       "      <td>8.406061</td>\n",
       "      <td>20.333333</td>\n",
       "      <td>45.0</td>\n",
       "      <td>3.0</td>\n",
       "      <td>42.0</td>\n",
       "      <td>9.059873</td>\n",
       "      <td>31.285714</td>\n",
       "      <td>45.0</td>\n",
       "      <td>18.0</td>\n",
       "      <td>7.0</td>\n",
       "      <td>9.690447</td>\n",
       "      <td>20.333333</td>\n",
       "      <td>45.0</td>\n",
       "      <td>3.0</td>\n",
       "      <td>42.0</td>\n",
       "      <td>9.059873</td>\n",
       "      <td>20.333333</td>\n",
       "      <td>45.0</td>\n",
       "      <td>3.0</td>\n",
       "      <td>42.0</td>\n",
       "      <td>9.059873</td>\n",
       "      <td>31.285714</td>\n",
       "      <td>45.0</td>\n",
       "      <td>18.0</td>\n",
       "      <td>7.0</td>\n",
       "      <td>9.690447</td>\n",
       "      <td>20.333333</td>\n",
       "      <td>45.0</td>\n",
       "      <td>3.0</td>\n",
       "      <td>42.0</td>\n",
       "      <td>9.059873</td>\n",
       "      <td>603</td>\n",
       "      <td>20160304</td>\n",
       "    </tr>\n",
       "    <tr>\n",
       "      <th>43</th>\n",
       "      <td>air_ba937bf13d40fb24</td>\n",
       "      <td>2016-03-05</td>\n",
       "      <td>2.639057</td>\n",
       "      <td>5</td>\n",
       "      <td>2016</td>\n",
       "      <td>3</td>\n",
       "      <td>65</td>\n",
       "      <td>5</td>\n",
       "      <td>9</td>\n",
       "      <td>0</td>\n",
       "      <td>0.0</td>\n",
       "      <td>0.0</td>\n",
       "      <td>1</td>\n",
       "      <td>0</td>\n",
       "      <td>0</td>\n",
       "      <td>4</td>\n",
       "      <td>35.658068</td>\n",
       "      <td>139.751599</td>\n",
       "      <td>tokyo__tokyo-kana__tonokyo</td>\n",
       "      <td>7</td>\n",
       "      <td>29</td>\n",
       "      <td>77</td>\n",
       "      <td>302</td>\n",
       "      <td>10</td>\n",
       "      <td>7.184177</td>\n",
       "      <td>0.220466</td>\n",
       "      <td>6.794517</td>\n",
       "      <td>-1.0</td>\n",
       "      <td>-1.0</td>\n",
       "      <td>-1.0</td>\n",
       "      <td>-1.0</td>\n",
       "      <td>-1.0</td>\n",
       "      <td>-1.0</td>\n",
       "      <td>-1.0</td>\n",
       "      <td>-1.0</td>\n",
       "      <td>-1.0</td>\n",
       "      <td>-1.0</td>\n",
       "      <td>-1.0</td>\n",
       "      <td>175.409667</td>\n",
       "      <td>2.874597</td>\n",
       "      <td>120.0</td>\n",
       "      <td>891.0</td>\n",
       "      <td>2167.0</td>\n",
       "      <td>120.0</td>\n",
       "      <td>891.0</td>\n",
       "      <td>2167.0</td>\n",
       "      <td>35849.0</td>\n",
       "      <td>17.127751</td>\n",
       "      <td>7.564649</td>\n",
       "      <td>22.183568</td>\n",
       "      <td>8.871341</td>\n",
       "      <td>15.690841</td>\n",
       "      <td>9.790103</td>\n",
       "      <td>20.720930</td>\n",
       "      <td>45.0</td>\n",
       "      <td>3.0</td>\n",
       "      <td>43.0</td>\n",
       "      <td>9.305210</td>\n",
       "      <td>17.142857</td>\n",
       "      <td>26.0</td>\n",
       "      <td>6.0</td>\n",
       "      <td>7.0</td>\n",
       "      <td>7.712081</td>\n",
       "      <td>20.720930</td>\n",
       "      <td>45.0</td>\n",
       "      <td>3.0</td>\n",
       "      <td>43.0</td>\n",
       "      <td>9.305210</td>\n",
       "      <td>20.720930</td>\n",
       "      <td>45.0</td>\n",
       "      <td>3.0</td>\n",
       "      <td>43.0</td>\n",
       "      <td>9.305210</td>\n",
       "      <td>17.142857</td>\n",
       "      <td>26.0</td>\n",
       "      <td>6.0</td>\n",
       "      <td>7.0</td>\n",
       "      <td>7.712081</td>\n",
       "      <td>20.720930</td>\n",
       "      <td>45.0</td>\n",
       "      <td>3.0</td>\n",
       "      <td>43.0</td>\n",
       "      <td>9.305210</td>\n",
       "      <td>603</td>\n",
       "      <td>20160305</td>\n",
       "    </tr>\n",
       "  </tbody>\n",
       "</table>\n",
       "</div>"
      ],
      "text/plain": [
       "            air_store_id visit_date  visitors  dow  year  month  doy  dim  \\\n",
       "39  air_ba937bf13d40fb24 2016-03-01  2.995732    1  2016      3   61    1   \n",
       "40  air_ba937bf13d40fb24 2016-03-02  3.091042    2  2016      3   62    2   \n",
       "41  air_ba937bf13d40fb24 2016-03-03  3.044522    3  2016      3   63    3   \n",
       "42  air_ba937bf13d40fb24 2016-03-04  3.637586    4  2016      3   64    4   \n",
       "43  air_ba937bf13d40fb24 2016-03-05  2.639057    5  2016      3   65    5   \n",
       "\n",
       "    woy  is_holiday  prev_day_is_holiday  next_day_is_holiday  is_weekend_x  \\\n",
       "39    9           0                  0.0                  0.0             0   \n",
       "40    9           0                  0.0                  0.0             0   \n",
       "41    9           0                  0.0                  0.0             0   \n",
       "42    9           0                  0.0                  0.0             0   \n",
       "43    9           0                  0.0                  0.0             1   \n",
       "\n",
       "    before_golden_flag  after_golden_flag  air_genre_name   latitude  \\\n",
       "39                   0                  0               4  35.658068   \n",
       "40                   0                  0               4  35.658068   \n",
       "41                   0                  0               4  35.658068   \n",
       "42                   0                  0               4  35.658068   \n",
       "43                   0                  0               4  35.658068   \n",
       "\n",
       "     longitude                  station_id  area_lvl1  area_lvl2  area_lvl3  \\\n",
       "39  139.751599  tokyo__tokyo-kana__tonokyo          7         29         77   \n",
       "40  139.751599  tokyo__tokyo-kana__tonokyo          7         29         77   \n",
       "41  139.751599  tokyo__tokyo-kana__tonokyo          7         29         77   \n",
       "42  139.751599  tokyo__tokyo-kana__tonokyo          7         29         77   \n",
       "43  139.751599  tokyo__tokyo-kana__tonokyo          7         29         77   \n",
       "\n",
       "    stores_per_city  stores_per_citygenre  global_avg_temperature  \\\n",
       "39              302                    10                0.425998   \n",
       "40              302                    10                1.539871   \n",
       "41              302                    10                3.785668   \n",
       "42              302                    10                5.048547   \n",
       "43              302                    10                7.184177   \n",
       "\n",
       "    global_precipitation  global_sunlight  airR_visit_sum  airR_visit_mean  \\\n",
       "39              1.875000         4.620883            -1.0             -1.0   \n",
       "40              0.881667         6.564516            -1.0             -1.0   \n",
       "41              1.554858         6.737605            -1.0             -1.0   \n",
       "42              0.273029         6.935885            -1.0             -1.0   \n",
       "43              0.220466         6.794517            -1.0             -1.0   \n",
       "\n",
       "    airR_date_diff_sum  airR_date_diff_mean  hpgR_visit_sum  hpgR_visit_mean  \\\n",
       "39                -1.0                 -1.0            -1.0             -1.0   \n",
       "40                -1.0                 -1.0            -1.0             -1.0   \n",
       "41                -1.0                 -1.0            -1.0             -1.0   \n",
       "42                -1.0                 -1.0            -1.0             -1.0   \n",
       "43                -1.0                 -1.0            -1.0             -1.0   \n",
       "\n",
       "    hpgR_date_diff_sum  hpgR_date_diff_mean  tot_reserve_sum  \\\n",
       "39                -1.0                 -1.0             -1.0   \n",
       "40                -1.0                 -1.0             -1.0   \n",
       "41                -1.0                 -1.0             -1.0   \n",
       "42                -1.0                 -1.0             -1.0   \n",
       "43                -1.0                 -1.0             -1.0   \n",
       "\n",
       "    tot_reserve_mean  tot_date_diff_mean  lon_plus_lat  rwm_1week  \\\n",
       "39              -1.0                -1.0    175.409667   2.776209   \n",
       "40              -1.0                -1.0    175.409667   3.105187   \n",
       "41              -1.0                -1.0    175.409667   3.110425   \n",
       "42              -1.0                -1.0    175.409667   3.547916   \n",
       "43              -1.0                -1.0    175.409667   2.874597   \n",
       "\n",
       "    visitdow_m3_sum  visit_m3_sum  districtgenre_m3_sum  visitdow_m6_sum  \\\n",
       "39             66.0         794.0                2004.0             66.0   \n",
       "40            168.0         813.0                2028.0            168.0   \n",
       "41            129.0         834.0                2071.0            129.0   \n",
       "42            219.0         854.0                2098.0            219.0   \n",
       "43            120.0         891.0                2167.0            120.0   \n",
       "\n",
       "    visit_m6_sum  districtgenre_m6_sum  genrehol_m6_sum  visit_dow_ewm21_mean  \\\n",
       "39         794.0                2004.0          33770.0             13.536322   \n",
       "40         813.0                2028.0          34001.0             23.561360   \n",
       "41         834.0                2071.0          34587.0             21.062873   \n",
       "42         854.0                2098.0          35135.0             32.060504   \n",
       "43         891.0                2167.0          35849.0             17.127751   \n",
       "\n",
       "    visit_dow_ewm21_std  visit_ewm21_mean  visit_ewm21_std  \\\n",
       "39             2.938588         20.892893         9.003928   \n",
       "40             5.985170         20.716924         8.592731   \n",
       "41             5.999936         20.743186         8.184020   \n",
       "42             9.572333         20.674367         7.798286   \n",
       "43             7.564649         22.183568         8.871341   \n",
       "\n",
       "    districtgenre_ewm21_mean  districtgenre_ewm21_std  visit_r90_mean  \\\n",
       "39                 13.726059                 9.857571       20.358974   \n",
       "40                 13.368643                 9.479188       20.325000   \n",
       "41                 13.497854                 8.728610       20.341463   \n",
       "42                 13.444507                 8.406061       20.333333   \n",
       "43                 15.690841                 9.790103       20.720930   \n",
       "\n",
       "    visit_r90_max  visit_r90_min  visit_r90_count  visit_r90_std  \\\n",
       "39           45.0            3.0             39.0       9.407408   \n",
       "40           45.0            3.0             40.0       9.288503   \n",
       "41           45.0            3.0             41.0       9.172267   \n",
       "42           45.0            3.0             42.0       9.059873   \n",
       "43           45.0            3.0             43.0       9.305210   \n",
       "\n",
       "    visit_dow_r90_mean  visit_dow_r90_max  visit_dow_r90_min  \\\n",
       "39           13.200000               16.0                9.0   \n",
       "40           24.000000               32.0               17.0   \n",
       "41           21.500000               32.0               12.0   \n",
       "42           31.285714               45.0               18.0   \n",
       "43           17.142857               26.0                6.0   \n",
       "\n",
       "    visit_dow_r90_count  visit_dow_r90_std  districtgenre_r90_mean  \\\n",
       "39                  5.0           3.033150               20.358974   \n",
       "40                  7.0           5.887841               20.325000   \n",
       "41                  6.0           6.348228               20.341463   \n",
       "42                  7.0           9.690447               20.333333   \n",
       "43                  7.0           7.712081               20.720930   \n",
       "\n",
       "    districtgenre_r90_max  districtgenre_r90_min  districtgenre_r90_count  \\\n",
       "39                   45.0                    3.0                     39.0   \n",
       "40                   45.0                    3.0                     40.0   \n",
       "41                   45.0                    3.0                     41.0   \n",
       "42                   45.0                    3.0                     42.0   \n",
       "43                   45.0                    3.0                     43.0   \n",
       "\n",
       "    districtgenre_r90_std  visit_r180_mean  visit_r180_max  visit_r180_min  \\\n",
       "39               9.407408        20.358974            45.0             3.0   \n",
       "40               9.288503        20.325000            45.0             3.0   \n",
       "41               9.172267        20.341463            45.0             3.0   \n",
       "42               9.059873        20.333333            45.0             3.0   \n",
       "43               9.305210        20.720930            45.0             3.0   \n",
       "\n",
       "    visit_r180_count  visit_r180_std  visit_dow_r180_mean  visit_dow_r180_max  \\\n",
       "39              39.0        9.407408            13.200000                16.0   \n",
       "40              40.0        9.288503            24.000000                32.0   \n",
       "41              41.0        9.172267            21.500000                32.0   \n",
       "42              42.0        9.059873            31.285714                45.0   \n",
       "43              43.0        9.305210            17.142857                26.0   \n",
       "\n",
       "    visit_dow_r180_min  visit_dow_r180_count  visit_dow_r180_std  \\\n",
       "39                 9.0                   5.0            3.033150   \n",
       "40                17.0                   7.0            5.887841   \n",
       "41                12.0                   6.0            6.348228   \n",
       "42                18.0                   7.0            9.690447   \n",
       "43                 6.0                   7.0            7.712081   \n",
       "\n",
       "    districtgenre_r180_mean  districtgenre_r180_max  districtgenre_r180_min  \\\n",
       "39                20.358974                    45.0                     3.0   \n",
       "40                20.325000                    45.0                     3.0   \n",
       "41                20.341463                    45.0                     3.0   \n",
       "42                20.333333                    45.0                     3.0   \n",
       "43                20.720930                    45.0                     3.0   \n",
       "\n",
       "    districtgenre_r180_count  districtgenre_r180_std  air_store_id2  date_int  \n",
       "39                      39.0                9.407408            603  20160301  \n",
       "40                      40.0                9.288503            603  20160302  \n",
       "41                      41.0                9.172267            603  20160303  \n",
       "42                      42.0                9.059873            603  20160304  \n",
       "43                      43.0                9.305210            603  20160305  "
      ]
     },
     "execution_count": 96,
     "metadata": {},
     "output_type": "execute_result"
    }
   ],
   "source": [
    "train_data.head()"
   ]
  },
  {
   "cell_type": "code",
   "execution_count": 97,
   "metadata": {
    "collapsed": true
   },
   "outputs": [],
   "source": [
    "from sklearn.metrics import mean_squared_error\n",
    "def RMSLE(y, pred):\n",
    "    return mean_squared_error(y, pred)**0.5"
   ]
  },
  {
   "cell_type": "code",
   "execution_count": 98,
   "metadata": {
    "collapsed": true
   },
   "outputs": [],
   "source": [
    "from sklearn.metrics import mean_squared_error,make_scorer\n",
    "scored=make_scorer(mean_squared_error)"
   ]
  },
  {
   "cell_type": "markdown",
   "metadata": {},
   "source": [
    "# Baseline model-1: Implementing Light GBM\n",
    "\n",
    "### Cross validation technique: Hold one out (sequential hold out)\n",
    "\n",
    "** Hold out dataset**: from March 12th to April 23rd"
   ]
  },
  {
   "cell_type": "code",
   "execution_count": 99,
   "metadata": {
    "collapsed": true
   },
   "outputs": [],
   "source": [
    "import lightgbm as lgb"
   ]
  },
  {
   "cell_type": "code",
   "execution_count": 100,
   "metadata": {
    "collapsed": true
   },
   "outputs": [],
   "source": [
    "cate_vars = ['air_genre_name','is_holiday','is_weekend_x']\n",
    "X_t = x_train.drop(['visitors'], axis=1)\n",
    "y_t = x_train['visitors'].values\n",
    "\n",
    "d_train = lgb.Dataset(X_t, y_t,categorical_feature=cate_vars)\n",
    "\n",
    "X_v = x_val[X_t.columns]\n",
    "y_v = x_val['visitors'].values\n",
    "d_val = lgb.Dataset(X_v, y_v,categorical_feature=cate_vars)"
   ]
  },
  {
   "cell_type": "code",
   "execution_count": 101,
   "metadata": {
    "collapsed": true
   },
   "outputs": [],
   "source": [
    "lgb_params = {\n",
    "    'learning_rate': 0.01,\n",
    "    'boosting_type': 'gbdt',\n",
    "    'objective': 'regression',\n",
    "    'metric': 'rmse',\n",
    "    'sub_feature': 0.7,\n",
    "    'num_leaves': 60,\n",
    "    'min_data': 100,\n",
    "    'min_hessian': 1,\n",
    "    'verbose': -1,\n",
    "}\n",
    "evals_result = {} "
   ]
  },
  {
   "cell_type": "code",
   "execution_count": 102,
   "metadata": {
    "scrolled": true
   },
   "outputs": [
    {
     "name": "stdout",
     "output_type": "stream",
     "text": [
      "Training until validation scores don't improve for 5000 rounds.\n",
      "[100]\ttraining's rmse: 0.56775\tvalid_1's rmse: 0.57208\n",
      "[200]\ttraining's rmse: 0.519906\tvalid_1's rmse: 0.515441\n",
      "[300]\ttraining's rmse: 0.507625\tvalid_1's rmse: 0.501601\n",
      "[400]\ttraining's rmse: 0.502053\tvalid_1's rmse: 0.496795\n",
      "[500]\ttraining's rmse: 0.498343\tvalid_1's rmse: 0.494728\n",
      "[600]\ttraining's rmse: 0.495497\tvalid_1's rmse: 0.493599\n",
      "[700]\ttraining's rmse: 0.493125\tvalid_1's rmse: 0.492978\n",
      "[800]\ttraining's rmse: 0.491068\tvalid_1's rmse: 0.492555\n",
      "[900]\ttraining's rmse: 0.489194\tvalid_1's rmse: 0.492243\n",
      "[1000]\ttraining's rmse: 0.487487\tvalid_1's rmse: 0.492024\n",
      "[1100]\ttraining's rmse: 0.485886\tvalid_1's rmse: 0.491906\n",
      "[1200]\ttraining's rmse: 0.484313\tvalid_1's rmse: 0.491806\n",
      "[1300]\ttraining's rmse: 0.482769\tvalid_1's rmse: 0.491675\n",
      "[1400]\ttraining's rmse: 0.481312\tvalid_1's rmse: 0.491592\n",
      "[1500]\ttraining's rmse: 0.479873\tvalid_1's rmse: 0.491491\n",
      "[1600]\ttraining's rmse: 0.478481\tvalid_1's rmse: 0.491392\n",
      "[1700]\ttraining's rmse: 0.477094\tvalid_1's rmse: 0.491332\n",
      "[1800]\ttraining's rmse: 0.475765\tvalid_1's rmse: 0.491283\n",
      "[1900]\ttraining's rmse: 0.474478\tvalid_1's rmse: 0.491256\n",
      "[2000]\ttraining's rmse: 0.473208\tvalid_1's rmse: 0.491209\n",
      "[2100]\ttraining's rmse: 0.471985\tvalid_1's rmse: 0.491167\n",
      "[2200]\ttraining's rmse: 0.470758\tvalid_1's rmse: 0.491106\n",
      "[2300]\ttraining's rmse: 0.469588\tvalid_1's rmse: 0.491052\n",
      "[2400]\ttraining's rmse: 0.468433\tvalid_1's rmse: 0.491037\n",
      "[2500]\ttraining's rmse: 0.467293\tvalid_1's rmse: 0.490982\n",
      "[2600]\ttraining's rmse: 0.466193\tvalid_1's rmse: 0.490945\n",
      "[2700]\ttraining's rmse: 0.465082\tvalid_1's rmse: 0.490944\n",
      "[2800]\ttraining's rmse: 0.463996\tvalid_1's rmse: 0.490937\n",
      "[2900]\ttraining's rmse: 0.46292\tvalid_1's rmse: 0.490958\n",
      "[3000]\ttraining's rmse: 0.461872\tvalid_1's rmse: 0.490955\n",
      "[3100]\ttraining's rmse: 0.460825\tvalid_1's rmse: 0.490995\n",
      "[3200]\ttraining's rmse: 0.459784\tvalid_1's rmse: 0.491017\n",
      "[3300]\ttraining's rmse: 0.458739\tvalid_1's rmse: 0.491076\n",
      "[3400]\ttraining's rmse: 0.45769\tvalid_1's rmse: 0.491066\n",
      "[3500]\ttraining's rmse: 0.456665\tvalid_1's rmse: 0.491089\n",
      "[3600]\ttraining's rmse: 0.455647\tvalid_1's rmse: 0.49114\n",
      "[3700]\ttraining's rmse: 0.454691\tvalid_1's rmse: 0.491141\n",
      "[3800]\ttraining's rmse: 0.453651\tvalid_1's rmse: 0.491172\n",
      "[3900]\ttraining's rmse: 0.452664\tvalid_1's rmse: 0.491187\n",
      "[4000]\ttraining's rmse: 0.45169\tvalid_1's rmse: 0.491209\n",
      "[4100]\ttraining's rmse: 0.450737\tvalid_1's rmse: 0.491251\n",
      "[4200]\ttraining's rmse: 0.449785\tvalid_1's rmse: 0.491331\n",
      "[4300]\ttraining's rmse: 0.448848\tvalid_1's rmse: 0.491389\n",
      "[4400]\ttraining's rmse: 0.447912\tvalid_1's rmse: 0.491445\n",
      "[4500]\ttraining's rmse: 0.446985\tvalid_1's rmse: 0.491449\n",
      "[4600]\ttraining's rmse: 0.446082\tvalid_1's rmse: 0.491524\n",
      "[4700]\ttraining's rmse: 0.445217\tvalid_1's rmse: 0.491574\n",
      "[4800]\ttraining's rmse: 0.444293\tvalid_1's rmse: 0.491637\n",
      "[4900]\ttraining's rmse: 0.443352\tvalid_1's rmse: 0.491693\n",
      "[5000]\ttraining's rmse: 0.442506\tvalid_1's rmse: 0.491708\n",
      "[5100]\ttraining's rmse: 0.441574\tvalid_1's rmse: 0.491768\n",
      "[5200]\ttraining's rmse: 0.440705\tvalid_1's rmse: 0.491795\n",
      "[5300]\ttraining's rmse: 0.439824\tvalid_1's rmse: 0.491852\n",
      "[5400]\ttraining's rmse: 0.438954\tvalid_1's rmse: 0.491867\n",
      "[5500]\ttraining's rmse: 0.438087\tvalid_1's rmse: 0.491941\n",
      "[5600]\ttraining's rmse: 0.437203\tvalid_1's rmse: 0.491978\n",
      "[5700]\ttraining's rmse: 0.436326\tvalid_1's rmse: 0.49203\n",
      "[5800]\ttraining's rmse: 0.435484\tvalid_1's rmse: 0.492053\n",
      "[5900]\ttraining's rmse: 0.434625\tvalid_1's rmse: 0.492077\n",
      "[6000]\ttraining's rmse: 0.433761\tvalid_1's rmse: 0.492124\n",
      "[6100]\ttraining's rmse: 0.4329\tvalid_1's rmse: 0.492186\n",
      "[6200]\ttraining's rmse: 0.432047\tvalid_1's rmse: 0.492227\n",
      "[6300]\ttraining's rmse: 0.43122\tvalid_1's rmse: 0.492295\n",
      "[6400]\ttraining's rmse: 0.430404\tvalid_1's rmse: 0.49236\n",
      "[6500]\ttraining's rmse: 0.42956\tvalid_1's rmse: 0.492387\n",
      "[6600]\ttraining's rmse: 0.428743\tvalid_1's rmse: 0.492442\n",
      "[6700]\ttraining's rmse: 0.427925\tvalid_1's rmse: 0.492518\n",
      "[6800]\ttraining's rmse: 0.427148\tvalid_1's rmse: 0.492584\n",
      "[6900]\ttraining's rmse: 0.426345\tvalid_1's rmse: 0.492663\n",
      "[7000]\ttraining's rmse: 0.425561\tvalid_1's rmse: 0.492745\n",
      "[7100]\ttraining's rmse: 0.424796\tvalid_1's rmse: 0.492823\n",
      "[7200]\ttraining's rmse: 0.424017\tvalid_1's rmse: 0.492875\n",
      "[7300]\ttraining's rmse: 0.42327\tvalid_1's rmse: 0.492896\n",
      "[7400]\ttraining's rmse: 0.422492\tvalid_1's rmse: 0.492947\n",
      "[7500]\ttraining's rmse: 0.421712\tvalid_1's rmse: 0.493028\n",
      "[7600]\ttraining's rmse: 0.420927\tvalid_1's rmse: 0.493093\n",
      "[7700]\ttraining's rmse: 0.42018\tvalid_1's rmse: 0.493132\n",
      "[7800]\ttraining's rmse: 0.419429\tvalid_1's rmse: 0.493137\n",
      "[7900]\ttraining's rmse: 0.418685\tvalid_1's rmse: 0.493164\n",
      "Early stopping, best iteration is:\n",
      "[2956]\ttraining's rmse: 0.462353\tvalid_1's rmse: 0.49092\n"
     ]
    }
   ],
   "source": [
    "lgb_model = lgb.train(lgb_params, d_train,valid_sets=[d_train,d_val],evals_result=evals_result,early_stopping_rounds = 5000, num_boost_round=300000,verbose_eval = 100)"
   ]
  },
  {
   "cell_type": "code",
   "execution_count": 103,
   "metadata": {
    "scrolled": true
   },
   "outputs": [
    {
     "name": "stdout",
     "output_type": "stream",
     "text": [
      "[100]\ttraining's rmse: 0.567312\n",
      "[200]\ttraining's rmse: 0.518702\n",
      "[300]\ttraining's rmse: 0.506428\n",
      "[400]\ttraining's rmse: 0.500951\n",
      "[500]\ttraining's rmse: 0.497432\n",
      "[600]\ttraining's rmse: 0.494708\n",
      "[700]\ttraining's rmse: 0.492441\n",
      "[800]\ttraining's rmse: 0.490467\n",
      "[900]\ttraining's rmse: 0.488676\n",
      "[1000]\ttraining's rmse: 0.487067\n",
      "[1100]\ttraining's rmse: 0.485547\n",
      "[1200]\ttraining's rmse: 0.484107\n",
      "[1300]\ttraining's rmse: 0.482727\n",
      "[1400]\ttraining's rmse: 0.481394\n",
      "[1500]\ttraining's rmse: 0.480101\n",
      "[1600]\ttraining's rmse: 0.478834\n",
      "[1700]\ttraining's rmse: 0.477573\n",
      "[1800]\ttraining's rmse: 0.476403\n",
      "[1900]\ttraining's rmse: 0.47525\n",
      "[2000]\ttraining's rmse: 0.4741\n",
      "[2100]\ttraining's rmse: 0.472941\n",
      "[2200]\ttraining's rmse: 0.471818\n",
      "[2300]\ttraining's rmse: 0.47072\n",
      "[2400]\ttraining's rmse: 0.469666\n",
      "[2500]\ttraining's rmse: 0.468618\n",
      "[2600]\ttraining's rmse: 0.467576\n",
      "[2700]\ttraining's rmse: 0.466555\n",
      "[2800]\ttraining's rmse: 0.465581\n",
      "[2900]\ttraining's rmse: 0.464575\n"
     ]
    }
   ],
   "source": [
    "X_t= pd.concat([x_train,x_val])\n",
    "y_t = X_t['visitors'].values\n",
    "X_t = X_t.drop(['visitors'], axis=1)\n",
    "dtrain = lgb.Dataset(X_t, y_t,categorical_feature=cate_vars)\n",
    "lgb_model = lgb.train(lgb_params, dtrain,valid_sets=[dtrain], num_boost_round=lgb_model.best_iteration,verbose_eval = 100)"
   ]
  },
  {
   "cell_type": "markdown",
   "metadata": {},
   "source": [
    "** Collecting the training predictions and validation predictions from the lgbmodel for stacking**"
   ]
  },
  {
   "cell_type": "code",
   "execution_count": 104,
   "metadata": {
    "collapsed": true
   },
   "outputs": [],
   "source": [
    "base_stack_train=train_data[['air_store_id','visit_date']][train_data.visit_date <'2017-03-12'].reset_index(drop=True)\n",
    "base_stack_val=train_data[['air_store_id','visit_date']][train_data.visit_date >='2017-03-12'].reset_index(drop=True)"
   ]
  },
  {
   "cell_type": "code",
   "execution_count": 105,
   "metadata": {
    "collapsed": true
   },
   "outputs": [],
   "source": [
    "train_stack_lgbm=lgb_model.predict(x_train,num_iteration=lgb_model.best_iteration)\n",
    "val_stack_lgbm=lgb_model.predict(x_val,num_iteration=lgb_model.best_iteration)\n",
    "base_stack_train['train_lgbm']=train_stack_lgbm\n",
    "base_stack_val['val_lgbm']=val_stack_lgbm"
   ]
  },
  {
   "cell_type": "code",
   "execution_count": 106,
   "metadata": {
    "collapsed": true
   },
   "outputs": [],
   "source": [
    "test_pred = lgb_model.predict(x_test, num_iteration=lgb_model.best_iteration)\n",
    "test_pred=np.expm1(test_pred)\n",
    "test_data['visitors']=test_pred\n",
    "test_data['id']=test_ids\n",
    "test_data[['id','visitors']].to_csv('lgb_custom_feat6.csv',index=False)\n",
    "sub1=test_data[['id','visitors']].copy()"
   ]
  },
  {
   "cell_type": "markdown",
   "metadata": {},
   "source": [
    "**Single LGB Model with Hold one out CV**: Public Leaderboard vs Private Leaderboard \n",
    "![Public LB](submissions/LightGBM_holdCV.PNG)"
   ]
  },
  {
   "cell_type": "markdown",
   "metadata": {},
   "source": [
    "## RMSE Training vs Validation curve"
   ]
  },
  {
   "cell_type": "code",
   "execution_count": 109,
   "metadata": {},
   "outputs": [
    {
     "data": {
      "image/png": "[encoded data removed]",
      "text/plain": [
       "<matplotlib.figure.Figure at 0x7f610ff98ac8>"
      ]
     },
     "metadata": {},
     "output_type": "display_data"
    }
   ],
   "source": [
    "ax = lgb.plot_metric(evals_result, metric='rmse')\n",
    "plt.title('RMSE curves for LGB Model')\n",
    "plt.show()"
   ]
  },
  {
   "cell_type": "markdown",
   "metadata": {},
   "source": [
    "# Baseline model -2 Implementing XGBoost\n",
    "\n",
    "### Cross validation technique: Hold one out (sequential hold out)\n",
    "\n",
    "** Hold out dataset**: from March 12th to April 23rd"
   ]
  },
  {
   "cell_type": "code",
   "execution_count": 110,
   "metadata": {
    "collapsed": true
   },
   "outputs": [],
   "source": [
    "import xgboost as xgb"
   ]
  },
  {
   "cell_type": "code",
   "execution_count": 111,
   "metadata": {
    "collapsed": true
   },
   "outputs": [],
   "source": [
    "params = {'max_depth':10,\n",
    "'min_child_weight':10,\n",
    "'learning_rate':0.01,\n",
    "'subsample':0.9,\n",
    "'colsample_bytree':0.8,\n",
    "'obj':'reg:linear',\n",
    "'n_estimators':1000}\n",
    "\n",
    "X_t = x_train.drop(['visitors'], axis=1)\n",
    "y_t = x_train['visitors'].values\n",
    "\n",
    "X_val=x_val.drop(['visitors'], axis=1)\n",
    "y_val=x_val['visitors'].values"
   ]
  },
  {
   "cell_type": "code",
   "execution_count": 112,
   "metadata": {
    "collapsed": true
   },
   "outputs": [],
   "source": [
    "train_dmat = xgb.DMatrix(X_t, label=y_t)\n",
    "val_dmat=xgb.DMatrix(X_val,label=y_val)"
   ]
  },
  {
   "cell_type": "code",
   "execution_count": 113,
   "metadata": {
    "collapsed": true
   },
   "outputs": [],
   "source": [
    "x_test.drop(['visitors','id'],axis=1,inplace=True)\n",
    "test_dmat=xgb.DMatrix(x_test)\n",
    "watchlist  = [ (train_dmat,'train'),(val_dmat,'eval')]\n",
    "progress=dict()"
   ]
  },
  {
   "cell_type": "code",
   "execution_count": 114,
   "metadata": {
    "scrolled": true
   },
   "outputs": [
    {
     "name": "stdout",
     "output_type": "stream",
     "text": [
      "[0]\ttrain-rmse:2.41126\teval-rmse:2.45589\n",
      "Multiple eval metrics have been passed: 'eval-rmse' will be used for early stopping.\n",
      "\n",
      "Will train until eval-rmse hasn't improved in 500 rounds.\n",
      "[1]\ttrain-rmse:2.38829\teval-rmse:2.43271\n",
      "[2]\ttrain-rmse:2.36555\teval-rmse:2.40973\n",
      "[3]\ttrain-rmse:2.34306\teval-rmse:2.38708\n",
      "[4]\ttrain-rmse:2.3208\teval-rmse:2.36457\n",
      "[5]\ttrain-rmse:2.29878\teval-rmse:2.34246\n",
      "[6]\ttrain-rmse:2.27699\teval-rmse:2.32053\n",
      "[7]\ttrain-rmse:2.25541\teval-rmse:2.29877\n",
      "[8]\ttrain-rmse:2.23406\teval-rmse:2.27722\n",
      "[9]\ttrain-rmse:2.21294\teval-rmse:2.25586\n",
      "[10]\ttrain-rmse:2.19206\teval-rmse:2.23493\n",
      "[11]\ttrain-rmse:2.17136\teval-rmse:2.21399\n",
      "[12]\ttrain-rmse:2.15089\teval-rmse:2.19327\n",
      "[13]\ttrain-rmse:2.13063\teval-rmse:2.1728\n",
      "[14]\ttrain-rmse:2.11058\teval-rmse:2.15255\n",
      "[15]\ttrain-rmse:2.09075\teval-rmse:2.13251\n",
      "[16]\ttrain-rmse:2.07112\teval-rmse:2.11268\n",
      "[17]\ttrain-rmse:2.05171\teval-rmse:2.09314\n",
      "[18]\ttrain-rmse:2.03251\teval-rmse:2.07374\n",
      "[19]\ttrain-rmse:2.0135\teval-rmse:2.05454\n",
      "[20]\ttrain-rmse:1.99469\teval-rmse:2.03555\n",
      "[21]\ttrain-rmse:1.97609\teval-rmse:2.01676\n",
      "[22]\ttrain-rmse:1.95767\teval-rmse:1.99816\n",
      "[23]\ttrain-rmse:1.93945\teval-rmse:1.97971\n",
      "[24]\ttrain-rmse:1.92142\teval-rmse:1.96154\n",
      "[25]\ttrain-rmse:1.90359\teval-rmse:1.94351\n",
      "[26]\ttrain-rmse:1.88597\teval-rmse:1.92575\n",
      "[27]\ttrain-rmse:1.86852\teval-rmse:1.90821\n",
      "[28]\ttrain-rmse:1.85126\teval-rmse:1.89074\n",
      "[29]\ttrain-rmse:1.83417\teval-rmse:1.87347\n",
      "[30]\ttrain-rmse:1.81728\teval-rmse:1.85641\n",
      "[31]\ttrain-rmse:1.80056\teval-rmse:1.83952\n",
      "[32]\ttrain-rmse:1.78403\teval-rmse:1.82283\n",
      "[33]\ttrain-rmse:1.76765\teval-rmse:1.80627\n",
      "[34]\ttrain-rmse:1.75145\teval-rmse:1.78987\n",
      "[35]\ttrain-rmse:1.73544\teval-rmse:1.77368\n",
      "[36]\ttrain-rmse:1.71959\teval-rmse:1.75762\n",
      "[37]\ttrain-rmse:1.7039\teval-rmse:1.74178\n",
      "[38]\ttrain-rmse:1.6884\teval-rmse:1.7261\n",
      "[39]\ttrain-rmse:1.67306\teval-rmse:1.71062\n",
      "[40]\ttrain-rmse:1.65789\teval-rmse:1.69531\n",
      "[41]\ttrain-rmse:1.64287\teval-rmse:1.68011\n",
      "[42]\ttrain-rmse:1.62802\teval-rmse:1.66508\n",
      "[43]\ttrain-rmse:1.61333\teval-rmse:1.65023\n",
      "[44]\ttrain-rmse:1.59881\teval-rmse:1.63553\n",
      "[45]\ttrain-rmse:1.58445\teval-rmse:1.62109\n",
      "[46]\ttrain-rmse:1.57023\teval-rmse:1.60673\n",
      "[47]\ttrain-rmse:1.55617\teval-rmse:1.5925\n",
      "[48]\ttrain-rmse:1.54227\teval-rmse:1.57843\n",
      "[49]\ttrain-rmse:1.52851\teval-rmse:1.56451\n",
      "[50]\ttrain-rmse:1.51491\teval-rmse:1.55075\n",
      "[51]\ttrain-rmse:1.50145\teval-rmse:1.53712\n",
      "[52]\ttrain-rmse:1.48816\teval-rmse:1.52371\n",
      "[53]\ttrain-rmse:1.47501\teval-rmse:1.51037\n",
      "[54]\ttrain-rmse:1.46199\teval-rmse:1.49718\n",
      "[55]\ttrain-rmse:1.44914\teval-rmse:1.48418\n",
      "[56]\ttrain-rmse:1.43642\teval-rmse:1.4713\n",
      "[57]\ttrain-rmse:1.42383\teval-rmse:1.45854\n",
      "[58]\ttrain-rmse:1.41138\teval-rmse:1.44601\n",
      "[59]\ttrain-rmse:1.39908\teval-rmse:1.43363\n",
      "[60]\ttrain-rmse:1.38691\teval-rmse:1.42128\n",
      "[61]\ttrain-rmse:1.37488\teval-rmse:1.40911\n",
      "[62]\ttrain-rmse:1.36298\teval-rmse:1.39707\n",
      "[63]\ttrain-rmse:1.35121\teval-rmse:1.38517\n",
      "[64]\ttrain-rmse:1.33959\teval-rmse:1.37343\n",
      "[65]\ttrain-rmse:1.32808\teval-rmse:1.36179\n",
      "[66]\ttrain-rmse:1.3167\teval-rmse:1.3503\n",
      "[67]\ttrain-rmse:1.30546\teval-rmse:1.33892\n",
      "[68]\ttrain-rmse:1.29435\teval-rmse:1.32768\n",
      "[69]\ttrain-rmse:1.28335\teval-rmse:1.31652\n",
      "[70]\ttrain-rmse:1.27248\teval-rmse:1.30559\n",
      "[71]\ttrain-rmse:1.26175\teval-rmse:1.29476\n",
      "[72]\ttrain-rmse:1.25111\teval-rmse:1.28398\n",
      "[73]\ttrain-rmse:1.24061\teval-rmse:1.27333\n",
      "[74]\ttrain-rmse:1.23022\teval-rmse:1.26288\n",
      "[75]\ttrain-rmse:1.21997\teval-rmse:1.25249\n",
      "[76]\ttrain-rmse:1.20982\teval-rmse:1.24222\n",
      "[77]\ttrain-rmse:1.19979\teval-rmse:1.23205\n",
      "[78]\ttrain-rmse:1.18988\teval-rmse:1.22208\n",
      "[79]\ttrain-rmse:1.18007\teval-rmse:1.21213\n",
      "[80]\ttrain-rmse:1.17038\teval-rmse:1.20239\n",
      "[81]\ttrain-rmse:1.16081\teval-rmse:1.1927\n",
      "[82]\ttrain-rmse:1.15135\teval-rmse:1.18314\n",
      "[83]\ttrain-rmse:1.14199\teval-rmse:1.17367\n",
      "[84]\ttrain-rmse:1.13273\teval-rmse:1.16432\n",
      "[85]\ttrain-rmse:1.12361\teval-rmse:1.15509\n",
      "[86]\ttrain-rmse:1.11459\teval-rmse:1.14596\n",
      "[87]\ttrain-rmse:1.10566\teval-rmse:1.13694\n",
      "[88]\ttrain-rmse:1.09684\teval-rmse:1.12802\n",
      "[89]\ttrain-rmse:1.08811\teval-rmse:1.11922\n",
      "[90]\ttrain-rmse:1.0795\teval-rmse:1.11048\n",
      "[91]\ttrain-rmse:1.07099\teval-rmse:1.10187\n",
      "[92]\ttrain-rmse:1.06258\teval-rmse:1.09341\n",
      "[93]\ttrain-rmse:1.05428\teval-rmse:1.08498\n",
      "[94]\ttrain-rmse:1.04607\teval-rmse:1.07673\n",
      "[95]\ttrain-rmse:1.03796\teval-rmse:1.06851\n",
      "[96]\ttrain-rmse:1.02994\teval-rmse:1.06032\n",
      "[97]\ttrain-rmse:1.02202\teval-rmse:1.0523\n",
      "[98]\ttrain-rmse:1.0142\teval-rmse:1.04442\n",
      "[99]\ttrain-rmse:1.00648\teval-rmse:1.03658\n",
      "[100]\ttrain-rmse:0.998868\teval-rmse:1.0289\n",
      "[101]\ttrain-rmse:0.991327\teval-rmse:1.02123\n",
      "[102]\ttrain-rmse:0.983876\teval-rmse:1.01367\n",
      "[103]\ttrain-rmse:0.976527\teval-rmse:1.00622\n",
      "[104]\ttrain-rmse:0.969253\teval-rmse:0.998834\n",
      "[105]\ttrain-rmse:0.962075\teval-rmse:0.991585\n",
      "[106]\ttrain-rmse:0.954982\teval-rmse:0.984353\n",
      "[107]\ttrain-rmse:0.948002\teval-rmse:0.977264\n",
      "[108]\ttrain-rmse:0.941075\teval-rmse:0.970185\n",
      "[109]\ttrain-rmse:0.934249\teval-rmse:0.963273\n",
      "[110]\ttrain-rmse:0.927516\teval-rmse:0.956469\n",
      "[111]\ttrain-rmse:0.920858\teval-rmse:0.949678\n",
      "[112]\ttrain-rmse:0.914283\teval-rmse:0.943032\n",
      "[113]\ttrain-rmse:0.907803\teval-rmse:0.936422\n",
      "[114]\ttrain-rmse:0.901381\teval-rmse:0.929952\n",
      "[115]\ttrain-rmse:0.895046\teval-rmse:0.923537\n",
      "[116]\ttrain-rmse:0.888797\teval-rmse:0.917236\n",
      "[117]\ttrain-rmse:0.88263\teval-rmse:0.910991\n",
      "[118]\ttrain-rmse:0.876543\teval-rmse:0.904797\n",
      "[119]\ttrain-rmse:0.870532\teval-rmse:0.898662\n",
      "[120]\ttrain-rmse:0.864602\teval-rmse:0.892639\n",
      "[121]\ttrain-rmse:0.858732\teval-rmse:0.88672\n",
      "[122]\ttrain-rmse:0.85295\teval-rmse:0.880842\n",
      "[123]\ttrain-rmse:0.847258\teval-rmse:0.875064\n",
      "[124]\ttrain-rmse:0.841607\teval-rmse:0.869313\n",
      "[125]\ttrain-rmse:0.836025\teval-rmse:0.863689\n",
      "[126]\ttrain-rmse:0.830532\teval-rmse:0.85812\n",
      "[127]\ttrain-rmse:0.825107\teval-rmse:0.852603\n",
      "[128]\ttrain-rmse:0.819739\teval-rmse:0.847223\n",
      "[129]\ttrain-rmse:0.814457\teval-rmse:0.841791\n",
      "[130]\ttrain-rmse:0.80924\teval-rmse:0.836479\n",
      "[131]\ttrain-rmse:0.804098\teval-rmse:0.831282\n",
      "[132]\ttrain-rmse:0.799028\teval-rmse:0.826108\n",
      "[133]\ttrain-rmse:0.794029\teval-rmse:0.821045\n",
      "[134]\ttrain-rmse:0.789105\teval-rmse:0.816063\n",
      "[135]\ttrain-rmse:0.784235\teval-rmse:0.811105\n",
      "[136]\ttrain-rmse:0.779444\teval-rmse:0.806231\n",
      "[137]\ttrain-rmse:0.774697\teval-rmse:0.801396\n",
      "[138]\ttrain-rmse:0.770041\teval-rmse:0.79668\n",
      "[139]\ttrain-rmse:0.765444\teval-rmse:0.79202\n",
      "[140]\ttrain-rmse:0.760884\teval-rmse:0.787392\n",
      "[141]\ttrain-rmse:0.756388\teval-rmse:0.782793\n",
      "[142]\ttrain-rmse:0.751949\teval-rmse:0.778277\n",
      "[143]\ttrain-rmse:0.747577\teval-rmse:0.77379\n",
      "[144]\ttrain-rmse:0.743263\teval-rmse:0.769429\n",
      "[145]\ttrain-rmse:0.739005\teval-rmse:0.765137\n",
      "[146]\ttrain-rmse:0.734811\teval-rmse:0.760846\n",
      "[147]\ttrain-rmse:0.730669\teval-rmse:0.756627\n",
      "[148]\ttrain-rmse:0.726625\teval-rmse:0.752471\n",
      "[149]\ttrain-rmse:0.722593\teval-rmse:0.748387\n",
      "[150]\ttrain-rmse:0.718622\teval-rmse:0.744357\n",
      "[151]\ttrain-rmse:0.714711\teval-rmse:0.740393\n",
      "[152]\ttrain-rmse:0.71083\teval-rmse:0.736468\n",
      "[153]\ttrain-rmse:0.707026\teval-rmse:0.732632\n",
      "[154]\ttrain-rmse:0.703279\teval-rmse:0.728822\n",
      "[155]\ttrain-rmse:0.699584\teval-rmse:0.725066\n",
      "[156]\ttrain-rmse:0.695938\teval-rmse:0.721363\n",
      "[157]\ttrain-rmse:0.692358\teval-rmse:0.717693\n",
      "[158]\ttrain-rmse:0.688804\teval-rmse:0.714081\n",
      "[159]\ttrain-rmse:0.685299\teval-rmse:0.710528\n",
      "[160]\ttrain-rmse:0.681861\teval-rmse:0.707003\n",
      "[161]\ttrain-rmse:0.678469\teval-rmse:0.703526\n",
      "[162]\ttrain-rmse:0.675121\teval-rmse:0.700139\n",
      "[163]\ttrain-rmse:0.67184\teval-rmse:0.69678\n",
      "[164]\ttrain-rmse:0.668586\teval-rmse:0.693506\n",
      "[165]\ttrain-rmse:0.665392\teval-rmse:0.690227\n",
      "[166]\ttrain-rmse:0.662231\teval-rmse:0.687009\n",
      "[167]\ttrain-rmse:0.659118\teval-rmse:0.683856\n",
      "[168]\ttrain-rmse:0.656054\teval-rmse:0.680752\n",
      "[169]\ttrain-rmse:0.65304\teval-rmse:0.677707\n",
      "[170]\ttrain-rmse:0.650077\teval-rmse:0.67472\n",
      "[171]\ttrain-rmse:0.647167\teval-rmse:0.671767\n",
      "[172]\ttrain-rmse:0.64429\teval-rmse:0.668816\n",
      "[173]\ttrain-rmse:0.641443\teval-rmse:0.665933\n",
      "[174]\ttrain-rmse:0.638649\teval-rmse:0.663112\n",
      "[175]\ttrain-rmse:0.635913\teval-rmse:0.660325\n",
      "[176]\ttrain-rmse:0.633197\teval-rmse:0.657559\n",
      "[177]\ttrain-rmse:0.630533\teval-rmse:0.654792\n",
      "[178]\ttrain-rmse:0.627902\teval-rmse:0.652156\n",
      "[179]\ttrain-rmse:0.625299\teval-rmse:0.649533\n",
      "[180]\ttrain-rmse:0.622742\teval-rmse:0.646931\n",
      "[181]\ttrain-rmse:0.620201\teval-rmse:0.644385\n",
      "[182]\ttrain-rmse:0.617718\teval-rmse:0.641897\n",
      "[183]\ttrain-rmse:0.615261\teval-rmse:0.639421\n",
      "[184]\ttrain-rmse:0.612854\teval-rmse:0.636982\n",
      "[185]\ttrain-rmse:0.610509\teval-rmse:0.634606\n",
      "[186]\ttrain-rmse:0.608167\teval-rmse:0.63224\n",
      "[187]\ttrain-rmse:0.60587\teval-rmse:0.629923\n",
      "[188]\ttrain-rmse:0.603579\teval-rmse:0.627594\n",
      "[189]\ttrain-rmse:0.601332\teval-rmse:0.625338\n",
      "[190]\ttrain-rmse:0.599132\teval-rmse:0.623121\n",
      "[191]\ttrain-rmse:0.596958\teval-rmse:0.620912\n",
      "[192]\ttrain-rmse:0.594823\teval-rmse:0.618739\n",
      "[193]\ttrain-rmse:0.592727\teval-rmse:0.616584\n",
      "[194]\ttrain-rmse:0.590675\teval-rmse:0.614503\n",
      "[195]\ttrain-rmse:0.588671\teval-rmse:0.612473\n",
      "[196]\ttrain-rmse:0.586658\teval-rmse:0.610443\n",
      "[197]\ttrain-rmse:0.584692\teval-rmse:0.608404\n",
      "[198]\ttrain-rmse:0.582738\teval-rmse:0.606457\n",
      "[199]\ttrain-rmse:0.580834\teval-rmse:0.604543\n",
      "[200]\ttrain-rmse:0.578981\teval-rmse:0.602652\n",
      "[201]\ttrain-rmse:0.577133\teval-rmse:0.600803\n",
      "[202]\ttrain-rmse:0.57533\teval-rmse:0.598995\n",
      "[203]\ttrain-rmse:0.573536\teval-rmse:0.597194\n",
      "[204]\ttrain-rmse:0.571755\teval-rmse:0.595424\n",
      "[205]\ttrain-rmse:0.570003\teval-rmse:0.593706\n",
      "[206]\ttrain-rmse:0.568313\teval-rmse:0.59197\n",
      "[207]\ttrain-rmse:0.566665\teval-rmse:0.590252\n",
      "[208]\ttrain-rmse:0.565039\teval-rmse:0.588619\n",
      "[209]\ttrain-rmse:0.563417\teval-rmse:0.586991\n",
      "[210]\ttrain-rmse:0.561813\teval-rmse:0.58537\n",
      "[211]\ttrain-rmse:0.56021\teval-rmse:0.583812\n",
      "[212]\ttrain-rmse:0.558647\teval-rmse:0.582238\n",
      "[213]\ttrain-rmse:0.557115\teval-rmse:0.580725\n",
      "[214]\ttrain-rmse:0.555642\teval-rmse:0.579237\n",
      "[215]\ttrain-rmse:0.554157\teval-rmse:0.57774\n",
      "[216]\ttrain-rmse:0.552679\teval-rmse:0.576292\n",
      "[217]\ttrain-rmse:0.551238\teval-rmse:0.574861\n",
      "[218]\ttrain-rmse:0.549853\teval-rmse:0.573463\n",
      "[219]\ttrain-rmse:0.548457\teval-rmse:0.572073\n",
      "[220]\ttrain-rmse:0.547095\teval-rmse:0.570724\n",
      "[221]\ttrain-rmse:0.545745\teval-rmse:0.569404\n",
      "[222]\ttrain-rmse:0.54443\teval-rmse:0.568106\n",
      "[223]\ttrain-rmse:0.543118\teval-rmse:0.566814\n",
      "[224]\ttrain-rmse:0.541832\teval-rmse:0.565521\n",
      "[225]\ttrain-rmse:0.540561\teval-rmse:0.564283\n",
      "[226]\ttrain-rmse:0.539317\teval-rmse:0.563044\n",
      "[227]\ttrain-rmse:0.538103\teval-rmse:0.561832\n",
      "[228]\ttrain-rmse:0.536903\teval-rmse:0.560647\n",
      "[229]\ttrain-rmse:0.53573\teval-rmse:0.559457\n",
      "[230]\ttrain-rmse:0.534558\teval-rmse:0.558319\n",
      "[231]\ttrain-rmse:0.533408\teval-rmse:0.557183\n",
      "[232]\ttrain-rmse:0.532272\teval-rmse:0.556046\n",
      "[233]\ttrain-rmse:0.531164\teval-rmse:0.554949\n",
      "[234]\ttrain-rmse:0.530078\teval-rmse:0.553861\n",
      "[235]\ttrain-rmse:0.529014\teval-rmse:0.552802\n",
      "[236]\ttrain-rmse:0.527953\teval-rmse:0.551754\n",
      "[237]\ttrain-rmse:0.526904\teval-rmse:0.550717\n",
      "[238]\ttrain-rmse:0.525881\teval-rmse:0.549693\n",
      "[239]\ttrain-rmse:0.524871\teval-rmse:0.54871\n",
      "[240]\ttrain-rmse:0.523886\teval-rmse:0.547715\n",
      "[241]\ttrain-rmse:0.522909\teval-rmse:0.546767\n",
      "[242]\ttrain-rmse:0.521959\teval-rmse:0.545822\n",
      "[243]\ttrain-rmse:0.520998\teval-rmse:0.544914\n",
      "[244]\ttrain-rmse:0.520069\teval-rmse:0.544018\n",
      "[245]\ttrain-rmse:0.519147\teval-rmse:0.543084\n",
      "[246]\ttrain-rmse:0.518246\teval-rmse:0.542215\n",
      "[247]\ttrain-rmse:0.517372\teval-rmse:0.541362\n",
      "[248]\ttrain-rmse:0.516508\teval-rmse:0.540504\n",
      "[249]\ttrain-rmse:0.515654\teval-rmse:0.539674\n",
      "[250]\ttrain-rmse:0.514835\teval-rmse:0.53887\n",
      "[251]\ttrain-rmse:0.514003\teval-rmse:0.538067\n",
      "[252]\ttrain-rmse:0.513197\teval-rmse:0.537256\n",
      "[253]\ttrain-rmse:0.512388\teval-rmse:0.536485\n",
      "[254]\ttrain-rmse:0.511607\teval-rmse:0.535697\n",
      "[255]\ttrain-rmse:0.51083\teval-rmse:0.534929\n",
      "[256]\ttrain-rmse:0.510059\teval-rmse:0.534196\n",
      "[257]\ttrain-rmse:0.509301\teval-rmse:0.533511\n",
      "[258]\ttrain-rmse:0.508561\teval-rmse:0.532815\n",
      "[259]\ttrain-rmse:0.507821\teval-rmse:0.532097\n",
      "[260]\ttrain-rmse:0.507126\teval-rmse:0.531417\n",
      "[261]\ttrain-rmse:0.506434\teval-rmse:0.53072\n",
      "[262]\ttrain-rmse:0.505735\teval-rmse:0.530072\n",
      "[263]\ttrain-rmse:0.505046\teval-rmse:0.529421\n",
      "[264]\ttrain-rmse:0.504363\teval-rmse:0.528774\n",
      "[265]\ttrain-rmse:0.503685\teval-rmse:0.528145\n",
      "[266]\ttrain-rmse:0.503018\teval-rmse:0.527535\n",
      "[267]\ttrain-rmse:0.502376\teval-rmse:0.526922\n",
      "[268]\ttrain-rmse:0.501754\teval-rmse:0.526341\n",
      "[269]\ttrain-rmse:0.501119\teval-rmse:0.525761\n",
      "[270]\ttrain-rmse:0.500513\teval-rmse:0.525163\n",
      "[271]\ttrain-rmse:0.499901\teval-rmse:0.524609\n",
      "[272]\ttrain-rmse:0.499305\teval-rmse:0.524061\n",
      "[273]\ttrain-rmse:0.498725\teval-rmse:0.523456\n",
      "[274]\ttrain-rmse:0.498112\teval-rmse:0.522868\n",
      "[275]\ttrain-rmse:0.497523\teval-rmse:0.522364\n",
      "[276]\ttrain-rmse:0.496963\teval-rmse:0.521841\n",
      "[277]\ttrain-rmse:0.4964\teval-rmse:0.521322\n",
      "[278]\ttrain-rmse:0.495849\teval-rmse:0.520821\n",
      "[279]\ttrain-rmse:0.495314\teval-rmse:0.520325\n",
      "[280]\ttrain-rmse:0.494817\teval-rmse:0.519804\n",
      "[281]\ttrain-rmse:0.494297\teval-rmse:0.519357\n",
      "[282]\ttrain-rmse:0.493784\teval-rmse:0.51887\n",
      "[283]\ttrain-rmse:0.493277\teval-rmse:0.51841\n",
      "[284]\ttrain-rmse:0.492754\teval-rmse:0.517947\n",
      "[285]\ttrain-rmse:0.492246\teval-rmse:0.517496\n",
      "[286]\ttrain-rmse:0.491766\teval-rmse:0.517058\n",
      "[287]\ttrain-rmse:0.491284\teval-rmse:0.516631\n",
      "[288]\ttrain-rmse:0.490826\teval-rmse:0.516183\n",
      "[289]\ttrain-rmse:0.490377\teval-rmse:0.515781\n",
      "[290]\ttrain-rmse:0.489919\teval-rmse:0.515351\n",
      "[291]\ttrain-rmse:0.489464\teval-rmse:0.51495\n",
      "[292]\ttrain-rmse:0.489033\teval-rmse:0.514565\n",
      "[293]\ttrain-rmse:0.488594\teval-rmse:0.51419\n",
      "[294]\ttrain-rmse:0.48817\teval-rmse:0.513803\n",
      "[295]\ttrain-rmse:0.487736\teval-rmse:0.513411\n",
      "[296]\ttrain-rmse:0.487338\teval-rmse:0.513059\n",
      "[297]\ttrain-rmse:0.486951\teval-rmse:0.512676\n",
      "[298]\ttrain-rmse:0.486541\teval-rmse:0.512316\n",
      "[299]\ttrain-rmse:0.486115\teval-rmse:0.511964\n",
      "[300]\ttrain-rmse:0.485732\teval-rmse:0.511625\n",
      "[301]\ttrain-rmse:0.485325\teval-rmse:0.511302\n",
      "[302]\ttrain-rmse:0.484948\teval-rmse:0.510971\n",
      "[303]\ttrain-rmse:0.484565\teval-rmse:0.510653\n",
      "[304]\ttrain-rmse:0.484184\teval-rmse:0.510328\n",
      "[305]\ttrain-rmse:0.483853\teval-rmse:0.510031\n",
      "[306]\ttrain-rmse:0.483478\teval-rmse:0.509711\n",
      "[307]\ttrain-rmse:0.483099\teval-rmse:0.509403\n",
      "[308]\ttrain-rmse:0.482731\teval-rmse:0.509087\n",
      "[309]\ttrain-rmse:0.482363\teval-rmse:0.508757\n",
      "[310]\ttrain-rmse:0.482011\teval-rmse:0.508452\n",
      "[311]\ttrain-rmse:0.4817\teval-rmse:0.508141\n",
      "[312]\ttrain-rmse:0.481378\teval-rmse:0.50786\n",
      "[313]\ttrain-rmse:0.48103\teval-rmse:0.507566\n",
      "[314]\ttrain-rmse:0.480696\teval-rmse:0.507308\n",
      "[315]\ttrain-rmse:0.480395\teval-rmse:0.507056\n",
      "[316]\ttrain-rmse:0.480089\teval-rmse:0.506799\n",
      "[317]\ttrain-rmse:0.479795\teval-rmse:0.506551\n",
      "[318]\ttrain-rmse:0.479479\teval-rmse:0.506309\n",
      "[319]\ttrain-rmse:0.479153\teval-rmse:0.506068\n",
      "[320]\ttrain-rmse:0.478836\teval-rmse:0.505822\n",
      "[321]\ttrain-rmse:0.478532\teval-rmse:0.505582\n",
      "[322]\ttrain-rmse:0.478247\teval-rmse:0.505346\n",
      "[323]\ttrain-rmse:0.477937\teval-rmse:0.505109\n",
      "[324]\ttrain-rmse:0.477668\teval-rmse:0.504892\n",
      "[325]\ttrain-rmse:0.477356\teval-rmse:0.50468\n",
      "[326]\ttrain-rmse:0.477066\teval-rmse:0.504448\n",
      "[327]\ttrain-rmse:0.476819\teval-rmse:0.504229\n",
      "[328]\ttrain-rmse:0.476555\teval-rmse:0.504022\n",
      "[329]\ttrain-rmse:0.476279\teval-rmse:0.503814\n",
      "[330]\ttrain-rmse:0.476029\teval-rmse:0.503608\n",
      "[331]\ttrain-rmse:0.475773\teval-rmse:0.503401\n",
      "[332]\ttrain-rmse:0.475527\teval-rmse:0.503195\n",
      "[333]\ttrain-rmse:0.47525\teval-rmse:0.502997\n",
      "[334]\ttrain-rmse:0.47503\teval-rmse:0.502802\n",
      "[335]\ttrain-rmse:0.474768\teval-rmse:0.502617\n",
      "[336]\ttrain-rmse:0.474527\teval-rmse:0.502434\n",
      "[337]\ttrain-rmse:0.474296\teval-rmse:0.502262\n",
      "[338]\ttrain-rmse:0.474067\teval-rmse:0.502067\n",
      "[339]\ttrain-rmse:0.473815\teval-rmse:0.50189\n",
      "[340]\ttrain-rmse:0.473583\teval-rmse:0.501712\n",
      "[341]\ttrain-rmse:0.47337\teval-rmse:0.501525\n",
      "[342]\ttrain-rmse:0.473145\teval-rmse:0.50135\n",
      "[343]\ttrain-rmse:0.472925\teval-rmse:0.501207\n",
      "[344]\ttrain-rmse:0.472714\teval-rmse:0.501042\n",
      "[345]\ttrain-rmse:0.472495\teval-rmse:0.500881\n",
      "[346]\ttrain-rmse:0.472313\teval-rmse:0.50074\n",
      "[347]\ttrain-rmse:0.472103\teval-rmse:0.500595\n",
      "[348]\ttrain-rmse:0.471904\teval-rmse:0.500449\n",
      "[349]\ttrain-rmse:0.471728\teval-rmse:0.500306\n",
      "[350]\ttrain-rmse:0.471512\teval-rmse:0.500183\n",
      "[351]\ttrain-rmse:0.471298\teval-rmse:0.500031\n",
      "[352]\ttrain-rmse:0.471077\teval-rmse:0.499875\n",
      "[353]\ttrain-rmse:0.470868\teval-rmse:0.499732\n",
      "[354]\ttrain-rmse:0.470666\teval-rmse:0.49959\n",
      "[355]\ttrain-rmse:0.470478\teval-rmse:0.49945\n",
      "[356]\ttrain-rmse:0.470307\teval-rmse:0.499307\n",
      "[357]\ttrain-rmse:0.470143\teval-rmse:0.499176\n",
      "[358]\ttrain-rmse:0.469975\teval-rmse:0.499034\n",
      "[359]\ttrain-rmse:0.469777\teval-rmse:0.498921\n",
      "[360]\ttrain-rmse:0.469581\teval-rmse:0.498784\n",
      "[361]\ttrain-rmse:0.46939\teval-rmse:0.49867\n",
      "[362]\ttrain-rmse:0.469189\teval-rmse:0.498557\n",
      "[363]\ttrain-rmse:0.469022\teval-rmse:0.498435\n",
      "[364]\ttrain-rmse:0.468833\teval-rmse:0.498314\n",
      "[365]\ttrain-rmse:0.468663\teval-rmse:0.498208\n",
      "[366]\ttrain-rmse:0.468478\teval-rmse:0.498106\n",
      "[367]\ttrain-rmse:0.468325\teval-rmse:0.498006\n",
      "[368]\ttrain-rmse:0.468173\teval-rmse:0.497883\n",
      "[369]\ttrain-rmse:0.468006\teval-rmse:0.497789\n",
      "[370]\ttrain-rmse:0.467846\teval-rmse:0.497684\n",
      "[371]\ttrain-rmse:0.467661\teval-rmse:0.497587\n",
      "[372]\ttrain-rmse:0.467513\teval-rmse:0.497482\n",
      "[373]\ttrain-rmse:0.467346\teval-rmse:0.497368\n",
      "[374]\ttrain-rmse:0.46719\teval-rmse:0.497254\n",
      "[375]\ttrain-rmse:0.467014\teval-rmse:0.497168\n",
      "[376]\ttrain-rmse:0.466855\teval-rmse:0.497082\n",
      "[377]\ttrain-rmse:0.466689\teval-rmse:0.496991\n",
      "[378]\ttrain-rmse:0.466558\teval-rmse:0.496897\n",
      "[379]\ttrain-rmse:0.466394\teval-rmse:0.496818\n",
      "[380]\ttrain-rmse:0.466237\teval-rmse:0.496738\n",
      "[381]\ttrain-rmse:0.466071\teval-rmse:0.496648\n",
      "[382]\ttrain-rmse:0.465945\teval-rmse:0.496567\n",
      "[383]\ttrain-rmse:0.46579\teval-rmse:0.496491\n",
      "[384]\ttrain-rmse:0.465634\teval-rmse:0.496401\n",
      "[385]\ttrain-rmse:0.465498\teval-rmse:0.496313\n",
      "[386]\ttrain-rmse:0.465385\teval-rmse:0.496231\n",
      "[387]\ttrain-rmse:0.465243\teval-rmse:0.496174\n",
      "[388]\ttrain-rmse:0.465077\teval-rmse:0.496101\n",
      "[389]\ttrain-rmse:0.464946\teval-rmse:0.496025\n",
      "[390]\ttrain-rmse:0.464818\teval-rmse:0.495949\n",
      "[391]\ttrain-rmse:0.464708\teval-rmse:0.495883\n",
      "[392]\ttrain-rmse:0.464582\teval-rmse:0.495818\n",
      "[393]\ttrain-rmse:0.464436\teval-rmse:0.495751\n",
      "[394]\ttrain-rmse:0.464308\teval-rmse:0.495671\n",
      "[395]\ttrain-rmse:0.464181\teval-rmse:0.495593\n",
      "[396]\ttrain-rmse:0.464047\teval-rmse:0.495525\n",
      "[397]\ttrain-rmse:0.463943\teval-rmse:0.495461\n",
      "[398]\ttrain-rmse:0.46379\teval-rmse:0.495391\n",
      "[399]\ttrain-rmse:0.463646\teval-rmse:0.495303\n",
      "[400]\ttrain-rmse:0.463538\teval-rmse:0.495228\n",
      "[401]\ttrain-rmse:0.463407\teval-rmse:0.495165\n",
      "[402]\ttrain-rmse:0.463304\teval-rmse:0.495129\n",
      "[403]\ttrain-rmse:0.463198\teval-rmse:0.495061\n",
      "[404]\ttrain-rmse:0.463084\teval-rmse:0.494998\n",
      "[405]\ttrain-rmse:0.462949\teval-rmse:0.494948\n",
      "[406]\ttrain-rmse:0.462835\teval-rmse:0.494892\n",
      "[407]\ttrain-rmse:0.462737\teval-rmse:0.494841\n",
      "[408]\ttrain-rmse:0.462642\teval-rmse:0.494788\n",
      "[409]\ttrain-rmse:0.462546\teval-rmse:0.494732\n",
      "[410]\ttrain-rmse:0.462445\teval-rmse:0.494657\n",
      "[411]\ttrain-rmse:0.462336\teval-rmse:0.494613\n",
      "[412]\ttrain-rmse:0.462195\teval-rmse:0.494562\n",
      "[413]\ttrain-rmse:0.462076\teval-rmse:0.494505\n",
      "[414]\ttrain-rmse:0.461972\teval-rmse:0.494459\n",
      "[415]\ttrain-rmse:0.461855\teval-rmse:0.494413\n",
      "[416]\ttrain-rmse:0.461757\teval-rmse:0.494361\n",
      "[417]\ttrain-rmse:0.461665\teval-rmse:0.49431\n",
      "[418]\ttrain-rmse:0.461578\teval-rmse:0.494264\n",
      "[419]\ttrain-rmse:0.461458\teval-rmse:0.494215\n",
      "[420]\ttrain-rmse:0.461363\teval-rmse:0.494152\n",
      "[421]\ttrain-rmse:0.461247\teval-rmse:0.494112\n",
      "[422]\ttrain-rmse:0.461143\teval-rmse:0.494055\n",
      "[423]\ttrain-rmse:0.461027\teval-rmse:0.494019\n",
      "[424]\ttrain-rmse:0.460927\teval-rmse:0.493969\n",
      "[425]\ttrain-rmse:0.460824\teval-rmse:0.49392\n",
      "[426]\ttrain-rmse:0.460698\teval-rmse:0.493884\n",
      "[427]\ttrain-rmse:0.460596\teval-rmse:0.493838\n",
      "[428]\ttrain-rmse:0.460511\teval-rmse:0.493786\n",
      "[429]\ttrain-rmse:0.460414\teval-rmse:0.49373\n",
      "[430]\ttrain-rmse:0.460347\teval-rmse:0.493679\n",
      "[431]\ttrain-rmse:0.460238\teval-rmse:0.49364\n",
      "[432]\ttrain-rmse:0.460165\teval-rmse:0.493611\n",
      "[433]\ttrain-rmse:0.460063\teval-rmse:0.493573\n",
      "[434]\ttrain-rmse:0.459962\teval-rmse:0.493544\n",
      "[435]\ttrain-rmse:0.459885\teval-rmse:0.493507\n",
      "[436]\ttrain-rmse:0.459774\teval-rmse:0.493468\n",
      "[437]\ttrain-rmse:0.459671\teval-rmse:0.493439\n",
      "[438]\ttrain-rmse:0.459583\teval-rmse:0.4934\n",
      "[439]\ttrain-rmse:0.459512\teval-rmse:0.493363\n",
      "[440]\ttrain-rmse:0.459382\teval-rmse:0.493324\n",
      "[441]\ttrain-rmse:0.459299\teval-rmse:0.493299\n",
      "[442]\ttrain-rmse:0.459221\teval-rmse:0.493266\n",
      "[443]\ttrain-rmse:0.459135\teval-rmse:0.493229\n",
      "[444]\ttrain-rmse:0.459028\teval-rmse:0.493195\n",
      "[445]\ttrain-rmse:0.458942\teval-rmse:0.493166\n",
      "[446]\ttrain-rmse:0.45887\teval-rmse:0.49314\n",
      "[447]\ttrain-rmse:0.458784\teval-rmse:0.493109\n",
      "[448]\ttrain-rmse:0.4587\teval-rmse:0.493076\n",
      "[449]\ttrain-rmse:0.458615\teval-rmse:0.493039\n",
      "[450]\ttrain-rmse:0.458514\teval-rmse:0.493013\n",
      "[451]\ttrain-rmse:0.458413\teval-rmse:0.492981\n",
      "[452]\ttrain-rmse:0.458345\teval-rmse:0.492958\n",
      "[453]\ttrain-rmse:0.458257\teval-rmse:0.492923\n",
      "[454]\ttrain-rmse:0.458178\teval-rmse:0.492896\n",
      "[455]\ttrain-rmse:0.458071\teval-rmse:0.492872\n",
      "[456]\ttrain-rmse:0.457992\teval-rmse:0.492845\n",
      "[457]\ttrain-rmse:0.4579\teval-rmse:0.492824\n",
      "[458]\ttrain-rmse:0.457786\teval-rmse:0.492798\n",
      "[459]\ttrain-rmse:0.457695\teval-rmse:0.492777\n",
      "[460]\ttrain-rmse:0.457618\teval-rmse:0.492759\n",
      "[461]\ttrain-rmse:0.457549\teval-rmse:0.492722\n",
      "[462]\ttrain-rmse:0.457452\teval-rmse:0.492699\n",
      "[463]\ttrain-rmse:0.457384\teval-rmse:0.492682\n",
      "[464]\ttrain-rmse:0.457329\teval-rmse:0.492663\n",
      "[465]\ttrain-rmse:0.457238\teval-rmse:0.492646\n",
      "[466]\ttrain-rmse:0.457175\teval-rmse:0.492629\n",
      "[467]\ttrain-rmse:0.457086\teval-rmse:0.492602\n",
      "[468]\ttrain-rmse:0.456977\teval-rmse:0.492586\n",
      "[469]\ttrain-rmse:0.456879\teval-rmse:0.492564\n",
      "[470]\ttrain-rmse:0.456812\teval-rmse:0.492532\n",
      "[471]\ttrain-rmse:0.456738\teval-rmse:0.492504\n",
      "[472]\ttrain-rmse:0.456647\teval-rmse:0.492475\n",
      "[473]\ttrain-rmse:0.456556\teval-rmse:0.492454\n",
      "[474]\ttrain-rmse:0.456489\teval-rmse:0.492432\n",
      "[475]\ttrain-rmse:0.45641\teval-rmse:0.492424\n",
      "[476]\ttrain-rmse:0.456349\teval-rmse:0.492403\n",
      "[477]\ttrain-rmse:0.456265\teval-rmse:0.492383\n",
      "[478]\ttrain-rmse:0.456196\teval-rmse:0.492367\n",
      "[479]\ttrain-rmse:0.456111\teval-rmse:0.492345\n",
      "[480]\ttrain-rmse:0.456031\teval-rmse:0.492328\n",
      "[481]\ttrain-rmse:0.455963\teval-rmse:0.492316\n",
      "[482]\ttrain-rmse:0.455884\teval-rmse:0.492298\n",
      "[483]\ttrain-rmse:0.45579\teval-rmse:0.492279\n",
      "[484]\ttrain-rmse:0.455708\teval-rmse:0.492259\n",
      "[485]\ttrain-rmse:0.455632\teval-rmse:0.49224\n",
      "[486]\ttrain-rmse:0.455559\teval-rmse:0.492233\n",
      "[487]\ttrain-rmse:0.455478\teval-rmse:0.492214\n",
      "[488]\ttrain-rmse:0.455386\teval-rmse:0.492202\n",
      "[489]\ttrain-rmse:0.455294\teval-rmse:0.492189\n",
      "[490]\ttrain-rmse:0.455216\teval-rmse:0.492176\n",
      "[491]\ttrain-rmse:0.455142\teval-rmse:0.492163\n",
      "[492]\ttrain-rmse:0.455042\teval-rmse:0.492134\n",
      "[493]\ttrain-rmse:0.454994\teval-rmse:0.492121\n",
      "[494]\ttrain-rmse:0.454923\teval-rmse:0.492105\n",
      "[495]\ttrain-rmse:0.454885\teval-rmse:0.492082\n",
      "[496]\ttrain-rmse:0.454842\teval-rmse:0.492081\n",
      "[497]\ttrain-rmse:0.454753\teval-rmse:0.492069\n",
      "[498]\ttrain-rmse:0.454659\teval-rmse:0.492051\n",
      "[499]\ttrain-rmse:0.454613\teval-rmse:0.492045\n",
      "[500]\ttrain-rmse:0.454548\teval-rmse:0.492039\n",
      "[501]\ttrain-rmse:0.454489\teval-rmse:0.492026\n",
      "[502]\ttrain-rmse:0.454435\teval-rmse:0.492022\n",
      "[503]\ttrain-rmse:0.454374\teval-rmse:0.491999\n",
      "[504]\ttrain-rmse:0.454298\teval-rmse:0.49198\n",
      "[505]\ttrain-rmse:0.454226\teval-rmse:0.491975\n",
      "[506]\ttrain-rmse:0.454164\teval-rmse:0.491964\n",
      "[507]\ttrain-rmse:0.454089\teval-rmse:0.491962\n",
      "[508]\ttrain-rmse:0.454022\teval-rmse:0.491946\n",
      "[509]\ttrain-rmse:0.453973\teval-rmse:0.491936\n",
      "[510]\ttrain-rmse:0.453932\teval-rmse:0.49193\n",
      "[511]\ttrain-rmse:0.453873\teval-rmse:0.491912\n",
      "[512]\ttrain-rmse:0.4538\teval-rmse:0.491903\n",
      "[513]\ttrain-rmse:0.45376\teval-rmse:0.491902\n",
      "[514]\ttrain-rmse:0.453697\teval-rmse:0.491893\n",
      "[515]\ttrain-rmse:0.453646\teval-rmse:0.491882\n",
      "[516]\ttrain-rmse:0.45359\teval-rmse:0.49187\n",
      "[517]\ttrain-rmse:0.453534\teval-rmse:0.491867\n",
      "[518]\ttrain-rmse:0.453448\teval-rmse:0.491859\n",
      "[519]\ttrain-rmse:0.453371\teval-rmse:0.491854\n",
      "[520]\ttrain-rmse:0.453284\teval-rmse:0.491838\n",
      "[521]\ttrain-rmse:0.453235\teval-rmse:0.491829\n",
      "[522]\ttrain-rmse:0.453163\teval-rmse:0.491835\n",
      "[523]\ttrain-rmse:0.453095\teval-rmse:0.491821\n",
      "[524]\ttrain-rmse:0.453038\teval-rmse:0.491803\n",
      "[525]\ttrain-rmse:0.452965\teval-rmse:0.491795\n",
      "[526]\ttrain-rmse:0.45292\teval-rmse:0.491784\n",
      "[527]\ttrain-rmse:0.452825\teval-rmse:0.49177\n",
      "[528]\ttrain-rmse:0.452753\teval-rmse:0.491765\n",
      "[529]\ttrain-rmse:0.452672\teval-rmse:0.491746\n",
      "[530]\ttrain-rmse:0.452619\teval-rmse:0.491739\n",
      "[531]\ttrain-rmse:0.452554\teval-rmse:0.491725\n",
      "[532]\ttrain-rmse:0.452519\teval-rmse:0.491726\n",
      "[533]\ttrain-rmse:0.452457\teval-rmse:0.49172\n",
      "[534]\ttrain-rmse:0.452411\teval-rmse:0.491721\n",
      "[535]\ttrain-rmse:0.452328\teval-rmse:0.491704\n",
      "[536]\ttrain-rmse:0.452269\teval-rmse:0.491695\n",
      "[537]\ttrain-rmse:0.452209\teval-rmse:0.49168\n",
      "[538]\ttrain-rmse:0.45216\teval-rmse:0.491665\n",
      "[539]\ttrain-rmse:0.45211\teval-rmse:0.491667\n",
      "[540]\ttrain-rmse:0.452083\teval-rmse:0.49167\n",
      "[541]\ttrain-rmse:0.451998\teval-rmse:0.491654\n",
      "[542]\ttrain-rmse:0.451953\teval-rmse:0.491647\n",
      "[543]\ttrain-rmse:0.451882\teval-rmse:0.491641\n",
      "[544]\ttrain-rmse:0.451809\teval-rmse:0.491626\n",
      "[545]\ttrain-rmse:0.45173\teval-rmse:0.491613\n",
      "[546]\ttrain-rmse:0.451655\teval-rmse:0.491604\n",
      "[547]\ttrain-rmse:0.451574\teval-rmse:0.491598\n",
      "[548]\ttrain-rmse:0.451501\teval-rmse:0.491584\n",
      "[549]\ttrain-rmse:0.451444\teval-rmse:0.491579\n",
      "[550]\ttrain-rmse:0.451381\teval-rmse:0.491573\n",
      "[551]\ttrain-rmse:0.451341\teval-rmse:0.491589\n",
      "[552]\ttrain-rmse:0.451303\teval-rmse:0.491602\n",
      "[553]\ttrain-rmse:0.451235\teval-rmse:0.491601\n",
      "[554]\ttrain-rmse:0.451151\teval-rmse:0.491588\n",
      "[555]\ttrain-rmse:0.451097\teval-rmse:0.491577\n",
      "[556]\ttrain-rmse:0.451023\teval-rmse:0.49157\n",
      "[557]\ttrain-rmse:0.450975\teval-rmse:0.491587\n",
      "[558]\ttrain-rmse:0.450921\teval-rmse:0.491584\n",
      "[559]\ttrain-rmse:0.45088\teval-rmse:0.491586\n",
      "[560]\ttrain-rmse:0.450798\teval-rmse:0.491596\n",
      "[561]\ttrain-rmse:0.45075\teval-rmse:0.491587\n",
      "[562]\ttrain-rmse:0.450699\teval-rmse:0.491579\n",
      "[563]\ttrain-rmse:0.450652\teval-rmse:0.491562\n",
      "[564]\ttrain-rmse:0.450572\teval-rmse:0.491559\n",
      "[565]\ttrain-rmse:0.450514\teval-rmse:0.49156\n",
      "[566]\ttrain-rmse:0.450478\teval-rmse:0.491561\n",
      "[567]\ttrain-rmse:0.450418\teval-rmse:0.491551\n",
      "[568]\ttrain-rmse:0.450374\teval-rmse:0.491547\n",
      "[569]\ttrain-rmse:0.450321\teval-rmse:0.491542\n",
      "[570]\ttrain-rmse:0.450276\teval-rmse:0.491528\n",
      "[571]\ttrain-rmse:0.450244\teval-rmse:0.491521\n",
      "[572]\ttrain-rmse:0.450199\teval-rmse:0.491516\n",
      "[573]\ttrain-rmse:0.450106\teval-rmse:0.49152\n",
      "[574]\ttrain-rmse:0.450061\teval-rmse:0.491507\n",
      "[575]\ttrain-rmse:0.450023\teval-rmse:0.491505\n",
      "[576]\ttrain-rmse:0.449976\teval-rmse:0.491509\n",
      "[577]\ttrain-rmse:0.449872\teval-rmse:0.491507\n",
      "[578]\ttrain-rmse:0.449825\teval-rmse:0.491495\n",
      "[579]\ttrain-rmse:0.449745\teval-rmse:0.491475\n",
      "[580]\ttrain-rmse:0.449661\teval-rmse:0.491483\n",
      "[581]\ttrain-rmse:0.449583\teval-rmse:0.49148\n",
      "[582]\ttrain-rmse:0.44951\teval-rmse:0.491482\n",
      "[583]\ttrain-rmse:0.449451\teval-rmse:0.491478\n",
      "[584]\ttrain-rmse:0.449388\teval-rmse:0.491469\n",
      "[585]\ttrain-rmse:0.449348\teval-rmse:0.491468\n",
      "[586]\ttrain-rmse:0.449269\teval-rmse:0.491462\n",
      "[587]\ttrain-rmse:0.449198\teval-rmse:0.491458\n",
      "[588]\ttrain-rmse:0.449119\teval-rmse:0.491452\n",
      "[589]\ttrain-rmse:0.449081\teval-rmse:0.491478\n",
      "[590]\ttrain-rmse:0.449035\teval-rmse:0.491474\n",
      "[591]\ttrain-rmse:0.449001\teval-rmse:0.491488\n",
      "[592]\ttrain-rmse:0.448908\teval-rmse:0.491483\n",
      "[593]\ttrain-rmse:0.448827\teval-rmse:0.491481\n",
      "[594]\ttrain-rmse:0.448771\teval-rmse:0.491477\n",
      "[595]\ttrain-rmse:0.448743\teval-rmse:0.491482\n",
      "[596]\ttrain-rmse:0.448679\teval-rmse:0.491474\n",
      "[597]\ttrain-rmse:0.448647\teval-rmse:0.491467\n",
      "[598]\ttrain-rmse:0.448592\teval-rmse:0.491474\n",
      "[599]\ttrain-rmse:0.448528\teval-rmse:0.491469\n",
      "[600]\ttrain-rmse:0.448426\teval-rmse:0.491479\n",
      "[601]\ttrain-rmse:0.448403\teval-rmse:0.491478\n",
      "[602]\ttrain-rmse:0.448327\teval-rmse:0.491487\n",
      "[603]\ttrain-rmse:0.448265\teval-rmse:0.491471\n",
      "[604]\ttrain-rmse:0.448192\teval-rmse:0.49148\n",
      "[605]\ttrain-rmse:0.448151\teval-rmse:0.491472\n",
      "[606]\ttrain-rmse:0.448105\teval-rmse:0.491467\n",
      "[607]\ttrain-rmse:0.448051\teval-rmse:0.491468\n",
      "[608]\ttrain-rmse:0.447979\teval-rmse:0.491463\n",
      "[609]\ttrain-rmse:0.4479\teval-rmse:0.491457\n",
      "[610]\ttrain-rmse:0.44786\teval-rmse:0.491448\n",
      "[611]\ttrain-rmse:0.447791\teval-rmse:0.491447\n",
      "[612]\ttrain-rmse:0.447709\teval-rmse:0.49145\n",
      "[613]\ttrain-rmse:0.44766\teval-rmse:0.491457\n",
      "[614]\ttrain-rmse:0.447622\teval-rmse:0.491456\n",
      "[615]\ttrain-rmse:0.447569\teval-rmse:0.491458\n",
      "[616]\ttrain-rmse:0.447522\teval-rmse:0.491455\n",
      "[617]\ttrain-rmse:0.447425\teval-rmse:0.491452\n",
      "[618]\ttrain-rmse:0.447366\teval-rmse:0.49144\n",
      "[619]\ttrain-rmse:0.4473\teval-rmse:0.491442\n",
      "[620]\ttrain-rmse:0.447272\teval-rmse:0.491446\n",
      "[621]\ttrain-rmse:0.447238\teval-rmse:0.491445\n",
      "[622]\ttrain-rmse:0.44718\teval-rmse:0.491445\n",
      "[623]\ttrain-rmse:0.447158\teval-rmse:0.491453\n",
      "[624]\ttrain-rmse:0.447076\teval-rmse:0.491447\n",
      "[625]\ttrain-rmse:0.447009\teval-rmse:0.491447\n",
      "[626]\ttrain-rmse:0.446925\teval-rmse:0.491443\n",
      "[627]\ttrain-rmse:0.446879\teval-rmse:0.491442\n",
      "[628]\ttrain-rmse:0.446804\teval-rmse:0.49144\n",
      "[629]\ttrain-rmse:0.446718\teval-rmse:0.491432\n",
      "[630]\ttrain-rmse:0.446689\teval-rmse:0.491436\n",
      "[631]\ttrain-rmse:0.446641\teval-rmse:0.491433\n",
      "[632]\ttrain-rmse:0.446598\teval-rmse:0.491448\n",
      "[633]\ttrain-rmse:0.446575\teval-rmse:0.491466\n",
      "[634]\ttrain-rmse:0.4465\teval-rmse:0.491461\n",
      "[635]\ttrain-rmse:0.446415\teval-rmse:0.491455\n",
      "[636]\ttrain-rmse:0.446386\teval-rmse:0.491452\n",
      "[637]\ttrain-rmse:0.446338\teval-rmse:0.49145\n",
      "[638]\ttrain-rmse:0.446263\teval-rmse:0.491454\n",
      "[639]\ttrain-rmse:0.44619\teval-rmse:0.491461\n",
      "[640]\ttrain-rmse:0.446141\teval-rmse:0.491454\n",
      "[641]\ttrain-rmse:0.446107\teval-rmse:0.491451\n",
      "[642]\ttrain-rmse:0.446076\teval-rmse:0.491471\n",
      "[643]\ttrain-rmse:0.446028\teval-rmse:0.49147\n",
      "[644]\ttrain-rmse:0.445974\teval-rmse:0.491464\n",
      "[645]\ttrain-rmse:0.445875\teval-rmse:0.491464\n",
      "[646]\ttrain-rmse:0.445784\teval-rmse:0.491451\n",
      "[647]\ttrain-rmse:0.445714\teval-rmse:0.491439\n",
      "[648]\ttrain-rmse:0.445668\teval-rmse:0.491439\n",
      "[649]\ttrain-rmse:0.445591\teval-rmse:0.491436\n",
      "[650]\ttrain-rmse:0.445546\teval-rmse:0.491438\n",
      "[651]\ttrain-rmse:0.44553\teval-rmse:0.491457\n",
      "[652]\ttrain-rmse:0.445481\teval-rmse:0.491456\n",
      "[653]\ttrain-rmse:0.445441\teval-rmse:0.491456\n",
      "[654]\ttrain-rmse:0.445413\teval-rmse:0.491453\n",
      "[655]\ttrain-rmse:0.445359\teval-rmse:0.491455\n",
      "[656]\ttrain-rmse:0.445288\teval-rmse:0.491448\n",
      "[657]\ttrain-rmse:0.445203\teval-rmse:0.491448\n",
      "[658]\ttrain-rmse:0.445128\teval-rmse:0.491442\n",
      "[659]\ttrain-rmse:0.445103\teval-rmse:0.491441\n",
      "[660]\ttrain-rmse:0.445066\teval-rmse:0.491445\n",
      "[661]\ttrain-rmse:0.445016\teval-rmse:0.49145\n",
      "[662]\ttrain-rmse:0.444964\teval-rmse:0.491445\n",
      "[663]\ttrain-rmse:0.444885\teval-rmse:0.491441\n",
      "[664]\ttrain-rmse:0.444846\teval-rmse:0.491443\n",
      "[665]\ttrain-rmse:0.44482\teval-rmse:0.49144\n",
      "[666]\ttrain-rmse:0.444756\teval-rmse:0.491444\n",
      "[667]\ttrain-rmse:0.44471\teval-rmse:0.491443\n",
      "[668]\ttrain-rmse:0.444682\teval-rmse:0.491442\n",
      "[669]\ttrain-rmse:0.444647\teval-rmse:0.491443\n",
      "[670]\ttrain-rmse:0.44457\teval-rmse:0.491444\n",
      "[671]\ttrain-rmse:0.444526\teval-rmse:0.491438\n",
      "[672]\ttrain-rmse:0.444492\teval-rmse:0.491444\n",
      "[673]\ttrain-rmse:0.444454\teval-rmse:0.491438\n",
      "[674]\ttrain-rmse:0.444425\teval-rmse:0.491437\n",
      "[675]\ttrain-rmse:0.444371\teval-rmse:0.49143\n",
      "[676]\ttrain-rmse:0.444337\teval-rmse:0.491431\n",
      "[677]\ttrain-rmse:0.444292\teval-rmse:0.491431\n",
      "[678]\ttrain-rmse:0.444243\teval-rmse:0.491422\n",
      "[679]\ttrain-rmse:0.444209\teval-rmse:0.491419\n",
      "[680]\ttrain-rmse:0.444191\teval-rmse:0.491441\n",
      "[681]\ttrain-rmse:0.444144\teval-rmse:0.491448\n",
      "[682]\ttrain-rmse:0.444095\teval-rmse:0.491456\n",
      "[683]\ttrain-rmse:0.444043\teval-rmse:0.491435\n",
      "[684]\ttrain-rmse:0.443993\teval-rmse:0.491433\n",
      "[685]\ttrain-rmse:0.443953\teval-rmse:0.491428\n",
      "[686]\ttrain-rmse:0.443904\teval-rmse:0.491439\n",
      "[687]\ttrain-rmse:0.443882\teval-rmse:0.491436\n",
      "[688]\ttrain-rmse:0.443841\teval-rmse:0.491437\n",
      "[689]\ttrain-rmse:0.44381\teval-rmse:0.491439\n",
      "[690]\ttrain-rmse:0.443763\teval-rmse:0.491434\n",
      "[691]\ttrain-rmse:0.443706\teval-rmse:0.491441\n",
      "[692]\ttrain-rmse:0.443687\teval-rmse:0.491461\n",
      "[693]\ttrain-rmse:0.443628\teval-rmse:0.491463\n",
      "[694]\ttrain-rmse:0.443561\teval-rmse:0.491461\n",
      "[695]\ttrain-rmse:0.443532\teval-rmse:0.491456\n",
      "[696]\ttrain-rmse:0.443514\teval-rmse:0.491457\n",
      "[697]\ttrain-rmse:0.443476\teval-rmse:0.491454\n",
      "[698]\ttrain-rmse:0.443433\teval-rmse:0.491453\n",
      "[699]\ttrain-rmse:0.443368\teval-rmse:0.491441\n",
      "[700]\ttrain-rmse:0.443316\teval-rmse:0.491445\n",
      "[701]\ttrain-rmse:0.443256\teval-rmse:0.491449\n",
      "[702]\ttrain-rmse:0.443222\teval-rmse:0.491424\n",
      "[703]\ttrain-rmse:0.443161\teval-rmse:0.491412\n",
      "[704]\ttrain-rmse:0.443131\teval-rmse:0.491408\n",
      "[705]\ttrain-rmse:0.443082\teval-rmse:0.491405\n",
      "[706]\ttrain-rmse:0.443027\teval-rmse:0.491398\n",
      "[707]\ttrain-rmse:0.442968\teval-rmse:0.491403\n",
      "[708]\ttrain-rmse:0.442936\teval-rmse:0.491404\n",
      "[709]\ttrain-rmse:0.442846\teval-rmse:0.491406\n",
      "[710]\ttrain-rmse:0.442817\teval-rmse:0.491406\n",
      "[711]\ttrain-rmse:0.442752\teval-rmse:0.491392\n",
      "[712]\ttrain-rmse:0.4427\teval-rmse:0.491412\n",
      "[713]\ttrain-rmse:0.442672\teval-rmse:0.491421\n",
      "[714]\ttrain-rmse:0.442593\teval-rmse:0.491417\n",
      "[715]\ttrain-rmse:0.442558\teval-rmse:0.49142\n",
      "[716]\ttrain-rmse:0.442504\teval-rmse:0.491414\n",
      "[717]\ttrain-rmse:0.442483\teval-rmse:0.491422\n",
      "[718]\ttrain-rmse:0.442436\teval-rmse:0.491424\n",
      "[719]\ttrain-rmse:0.442356\teval-rmse:0.491431\n",
      "[720]\ttrain-rmse:0.442326\teval-rmse:0.491431\n",
      "[721]\ttrain-rmse:0.442295\teval-rmse:0.491432\n",
      "[722]\ttrain-rmse:0.442219\teval-rmse:0.491437\n",
      "[723]\ttrain-rmse:0.442146\teval-rmse:0.491439\n",
      "[724]\ttrain-rmse:0.442112\teval-rmse:0.49144\n",
      "[725]\ttrain-rmse:0.442019\teval-rmse:0.491447\n",
      "[726]\ttrain-rmse:0.441968\teval-rmse:0.491443\n",
      "[727]\ttrain-rmse:0.44188\teval-rmse:0.491437\n",
      "[728]\ttrain-rmse:0.441823\teval-rmse:0.49143\n",
      "[729]\ttrain-rmse:0.441793\teval-rmse:0.491432\n",
      "[730]\ttrain-rmse:0.441738\teval-rmse:0.49143\n",
      "[731]\ttrain-rmse:0.441681\teval-rmse:0.491427\n",
      "[732]\ttrain-rmse:0.44162\teval-rmse:0.491421\n",
      "[733]\ttrain-rmse:0.441591\teval-rmse:0.491417\n",
      "[734]\ttrain-rmse:0.441535\teval-rmse:0.49142\n",
      "[735]\ttrain-rmse:0.441504\teval-rmse:0.491421\n",
      "[736]\ttrain-rmse:0.441459\teval-rmse:0.491416\n",
      "[737]\ttrain-rmse:0.441442\teval-rmse:0.491434\n",
      "[738]\ttrain-rmse:0.441396\teval-rmse:0.491441\n",
      "[739]\ttrain-rmse:0.441365\teval-rmse:0.49144\n",
      "[740]\ttrain-rmse:0.441334\teval-rmse:0.491442\n",
      "[741]\ttrain-rmse:0.441259\teval-rmse:0.491432\n",
      "[742]\ttrain-rmse:0.44118\teval-rmse:0.491432\n",
      "[743]\ttrain-rmse:0.441121\teval-rmse:0.49143\n",
      "[744]\ttrain-rmse:0.441056\teval-rmse:0.49143\n",
      "[745]\ttrain-rmse:0.440988\teval-rmse:0.491433\n",
      "[746]\ttrain-rmse:0.440958\teval-rmse:0.49145\n",
      "[747]\ttrain-rmse:0.440931\teval-rmse:0.491478\n",
      "[748]\ttrain-rmse:0.440879\teval-rmse:0.491484\n",
      "[749]\ttrain-rmse:0.440811\teval-rmse:0.491482\n",
      "[750]\ttrain-rmse:0.440775\teval-rmse:0.491481\n",
      "[751]\ttrain-rmse:0.440694\teval-rmse:0.491479\n",
      "[752]\ttrain-rmse:0.44067\teval-rmse:0.491488\n",
      "[753]\ttrain-rmse:0.440593\teval-rmse:0.491489\n",
      "[754]\ttrain-rmse:0.440518\teval-rmse:0.491496\n",
      "[755]\ttrain-rmse:0.440469\teval-rmse:0.491494\n",
      "[756]\ttrain-rmse:0.440451\teval-rmse:0.491507\n",
      "[757]\ttrain-rmse:0.440414\teval-rmse:0.491516\n",
      "[758]\ttrain-rmse:0.440389\teval-rmse:0.491517\n",
      "[759]\ttrain-rmse:0.44034\teval-rmse:0.491519\n",
      "[760]\ttrain-rmse:0.440305\teval-rmse:0.491511\n",
      "[761]\ttrain-rmse:0.440282\teval-rmse:0.491513\n",
      "[762]\ttrain-rmse:0.440227\teval-rmse:0.49151\n",
      "[763]\ttrain-rmse:0.440169\teval-rmse:0.491512\n",
      "[764]\ttrain-rmse:0.44009\teval-rmse:0.491502\n",
      "[765]\ttrain-rmse:0.440053\teval-rmse:0.4915\n",
      "[766]\ttrain-rmse:0.440001\teval-rmse:0.4915\n",
      "[767]\ttrain-rmse:0.439956\teval-rmse:0.4915\n",
      "[768]\ttrain-rmse:0.439933\teval-rmse:0.491499\n",
      "[769]\ttrain-rmse:0.439867\teval-rmse:0.491493\n",
      "[770]\ttrain-rmse:0.439841\teval-rmse:0.491493\n",
      "[771]\ttrain-rmse:0.439785\teval-rmse:0.491496\n",
      "[772]\ttrain-rmse:0.43972\teval-rmse:0.491507\n",
      "[773]\ttrain-rmse:0.439671\teval-rmse:0.491503\n",
      "[774]\ttrain-rmse:0.439609\teval-rmse:0.491502\n",
      "[775]\ttrain-rmse:0.439531\teval-rmse:0.491501\n",
      "[776]\ttrain-rmse:0.4395\teval-rmse:0.491506\n",
      "[777]\ttrain-rmse:0.439442\teval-rmse:0.4915\n",
      "[778]\ttrain-rmse:0.439378\teval-rmse:0.491498\n",
      "[779]\ttrain-rmse:0.439315\teval-rmse:0.491506\n",
      "[780]\ttrain-rmse:0.439278\teval-rmse:0.491508\n",
      "[781]\ttrain-rmse:0.439217\teval-rmse:0.491509\n",
      "[782]\ttrain-rmse:0.439152\teval-rmse:0.491501\n",
      "[783]\ttrain-rmse:0.439098\teval-rmse:0.491503\n",
      "[784]\ttrain-rmse:0.439016\teval-rmse:0.491512\n",
      "[785]\ttrain-rmse:0.438995\teval-rmse:0.491513\n",
      "[786]\ttrain-rmse:0.438943\teval-rmse:0.4915\n",
      "[787]\ttrain-rmse:0.438896\teval-rmse:0.491495\n",
      "[788]\ttrain-rmse:0.43882\teval-rmse:0.491491\n",
      "[789]\ttrain-rmse:0.438802\teval-rmse:0.491491\n",
      "[790]\ttrain-rmse:0.438753\teval-rmse:0.491488\n",
      "[791]\ttrain-rmse:0.438711\teval-rmse:0.491486\n",
      "[792]\ttrain-rmse:0.438697\teval-rmse:0.491485\n",
      "[793]\ttrain-rmse:0.438642\teval-rmse:0.491485\n",
      "[794]\ttrain-rmse:0.43858\teval-rmse:0.491483\n",
      "[795]\ttrain-rmse:0.438548\teval-rmse:0.491484\n",
      "[796]\ttrain-rmse:0.438498\teval-rmse:0.491484\n",
      "[797]\ttrain-rmse:0.438458\teval-rmse:0.491481\n",
      "[798]\ttrain-rmse:0.438399\teval-rmse:0.491486\n",
      "[799]\ttrain-rmse:0.438361\teval-rmse:0.491482\n",
      "[800]\ttrain-rmse:0.43832\teval-rmse:0.491479\n",
      "[801]\ttrain-rmse:0.438262\teval-rmse:0.491478\n",
      "[802]\ttrain-rmse:0.438237\teval-rmse:0.49148\n",
      "[803]\ttrain-rmse:0.438195\teval-rmse:0.491481\n",
      "[804]\ttrain-rmse:0.438096\teval-rmse:0.491479\n",
      "[805]\ttrain-rmse:0.438023\teval-rmse:0.491474\n",
      "[806]\ttrain-rmse:0.437974\teval-rmse:0.491473\n",
      "[807]\ttrain-rmse:0.437939\teval-rmse:0.491472\n",
      "[808]\ttrain-rmse:0.437908\teval-rmse:0.491475\n",
      "[809]\ttrain-rmse:0.437863\teval-rmse:0.491471\n",
      "[810]\ttrain-rmse:0.437845\teval-rmse:0.491469\n",
      "[811]\ttrain-rmse:0.437732\teval-rmse:0.491465\n",
      "[812]\ttrain-rmse:0.437676\teval-rmse:0.491468\n",
      "[813]\ttrain-rmse:0.437616\teval-rmse:0.491472\n",
      "[814]\ttrain-rmse:0.437588\teval-rmse:0.491467\n",
      "[815]\ttrain-rmse:0.437521\teval-rmse:0.491474\n",
      "[816]\ttrain-rmse:0.437495\teval-rmse:0.491481\n",
      "[817]\ttrain-rmse:0.437465\teval-rmse:0.491479\n",
      "[818]\ttrain-rmse:0.437422\teval-rmse:0.491476\n",
      "[819]\ttrain-rmse:0.437407\teval-rmse:0.491493\n",
      "[820]\ttrain-rmse:0.437366\teval-rmse:0.491494\n",
      "[821]\ttrain-rmse:0.437336\teval-rmse:0.4915\n",
      "[822]\ttrain-rmse:0.437282\teval-rmse:0.491504\n",
      "[823]\ttrain-rmse:0.437241\teval-rmse:0.491507\n",
      "[824]\ttrain-rmse:0.437184\teval-rmse:0.491517\n",
      "[825]\ttrain-rmse:0.43715\teval-rmse:0.491516\n",
      "[826]\ttrain-rmse:0.437102\teval-rmse:0.491516\n",
      "[827]\ttrain-rmse:0.437052\teval-rmse:0.491512\n",
      "[828]\ttrain-rmse:0.437003\teval-rmse:0.491513\n",
      "[829]\ttrain-rmse:0.436978\teval-rmse:0.491517\n",
      "[830]\ttrain-rmse:0.436919\teval-rmse:0.491517\n",
      "[831]\ttrain-rmse:0.436853\teval-rmse:0.491508\n",
      "[832]\ttrain-rmse:0.436772\teval-rmse:0.491515\n",
      "[833]\ttrain-rmse:0.436705\teval-rmse:0.491508\n",
      "[834]\ttrain-rmse:0.436648\teval-rmse:0.491505\n",
      "[835]\ttrain-rmse:0.436613\teval-rmse:0.491504\n",
      "[836]\ttrain-rmse:0.436577\teval-rmse:0.491512\n",
      "[837]\ttrain-rmse:0.43652\teval-rmse:0.49152\n",
      "[838]\ttrain-rmse:0.436483\teval-rmse:0.491519\n",
      "[839]\ttrain-rmse:0.436444\teval-rmse:0.491515\n",
      "[840]\ttrain-rmse:0.436427\teval-rmse:0.491513\n",
      "[841]\ttrain-rmse:0.436365\teval-rmse:0.491523\n",
      "[842]\ttrain-rmse:0.436317\teval-rmse:0.491524\n",
      "[843]\ttrain-rmse:0.436256\teval-rmse:0.491518\n",
      "[844]\ttrain-rmse:0.436237\teval-rmse:0.491514\n",
      "[845]\ttrain-rmse:0.436184\teval-rmse:0.491519\n",
      "[846]\ttrain-rmse:0.436093\teval-rmse:0.491519\n",
      "[847]\ttrain-rmse:0.436081\teval-rmse:0.491518\n",
      "[848]\ttrain-rmse:0.43601\teval-rmse:0.491523\n",
      "[849]\ttrain-rmse:0.435999\teval-rmse:0.491532\n",
      "[850]\ttrain-rmse:0.435956\teval-rmse:0.491524\n",
      "[851]\ttrain-rmse:0.435908\teval-rmse:0.491526\n",
      "[852]\ttrain-rmse:0.435874\teval-rmse:0.491519\n",
      "[853]\ttrain-rmse:0.435827\teval-rmse:0.491515\n",
      "[854]\ttrain-rmse:0.435772\teval-rmse:0.491516\n",
      "[855]\ttrain-rmse:0.435718\teval-rmse:0.491515\n",
      "[856]\ttrain-rmse:0.435644\teval-rmse:0.491516\n",
      "[857]\ttrain-rmse:0.435605\teval-rmse:0.491512\n",
      "[858]\ttrain-rmse:0.435588\teval-rmse:0.49151\n",
      "[859]\ttrain-rmse:0.435556\teval-rmse:0.491513\n",
      "[860]\ttrain-rmse:0.435523\teval-rmse:0.491515\n",
      "[861]\ttrain-rmse:0.435488\teval-rmse:0.491516\n",
      "[862]\ttrain-rmse:0.435454\teval-rmse:0.491514\n",
      "[863]\ttrain-rmse:0.4354\teval-rmse:0.491516\n",
      "[864]\ttrain-rmse:0.435365\teval-rmse:0.491519\n",
      "[865]\ttrain-rmse:0.435312\teval-rmse:0.491519\n",
      "[866]\ttrain-rmse:0.435251\teval-rmse:0.491518\n",
      "[867]\ttrain-rmse:0.435209\teval-rmse:0.491513\n",
      "[868]\ttrain-rmse:0.435163\teval-rmse:0.491517\n",
      "[869]\ttrain-rmse:0.435138\teval-rmse:0.491524\n",
      "[870]\ttrain-rmse:0.435094\teval-rmse:0.491519\n",
      "[871]\ttrain-rmse:0.435076\teval-rmse:0.49152\n",
      "[872]\ttrain-rmse:0.435053\teval-rmse:0.491518\n",
      "[873]\ttrain-rmse:0.435006\teval-rmse:0.49151\n",
      "[874]\ttrain-rmse:0.43496\teval-rmse:0.491513\n",
      "[875]\ttrain-rmse:0.434934\teval-rmse:0.491513\n",
      "[876]\ttrain-rmse:0.43488\teval-rmse:0.491513\n",
      "[877]\ttrain-rmse:0.434832\teval-rmse:0.491516\n",
      "[878]\ttrain-rmse:0.434802\teval-rmse:0.491518\n",
      "[879]\ttrain-rmse:0.434739\teval-rmse:0.491503\n",
      "[880]\ttrain-rmse:0.434694\teval-rmse:0.491509\n",
      "[881]\ttrain-rmse:0.434636\teval-rmse:0.491506\n",
      "[882]\ttrain-rmse:0.434574\teval-rmse:0.491503\n",
      "[883]\ttrain-rmse:0.434557\teval-rmse:0.491504\n",
      "[884]\ttrain-rmse:0.434511\teval-rmse:0.491504\n",
      "[885]\ttrain-rmse:0.434462\teval-rmse:0.491503\n",
      "[886]\ttrain-rmse:0.43438\teval-rmse:0.491497\n",
      "[887]\ttrain-rmse:0.434318\teval-rmse:0.491492\n",
      "[888]\ttrain-rmse:0.43428\teval-rmse:0.491487\n",
      "[889]\ttrain-rmse:0.434252\teval-rmse:0.49148\n",
      "[890]\ttrain-rmse:0.434223\teval-rmse:0.491483\n",
      "[891]\ttrain-rmse:0.434155\teval-rmse:0.491483\n",
      "[892]\ttrain-rmse:0.434105\teval-rmse:0.491478\n",
      "[893]\ttrain-rmse:0.434082\teval-rmse:0.491477\n",
      "[894]\ttrain-rmse:0.43405\teval-rmse:0.491486\n",
      "[895]\ttrain-rmse:0.433986\teval-rmse:0.49148\n",
      "[896]\ttrain-rmse:0.433936\teval-rmse:0.491477\n",
      "[897]\ttrain-rmse:0.433918\teval-rmse:0.491475\n",
      "[898]\ttrain-rmse:0.433867\teval-rmse:0.491462\n",
      "[899]\ttrain-rmse:0.433836\teval-rmse:0.491456\n",
      "[900]\ttrain-rmse:0.433775\teval-rmse:0.491456\n",
      "[901]\ttrain-rmse:0.433731\teval-rmse:0.491457\n",
      "[902]\ttrain-rmse:0.433668\teval-rmse:0.491456\n",
      "[903]\ttrain-rmse:0.433594\teval-rmse:0.49145\n",
      "[904]\ttrain-rmse:0.433546\teval-rmse:0.491449\n",
      "[905]\ttrain-rmse:0.433491\teval-rmse:0.491465\n",
      "[906]\ttrain-rmse:0.433427\teval-rmse:0.491473\n",
      "[907]\ttrain-rmse:0.433401\teval-rmse:0.491473\n",
      "[908]\ttrain-rmse:0.433389\teval-rmse:0.491473\n",
      "[909]\ttrain-rmse:0.433337\teval-rmse:0.491478\n",
      "[910]\ttrain-rmse:0.433293\teval-rmse:0.491472\n",
      "[911]\ttrain-rmse:0.433235\teval-rmse:0.491472\n",
      "[912]\ttrain-rmse:0.433175\teval-rmse:0.491475\n",
      "[913]\ttrain-rmse:0.43314\teval-rmse:0.491472\n",
      "[914]\ttrain-rmse:0.43312\teval-rmse:0.491471\n",
      "[915]\ttrain-rmse:0.43306\teval-rmse:0.491467\n",
      "[916]\ttrain-rmse:0.433006\teval-rmse:0.491462\n",
      "[917]\ttrain-rmse:0.432934\teval-rmse:0.491461\n",
      "[918]\ttrain-rmse:0.432904\teval-rmse:0.491459\n",
      "[919]\ttrain-rmse:0.432859\teval-rmse:0.491465\n",
      "[920]\ttrain-rmse:0.432809\teval-rmse:0.491469\n",
      "[921]\ttrain-rmse:0.432762\teval-rmse:0.491458\n",
      "[922]\ttrain-rmse:0.43275\teval-rmse:0.491458\n",
      "[923]\ttrain-rmse:0.432729\teval-rmse:0.49146\n",
      "[924]\ttrain-rmse:0.432685\teval-rmse:0.491462\n",
      "[925]\ttrain-rmse:0.432615\teval-rmse:0.491459\n",
      "[926]\ttrain-rmse:0.432568\teval-rmse:0.491468\n",
      "[927]\ttrain-rmse:0.432547\teval-rmse:0.491464\n",
      "[928]\ttrain-rmse:0.432522\teval-rmse:0.491465\n",
      "[929]\ttrain-rmse:0.432446\teval-rmse:0.491464\n",
      "[930]\ttrain-rmse:0.432398\teval-rmse:0.491465\n",
      "[931]\ttrain-rmse:0.432356\teval-rmse:0.491467\n",
      "[932]\ttrain-rmse:0.432284\teval-rmse:0.491467\n",
      "[933]\ttrain-rmse:0.432271\teval-rmse:0.491469\n",
      "[934]\ttrain-rmse:0.432235\teval-rmse:0.491473\n",
      "[935]\ttrain-rmse:0.43219\teval-rmse:0.491472\n",
      "[936]\ttrain-rmse:0.432144\teval-rmse:0.491495\n",
      "[937]\ttrain-rmse:0.432101\teval-rmse:0.491485\n",
      "[938]\ttrain-rmse:0.432051\teval-rmse:0.491485\n",
      "[939]\ttrain-rmse:0.432026\teval-rmse:0.491485\n",
      "[940]\ttrain-rmse:0.431994\teval-rmse:0.491482\n",
      "[941]\ttrain-rmse:0.431961\teval-rmse:0.491489\n",
      "[942]\ttrain-rmse:0.431953\teval-rmse:0.491503\n",
      "[943]\ttrain-rmse:0.431896\teval-rmse:0.491499\n",
      "[944]\ttrain-rmse:0.431822\teval-rmse:0.491496\n",
      "[945]\ttrain-rmse:0.431799\teval-rmse:0.491489\n",
      "[946]\ttrain-rmse:0.431765\teval-rmse:0.49149\n",
      "[947]\ttrain-rmse:0.43172\teval-rmse:0.491484\n",
      "[948]\ttrain-rmse:0.43169\teval-rmse:0.491483\n",
      "[949]\ttrain-rmse:0.431667\teval-rmse:0.491481\n",
      "[950]\ttrain-rmse:0.431644\teval-rmse:0.491479\n",
      "[951]\ttrain-rmse:0.431601\teval-rmse:0.491465\n",
      "[952]\ttrain-rmse:0.431571\teval-rmse:0.491461\n",
      "[953]\ttrain-rmse:0.431539\teval-rmse:0.491474\n",
      "[954]\ttrain-rmse:0.43149\teval-rmse:0.491471\n",
      "[955]\ttrain-rmse:0.431451\teval-rmse:0.491471\n",
      "[956]\ttrain-rmse:0.431394\teval-rmse:0.491469\n",
      "[957]\ttrain-rmse:0.431359\teval-rmse:0.49147\n",
      "[958]\ttrain-rmse:0.431318\teval-rmse:0.491467\n",
      "[959]\ttrain-rmse:0.431273\teval-rmse:0.491474\n",
      "[960]\ttrain-rmse:0.431234\teval-rmse:0.491477\n",
      "[961]\ttrain-rmse:0.431166\teval-rmse:0.491478\n",
      "[962]\ttrain-rmse:0.431113\teval-rmse:0.491472\n",
      "[963]\ttrain-rmse:0.431036\teval-rmse:0.491469\n",
      "[964]\ttrain-rmse:0.43101\teval-rmse:0.491469\n",
      "[965]\ttrain-rmse:0.431\teval-rmse:0.491471\n",
      "[966]\ttrain-rmse:0.430981\teval-rmse:0.491471\n",
      "[967]\ttrain-rmse:0.430961\teval-rmse:0.491471\n",
      "[968]\ttrain-rmse:0.430942\teval-rmse:0.491468\n",
      "[969]\ttrain-rmse:0.43087\teval-rmse:0.491478\n",
      "[970]\ttrain-rmse:0.430813\teval-rmse:0.491471\n",
      "[971]\ttrain-rmse:0.430768\teval-rmse:0.491463\n",
      "[972]\ttrain-rmse:0.430736\teval-rmse:0.491456\n",
      "[973]\ttrain-rmse:0.430714\teval-rmse:0.491458\n",
      "[974]\ttrain-rmse:0.430669\teval-rmse:0.491458\n",
      "[975]\ttrain-rmse:0.430621\teval-rmse:0.491457\n",
      "[976]\ttrain-rmse:0.430592\teval-rmse:0.491455\n",
      "[977]\ttrain-rmse:0.430535\teval-rmse:0.491454\n",
      "[978]\ttrain-rmse:0.430487\teval-rmse:0.491457\n",
      "[979]\ttrain-rmse:0.430445\teval-rmse:0.491456\n",
      "[980]\ttrain-rmse:0.430403\teval-rmse:0.491457\n",
      "[981]\ttrain-rmse:0.43039\teval-rmse:0.491455\n",
      "[982]\ttrain-rmse:0.43035\teval-rmse:0.49145\n",
      "[983]\ttrain-rmse:0.430327\teval-rmse:0.49145\n",
      "[984]\ttrain-rmse:0.430262\teval-rmse:0.491448\n",
      "[985]\ttrain-rmse:0.430234\teval-rmse:0.491437\n",
      "[986]\ttrain-rmse:0.430168\teval-rmse:0.491441\n",
      "[987]\ttrain-rmse:0.430144\teval-rmse:0.491442\n",
      "[988]\ttrain-rmse:0.43011\teval-rmse:0.491467\n",
      "[989]\ttrain-rmse:0.430043\teval-rmse:0.491467\n",
      "[990]\ttrain-rmse:0.429991\teval-rmse:0.491466\n",
      "[991]\ttrain-rmse:0.429944\teval-rmse:0.491467\n",
      "[992]\ttrain-rmse:0.429904\teval-rmse:0.491471\n",
      "[993]\ttrain-rmse:0.42983\teval-rmse:0.491471\n",
      "[994]\ttrain-rmse:0.429804\teval-rmse:0.491472\n",
      "[995]\ttrain-rmse:0.42975\teval-rmse:0.491477\n",
      "[996]\ttrain-rmse:0.429729\teval-rmse:0.491498\n",
      "[997]\ttrain-rmse:0.429673\teval-rmse:0.491497\n",
      "[998]\ttrain-rmse:0.429633\teval-rmse:0.491502\n",
      "[999]\ttrain-rmse:0.429616\teval-rmse:0.491502\n",
      "[1000]\ttrain-rmse:0.429589\teval-rmse:0.491501\n",
      "[1001]\ttrain-rmse:0.429556\teval-rmse:0.491501\n",
      "[1002]\ttrain-rmse:0.429543\teval-rmse:0.4915\n",
      "[1003]\ttrain-rmse:0.429489\teval-rmse:0.491493\n",
      "[1004]\ttrain-rmse:0.429445\teval-rmse:0.491498\n",
      "[1005]\ttrain-rmse:0.429394\teval-rmse:0.491498\n",
      "[1006]\ttrain-rmse:0.429368\teval-rmse:0.491497\n",
      "[1007]\ttrain-rmse:0.429343\teval-rmse:0.491495\n",
      "[1008]\ttrain-rmse:0.429328\teval-rmse:0.491488\n",
      "[1009]\ttrain-rmse:0.429307\teval-rmse:0.491511\n",
      "[1010]\ttrain-rmse:0.429258\teval-rmse:0.491505\n",
      "[1011]\ttrain-rmse:0.429221\teval-rmse:0.491506\n",
      "[1012]\ttrain-rmse:0.429195\teval-rmse:0.491509\n",
      "[1013]\ttrain-rmse:0.429119\teval-rmse:0.491506\n",
      "[1014]\ttrain-rmse:0.429095\teval-rmse:0.491505\n",
      "[1015]\ttrain-rmse:0.42907\teval-rmse:0.491505\n",
      "[1016]\ttrain-rmse:0.429028\teval-rmse:0.491503\n",
      "[1017]\ttrain-rmse:0.428949\teval-rmse:0.491499\n",
      "[1018]\ttrain-rmse:0.428915\teval-rmse:0.491496\n",
      "[1019]\ttrain-rmse:0.428853\teval-rmse:0.491506\n",
      "[1020]\ttrain-rmse:0.428808\teval-rmse:0.491504\n",
      "[1021]\ttrain-rmse:0.428796\teval-rmse:0.49152\n",
      "[1022]\ttrain-rmse:0.428761\teval-rmse:0.491517\n",
      "[1023]\ttrain-rmse:0.428705\teval-rmse:0.491521\n",
      "[1024]\ttrain-rmse:0.428672\teval-rmse:0.491515\n",
      "[1025]\ttrain-rmse:0.428656\teval-rmse:0.491514\n",
      "[1026]\ttrain-rmse:0.42862\teval-rmse:0.491511\n",
      "[1027]\ttrain-rmse:0.428595\teval-rmse:0.491512\n",
      "[1028]\ttrain-rmse:0.428575\teval-rmse:0.49151\n",
      "[1029]\ttrain-rmse:0.428527\teval-rmse:0.491507\n",
      "[1030]\ttrain-rmse:0.428478\teval-rmse:0.491506\n",
      "[1031]\ttrain-rmse:0.428403\teval-rmse:0.491509\n",
      "[1032]\ttrain-rmse:0.428384\teval-rmse:0.491508\n",
      "[1033]\ttrain-rmse:0.428346\teval-rmse:0.491508\n",
      "[1034]\ttrain-rmse:0.428328\teval-rmse:0.491507\n",
      "[1035]\ttrain-rmse:0.428306\teval-rmse:0.491509\n",
      "[1036]\ttrain-rmse:0.428257\teval-rmse:0.491516\n",
      "[1037]\ttrain-rmse:0.428234\teval-rmse:0.491513\n",
      "[1038]\ttrain-rmse:0.428197\teval-rmse:0.491519\n",
      "[1039]\ttrain-rmse:0.428151\teval-rmse:0.49152\n",
      "[1040]\ttrain-rmse:0.428081\teval-rmse:0.491516\n",
      "[1041]\ttrain-rmse:0.428034\teval-rmse:0.491515\n",
      "[1042]\ttrain-rmse:0.42798\teval-rmse:0.491512\n",
      "[1043]\ttrain-rmse:0.427935\teval-rmse:0.49152\n",
      "[1044]\ttrain-rmse:0.427872\teval-rmse:0.491525\n",
      "[1045]\ttrain-rmse:0.42783\teval-rmse:0.491531\n",
      "[1046]\ttrain-rmse:0.427768\teval-rmse:0.49153\n",
      "[1047]\ttrain-rmse:0.427702\teval-rmse:0.491532\n",
      "[1048]\ttrain-rmse:0.427662\teval-rmse:0.491529\n",
      "[1049]\ttrain-rmse:0.427637\teval-rmse:0.491528\n",
      "[1050]\ttrain-rmse:0.427588\teval-rmse:0.491525\n",
      "[1051]\ttrain-rmse:0.427529\teval-rmse:0.491525\n",
      "[1052]\ttrain-rmse:0.427482\teval-rmse:0.49153\n",
      "[1053]\ttrain-rmse:0.427437\teval-rmse:0.491547\n",
      "[1054]\ttrain-rmse:0.427422\teval-rmse:0.491549\n",
      "[1055]\ttrain-rmse:0.427367\teval-rmse:0.491546\n",
      "[1056]\ttrain-rmse:0.42735\teval-rmse:0.491546\n",
      "[1057]\ttrain-rmse:0.427335\teval-rmse:0.491546\n",
      "[1058]\ttrain-rmse:0.427306\teval-rmse:0.491549\n",
      "[1059]\ttrain-rmse:0.427275\teval-rmse:0.491543\n",
      "[1060]\ttrain-rmse:0.427206\teval-rmse:0.491544\n",
      "[1061]\ttrain-rmse:0.427115\teval-rmse:0.49155\n",
      "[1062]\ttrain-rmse:0.427077\teval-rmse:0.491563\n",
      "[1063]\ttrain-rmse:0.427017\teval-rmse:0.49156\n",
      "[1064]\ttrain-rmse:0.426973\teval-rmse:0.49156\n",
      "[1065]\ttrain-rmse:0.42696\teval-rmse:0.491561\n",
      "[1066]\ttrain-rmse:0.426912\teval-rmse:0.491564\n",
      "[1067]\ttrain-rmse:0.426879\teval-rmse:0.491562\n",
      "[1068]\ttrain-rmse:0.426828\teval-rmse:0.491559\n",
      "[1069]\ttrain-rmse:0.426774\teval-rmse:0.491562\n",
      "[1070]\ttrain-rmse:0.426733\teval-rmse:0.491562\n",
      "[1071]\ttrain-rmse:0.426694\teval-rmse:0.491559\n",
      "[1072]\ttrain-rmse:0.426644\teval-rmse:0.491556\n",
      "[1073]\ttrain-rmse:0.426595\teval-rmse:0.491554\n",
      "[1074]\ttrain-rmse:0.426541\teval-rmse:0.491554\n",
      "[1075]\ttrain-rmse:0.426491\teval-rmse:0.491553\n",
      "[1076]\ttrain-rmse:0.426427\teval-rmse:0.491546\n",
      "[1077]\ttrain-rmse:0.426381\teval-rmse:0.491548\n",
      "[1078]\ttrain-rmse:0.426349\teval-rmse:0.491553\n",
      "[1079]\ttrain-rmse:0.426312\teval-rmse:0.491554\n",
      "[1080]\ttrain-rmse:0.426273\teval-rmse:0.491555\n",
      "[1081]\ttrain-rmse:0.426224\teval-rmse:0.491554\n",
      "[1082]\ttrain-rmse:0.426209\teval-rmse:0.491551\n",
      "[1083]\ttrain-rmse:0.426175\teval-rmse:0.491546\n",
      "[1084]\ttrain-rmse:0.426142\teval-rmse:0.49154\n",
      "[1085]\ttrain-rmse:0.426093\teval-rmse:0.491542\n",
      "[1086]\ttrain-rmse:0.42603\teval-rmse:0.491542\n",
      "[1087]\ttrain-rmse:0.425981\teval-rmse:0.491535\n",
      "[1088]\ttrain-rmse:0.425961\teval-rmse:0.49153\n",
      "[1089]\ttrain-rmse:0.425899\teval-rmse:0.491534\n",
      "[1090]\ttrain-rmse:0.425835\teval-rmse:0.491537\n",
      "[1091]\ttrain-rmse:0.425806\teval-rmse:0.491533\n",
      "[1092]\ttrain-rmse:0.425789\teval-rmse:0.491538\n",
      "[1093]\ttrain-rmse:0.42576\teval-rmse:0.491536\n",
      "[1094]\ttrain-rmse:0.425709\teval-rmse:0.491537\n",
      "[1095]\ttrain-rmse:0.425643\teval-rmse:0.491539\n",
      "[1096]\ttrain-rmse:0.425628\teval-rmse:0.491559\n",
      "[1097]\ttrain-rmse:0.425602\teval-rmse:0.491559\n",
      "[1098]\ttrain-rmse:0.425547\teval-rmse:0.491552\n",
      "[1099]\ttrain-rmse:0.425509\teval-rmse:0.491542\n",
      "[1100]\ttrain-rmse:0.425472\teval-rmse:0.491539\n",
      "[1101]\ttrain-rmse:0.425431\teval-rmse:0.491537\n",
      "[1102]\ttrain-rmse:0.425387\teval-rmse:0.491542\n",
      "[1103]\ttrain-rmse:0.425372\teval-rmse:0.491545\n",
      "[1104]\ttrain-rmse:0.425331\teval-rmse:0.491551\n",
      "[1105]\ttrain-rmse:0.425277\teval-rmse:0.491546\n",
      "[1106]\ttrain-rmse:0.425197\teval-rmse:0.491557\n",
      "[1107]\ttrain-rmse:0.425154\teval-rmse:0.491556\n",
      "[1108]\ttrain-rmse:0.42513\teval-rmse:0.491554\n",
      "[1109]\ttrain-rmse:0.425122\teval-rmse:0.491555\n",
      "[1110]\ttrain-rmse:0.425097\teval-rmse:0.491556\n",
      "[1111]\ttrain-rmse:0.425073\teval-rmse:0.491561\n",
      "[1112]\ttrain-rmse:0.42503\teval-rmse:0.491562\n",
      "[1113]\ttrain-rmse:0.424996\teval-rmse:0.491567\n",
      "[1114]\ttrain-rmse:0.424958\teval-rmse:0.491568\n",
      "[1115]\ttrain-rmse:0.424917\teval-rmse:0.49156\n",
      "[1116]\ttrain-rmse:0.424873\teval-rmse:0.491561\n",
      "[1117]\ttrain-rmse:0.42482\teval-rmse:0.491558\n",
      "[1118]\ttrain-rmse:0.424806\teval-rmse:0.49156\n",
      "[1119]\ttrain-rmse:0.424766\teval-rmse:0.491562\n",
      "[1120]\ttrain-rmse:0.424729\teval-rmse:0.491562\n",
      "[1121]\ttrain-rmse:0.424696\teval-rmse:0.491565\n",
      "[1122]\ttrain-rmse:0.42468\teval-rmse:0.491575\n",
      "[1123]\ttrain-rmse:0.424669\teval-rmse:0.491576\n",
      "[1124]\ttrain-rmse:0.424623\teval-rmse:0.491576\n",
      "[1125]\ttrain-rmse:0.424599\teval-rmse:0.491581\n",
      "[1126]\ttrain-rmse:0.424568\teval-rmse:0.491577\n",
      "[1127]\ttrain-rmse:0.424532\teval-rmse:0.491577\n",
      "[1128]\ttrain-rmse:0.424488\teval-rmse:0.491577\n",
      "[1129]\ttrain-rmse:0.424448\teval-rmse:0.491576\n",
      "[1130]\ttrain-rmse:0.424401\teval-rmse:0.491578\n",
      "[1131]\ttrain-rmse:0.424356\teval-rmse:0.491571\n",
      "[1132]\ttrain-rmse:0.424332\teval-rmse:0.491573\n",
      "[1133]\ttrain-rmse:0.424303\teval-rmse:0.491568\n",
      "[1134]\ttrain-rmse:0.424254\teval-rmse:0.491569\n",
      "[1135]\ttrain-rmse:0.42424\teval-rmse:0.491574\n",
      "[1136]\ttrain-rmse:0.424211\teval-rmse:0.491567\n",
      "[1137]\ttrain-rmse:0.424172\teval-rmse:0.49157\n",
      "[1138]\ttrain-rmse:0.424123\teval-rmse:0.491573\n",
      "[1139]\ttrain-rmse:0.424092\teval-rmse:0.491567\n",
      "[1140]\ttrain-rmse:0.424044\teval-rmse:0.491568\n",
      "[1141]\ttrain-rmse:0.424017\teval-rmse:0.491569\n",
      "[1142]\ttrain-rmse:0.423978\teval-rmse:0.491567\n",
      "[1143]\ttrain-rmse:0.423941\teval-rmse:0.491566\n",
      "[1144]\ttrain-rmse:0.423899\teval-rmse:0.49157\n",
      "[1145]\ttrain-rmse:0.423866\teval-rmse:0.491572\n",
      "[1146]\ttrain-rmse:0.423843\teval-rmse:0.491548\n",
      "[1147]\ttrain-rmse:0.423818\teval-rmse:0.491546\n",
      "[1148]\ttrain-rmse:0.423761\teval-rmse:0.491542\n",
      "[1149]\ttrain-rmse:0.423737\teval-rmse:0.491533\n",
      "[1150]\ttrain-rmse:0.423681\teval-rmse:0.491541\n",
      "[1151]\ttrain-rmse:0.423651\teval-rmse:0.491545\n",
      "[1152]\ttrain-rmse:0.423595\teval-rmse:0.491547\n",
      "[1153]\ttrain-rmse:0.423524\teval-rmse:0.491545\n",
      "[1154]\ttrain-rmse:0.42347\teval-rmse:0.491542\n",
      "[1155]\ttrain-rmse:0.423407\teval-rmse:0.491541\n",
      "[1156]\ttrain-rmse:0.423381\teval-rmse:0.491537\n",
      "[1157]\ttrain-rmse:0.423354\teval-rmse:0.491527\n",
      "[1158]\ttrain-rmse:0.423325\teval-rmse:0.491533\n",
      "[1159]\ttrain-rmse:0.423295\teval-rmse:0.491533\n",
      "[1160]\ttrain-rmse:0.423229\teval-rmse:0.491526\n",
      "[1161]\ttrain-rmse:0.423196\teval-rmse:0.491532\n",
      "[1162]\ttrain-rmse:0.423172\teval-rmse:0.491536\n",
      "[1163]\ttrain-rmse:0.423134\teval-rmse:0.491539\n",
      "[1164]\ttrain-rmse:0.423086\teval-rmse:0.491539\n",
      "[1165]\ttrain-rmse:0.423065\teval-rmse:0.491539\n",
      "[1166]\ttrain-rmse:0.423018\teval-rmse:0.491534\n",
      "[1167]\ttrain-rmse:0.422977\teval-rmse:0.491532\n",
      "[1168]\ttrain-rmse:0.422939\teval-rmse:0.491529\n",
      "[1169]\ttrain-rmse:0.422901\teval-rmse:0.491536\n",
      "[1170]\ttrain-rmse:0.422857\teval-rmse:0.491541\n",
      "[1171]\ttrain-rmse:0.422791\teval-rmse:0.491544\n",
      "[1172]\ttrain-rmse:0.422736\teval-rmse:0.491549\n",
      "[1173]\ttrain-rmse:0.422707\teval-rmse:0.491554\n",
      "[1174]\ttrain-rmse:0.422675\teval-rmse:0.491556\n",
      "[1175]\ttrain-rmse:0.422624\teval-rmse:0.491553\n",
      "[1176]\ttrain-rmse:0.422614\teval-rmse:0.491555\n",
      "[1177]\ttrain-rmse:0.422578\teval-rmse:0.491554\n",
      "[1178]\ttrain-rmse:0.422544\teval-rmse:0.491556\n",
      "[1179]\ttrain-rmse:0.422473\teval-rmse:0.491545\n",
      "[1180]\ttrain-rmse:0.422431\teval-rmse:0.491546\n",
      "[1181]\ttrain-rmse:0.422368\teval-rmse:0.491541\n",
      "[1182]\ttrain-rmse:0.422331\teval-rmse:0.491545\n",
      "[1183]\ttrain-rmse:0.422299\teval-rmse:0.491545\n",
      "[1184]\ttrain-rmse:0.42225\teval-rmse:0.491542\n",
      "[1185]\ttrain-rmse:0.422224\teval-rmse:0.491543\n",
      "[1186]\ttrain-rmse:0.422174\teval-rmse:0.491545\n",
      "[1187]\ttrain-rmse:0.422147\teval-rmse:0.491541\n",
      "[1188]\ttrain-rmse:0.422096\teval-rmse:0.491545\n",
      "[1189]\ttrain-rmse:0.422071\teval-rmse:0.491543\n",
      "[1190]\ttrain-rmse:0.422027\teval-rmse:0.491544\n",
      "[1191]\ttrain-rmse:0.422004\teval-rmse:0.491549\n",
      "[1192]\ttrain-rmse:0.421975\teval-rmse:0.491548\n",
      "[1193]\ttrain-rmse:0.421962\teval-rmse:0.49155\n",
      "[1194]\ttrain-rmse:0.421894\teval-rmse:0.491552\n",
      "[1195]\ttrain-rmse:0.421859\teval-rmse:0.491557\n",
      "[1196]\ttrain-rmse:0.421808\teval-rmse:0.491555\n",
      "[1197]\ttrain-rmse:0.421767\teval-rmse:0.49156\n",
      "[1198]\ttrain-rmse:0.421739\teval-rmse:0.491562\n",
      "[1199]\ttrain-rmse:0.421706\teval-rmse:0.491546\n",
      "[1200]\ttrain-rmse:0.421682\teval-rmse:0.491547\n",
      "[1201]\ttrain-rmse:0.42164\teval-rmse:0.491548\n",
      "[1202]\ttrain-rmse:0.42161\teval-rmse:0.49155\n",
      "[1203]\ttrain-rmse:0.421597\teval-rmse:0.491572\n",
      "[1204]\ttrain-rmse:0.421578\teval-rmse:0.491577\n",
      "[1205]\ttrain-rmse:0.421518\teval-rmse:0.491578\n",
      "[1206]\ttrain-rmse:0.42149\teval-rmse:0.491581\n",
      "[1207]\ttrain-rmse:0.421466\teval-rmse:0.491583\n",
      "[1208]\ttrain-rmse:0.421403\teval-rmse:0.49158\n",
      "[1209]\ttrain-rmse:0.421378\teval-rmse:0.491585\n",
      "[1210]\ttrain-rmse:0.421359\teval-rmse:0.491586\n",
      "[1211]\ttrain-rmse:0.421324\teval-rmse:0.491583\n",
      "Stopping. Best iteration:\n",
      "[711]\ttrain-rmse:0.442752\teval-rmse:0.491392\n",
      "\n"
     ]
    }
   ],
   "source": [
    "model = xgb.train(params, \n",
    "                      train_dmat, \n",
    "                      10000,\n",
    "                      watchlist, evals_result=progress,\n",
    "                      early_stopping_rounds=500)"
   ]
  },
  {
   "cell_type": "code",
   "execution_count": 115,
   "metadata": {
    "collapsed": true
   },
   "outputs": [],
   "source": [
    "train_stack_xgb=model.predict(train_dmat)\n",
    "val_stack_xgb=model.predict(val_dmat)\n",
    "base_stack_train['train_xgb']=train_stack_xgb\n",
    "base_stack_val['val_xgb']=val_stack_xgb"
   ]
  },
  {
   "cell_type": "code",
   "execution_count": 116,
   "metadata": {
    "scrolled": true
   },
   "outputs": [
    {
     "data": {
      "text/html": [
       "<div>\n",
       "<style scoped>\n",
       "    .dataframe tbody tr th:only-of-type {\n",
       "        vertical-align: middle;\n",
       "    }\n",
       "\n",
       "    .dataframe tbody tr th {\n",
       "        vertical-align: top;\n",
       "    }\n",
       "\n",
       "    .dataframe thead th {\n",
       "        text-align: right;\n",
       "    }\n",
       "</style>\n",
       "<table border=\"1\" class=\"dataframe\">\n",
       "  <thead>\n",
       "    <tr style=\"text-align: right;\">\n",
       "      <th></th>\n",
       "      <th>id</th>\n",
       "      <th>visitors</th>\n",
       "    </tr>\n",
       "  </thead>\n",
       "  <tbody>\n",
       "    <tr>\n",
       "      <th>0</th>\n",
       "      <td>air_00a91d42b08b08d9_2017-04-23</td>\n",
       "      <td>2.715885</td>\n",
       "    </tr>\n",
       "    <tr>\n",
       "      <th>1</th>\n",
       "      <td>air_00a91d42b08b08d9_2017-04-24</td>\n",
       "      <td>24.754105</td>\n",
       "    </tr>\n",
       "    <tr>\n",
       "      <th>2</th>\n",
       "      <td>air_00a91d42b08b08d9_2017-04-25</td>\n",
       "      <td>26.201387</td>\n",
       "    </tr>\n",
       "    <tr>\n",
       "      <th>3</th>\n",
       "      <td>air_00a91d42b08b08d9_2017-04-26</td>\n",
       "      <td>27.652216</td>\n",
       "    </tr>\n",
       "    <tr>\n",
       "      <th>4</th>\n",
       "      <td>air_00a91d42b08b08d9_2017-04-27</td>\n",
       "      <td>31.778515</td>\n",
       "    </tr>\n",
       "    <tr>\n",
       "      <th>5</th>\n",
       "      <td>air_00a91d42b08b08d9_2017-04-28</td>\n",
       "      <td>37.155468</td>\n",
       "    </tr>\n",
       "    <tr>\n",
       "      <th>6</th>\n",
       "      <td>air_00a91d42b08b08d9_2017-04-29</td>\n",
       "      <td>10.037499</td>\n",
       "    </tr>\n",
       "    <tr>\n",
       "      <th>7</th>\n",
       "      <td>air_00a91d42b08b08d9_2017-04-30</td>\n",
       "      <td>2.856851</td>\n",
       "    </tr>\n",
       "    <tr>\n",
       "      <th>8</th>\n",
       "      <td>air_00a91d42b08b08d9_2017-05-01</td>\n",
       "      <td>24.032574</td>\n",
       "    </tr>\n",
       "    <tr>\n",
       "      <th>9</th>\n",
       "      <td>air_00a91d42b08b08d9_2017-05-02</td>\n",
       "      <td>27.595261</td>\n",
       "    </tr>\n",
       "    <tr>\n",
       "      <th>10</th>\n",
       "      <td>air_00a91d42b08b08d9_2017-05-03</td>\n",
       "      <td>9.888576</td>\n",
       "    </tr>\n",
       "    <tr>\n",
       "      <th>11</th>\n",
       "      <td>air_00a91d42b08b08d9_2017-05-04</td>\n",
       "      <td>9.892351</td>\n",
       "    </tr>\n",
       "    <tr>\n",
       "      <th>12</th>\n",
       "      <td>air_00a91d42b08b08d9_2017-05-05</td>\n",
       "      <td>9.596737</td>\n",
       "    </tr>\n",
       "    <tr>\n",
       "      <th>13</th>\n",
       "      <td>air_00a91d42b08b08d9_2017-05-06</td>\n",
       "      <td>12.212611</td>\n",
       "    </tr>\n",
       "    <tr>\n",
       "      <th>14</th>\n",
       "      <td>air_00a91d42b08b08d9_2017-05-07</td>\n",
       "      <td>2.853621</td>\n",
       "    </tr>\n",
       "    <tr>\n",
       "      <th>15</th>\n",
       "      <td>air_00a91d42b08b08d9_2017-05-08</td>\n",
       "      <td>23.574955</td>\n",
       "    </tr>\n",
       "    <tr>\n",
       "      <th>16</th>\n",
       "      <td>air_00a91d42b08b08d9_2017-05-09</td>\n",
       "      <td>25.454269</td>\n",
       "    </tr>\n",
       "    <tr>\n",
       "      <th>17</th>\n",
       "      <td>air_00a91d42b08b08d9_2017-05-10</td>\n",
       "      <td>25.873524</td>\n",
       "    </tr>\n",
       "    <tr>\n",
       "      <th>18</th>\n",
       "      <td>air_00a91d42b08b08d9_2017-05-11</td>\n",
       "      <td>31.161808</td>\n",
       "    </tr>\n",
       "    <tr>\n",
       "      <th>19</th>\n",
       "      <td>air_00a91d42b08b08d9_2017-05-12</td>\n",
       "      <td>35.976944</td>\n",
       "    </tr>\n",
       "    <tr>\n",
       "      <th>20</th>\n",
       "      <td>air_00a91d42b08b08d9_2017-05-13</td>\n",
       "      <td>12.526665</td>\n",
       "    </tr>\n",
       "    <tr>\n",
       "      <th>21</th>\n",
       "      <td>air_00a91d42b08b08d9_2017-05-14</td>\n",
       "      <td>2.991313</td>\n",
       "    </tr>\n",
       "    <tr>\n",
       "      <th>22</th>\n",
       "      <td>air_00a91d42b08b08d9_2017-05-15</td>\n",
       "      <td>23.618904</td>\n",
       "    </tr>\n",
       "    <tr>\n",
       "      <th>23</th>\n",
       "      <td>air_00a91d42b08b08d9_2017-05-16</td>\n",
       "      <td>26.384594</td>\n",
       "    </tr>\n",
       "    <tr>\n",
       "      <th>24</th>\n",
       "      <td>air_00a91d42b08b08d9_2017-05-17</td>\n",
       "      <td>28.136421</td>\n",
       "    </tr>\n",
       "    <tr>\n",
       "      <th>25</th>\n",
       "      <td>air_00a91d42b08b08d9_2017-05-18</td>\n",
       "      <td>30.803644</td>\n",
       "    </tr>\n",
       "    <tr>\n",
       "      <th>26</th>\n",
       "      <td>air_00a91d42b08b08d9_2017-05-19</td>\n",
       "      <td>35.614788</td>\n",
       "    </tr>\n",
       "    <tr>\n",
       "      <th>27</th>\n",
       "      <td>air_00a91d42b08b08d9_2017-05-20</td>\n",
       "      <td>12.116489</td>\n",
       "    </tr>\n",
       "    <tr>\n",
       "      <th>28</th>\n",
       "      <td>air_00a91d42b08b08d9_2017-05-21</td>\n",
       "      <td>2.692919</td>\n",
       "    </tr>\n",
       "    <tr>\n",
       "      <th>29</th>\n",
       "      <td>air_00a91d42b08b08d9_2017-05-22</td>\n",
       "      <td>23.836342</td>\n",
       "    </tr>\n",
       "  </tbody>\n",
       "</table>\n",
       "</div>"
      ],
      "text/plain": [
       "                                 id   visitors\n",
       "0   air_00a91d42b08b08d9_2017-04-23   2.715885\n",
       "1   air_00a91d42b08b08d9_2017-04-24  24.754105\n",
       "2   air_00a91d42b08b08d9_2017-04-25  26.201387\n",
       "3   air_00a91d42b08b08d9_2017-04-26  27.652216\n",
       "4   air_00a91d42b08b08d9_2017-04-27  31.778515\n",
       "5   air_00a91d42b08b08d9_2017-04-28  37.155468\n",
       "6   air_00a91d42b08b08d9_2017-04-29  10.037499\n",
       "7   air_00a91d42b08b08d9_2017-04-30   2.856851\n",
       "8   air_00a91d42b08b08d9_2017-05-01  24.032574\n",
       "9   air_00a91d42b08b08d9_2017-05-02  27.595261\n",
       "10  air_00a91d42b08b08d9_2017-05-03   9.888576\n",
       "11  air_00a91d42b08b08d9_2017-05-04   9.892351\n",
       "12  air_00a91d42b08b08d9_2017-05-05   9.596737\n",
       "13  air_00a91d42b08b08d9_2017-05-06  12.212611\n",
       "14  air_00a91d42b08b08d9_2017-05-07   2.853621\n",
       "15  air_00a91d42b08b08d9_2017-05-08  23.574955\n",
       "16  air_00a91d42b08b08d9_2017-05-09  25.454269\n",
       "17  air_00a91d42b08b08d9_2017-05-10  25.873524\n",
       "18  air_00a91d42b08b08d9_2017-05-11  31.161808\n",
       "19  air_00a91d42b08b08d9_2017-05-12  35.976944\n",
       "20  air_00a91d42b08b08d9_2017-05-13  12.526665\n",
       "21  air_00a91d42b08b08d9_2017-05-14   2.991313\n",
       "22  air_00a91d42b08b08d9_2017-05-15  23.618904\n",
       "23  air_00a91d42b08b08d9_2017-05-16  26.384594\n",
       "24  air_00a91d42b08b08d9_2017-05-17  28.136421\n",
       "25  air_00a91d42b08b08d9_2017-05-18  30.803644\n",
       "26  air_00a91d42b08b08d9_2017-05-19  35.614788\n",
       "27  air_00a91d42b08b08d9_2017-05-20  12.116489\n",
       "28  air_00a91d42b08b08d9_2017-05-21   2.692919\n",
       "29  air_00a91d42b08b08d9_2017-05-22  23.836342"
      ]
     },
     "execution_count": 116,
     "metadata": {},
     "output_type": "execute_result"
    }
   ],
   "source": [
    "test_pred = model.predict(test_dmat)\n",
    "test_pred=np.expm1(test_pred)\n",
    "test_data['visitors']=test_pred\n",
    "test_data['id']=test_ids\n",
    "test_data[['id','visitors']].to_csv('xgb_custom_feat6.csv',index=False)\n",
    "sub1=test_data[['id','visitors']].copy()\n",
    "sub1.head(30)"
   ]
  },
  {
   "cell_type": "code",
   "execution_count": 117,
   "metadata": {
    "collapsed": true
   },
   "outputs": [],
   "source": [
    "base_stack_train.to_csv('stacking_input/base_stack_train_lgbm_xgb_no_tscv.csv',index=False)\n",
    "base_stack_val.to_csv('stacking_input/base_stack_val_lgbm_xgb_no_tscv.csv',index=False)"
   ]
  },
  {
   "cell_type": "markdown",
   "metadata": {},
   "source": [
    "**Single XGB Model with Hold one out CV**: Public Leaderboard vs Private Leaderboard \n",
    "![Public LB](submissions/XGB_custom_Holdcv.PNG)"
   ]
  },
  {
   "cell_type": "markdown",
   "metadata": {},
   "source": [
    "## RMSE Training vs Validation curve"
   ]
  },
  {
   "cell_type": "code",
   "execution_count": 124,
   "metadata": {},
   "outputs": [
    {
     "data": {
      "image/png": "[encoded data removed]",
      "text/plain": [
       "<matplotlib.figure.Figure at 0x7f616f388dd8>"
      ]
     },
     "metadata": {},
     "output_type": "display_data"
    }
   ],
   "source": [
    "eval_rmse=progress['eval']['rmse']\n",
    "train_rmse=progress['train']['rmse']\n",
    "epochs = len(progress['train']['rmse'])\n",
    "x_axis = range(0, epochs)\n",
    "fig, ax = plt.subplots()\n",
    "ax.plot(x_axis, train_rmse, label='Train')\n",
    "ax.plot(x_axis, eval_rmse, label='Valid')\n",
    "ax.legend()\n",
    "plt.style.use('ggplot')\n",
    "plt.ylabel('RMSE')\n",
    "plt.title('XGBoost RMSE Training vs Validations')\n",
    "plt.show()"
   ]
  },
  {
   "cell_type": "markdown",
   "metadata": {},
   "source": [
    "# Baseline model-3: Implementing Random Forest \n",
    "\n",
    "** but without weather data and rolling averges in the train set**\n",
    "\n",
    "### Cross validation technique: Hold one out (sequential hold out)\n",
    "\n",
    "** Hold out dataset**: from March 12th to April 23rd\n"
   ]
  },
  {
   "cell_type": "code",
   "execution_count": 120,
   "metadata": {
    "collapsed": true
   },
   "outputs": [],
   "source": [
    "from sklearn.ensemble import RandomForestRegressor\n",
    "rf=RandomForestRegressor()"
   ]
  },
  {
   "cell_type": "code",
   "execution_count": 228,
   "metadata": {
    "collapsed": true
   },
   "outputs": [],
   "source": [
    "d_we=['global_avg_temperature','global_precipitation','global_sunlight','visitdow_m3_sum','visit_m3_sum','districtgenre_m3_sum','visitdow_m6_sum' ,'visit_m6_sum' ,'districtgenre_m6_sum','genrehol_m6_sum','visit_r90_mean' ,'visit_r90_max','visit_r90_min','visit_r90_count','visit_r90_std','visit_dow_r90_mean','visit_dow_r90_max','visit_dow_r90_min','visit_dow_r90_count','visit_dow_r90_std' ,'districtgenre_r90_mean' ,'districtgenre_r90_max' ,'districtgenre_r90_min' ,'districtgenre_r90_count','districtgenre_r90_std','visit_r180_mean','visit_r180_max','visit_r180_min','visit_r180_count','visit_r180_std','visit_dow_r180_mean' ,'visit_dow_r180_max' ,'visit_dow_r180_min','visit_dow_r180_count','visit_dow_r180_std','districtgenre_r180_mean','districtgenre_r180_max','districtgenre_r180_min','districtgenre_r180_count' ,'districtgenre_r180_std']\n",
    "rf_data=train2.drop(d_we,axis=1)\n",
    "rf_test=df_test2.drop(d_we,axis=1)"
   ]
  },
  {
   "cell_type": "code",
   "execution_count": 229,
   "metadata": {
    "collapsed": true
   },
   "outputs": [],
   "source": [
    "rf_data=rf_data[rf_data.visit_date >='2016-01-22']"
   ]
  },
  {
   "cell_type": "code",
   "execution_count": 230,
   "metadata": {
    "collapsed": true
   },
   "outputs": [],
   "source": [
    "rf_test=rf_test.sort_values(ascending=[True,True],by=['visit_date','air_store_id'])\n",
    "rf_train=rf_data.sort_values(ascending=[True,True],by=['visit_date','air_store_id'])\n",
    "rf_train.reset_index(inplace=True)\n",
    "rf_train.drop('index',axis=1,inplace=True)\n",
    "\n",
    "rf_cv_set=[]\n",
    "\n",
    "cut_dates=['2017-03-12']\n",
    "for dts in range(int(len(cut_dates))):\n",
    "    mask = ((rf_train['visit_date']>='2016-01-22') & (rf_train['visit_date']<cut_dates[0]))\n",
    "    X_train= rf_train.loc[mask]\n",
    "    X_training= X_train.drop(['visitors','station_id','air_store_id','visit_date'], axis=1)\n",
    "    y_training = (X_train['visitors'])\n",
    "    mask2 = (rf_train['visit_date']>=cut_dates[0])\n",
    "    X_valid= rf_train.loc[mask2]\n",
    "    X_validate= X_valid.drop(['visitors','station_id','air_store_id','visit_date'], axis=1)\n",
    "    y_validate = (X_valid['visitors'])\n",
    "    rf_cv_set.append(X_training.index.tolist())\n",
    "    rf_cv_set.append(X_validate.index.tolist())"
   ]
  },
  {
   "cell_type": "code",
   "execution_count": 231,
   "metadata": {
    "collapsed": true
   },
   "outputs": [],
   "source": [
    "col = [c for c in rf_train if c not in ['station_id', 'air_store_id', 'visit_date','visitors']]"
   ]
  },
  {
   "cell_type": "code",
   "execution_count": 232,
   "metadata": {
    "collapsed": true
   },
   "outputs": [],
   "source": [
    "id_set=[0]\n",
    "\n",
    "rf_cvd=[]\n",
    "rf_cvd = [(rf_cv_set[i],rf_cv_set[i+1])\n",
    "      for i in id_set]"
   ]
  },
  {
   "cell_type": "code",
   "execution_count": 233,
   "metadata": {
    "collapsed": true
   },
   "outputs": [],
   "source": [
    "params_rf = {\"n_estimators\": st.randint(400, 700),\"max_depth\": st.randint(6, 12),\"min_samples_leaf\": st.randint(1, 11)}"
   ]
  },
  {
   "cell_type": "code",
   "execution_count": 234,
   "metadata": {
    "scrolled": false
   },
   "outputs": [
    {
     "name": "stdout",
     "output_type": "stream",
     "text": [
      "Fitting 1 folds for each of 10 candidates, totalling 10 fits\n"
     ]
    },
    {
     "name": "stderr",
     "output_type": "stream",
     "text": [
      "[Parallel(n_jobs=8)]: Done   6 out of  10 | elapsed: 20.7min remaining: 13.8min\n",
      "[Parallel(n_jobs=8)]: Done  10 out of  10 | elapsed: 29.3min finished\n"
     ]
    }
   ],
   "source": [
    "rfrscv = model_selection.RandomizedSearchCV(rf, param_distributions=params_rf,n_iter=10,n_jobs=8,scoring=scored,cv=rf_cvd,verbose=True)\n",
    "f_train=rf_train[col]\n",
    "f_target=rf_train[['visitors']]\n",
    "rfrscv.fit(f_train.values,f_target.values)\n",
    "rf_best=rfrscv.best_estimator_"
   ]
  },
  {
   "cell_type": "code",
   "execution_count": 235,
   "metadata": {},
   "outputs": [
    {
     "name": "stdout",
     "output_type": "stream",
     "text": [
      "0.5099571082879111\n"
     ]
    }
   ],
   "source": [
    "print(RMSLE(rfrscv.predict(X_validate[col].values),y_validate))"
   ]
  },
  {
   "cell_type": "code",
   "execution_count": 245,
   "metadata": {},
   "outputs": [
    {
     "data": {
      "text/html": [
       "<div>\n",
       "<style scoped>\n",
       "    .dataframe tbody tr th:only-of-type {\n",
       "        vertical-align: middle;\n",
       "    }\n",
       "\n",
       "    .dataframe tbody tr th {\n",
       "        vertical-align: top;\n",
       "    }\n",
       "\n",
       "    .dataframe thead th {\n",
       "        text-align: right;\n",
       "    }\n",
       "</style>\n",
       "<table border=\"1\" class=\"dataframe\">\n",
       "  <thead>\n",
       "    <tr style=\"text-align: right;\">\n",
       "      <th></th>\n",
       "      <th>id</th>\n",
       "      <th>visitors</th>\n",
       "    </tr>\n",
       "  </thead>\n",
       "  <tbody>\n",
       "    <tr>\n",
       "      <th>0</th>\n",
       "      <td>air_00a91d42b08b08d9_2017-04-23</td>\n",
       "      <td>9.341814</td>\n",
       "    </tr>\n",
       "    <tr>\n",
       "      <th>1</th>\n",
       "      <td>air_00a91d42b08b08d9_2017-04-24</td>\n",
       "      <td>22.532612</td>\n",
       "    </tr>\n",
       "    <tr>\n",
       "      <th>2</th>\n",
       "      <td>air_00a91d42b08b08d9_2017-04-25</td>\n",
       "      <td>25.016202</td>\n",
       "    </tr>\n",
       "    <tr>\n",
       "      <th>3</th>\n",
       "      <td>air_00a91d42b08b08d9_2017-04-26</td>\n",
       "      <td>26.248111</td>\n",
       "    </tr>\n",
       "    <tr>\n",
       "      <th>4</th>\n",
       "      <td>air_00a91d42b08b08d9_2017-04-27</td>\n",
       "      <td>29.686175</td>\n",
       "    </tr>\n",
       "    <tr>\n",
       "      <th>5</th>\n",
       "      <td>air_00a91d42b08b08d9_2017-04-28</td>\n",
       "      <td>34.596299</td>\n",
       "    </tr>\n",
       "    <tr>\n",
       "      <th>6</th>\n",
       "      <td>air_00a91d42b08b08d9_2017-04-29</td>\n",
       "      <td>20.456511</td>\n",
       "    </tr>\n",
       "    <tr>\n",
       "      <th>7</th>\n",
       "      <td>air_00a91d42b08b08d9_2017-04-30</td>\n",
       "      <td>9.341814</td>\n",
       "    </tr>\n",
       "    <tr>\n",
       "      <th>8</th>\n",
       "      <td>air_00a91d42b08b08d9_2017-05-01</td>\n",
       "      <td>22.532612</td>\n",
       "    </tr>\n",
       "    <tr>\n",
       "      <th>9</th>\n",
       "      <td>air_00a91d42b08b08d9_2017-05-02</td>\n",
       "      <td>25.016202</td>\n",
       "    </tr>\n",
       "  </tbody>\n",
       "</table>\n",
       "</div>"
      ],
      "text/plain": [
       "                                id   visitors\n",
       "0  air_00a91d42b08b08d9_2017-04-23   9.341814\n",
       "1  air_00a91d42b08b08d9_2017-04-24  22.532612\n",
       "2  air_00a91d42b08b08d9_2017-04-25  25.016202\n",
       "3  air_00a91d42b08b08d9_2017-04-26  26.248111\n",
       "4  air_00a91d42b08b08d9_2017-04-27  29.686175\n",
       "5  air_00a91d42b08b08d9_2017-04-28  34.596299\n",
       "6  air_00a91d42b08b08d9_2017-04-29  20.456511\n",
       "7  air_00a91d42b08b08d9_2017-04-30   9.341814\n",
       "8  air_00a91d42b08b08d9_2017-05-01  22.532612\n",
       "9  air_00a91d42b08b08d9_2017-05-02  25.016202"
      ]
     },
     "execution_count": 245,
     "metadata": {},
     "output_type": "execute_result"
    }
   ],
   "source": [
    "preds_rf=rf_best.predict(rf_test[col].values)\n",
    "test_pred=np.expm1(preds_rf)\n",
    "rf_test['visitors']=test_pred\n",
    "rf_test.sort_index(inplace=True)\n",
    "rf_test[['id','visitors']].to_csv('rf_custom_feat6.csv',index=False)\n",
    "rf_test[['id','visitors']].head(10)"
   ]
  },
  {
   "cell_type": "code",
   "execution_count": 237,
   "metadata": {
    "collapsed": true
   },
   "outputs": [],
   "source": [
    "train_stack_rf=rf_train[['air_store_id','visit_date']]\n",
    "train_stack_rf['visitors_rf']=rfrscv.predict(f_train.values)"
   ]
  },
  {
   "cell_type": "markdown",
   "metadata": {},
   "source": [
    "** Random Forest failed Model with Hold one out CV**: Public Leaderboard vs Private Leaderboard \n",
    "![Public LB](submissions/rf_custom_holdcv.PNG)"
   ]
  },
  {
   "cell_type": "markdown",
   "metadata": {},
   "source": [
    "**Observation:** Random Forest did not work out because i think it is the inherent nature of the algorithm => random bootstrap sampling is not exactly the correct way of doing the time series problem"
   ]
  },
  {
   "cell_type": "markdown",
   "metadata": {},
   "source": [
    "# Baseline model-4: 4-fold Time series cross validation with LightGBM\n",
    "\n",
    "* Here i did not use the traditional sklearn time series split because i was not able to provide a split till 1 week before the golden week in 2016\n",
    "\n",
    "* Inorder to include the effects of golden week and the New years eve in 2016 i have to decide on a custom time series split where the dates are included in the cut_dates list below\n",
    "\n",
    "* **data without weather data and rolling averges**"
   ]
  },
  {
   "cell_type": "code",
   "execution_count": 101,
   "metadata": {
    "collapsed": true
   },
   "outputs": [],
   "source": [
    "params = {  \n",
    "    \"n_estimators\": st.randint(100, 500),\n",
    "    \"learning_rate\": st.uniform(0.05, 0.15),\n",
    "    \"num_leaves\": st.randint(20, 60),\n",
    "    \"min_child_weight\": st.randint(1, 10),\n",
    "    \"min_child_samples\": st.randint(1, 100),\n",
    "}   "
   ]
  },
  {
   "cell_type": "code",
   "execution_count": 102,
   "metadata": {
    "collapsed": true
   },
   "outputs": [],
   "source": [
    "d_we=['global_avg_temperature','global_precipitation','global_sunlight','visitdow_m3_sum','visit_m3_sum','districtgenre_m3_sum','visitdow_m6_sum' ,'visit_m6_sum' ,'districtgenre_m6_sum','genrehol_m6_sum','visit_r90_mean' ,'visit_r90_max','visit_r90_min','visit_r90_count','visit_r90_std','visit_dow_r90_mean','visit_dow_r90_max','visit_dow_r90_min','visit_dow_r90_count','visit_dow_r90_std' ,'districtgenre_r90_mean' ,'districtgenre_r90_max' ,'districtgenre_r90_min' ,'districtgenre_r90_count','districtgenre_r90_std','visit_r180_mean','visit_r180_max','visit_r180_min','visit_r180_count','visit_r180_std','visit_dow_r180_mean' ,'visit_dow_r180_max' ,'visit_dow_r180_min','visit_dow_r180_count','visit_dow_r180_std','districtgenre_r180_mean','districtgenre_r180_max','districtgenre_r180_min','districtgenre_r180_count' ,'districtgenre_r180_std']\n",
    "lgb_data=train2.drop(d_we,axis=1)\n",
    "lgb_test=df_test2.drop(d_we,axis=1)"
   ]
  },
  {
   "cell_type": "code",
   "execution_count": 118,
   "metadata": {
    "collapsed": true
   },
   "outputs": [],
   "source": [
    "col = [c for c in lgb_data if c not in ['station_id', 'air_store_id', 'visit_date','visitors']]"
   ]
  },
  {
   "cell_type": "code",
   "execution_count": 104,
   "metadata": {
    "collapsed": true,
    "scrolled": true
   },
   "outputs": [],
   "source": [
    "# here the custom time series cross validation is implemented \n",
    "# to generate the cv generator for the Random Grid CV this cell is used\n",
    "import lightgbm as lgb\n",
    "# params from above\n",
    "lbm = lgb.LGBMRegressor()\n",
    "lgb_test=lgb_test.sort_values(ascending=[True,True],by=['visit_date','air_store_id'])\n",
    "lgb_train=lgb_data.sort_values(ascending=[True,True],by=['visit_date','air_store_id'])\n",
    "lgb_train.reset_index(inplace=True)\n",
    "lgb_train.drop('index',axis=1,inplace=True)\n",
    "y_tscv_s2=pd.DataFrame()\n",
    "it=0\n",
    "cv_set=[]\n",
    "\n",
    "cut_dates=['2016-04-22','2016-05-12','2016-08-31','2016-09-30','2016-12-18','2017-01-15','2017-03-23','2017-04-23']\n",
    "for dts in range(int(len(cut_dates)/2)):\n",
    "    mask = ((lgb_train['visit_date']>='2016-01-22') & (lgb_train['visit_date']<cut_dates[it]))\n",
    "    X_train= lgb_train.loc[mask]\n",
    "\n",
    "    #X_train=X_train.sort_values(ascending=[True,True],by=['visit_date','air_store_id'])\n",
    "    X_training= X_train.drop(['visitors','station_id','air_store_id','visit_date'], axis=1)\n",
    "    y_training = (X_train['visitors'])\n",
    "\n",
    "    mask2 = ((lgb_train['visit_date']>=cut_dates[it]) & (lgb_train['visit_date']<cut_dates[it+1]))\n",
    "    X_valid= lgb_train.loc[mask2]\n",
    "    #X_valid=X_valid.sort_values(ascending=[True,True],by=['visit_date','air_store_id'])\n",
    "\n",
    "    X_validate= X_valid.drop(['visitors','station_id','air_store_id','visit_date'], axis=1)\n",
    "    y_validate = (X_valid['visitors'])\n",
    "\n",
    "    cv_set.append(X_training.index.tolist())\n",
    "    cv_set.append(X_validate.index.tolist())\n",
    "    it=it+2"
   ]
  },
  {
   "cell_type": "code",
   "execution_count": 105,
   "metadata": {
    "collapsed": true
   },
   "outputs": [],
   "source": [
    "id_set=[0,2,4,6]\n",
    "\n",
    "cvd=[]\n",
    "cvd = [(cv_set[i],cv_set[i+1])\n",
    "      for i in id_set]\n"
   ]
  },
  {
   "cell_type": "code",
   "execution_count": 106,
   "metadata": {},
   "outputs": [
    {
     "name": "stdout",
     "output_type": "stream",
     "text": [
      "Fitting 4 folds for each of 10 candidates, totalling 40 fits\n"
     ]
    },
    {
     "name": "stderr",
     "output_type": "stream",
     "text": [
      "[Parallel(n_jobs=-1)]: Done  18 out of  40 | elapsed: 127.6min remaining: 155.9min\n",
      "[Parallel(n_jobs=-1)]: Done  40 out of  40 | elapsed: 168.4min finished\n"
     ]
    },
    {
     "name": "stdout",
     "output_type": "stream",
     "text": [
      "0.4509743579607608\n",
      "{'learning_rate': 0.1725109381225647, 'min_child_samples': 13, 'min_child_weight': 2, 'n_estimators': 347, 'num_leaves': 34}\n"
     ]
    }
   ],
   "source": [
    "lgbmrstcv = model_selection.RandomizedSearchCV(lbm, params,n_iter=10,n_jobs=-1,scoring=scored,cv=cvd,verbose=True)\n",
    "f_train=lgb_train[col]\n",
    "f_target=lgb_train[['visitors']]\n",
    "lgbmrstcv.fit(f_train.values,f_target.values)\n",
    "print(RMSLE(lgbmrstcv.predict(X_validate[col].values),y_validate))\n",
    "print(lgbmrstcv.best_params_)"
   ]
  },
  {
   "cell_type": "code",
   "execution_count": 120,
   "metadata": {
    "collapsed": true
   },
   "outputs": [],
   "source": [
    "# should check with the air_ids\n",
    "train_stack_lgb=lgb_train[['air_store_id','visit_date']]\n",
    "train_stack_lgb['visitors_lgb']=lgbmrstcv.predict(f_train.values)"
   ]
  },
  {
   "cell_type": "code",
   "execution_count": 124,
   "metadata": {
    "collapsed": true
   },
   "outputs": [],
   "source": [
    "train_stack_lgb.to_csv('stacking_input/lgb_4foldcv.csv',index=False)"
   ]
  },
  {
   "cell_type": "code",
   "execution_count": 109,
   "metadata": {},
   "outputs": [
    {
     "data": {
      "text/html": [
       "<div>\n",
       "<style scoped>\n",
       "    .dataframe tbody tr th:only-of-type {\n",
       "        vertical-align: middle;\n",
       "    }\n",
       "\n",
       "    .dataframe tbody tr th {\n",
       "        vertical-align: top;\n",
       "    }\n",
       "\n",
       "    .dataframe thead th {\n",
       "        text-align: right;\n",
       "    }\n",
       "</style>\n",
       "<table border=\"1\" class=\"dataframe\">\n",
       "  <thead>\n",
       "    <tr style=\"text-align: right;\">\n",
       "      <th></th>\n",
       "      <th>id</th>\n",
       "      <th>visitors</th>\n",
       "    </tr>\n",
       "  </thead>\n",
       "  <tbody>\n",
       "    <tr>\n",
       "      <th>0</th>\n",
       "      <td>air_00a91d42b08b08d9_2017-04-23</td>\n",
       "      <td>5.124713</td>\n",
       "    </tr>\n",
       "    <tr>\n",
       "      <th>1</th>\n",
       "      <td>air_00a91d42b08b08d9_2017-04-24</td>\n",
       "      <td>19.997988</td>\n",
       "    </tr>\n",
       "    <tr>\n",
       "      <th>2</th>\n",
       "      <td>air_00a91d42b08b08d9_2017-04-25</td>\n",
       "      <td>22.778007</td>\n",
       "    </tr>\n",
       "    <tr>\n",
       "      <th>3</th>\n",
       "      <td>air_00a91d42b08b08d9_2017-04-26</td>\n",
       "      <td>28.605739</td>\n",
       "    </tr>\n",
       "    <tr>\n",
       "      <th>4</th>\n",
       "      <td>air_00a91d42b08b08d9_2017-04-27</td>\n",
       "      <td>31.564612</td>\n",
       "    </tr>\n",
       "    <tr>\n",
       "      <th>5</th>\n",
       "      <td>air_00a91d42b08b08d9_2017-04-28</td>\n",
       "      <td>41.654076</td>\n",
       "    </tr>\n",
       "    <tr>\n",
       "      <th>6</th>\n",
       "      <td>air_00a91d42b08b08d9_2017-04-29</td>\n",
       "      <td>26.258592</td>\n",
       "    </tr>\n",
       "    <tr>\n",
       "      <th>7</th>\n",
       "      <td>air_00a91d42b08b08d9_2017-04-30</td>\n",
       "      <td>7.471969</td>\n",
       "    </tr>\n",
       "    <tr>\n",
       "      <th>8</th>\n",
       "      <td>air_00a91d42b08b08d9_2017-05-01</td>\n",
       "      <td>20.788899</td>\n",
       "    </tr>\n",
       "    <tr>\n",
       "      <th>9</th>\n",
       "      <td>air_00a91d42b08b08d9_2017-05-02</td>\n",
       "      <td>27.488446</td>\n",
       "    </tr>\n",
       "    <tr>\n",
       "      <th>10</th>\n",
       "      <td>air_00a91d42b08b08d9_2017-05-03</td>\n",
       "      <td>29.252009</td>\n",
       "    </tr>\n",
       "    <tr>\n",
       "      <th>11</th>\n",
       "      <td>air_00a91d42b08b08d9_2017-05-04</td>\n",
       "      <td>24.094439</td>\n",
       "    </tr>\n",
       "    <tr>\n",
       "      <th>12</th>\n",
       "      <td>air_00a91d42b08b08d9_2017-05-05</td>\n",
       "      <td>22.583580</td>\n",
       "    </tr>\n",
       "    <tr>\n",
       "      <th>13</th>\n",
       "      <td>air_00a91d42b08b08d9_2017-05-06</td>\n",
       "      <td>10.310116</td>\n",
       "    </tr>\n",
       "    <tr>\n",
       "      <th>14</th>\n",
       "      <td>air_00a91d42b08b08d9_2017-05-07</td>\n",
       "      <td>5.061048</td>\n",
       "    </tr>\n",
       "    <tr>\n",
       "      <th>15</th>\n",
       "      <td>air_00a91d42b08b08d9_2017-05-08</td>\n",
       "      <td>16.758048</td>\n",
       "    </tr>\n",
       "    <tr>\n",
       "      <th>16</th>\n",
       "      <td>air_00a91d42b08b08d9_2017-05-09</td>\n",
       "      <td>18.943171</td>\n",
       "    </tr>\n",
       "    <tr>\n",
       "      <th>17</th>\n",
       "      <td>air_00a91d42b08b08d9_2017-05-10</td>\n",
       "      <td>25.394358</td>\n",
       "    </tr>\n",
       "    <tr>\n",
       "      <th>18</th>\n",
       "      <td>air_00a91d42b08b08d9_2017-05-11</td>\n",
       "      <td>31.330978</td>\n",
       "    </tr>\n",
       "    <tr>\n",
       "      <th>19</th>\n",
       "      <td>air_00a91d42b08b08d9_2017-05-12</td>\n",
       "      <td>39.164145</td>\n",
       "    </tr>\n",
       "    <tr>\n",
       "      <th>20</th>\n",
       "      <td>air_00a91d42b08b08d9_2017-05-13</td>\n",
       "      <td>15.601613</td>\n",
       "    </tr>\n",
       "    <tr>\n",
       "      <th>21</th>\n",
       "      <td>air_00a91d42b08b08d9_2017-05-14</td>\n",
       "      <td>4.288791</td>\n",
       "    </tr>\n",
       "    <tr>\n",
       "      <th>22</th>\n",
       "      <td>air_00a91d42b08b08d9_2017-05-15</td>\n",
       "      <td>19.508794</td>\n",
       "    </tr>\n",
       "    <tr>\n",
       "      <th>23</th>\n",
       "      <td>air_00a91d42b08b08d9_2017-05-16</td>\n",
       "      <td>22.101356</td>\n",
       "    </tr>\n",
       "    <tr>\n",
       "      <th>24</th>\n",
       "      <td>air_00a91d42b08b08d9_2017-05-17</td>\n",
       "      <td>27.488600</td>\n",
       "    </tr>\n",
       "    <tr>\n",
       "      <th>25</th>\n",
       "      <td>air_00a91d42b08b08d9_2017-05-18</td>\n",
       "      <td>30.425429</td>\n",
       "    </tr>\n",
       "    <tr>\n",
       "      <th>26</th>\n",
       "      <td>air_00a91d42b08b08d9_2017-05-19</td>\n",
       "      <td>37.357604</td>\n",
       "    </tr>\n",
       "    <tr>\n",
       "      <th>27</th>\n",
       "      <td>air_00a91d42b08b08d9_2017-05-20</td>\n",
       "      <td>12.344191</td>\n",
       "    </tr>\n",
       "    <tr>\n",
       "      <th>28</th>\n",
       "      <td>air_00a91d42b08b08d9_2017-05-21</td>\n",
       "      <td>5.124713</td>\n",
       "    </tr>\n",
       "    <tr>\n",
       "      <th>29</th>\n",
       "      <td>air_00a91d42b08b08d9_2017-05-22</td>\n",
       "      <td>19.532869</td>\n",
       "    </tr>\n",
       "  </tbody>\n",
       "</table>\n",
       "</div>"
      ],
      "text/plain": [
       "                                 id   visitors\n",
       "0   air_00a91d42b08b08d9_2017-04-23   5.124713\n",
       "1   air_00a91d42b08b08d9_2017-04-24  19.997988\n",
       "2   air_00a91d42b08b08d9_2017-04-25  22.778007\n",
       "3   air_00a91d42b08b08d9_2017-04-26  28.605739\n",
       "4   air_00a91d42b08b08d9_2017-04-27  31.564612\n",
       "5   air_00a91d42b08b08d9_2017-04-28  41.654076\n",
       "6   air_00a91d42b08b08d9_2017-04-29  26.258592\n",
       "7   air_00a91d42b08b08d9_2017-04-30   7.471969\n",
       "8   air_00a91d42b08b08d9_2017-05-01  20.788899\n",
       "9   air_00a91d42b08b08d9_2017-05-02  27.488446\n",
       "10  air_00a91d42b08b08d9_2017-05-03  29.252009\n",
       "11  air_00a91d42b08b08d9_2017-05-04  24.094439\n",
       "12  air_00a91d42b08b08d9_2017-05-05  22.583580\n",
       "13  air_00a91d42b08b08d9_2017-05-06  10.310116\n",
       "14  air_00a91d42b08b08d9_2017-05-07   5.061048\n",
       "15  air_00a91d42b08b08d9_2017-05-08  16.758048\n",
       "16  air_00a91d42b08b08d9_2017-05-09  18.943171\n",
       "17  air_00a91d42b08b08d9_2017-05-10  25.394358\n",
       "18  air_00a91d42b08b08d9_2017-05-11  31.330978\n",
       "19  air_00a91d42b08b08d9_2017-05-12  39.164145\n",
       "20  air_00a91d42b08b08d9_2017-05-13  15.601613\n",
       "21  air_00a91d42b08b08d9_2017-05-14   4.288791\n",
       "22  air_00a91d42b08b08d9_2017-05-15  19.508794\n",
       "23  air_00a91d42b08b08d9_2017-05-16  22.101356\n",
       "24  air_00a91d42b08b08d9_2017-05-17  27.488600\n",
       "25  air_00a91d42b08b08d9_2017-05-18  30.425429\n",
       "26  air_00a91d42b08b08d9_2017-05-19  37.357604\n",
       "27  air_00a91d42b08b08d9_2017-05-20  12.344191\n",
       "28  air_00a91d42b08b08d9_2017-05-21   5.124713\n",
       "29  air_00a91d42b08b08d9_2017-05-22  19.532869"
      ]
     },
     "execution_count": 109,
     "metadata": {},
     "output_type": "execute_result"
    }
   ],
   "source": [
    "y_tscv=lgbmrstcv.predict(lgb_test[col].values)\n",
    "preds_s2=np.expm1(y_tscv)\n",
    "lgb_test['visitors']=preds_s2\n",
    "lgb_test.sort_index(inplace=True)\n",
    "lgb_test[['id','visitors']].to_csv('lgbmtscv_feat_tscv_s2_v8.csv',index=False)\n",
    "lgb_test[['id','visitors']].head(30)"
   ]
  },
  {
   "cell_type": "markdown",
   "metadata": {},
   "source": [
    "** Random Forest failed Model with Hold one out CV**: Public Leaderboard vs Private Leaderboard \n",
    "![Public LB](submissions/lgbm_feat_tscv.PNG)"
   ]
  },
  {
   "cell_type": "markdown",
   "metadata": {},
   "source": [
    "# Baseline model -5: Time series cross validation with XGBoost"
   ]
  },
  {
   "cell_type": "code",
   "execution_count": 101,
   "metadata": {
    "collapsed": true
   },
   "outputs": [],
   "source": [
    "xgb_train= train2.loc[train2.visit_date>='2016-03-01']"
   ]
  },
  {
   "cell_type": "code",
   "execution_count": 102,
   "metadata": {
    "collapsed": true
   },
   "outputs": [],
   "source": [
    "d_we=['visit_dow_ewm21_mean','visit_dow_ewm21_std','visit_ewm21_mean','visit_ewm21_std','districtgenre_ewm21_mean','districtgenre_ewm21_std','rwm_1week']"
   ]
  },
  {
   "cell_type": "code",
   "execution_count": 103,
   "metadata": {
    "collapsed": true
   },
   "outputs": [],
   "source": [
    "# here the custom time series cross validation is implemented \n",
    "# to generate the cv generator for the Random Grid CV this cell is used\n",
    "xgb_test=df_test2.sort_values(ascending=[True,True],by=['visit_date','air_store_id'])\n",
    "xgb_train=xgb_train.sort_values(ascending=[True,True],by=['visit_date','air_store_id'])\n",
    "xgb_train.reset_index(inplace=True)\n",
    "xgb_train.drop('index',axis=1,inplace=True)\n",
    "\n",
    "xgb_train.drop(d_we,axis=1, inplace=True)\n",
    "xgb_test.drop(d_we,axis=1, inplace=True)\n",
    "y_tscv_s2=pd.DataFrame()\n",
    "it=0\n",
    "cv_set=[]\n",
    "col= [c for c in xgb_train if c not in ['station_id', 'air_store_id', 'visit_date','visitors']]\n",
    "\n",
    "cut_dates=['2017-03-12','2017-03-19','2017-04-03','2017-04-10','2017-04-10','2017-04-18','2017-04-18','2017-04-24']\n",
    "for dts in range(int(len(cut_dates)/2)):\n",
    "    mask = ((xgb_train['visit_date']>='2016-03-01') & (xgb_train['visit_date']<cut_dates[it]))\n",
    "    X_train= xgb_train.loc[mask]\n",
    "\n",
    "    #X_train=X_train.sort_values(ascending=[True,True],by=['visit_date','air_store_id'])\n",
    "    X_training= X_train.drop(['visitors','station_id','air_store_id','visit_date'], axis=1)\n",
    "    y_training = (X_train['visitors'])\n",
    "\n",
    "    mask2 = ((xgb_train['visit_date']>=cut_dates[it]) & (xgb_train['visit_date']<cut_dates[it+1]))\n",
    "    X_valid= xgb_train.loc[mask2]\n",
    "    #X_valid=X_valid.sort_values(ascending=[True,True],by=['visit_date','air_store_id'])\n",
    "\n",
    "    X_validate= X_valid.drop(['visitors','station_id','air_store_id','visit_date'], axis=1)\n",
    "    y_validate = (X_valid['visitors'])\n",
    "\n",
    "    cv_set.append(X_training.index.tolist())\n",
    "    cv_set.append(X_validate.index.tolist())\n",
    "    it=it+2"
   ]
  },
  {
   "cell_type": "code",
   "execution_count": 104,
   "metadata": {
    "collapsed": true
   },
   "outputs": [],
   "source": [
    "id_set=[0,2,4,6]\n",
    "\n",
    "xgb_cvd=[]\n",
    "xgb_cvd = [(cv_set[i],cv_set[i+1])\n",
    "      for i in id_set]\n"
   ]
  },
  {
   "cell_type": "code",
   "execution_count": 105,
   "metadata": {
    "collapsed": true
   },
   "outputs": [],
   "source": [
    "params_xgb={'learning_rate':st.uniform(0.01,0.15), 'n_estimators':st.randint(80,400), 'subsample':[0.8,0.9], 'colsample_bytree':[0.8,0.9], 'max_depth' :st.randint(8,12)}"
   ]
  },
  {
   "cell_type": "code",
   "execution_count": 106,
   "metadata": {
    "collapsed": true
   },
   "outputs": [],
   "source": [
    "xgbrg=XGBRegressor(n_jobs=2)"
   ]
  },
  {
   "cell_type": "code",
   "execution_count": 107,
   "metadata": {},
   "outputs": [
    {
     "name": "stdout",
     "output_type": "stream",
     "text": [
      "Fitting 4 folds for each of 20 candidates, totalling 80 fits\n"
     ]
    },
    {
     "name": "stderr",
     "output_type": "stream",
     "text": [
      "[Parallel(n_jobs=8)]: Done  34 tasks      | elapsed: 19.8min\n",
      "[Parallel(n_jobs=8)]: Done  80 out of  80 | elapsed: 41.4min finished\n"
     ]
    },
    {
     "name": "stdout",
     "output_type": "stream",
     "text": [
      "0.20839918351951975\n"
     ]
    }
   ],
   "source": [
    "xgbrstcv = model_selection.RandomizedSearchCV(xgbrg,param_distributions=params_xgb,n_iter=20,n_jobs=8,scoring=scored,cv=xgb_cvd,verbose=True)\n",
    "f_train=xgb_train[col]\n",
    "f_target=xgb_train[['visitors']]\n",
    "xgbrstcv.fit(f_train.values,f_target.values)\n",
    "print(RMSLE(xgbrstcv.predict(X_validate[col].values),y_validate))"
   ]
  },
  {
   "cell_type": "code",
   "execution_count": 108,
   "metadata": {},
   "outputs": [
    {
     "name": "stdout",
     "output_type": "stream",
     "text": [
      "XGBRegressor(base_score=0.5, booster='gbtree', colsample_bylevel=1,\n",
      "       colsample_bytree=0.9, gamma=0, learning_rate=0.15770371574209008,\n",
      "       max_delta_step=0, max_depth=11, min_child_weight=1, missing=None,\n",
      "       n_estimators=365, n_jobs=2, nthread=None, objective='reg:linear',\n",
      "       random_state=0, reg_alpha=0, reg_lambda=1, scale_pos_weight=1,\n",
      "       seed=None, silent=True, subsample=0.9)\n"
     ]
    }
   ],
   "source": [
    "print(xgbrstcv.best_estimator_)"
   ]
  },
  {
   "cell_type": "code",
   "execution_count": 109,
   "metadata": {},
   "outputs": [
    {
     "data": {
      "text/html": [
       "<div>\n",
       "<style scoped>\n",
       "    .dataframe tbody tr th:only-of-type {\n",
       "        vertical-align: middle;\n",
       "    }\n",
       "\n",
       "    .dataframe tbody tr th {\n",
       "        vertical-align: top;\n",
       "    }\n",
       "\n",
       "    .dataframe thead th {\n",
       "        text-align: right;\n",
       "    }\n",
       "</style>\n",
       "<table border=\"1\" class=\"dataframe\">\n",
       "  <thead>\n",
       "    <tr style=\"text-align: right;\">\n",
       "      <th></th>\n",
       "      <th>id</th>\n",
       "      <th>visitors</th>\n",
       "    </tr>\n",
       "  </thead>\n",
       "  <tbody>\n",
       "    <tr>\n",
       "      <th>0</th>\n",
       "      <td>air_00a91d42b08b08d9_2017-04-23</td>\n",
       "      <td>5.572309</td>\n",
       "    </tr>\n",
       "    <tr>\n",
       "      <th>1</th>\n",
       "      <td>air_00a91d42b08b08d9_2017-04-24</td>\n",
       "      <td>26.066633</td>\n",
       "    </tr>\n",
       "    <tr>\n",
       "      <th>2</th>\n",
       "      <td>air_00a91d42b08b08d9_2017-04-25</td>\n",
       "      <td>26.411156</td>\n",
       "    </tr>\n",
       "    <tr>\n",
       "      <th>3</th>\n",
       "      <td>air_00a91d42b08b08d9_2017-04-26</td>\n",
       "      <td>28.456442</td>\n",
       "    </tr>\n",
       "    <tr>\n",
       "      <th>4</th>\n",
       "      <td>air_00a91d42b08b08d9_2017-04-27</td>\n",
       "      <td>32.367088</td>\n",
       "    </tr>\n",
       "    <tr>\n",
       "      <th>5</th>\n",
       "      <td>air_00a91d42b08b08d9_2017-04-28</td>\n",
       "      <td>36.480213</td>\n",
       "    </tr>\n",
       "    <tr>\n",
       "      <th>6</th>\n",
       "      <td>air_00a91d42b08b08d9_2017-04-29</td>\n",
       "      <td>5.130160</td>\n",
       "    </tr>\n",
       "    <tr>\n",
       "      <th>7</th>\n",
       "      <td>air_00a91d42b08b08d9_2017-04-30</td>\n",
       "      <td>6.779686</td>\n",
       "    </tr>\n",
       "    <tr>\n",
       "      <th>8</th>\n",
       "      <td>air_00a91d42b08b08d9_2017-05-01</td>\n",
       "      <td>26.859079</td>\n",
       "    </tr>\n",
       "    <tr>\n",
       "      <th>9</th>\n",
       "      <td>air_00a91d42b08b08d9_2017-05-02</td>\n",
       "      <td>18.682810</td>\n",
       "    </tr>\n",
       "    <tr>\n",
       "      <th>10</th>\n",
       "      <td>air_00a91d42b08b08d9_2017-05-03</td>\n",
       "      <td>7.030017</td>\n",
       "    </tr>\n",
       "    <tr>\n",
       "      <th>11</th>\n",
       "      <td>air_00a91d42b08b08d9_2017-05-04</td>\n",
       "      <td>4.685551</td>\n",
       "    </tr>\n",
       "    <tr>\n",
       "      <th>12</th>\n",
       "      <td>air_00a91d42b08b08d9_2017-05-05</td>\n",
       "      <td>6.520536</td>\n",
       "    </tr>\n",
       "    <tr>\n",
       "      <th>13</th>\n",
       "      <td>air_00a91d42b08b08d9_2017-05-06</td>\n",
       "      <td>10.711422</td>\n",
       "    </tr>\n",
       "    <tr>\n",
       "      <th>14</th>\n",
       "      <td>air_00a91d42b08b08d9_2017-05-07</td>\n",
       "      <td>6.520859</td>\n",
       "    </tr>\n",
       "    <tr>\n",
       "      <th>15</th>\n",
       "      <td>air_00a91d42b08b08d9_2017-05-08</td>\n",
       "      <td>25.725197</td>\n",
       "    </tr>\n",
       "    <tr>\n",
       "      <th>16</th>\n",
       "      <td>air_00a91d42b08b08d9_2017-05-09</td>\n",
       "      <td>24.150311</td>\n",
       "    </tr>\n",
       "    <tr>\n",
       "      <th>17</th>\n",
       "      <td>air_00a91d42b08b08d9_2017-05-10</td>\n",
       "      <td>23.799454</td>\n",
       "    </tr>\n",
       "    <tr>\n",
       "      <th>18</th>\n",
       "      <td>air_00a91d42b08b08d9_2017-05-11</td>\n",
       "      <td>30.948307</td>\n",
       "    </tr>\n",
       "    <tr>\n",
       "      <th>19</th>\n",
       "      <td>air_00a91d42b08b08d9_2017-05-12</td>\n",
       "      <td>34.139420</td>\n",
       "    </tr>\n",
       "    <tr>\n",
       "      <th>20</th>\n",
       "      <td>air_00a91d42b08b08d9_2017-05-13</td>\n",
       "      <td>8.245852</td>\n",
       "    </tr>\n",
       "    <tr>\n",
       "      <th>21</th>\n",
       "      <td>air_00a91d42b08b08d9_2017-05-14</td>\n",
       "      <td>4.351408</td>\n",
       "    </tr>\n",
       "    <tr>\n",
       "      <th>22</th>\n",
       "      <td>air_00a91d42b08b08d9_2017-05-15</td>\n",
       "      <td>20.693073</td>\n",
       "    </tr>\n",
       "    <tr>\n",
       "      <th>23</th>\n",
       "      <td>air_00a91d42b08b08d9_2017-05-16</td>\n",
       "      <td>23.555037</td>\n",
       "    </tr>\n",
       "    <tr>\n",
       "      <th>24</th>\n",
       "      <td>air_00a91d42b08b08d9_2017-05-17</td>\n",
       "      <td>26.814137</td>\n",
       "    </tr>\n",
       "    <tr>\n",
       "      <th>25</th>\n",
       "      <td>air_00a91d42b08b08d9_2017-05-18</td>\n",
       "      <td>27.869698</td>\n",
       "    </tr>\n",
       "    <tr>\n",
       "      <th>26</th>\n",
       "      <td>air_00a91d42b08b08d9_2017-05-19</td>\n",
       "      <td>32.626953</td>\n",
       "    </tr>\n",
       "    <tr>\n",
       "      <th>27</th>\n",
       "      <td>air_00a91d42b08b08d9_2017-05-20</td>\n",
       "      <td>7.439464</td>\n",
       "    </tr>\n",
       "    <tr>\n",
       "      <th>28</th>\n",
       "      <td>air_00a91d42b08b08d9_2017-05-21</td>\n",
       "      <td>5.313034</td>\n",
       "    </tr>\n",
       "    <tr>\n",
       "      <th>29</th>\n",
       "      <td>air_00a91d42b08b08d9_2017-05-22</td>\n",
       "      <td>24.086075</td>\n",
       "    </tr>\n",
       "  </tbody>\n",
       "</table>\n",
       "</div>"
      ],
      "text/plain": [
       "                                 id   visitors\n",
       "0   air_00a91d42b08b08d9_2017-04-23   5.572309\n",
       "1   air_00a91d42b08b08d9_2017-04-24  26.066633\n",
       "2   air_00a91d42b08b08d9_2017-04-25  26.411156\n",
       "3   air_00a91d42b08b08d9_2017-04-26  28.456442\n",
       "4   air_00a91d42b08b08d9_2017-04-27  32.367088\n",
       "5   air_00a91d42b08b08d9_2017-04-28  36.480213\n",
       "6   air_00a91d42b08b08d9_2017-04-29   5.130160\n",
       "7   air_00a91d42b08b08d9_2017-04-30   6.779686\n",
       "8   air_00a91d42b08b08d9_2017-05-01  26.859079\n",
       "9   air_00a91d42b08b08d9_2017-05-02  18.682810\n",
       "10  air_00a91d42b08b08d9_2017-05-03   7.030017\n",
       "11  air_00a91d42b08b08d9_2017-05-04   4.685551\n",
       "12  air_00a91d42b08b08d9_2017-05-05   6.520536\n",
       "13  air_00a91d42b08b08d9_2017-05-06  10.711422\n",
       "14  air_00a91d42b08b08d9_2017-05-07   6.520859\n",
       "15  air_00a91d42b08b08d9_2017-05-08  25.725197\n",
       "16  air_00a91d42b08b08d9_2017-05-09  24.150311\n",
       "17  air_00a91d42b08b08d9_2017-05-10  23.799454\n",
       "18  air_00a91d42b08b08d9_2017-05-11  30.948307\n",
       "19  air_00a91d42b08b08d9_2017-05-12  34.139420\n",
       "20  air_00a91d42b08b08d9_2017-05-13   8.245852\n",
       "21  air_00a91d42b08b08d9_2017-05-14   4.351408\n",
       "22  air_00a91d42b08b08d9_2017-05-15  20.693073\n",
       "23  air_00a91d42b08b08d9_2017-05-16  23.555037\n",
       "24  air_00a91d42b08b08d9_2017-05-17  26.814137\n",
       "25  air_00a91d42b08b08d9_2017-05-18  27.869698\n",
       "26  air_00a91d42b08b08d9_2017-05-19  32.626953\n",
       "27  air_00a91d42b08b08d9_2017-05-20   7.439464\n",
       "28  air_00a91d42b08b08d9_2017-05-21   5.313034\n",
       "29  air_00a91d42b08b08d9_2017-05-22  24.086075"
      ]
     },
     "execution_count": 109,
     "metadata": {},
     "output_type": "execute_result"
    }
   ],
   "source": [
    "y_xgb_tscv=xgbrstcv.predict(xgb_test[col].values)\n",
    "preds_s2=np.expm1(y_xgb_tscv)\n",
    "xgb_test['visitors']=preds_s2\n",
    "xgb_test.sort_index(inplace=True)\n",
    "xgb_test[['id','visitors']].to_csv('xgbtscv_feat_tscv_s2_v8.csv',index=False)\n",
    "xgb_test[['id','visitors']].head(30)"
   ]
  },
  {
   "cell_type": "code",
   "execution_count": 110,
   "metadata": {
    "collapsed": true
   },
   "outputs": [],
   "source": [
    "train_stack_xgb=xgb_train[['air_store_id','visit_date']]"
   ]
  },
  {
   "cell_type": "code",
   "execution_count": 111,
   "metadata": {
    "collapsed": true
   },
   "outputs": [],
   "source": [
    "train_stack_xgb['visitors_xgb']=xgbrstcv.predict(f_train.values)"
   ]
  },
  {
   "cell_type": "code",
   "execution_count": 112,
   "metadata": {
    "collapsed": true
   },
   "outputs": [],
   "source": [
    "train_stack_xgb.to_csv('stacking_input/train_stack_xgb_tscv.csv',index=False)"
   ]
  },
  {
   "cell_type": "markdown",
   "metadata": {},
   "source": [
    "** Random Forest failed Model with Hold one out CV**: Public Leaderboard vs Private Leaderboard \n",
    "![Public LB](submissions/xgbm_feat_tscv.PNG)"
   ]
  },
  {
   "cell_type": "markdown",
   "metadata": {},
   "source": [
    "# Baseline model-6: Time series cross validation using KNN"
   ]
  },
  {
   "cell_type": "code",
   "execution_count": 157,
   "metadata": {
    "collapsed": true
   },
   "outputs": [],
   "source": [
    "from sklearn.neighbors import KNeighborsRegressor"
   ]
  },
  {
   "cell_type": "code",
   "execution_count": 158,
   "metadata": {
    "collapsed": true
   },
   "outputs": [],
   "source": [
    "d_we=['visit_dow_ewm21_mean','visit_dow_ewm21_std','visit_ewm21_mean','visit_ewm21_std','districtgenre_ewm21_mean','districtgenre_ewm21_std']\n",
    "knn_data=train2.drop(d_we,axis=1)\n",
    "knn_test=df_test2.drop(d_we,axis=1)"
   ]
  },
  {
   "cell_type": "code",
   "execution_count": 159,
   "metadata": {
    "collapsed": true
   },
   "outputs": [],
   "source": [
    "knn_data=knn_data[knn_data.visit_date >='2016-03-01']"
   ]
  },
  {
   "cell_type": "code",
   "execution_count": 160,
   "metadata": {
    "collapsed": true
   },
   "outputs": [],
   "source": [
    "# here the custom time series cross validation is implemented \n",
    "# to generate the cv generator for the Random Grid CV this cell is used\n",
    "knn_test=knn_test.sort_values(ascending=[True,True],by=['visit_date','air_store_id'])\n",
    "knn_train=knn_data.sort_values(ascending=[True,True],by=['visit_date','air_store_id'])\n",
    "knn_train.reset_index(inplace=True)\n",
    "knn_train.drop('index',axis=1,inplace=True)\n",
    "y_tscv_s2=pd.DataFrame()\n",
    "it=0\n",
    "knn_cv_set=[]\n",
    "\n",
    "cut_dates=['2016-04-22','2016-05-12','2016-08-31','2016-09-30','2016-12-18','2017-01-15','2017-03-23','2017-04-23']\n",
    "for it in range(int(len(cut_dates)/2)):\n",
    "    mask = ((knn_train['visit_date']>='2016-03-01') & (knn_train['visit_date']<cut_dates[it]))\n",
    "    X_train= knn_train.loc[mask]\n",
    "    X_training= X_train.drop(['visitors','station_id','air_store_id','visit_date'], axis=1)\n",
    "    y_training = (X_train['visitors'])\n",
    "\n",
    "    mask2 = ((knn_train['visit_date']>=cut_dates[it]) & (knn_train['visit_date']<cut_dates[it+1]))\n",
    "    X_valid= knn_train.loc[mask2]\n",
    "    X_validate= X_valid.drop(['visitors','station_id','air_store_id','visit_date'], axis=1)\n",
    "    y_validate = (X_valid['visitors'])\n",
    "\n",
    "    knn_cv_set.append(X_training.index.tolist())\n",
    "    knn_cv_set.append(X_validate.index.tolist())\n",
    "    it=it+2"
   ]
  },
  {
   "cell_type": "code",
   "execution_count": 161,
   "metadata": {
    "collapsed": true
   },
   "outputs": [],
   "source": [
    "id_set=[0,2,4,6]\n",
    "\n",
    "knn_cvd=[]\n",
    "knn_cvd = [(knn_cv_set[i],knn_cv_set[i+1])\n",
    "      for i in id_set]"
   ]
  },
  {
   "cell_type": "code",
   "execution_count": 162,
   "metadata": {
    "collapsed": true
   },
   "outputs": [],
   "source": [
    "col = [c for c in knn_train if c not in ['station_id', 'air_store_id', 'visit_date','visitors']]"
   ]
  },
  {
   "cell_type": "code",
   "execution_count": 178,
   "metadata": {
    "collapsed": true
   },
   "outputs": [],
   "source": [
    "knn = KNeighborsRegressor(n_jobs=-1)\n",
    "params_knn={'n_neighbors':st.randint(3,7), 'algorithm':['ball_tree','kd_tree'], 'leaf_size':st.randint(20,30)}\n",
    "knnrtscv=model_selection.RandomizedSearchCV(knn,param_distributions=params_knn,n_iter=20,n_jobs=8,scoring=scored,cv=knn_cvd,verbose=True)"
   ]
  },
  {
   "cell_type": "code",
   "execution_count": 179,
   "metadata": {},
   "outputs": [
    {
     "name": "stdout",
     "output_type": "stream",
     "text": [
      "Fitting 4 folds for each of 20 candidates, totalling 80 fits\n"
     ]
    },
    {
     "name": "stderr",
     "output_type": "stream",
     "text": [
      "[Parallel(n_jobs=8)]: Done  34 tasks      | elapsed:   27.7s\n",
      "[Parallel(n_jobs=8)]: Done  80 out of  80 | elapsed:  1.1min finished\n"
     ]
    },
    {
     "name": "stdout",
     "output_type": "stream",
     "text": [
      "0.46635303862470223\n",
      "KNeighborsRegressor(algorithm='kd_tree', leaf_size=25, metric='minkowski',\n",
      "          metric_params=None, n_jobs=-1, n_neighbors=3, p=2,\n",
      "          weights='uniform')\n"
     ]
    }
   ],
   "source": [
    "f_train=knn_train[col]\n",
    "f_target=knn_train[['visitors']]\n",
    "knnrtscv.fit(f_train.values,f_target.values)\n",
    "print(RMSLE(knnrtscv.predict(X_validate[col].values),y_validate))\n",
    "print(knnrtscv.best_estimator_)"
   ]
  },
  {
   "cell_type": "code",
   "execution_count": 180,
   "metadata": {
    "collapsed": true
   },
   "outputs": [],
   "source": [
    "knn_best=knnrtscv.best_estimator_"
   ]
  },
  {
   "cell_type": "code",
   "execution_count": 181,
   "metadata": {
    "collapsed": true
   },
   "outputs": [],
   "source": [
    "knn_tr=knn_train[['air_store_id','visit_date']]\n",
    "knn_tr['visitors']=knn_best.predict(f_train.values)\n",
    "knn_tr.to_csv('stacking_input/knn_train.csv',index=False)"
   ]
  },
  {
   "cell_type": "code",
   "execution_count": 182,
   "metadata": {
    "collapsed": true
   },
   "outputs": [],
   "source": [
    "knn_pred=knn_best.predict(knn_test[col].values)\n",
    "knn_test['visitors']=np.expm1(knn_pred)\n",
    "knn_test.sort_index(inplace=True)\n",
    "knn_test[['id','visitors']].to_csv('knn_pred_rtscv.csv',index=False)"
   ]
  },
  {
   "cell_type": "markdown",
   "metadata": {},
   "source": [
    "** Random Forest failed Model with Hold one out CV**: Public Leaderboard vs Private Leaderboard \n",
    "![Public LB](submissions/knn_tscv_feat.PNG)"
   ]
  },
  {
   "cell_type": "markdown",
   "metadata": {},
   "source": [
    "# Baseline model-7: Implementing Extra trees"
   ]
  },
  {
   "cell_type": "code",
   "execution_count": 113,
   "metadata": {
    "collapsed": true
   },
   "outputs": [],
   "source": [
    "from sklearn.ensemble import ExtraTreesRegressor\n",
    "et_params = {'n_estimators':st.randint(150,450),'max_depth': st.randint(12,16),'min_samples_leaf': st.randint(2,5)}"
   ]
  },
  {
   "cell_type": "code",
   "execution_count": 114,
   "metadata": {
    "collapsed": true
   },
   "outputs": [],
   "source": [
    "et_data=train2.copy()\n",
    "et_test=df_test2.copy()"
   ]
  },
  {
   "cell_type": "code",
   "execution_count": 115,
   "metadata": {
    "collapsed": true
   },
   "outputs": [],
   "source": [
    "et_data=et_data[et_data.visit_date >='2016-03-01']"
   ]
  },
  {
   "cell_type": "code",
   "execution_count": 116,
   "metadata": {
    "collapsed": true
   },
   "outputs": [],
   "source": [
    "# here the custom time series cross validation is implemented \n",
    "# to generate the cv generator for the Random Grid CV this cell is used\n",
    "et_test=et_test.sort_values(ascending=[True,True],by=['visit_date','air_store_id'])\n",
    "et_train=et_data.sort_values(ascending=[True,True],by=['visit_date','air_store_id'])\n",
    "et_train.reset_index(inplace=True)\n",
    "et_train.drop('index',axis=1,inplace=True)\n",
    "y_tscv_s2=pd.DataFrame()\n",
    "it=0\n",
    "et_cv_set=[]\n",
    "\n",
    "cut_dates=['2016-04-22','2016-05-12','2016-08-31','2016-09-30','2016-12-18','2017-01-15','2017-03-23','2017-04-23']\n",
    "for dts in range(int(len(cut_dates)/2)):\n",
    "    mask = ((et_train['visit_date']>='2016-03-01') & (et_train['visit_date']<cut_dates[it]))\n",
    "    X_train= et_train.loc[mask]\n",
    "    X_training= X_train.drop(['visitors','station_id','air_store_id','visit_date'], axis=1)\n",
    "    y_training = (X_train['visitors'])\n",
    "\n",
    "    mask2 = ((et_train['visit_date']>=cut_dates[it]) & (et_train['visit_date']<cut_dates[it+1]))\n",
    "    X_valid= et_train.loc[mask2]\n",
    "    X_validate= X_valid.drop(['visitors','station_id','air_store_id','visit_date'], axis=1)\n",
    "    y_validate = (X_valid['visitors'])\n",
    "\n",
    "    et_cv_set.append(X_training.index.tolist())\n",
    "    et_cv_set.append(X_validate.index.tolist())\n",
    "    it=it+2"
   ]
  },
  {
   "cell_type": "code",
   "execution_count": 117,
   "metadata": {
    "collapsed": true
   },
   "outputs": [],
   "source": [
    "id_set=[0,2,4,6]\n",
    "\n",
    "et_cvd=[]\n",
    "et_cvd = [(et_cv_set[i],et_cv_set[i+1])\n",
    "      for i in id_set]"
   ]
  },
  {
   "cell_type": "code",
   "execution_count": 118,
   "metadata": {
    "collapsed": true
   },
   "outputs": [],
   "source": [
    "col = [c for c in et_train if c not in ['station_id', 'air_store_id', 'visit_date','visitors']]"
   ]
  },
  {
   "cell_type": "code",
   "execution_count": 120,
   "metadata": {
    "collapsed": true
   },
   "outputs": [],
   "source": [
    "et=ExtraTreesRegressor()\n",
    "etrtscv=model_selection.RandomizedSearchCV(et,param_distributions=et_params,n_iter=15,n_jobs=5,scoring=scored,cv=et_cvd,verbose=True)"
   ]
  },
  {
   "cell_type": "code",
   "execution_count": 121,
   "metadata": {},
   "outputs": [
    {
     "name": "stdout",
     "output_type": "stream",
     "text": [
      "Fitting 4 folds for each of 15 candidates, totalling 60 fits\n"
     ]
    },
    {
     "name": "stderr",
     "output_type": "stream",
     "text": [
      "[Parallel(n_jobs=5)]: Done  40 tasks      | elapsed: 36.4min\n",
      "[Parallel(n_jobs=5)]: Done  60 out of  60 | elapsed: 60.7min finished\n"
     ]
    },
    {
     "name": "stdout",
     "output_type": "stream",
     "text": [
      "0.48028977977361864\n",
      "ExtraTreesRegressor(bootstrap=False, criterion='mse', max_depth=12,\n",
      "          max_features='auto', max_leaf_nodes=None,\n",
      "          min_impurity_decrease=0.0, min_impurity_split=None,\n",
      "          min_samples_leaf=3, min_samples_split=2,\n",
      "          min_weight_fraction_leaf=0.0, n_estimators=236, n_jobs=1,\n",
      "          oob_score=False, random_state=None, verbose=0, warm_start=False)\n"
     ]
    }
   ],
   "source": [
    "f_train=et_train[col]\n",
    "f_target=et_train[['visitors']]\n",
    "etrtscv.fit(f_train.values,f_target.values)\n",
    "print(RMSLE(etrtscv.predict(X_validate[col].values),y_validate))\n",
    "print(etrtscv.best_estimator_)"
   ]
  },
  {
   "cell_type": "code",
   "execution_count": 122,
   "metadata": {
    "collapsed": true
   },
   "outputs": [],
   "source": [
    "et_best=etrtscv.best_estimator_\n",
    "et_tr=et_train[['air_store_id','visit_date']]\n",
    "et_tr['visitors']=et_best.predict(f_train.values)\n",
    "et_tr.to_csv('stacking_input/et_train.csv',index=False)\n",
    "et_pred=et_best.predict(et_test[col].values)\n",
    "et_test['visitors']=np.expm1(et_pred)\n",
    "et_test[['id','visitors']].to_csv('et_pred_rtscv.csv',index=False)"
   ]
  },
  {
   "cell_type": "markdown",
   "metadata": {},
   "source": [
    "** Random Forest failed Model with Hold one out CV**: Public Leaderboard vs Private Leaderboard \n",
    "![Public LB](submissions/et_tscv_feat.PNG)"
   ]
  },
  {
   "cell_type": "markdown",
   "metadata": {},
   "source": [
    "# Baseline model-8: LSTM model"
   ]
  },
  {
   "cell_type": "markdown",
   "metadata": {},
   "source": [
    "took inputs from this post:\n",
    "\n",
    "https://machinelearningmastery.com/time-series-prediction-lstm-recurrent-neural-networks-python-keras/"
   ]
  },
  {
   "cell_type": "code",
   "execution_count": 109,
   "metadata": {
    "collapsed": true
   },
   "outputs": [],
   "source": [
    "from keras.models import Sequential\n",
    "from keras.layers import Dense, LSTM\n",
    "from keras.callbacks import EarlyStopping\n",
    "from sklearn.preprocessing import MinMaxScaler"
   ]
  },
  {
   "cell_type": "code",
   "execution_count": 124,
   "metadata": {
    "collapsed": true
   },
   "outputs": [],
   "source": [
    "y_train=x_train['visitors']\n",
    "x_train=x_train.drop('visitors',axis=1)\n",
    "y_valid=x_val['visitors']\n",
    "x_val=x_val.drop('visitors',axis=1)"
   ]
  },
  {
   "cell_type": "code",
   "execution_count": 125,
   "metadata": {
    "collapsed": true
   },
   "outputs": [],
   "source": [
    "mmscl=MinMaxScaler()\n",
    "x_train=mmscl.fit_transform(x_train)\n",
    "x_val=mmscl.fit_transform(x_val)"
   ]
  },
  {
   "cell_type": "code",
   "execution_count": 126,
   "metadata": {
    "collapsed": true
   },
   "outputs": [],
   "source": [
    "x_test=mmscl.fit_transform(x_test)"
   ]
  },
  {
   "cell_type": "code",
   "execution_count": 127,
   "metadata": {},
   "outputs": [
    {
     "name": "stdout",
     "output_type": "stream",
     "text": [
      "-- network input --\n",
      "X_train:  (199484, 1, 81)\n",
      "y_train:  (199484,)\n",
      "X_test:  (32019, 1, 81)\n"
     ]
    }
   ],
   "source": [
    "x_train = x_train.reshape((x_train.shape[0], 1, x_train.shape[1]))\n",
    "x_val = x_val.reshape((x_val.shape[0], 1, x_val.shape[1]))\n",
    "x_test = x_test.reshape((x_test.shape[0], 1, x_test.shape[1]))\n",
    "\n",
    "print(\"-- network input --\")\n",
    "print(\"X_train: \", x_train.shape)\n",
    "print(\"y_train: \", y_train.shape)\n",
    "print(\"X_test: \", x_test.shape)"
   ]
  },
  {
   "cell_type": "code",
   "execution_count": 134,
   "metadata": {},
   "outputs": [
    {
     "name": "stdout",
     "output_type": "stream",
     "text": [
      "Train on 199484 samples, validate on 29000 samples\n",
      "Epoch 1/100\n",
      " - 2s - loss: 1.0497 - val_loss: 0.3969\n",
      "Epoch 2/100\n",
      " - 1s - loss: 0.3589 - val_loss: 0.3548\n",
      "Epoch 3/100\n",
      " - 1s - loss: 0.3269 - val_loss: 0.3269\n",
      "Epoch 4/100\n",
      " - 1s - loss: 0.3099 - val_loss: 0.3065\n",
      "Epoch 5/100\n",
      " - 1s - loss: 0.2986 - val_loss: 0.2922\n",
      "Epoch 6/100\n",
      " - 1s - loss: 0.2908 - val_loss: 0.2831\n",
      "Epoch 7/100\n",
      " - 1s - loss: 0.2855 - val_loss: 0.2780\n",
      "Epoch 8/100\n",
      " - 1s - loss: 0.2819 - val_loss: 0.2756\n",
      "Epoch 9/100\n",
      " - 1s - loss: 0.2793 - val_loss: 0.2745\n",
      "Epoch 10/100\n",
      " - 1s - loss: 0.2773 - val_loss: 0.2733\n",
      "Epoch 11/100\n",
      " - 1s - loss: 0.2757 - val_loss: 0.2714\n",
      "Epoch 12/100\n",
      " - 1s - loss: 0.2742 - val_loss: 0.2691\n",
      "Epoch 13/100\n",
      " - 1s - loss: 0.2729 - val_loss: 0.2668\n",
      "Epoch 14/100\n",
      " - 1s - loss: 0.2717 - val_loss: 0.2648\n",
      "Epoch 15/100\n",
      " - 1s - loss: 0.2708 - val_loss: 0.2633\n",
      "Epoch 16/100\n",
      " - 1s - loss: 0.2700 - val_loss: 0.2621\n",
      "Epoch 17/100\n",
      " - 1s - loss: 0.2694 - val_loss: 0.2612\n",
      "Epoch 18/100\n",
      " - 1s - loss: 0.2688 - val_loss: 0.2605\n",
      "Epoch 19/100\n",
      " - 1s - loss: 0.2684 - val_loss: 0.2600\n",
      "Epoch 20/100\n",
      " - 1s - loss: 0.2679 - val_loss: 0.2596\n",
      "Epoch 21/100\n",
      " - 1s - loss: 0.2675 - val_loss: 0.2593\n",
      "Epoch 22/100\n",
      " - 1s - loss: 0.2671 - val_loss: 0.2592\n",
      "Epoch 23/100\n",
      " - 1s - loss: 0.2668 - val_loss: 0.2592\n",
      "Epoch 24/100\n",
      " - 1s - loss: 0.2664 - val_loss: 0.2594\n",
      "Epoch 25/100\n",
      " - 1s - loss: 0.2659 - val_loss: 0.2597\n",
      "Epoch 26/100\n",
      " - 1s - loss: 0.2655 - val_loss: 0.2600\n"
     ]
    },
    {
     "data": {
      "image/png": "[encoded data removed]",
      "text/plain": [
       "<matplotlib.figure.Figure at 0x7fa4b6fca588>"
      ]
     },
     "metadata": {},
     "output_type": "display_data"
    },
    {
     "data": {
      "text/html": [
       "<div>\n",
       "<style scoped>\n",
       "    .dataframe tbody tr th:only-of-type {\n",
       "        vertical-align: middle;\n",
       "    }\n",
       "\n",
       "    .dataframe tbody tr th {\n",
       "        vertical-align: top;\n",
       "    }\n",
       "\n",
       "    .dataframe thead th {\n",
       "        text-align: right;\n",
       "    }\n",
       "</style>\n",
       "<table border=\"1\" class=\"dataframe\">\n",
       "  <thead>\n",
       "    <tr style=\"text-align: right;\">\n",
       "      <th></th>\n",
       "      <th>id</th>\n",
       "      <th>visitors</th>\n",
       "    </tr>\n",
       "  </thead>\n",
       "  <tbody>\n",
       "    <tr>\n",
       "      <th>0</th>\n",
       "      <td>air_00a91d42b08b08d9_2017-04-23</td>\n",
       "      <td>4.229536</td>\n",
       "    </tr>\n",
       "    <tr>\n",
       "      <th>1</th>\n",
       "      <td>air_00a91d42b08b08d9_2017-04-24</td>\n",
       "      <td>26.320719</td>\n",
       "    </tr>\n",
       "    <tr>\n",
       "      <th>2</th>\n",
       "      <td>air_00a91d42b08b08d9_2017-04-25</td>\n",
       "      <td>28.982883</td>\n",
       "    </tr>\n",
       "    <tr>\n",
       "      <th>3</th>\n",
       "      <td>air_00a91d42b08b08d9_2017-04-26</td>\n",
       "      <td>26.979588</td>\n",
       "    </tr>\n",
       "    <tr>\n",
       "      <th>4</th>\n",
       "      <td>air_00a91d42b08b08d9_2017-04-27</td>\n",
       "      <td>35.181854</td>\n",
       "    </tr>\n",
       "    <tr>\n",
       "      <th>5</th>\n",
       "      <td>air_00a91d42b08b08d9_2017-04-28</td>\n",
       "      <td>46.708893</td>\n",
       "    </tr>\n",
       "    <tr>\n",
       "      <th>6</th>\n",
       "      <td>air_00a91d42b08b08d9_2017-04-29</td>\n",
       "      <td>19.857773</td>\n",
       "    </tr>\n",
       "    <tr>\n",
       "      <th>7</th>\n",
       "      <td>air_00a91d42b08b08d9_2017-04-30</td>\n",
       "      <td>3.762873</td>\n",
       "    </tr>\n",
       "    <tr>\n",
       "      <th>8</th>\n",
       "      <td>air_00a91d42b08b08d9_2017-05-01</td>\n",
       "      <td>25.482193</td>\n",
       "    </tr>\n",
       "    <tr>\n",
       "      <th>9</th>\n",
       "      <td>air_00a91d42b08b08d9_2017-05-02</td>\n",
       "      <td>34.569767</td>\n",
       "    </tr>\n",
       "    <tr>\n",
       "      <th>10</th>\n",
       "      <td>air_00a91d42b08b08d9_2017-05-03</td>\n",
       "      <td>20.668653</td>\n",
       "    </tr>\n",
       "    <tr>\n",
       "      <th>11</th>\n",
       "      <td>air_00a91d42b08b08d9_2017-05-04</td>\n",
       "      <td>16.257586</td>\n",
       "    </tr>\n",
       "    <tr>\n",
       "      <th>12</th>\n",
       "      <td>air_00a91d42b08b08d9_2017-05-05</td>\n",
       "      <td>15.671607</td>\n",
       "    </tr>\n",
       "    <tr>\n",
       "      <th>13</th>\n",
       "      <td>air_00a91d42b08b08d9_2017-05-06</td>\n",
       "      <td>13.288930</td>\n",
       "    </tr>\n",
       "    <tr>\n",
       "      <th>14</th>\n",
       "      <td>air_00a91d42b08b08d9_2017-05-07</td>\n",
       "      <td>4.172967</td>\n",
       "    </tr>\n",
       "    <tr>\n",
       "      <th>15</th>\n",
       "      <td>air_00a91d42b08b08d9_2017-05-08</td>\n",
       "      <td>25.915874</td>\n",
       "    </tr>\n",
       "    <tr>\n",
       "      <th>16</th>\n",
       "      <td>air_00a91d42b08b08d9_2017-05-09</td>\n",
       "      <td>27.055164</td>\n",
       "    </tr>\n",
       "    <tr>\n",
       "      <th>17</th>\n",
       "      <td>air_00a91d42b08b08d9_2017-05-10</td>\n",
       "      <td>29.072853</td>\n",
       "    </tr>\n",
       "    <tr>\n",
       "      <th>18</th>\n",
       "      <td>air_00a91d42b08b08d9_2017-05-11</td>\n",
       "      <td>35.528431</td>\n",
       "    </tr>\n",
       "    <tr>\n",
       "      <th>19</th>\n",
       "      <td>air_00a91d42b08b08d9_2017-05-12</td>\n",
       "      <td>36.545082</td>\n",
       "    </tr>\n",
       "  </tbody>\n",
       "</table>\n",
       "</div>"
      ],
      "text/plain": [
       "                                 id   visitors\n",
       "0   air_00a91d42b08b08d9_2017-04-23   4.229536\n",
       "1   air_00a91d42b08b08d9_2017-04-24  26.320719\n",
       "2   air_00a91d42b08b08d9_2017-04-25  28.982883\n",
       "3   air_00a91d42b08b08d9_2017-04-26  26.979588\n",
       "4   air_00a91d42b08b08d9_2017-04-27  35.181854\n",
       "5   air_00a91d42b08b08d9_2017-04-28  46.708893\n",
       "6   air_00a91d42b08b08d9_2017-04-29  19.857773\n",
       "7   air_00a91d42b08b08d9_2017-04-30   3.762873\n",
       "8   air_00a91d42b08b08d9_2017-05-01  25.482193\n",
       "9   air_00a91d42b08b08d9_2017-05-02  34.569767\n",
       "10  air_00a91d42b08b08d9_2017-05-03  20.668653\n",
       "11  air_00a91d42b08b08d9_2017-05-04  16.257586\n",
       "12  air_00a91d42b08b08d9_2017-05-05  15.671607\n",
       "13  air_00a91d42b08b08d9_2017-05-06  13.288930\n",
       "14  air_00a91d42b08b08d9_2017-05-07   4.172967\n",
       "15  air_00a91d42b08b08d9_2017-05-08  25.915874\n",
       "16  air_00a91d42b08b08d9_2017-05-09  27.055164\n",
       "17  air_00a91d42b08b08d9_2017-05-10  29.072853\n",
       "18  air_00a91d42b08b08d9_2017-05-11  35.528431\n",
       "19  air_00a91d42b08b08d9_2017-05-12  36.545082"
      ]
     },
     "execution_count": 134,
     "metadata": {},
     "output_type": "execute_result"
    }
   ],
   "source": [
    "# basic network\n",
    "np.random.seed(7)\n",
    "model = Sequential()\n",
    "model.add(LSTM(100, input_shape=(x_train.shape[1], x_train.shape[2])))\n",
    "\n",
    "model.add(Dense(1))\n",
    "model.compile(loss='mse', optimizer='adam')\n",
    "# fit network\n",
    "history = model.fit(x_train, y_train, epochs=100, \\\n",
    "                    batch_size=1000,validation_data=(x_val, y_valid), verbose=2, shuffle=False,callbacks=[EarlyStopping(patience=4,mode='min')])\n",
    "\n",
    "# plot history\n",
    "plt.plot(history.history['loss'], label='train')\n",
    "plt.plot(history.history['val_loss'], label='test')\n",
    "plt.legend()\n",
    "plt.show()\n",
    " \n",
    "# make a prediction for test data\n",
    "yhat = model.predict(x_test)\n",
    "\n",
    "visitors = np.absolute(np.expm1(yhat))\n",
    "test_data['visitors'] = visitors\n",
    "test_data['id']=test_ids\n",
    "test_data[['id','visitors']].to_csv('submission_lstm.csv', index=False, float_format='%.3f')\n",
    "test_data[['id','visitors']].head(20)"
   ]
  },
  {
   "cell_type": "code",
   "execution_count": 135,
   "metadata": {
    "collapsed": true
   },
   "outputs": [],
   "source": [
    "lstm_train=train_data[['air_store_id','visit_date']][train_data.visit_date <'2017-03-12']\n",
    "\n",
    "lstm_val=train_data[['air_store_id','visit_date']][train_data.visit_date >='2017-03-12']\n",
    "yhat_train = model.predict(x_train)\n",
    "yhat_val = model.predict(x_val)\n",
    "lstm_train['visitors_train'] = np.absolute(np.expm1(yhat_train))\n",
    "lstm_val['visitors_val'] = np.absolute(np.expm1(yhat_val))"
   ]
  },
  {
   "cell_type": "code",
   "execution_count": 136,
   "metadata": {
    "collapsed": true
   },
   "outputs": [],
   "source": [
    "lstm_train.to_csv('stacking_input/train_lstm.csv',index=False)\n",
    "lstm_val.to_csv('stacking_input/val_lstm.csv',index=False)"
   ]
  },
  {
   "cell_type": "markdown",
   "metadata": {},
   "source": [
    "** Random Forest failed Model with Hold one out CV**: Public Leaderboard vs Private Leaderboard \n",
    "![Public LB](submissions/lstm_tscv_feat.PNG)"
   ]
  },
  {
   "cell_type": "markdown",
   "metadata": {},
   "source": [
    "# Baseline model-10: Implementing an MLP with hold one out CV"
   ]
  },
  {
   "cell_type": "code",
   "execution_count": 110,
   "metadata": {
    "collapsed": true
   },
   "outputs": [],
   "source": [
    "mlp_data=train2.copy()\n",
    "mlp_test=df_test2.copy()"
   ]
  },
  {
   "cell_type": "code",
   "execution_count": 111,
   "metadata": {
    "collapsed": true
   },
   "outputs": [],
   "source": [
    "mlp_data=mlp_data[mlp_data.visit_date >='2016-03-01']"
   ]
  },
  {
   "cell_type": "code",
   "execution_count": 112,
   "metadata": {
    "collapsed": true
   },
   "outputs": [],
   "source": [
    "mlp_train=mlp_data[mlp_data.visit_date <'2017-03-12']\n",
    "mlp_val=mlp_data[mlp_data.visit_date >='2017-03-12']"
   ]
  },
  {
   "cell_type": "code",
   "execution_count": 199,
   "metadata": {},
   "outputs": [
    {
     "data": {
      "text/plain": [
       "(199484, 85)"
      ]
     },
     "execution_count": 199,
     "metadata": {},
     "output_type": "execute_result"
    }
   ],
   "source": [
    "mlp_train.shape"
   ]
  },
  {
   "cell_type": "code",
   "execution_count": 113,
   "metadata": {
    "collapsed": true
   },
   "outputs": [],
   "source": [
    "col = [c for c in mlp_train if c not in ['station_id', 'air_store_id', 'visit_date','visitors']]"
   ]
  },
  {
   "cell_type": "code",
   "execution_count": 114,
   "metadata": {
    "collapsed": true
   },
   "outputs": [],
   "source": [
    "mmscl=MinMaxScaler()\n",
    "ml_train=mmscl.fit_transform(mlp_train[col])\n",
    "ml_val=mmscl.fit_transform(mlp_val[col])\n",
    "ml_test=mmscl.fit_transform(mlp_test[col])"
   ]
  },
  {
   "cell_type": "code",
   "execution_count": 123,
   "metadata": {
    "collapsed": true
   },
   "outputs": [],
   "source": [
    "yml_train=mlp_train['visitors'].values\n",
    "yml_val=mlp_val['visitors'].values"
   ]
  },
  {
   "cell_type": "code",
   "execution_count": 104,
   "metadata": {
    "collapsed": true
   },
   "outputs": [],
   "source": [
    "all_cols=train_data.columns.tolist()\n",
    "cat_columns=['air_store_id2','dow','year','month','air_genre_name','area_lvl1','area_lvl2','area_lvl3','date_int']"
   ]
  },
  {
   "cell_type": "code",
   "execution_count": 118,
   "metadata": {
    "collapsed": true
   },
   "outputs": [],
   "source": [
    "from keras.models import Sequential\n",
    "from keras.layers import Dense, Dropout, Activation\n",
    "\n",
    "import tensorflow as tf\n",
    "from keras.layers import Dense, Dropout, Flatten,BatchNormalization\n",
    "from keras.optimizers import SGD,Adam\n",
    "import keras.backend as K\n",
    "import keras.callbacks\n",
    "from keras import regularizers"
   ]
  },
  {
   "cell_type": "code",
   "execution_count": 228,
   "metadata": {
    "collapsed": true
   },
   "outputs": [],
   "source": [
    "nb_classes=1 # regression problem\n",
    "l1_num_neuron=50\n",
    "l2_num_neuron=30\n",
    "output_neuron=nb_classes\n",
    "layer_1 = Dense(l1_num_neuron, activation='sigmoid',kernel_regularizer=regularizers.l2(0.01), input_dim=ml_train.shape[1])\n",
    "layer_2 = Dense(l2_num_neuron, activation='sigmoid',kernel_regularizer=regularizers.l2(0.01))\n",
    "layer_out = Dense(output_neuron, activation='relu',kernel_regularizer=regularizers.l2(0.01))"
   ]
  },
  {
   "cell_type": "code",
   "execution_count": 229,
   "metadata": {
    "collapsed": true
   },
   "outputs": [],
   "source": [
    "mlp=Sequential()\n",
    "mlp.add(layer_1)\n",
    "mlp.add(Dropout(0.2))\n",
    "mlp.add(BatchNormalization(axis=-1, momentum=0.99, epsilon=0.01))\n",
    "mlp.add(layer_2)\n",
    "mlp.add(Dropout(0.3))\n",
    "mlp.add(BatchNormalization(axis=-1, momentum=0.99, epsilon=0.01))\n",
    "mlp.add(layer_out)"
   ]
  },
  {
   "cell_type": "code",
   "execution_count": 231,
   "metadata": {},
   "outputs": [
    {
     "name": "stdout",
     "output_type": "stream",
     "text": [
      "_________________________________________________________________\n",
      "Layer (type)                 Output Shape              Param #   \n",
      "=================================================================\n",
      "dense_25 (Dense)             (None, 50)                4100      \n",
      "_________________________________________________________________\n",
      "dropout_25 (Dropout)         (None, 50)                0         \n",
      "_________________________________________________________________\n",
      "batch_normalization_21 (Batc (None, 50)                200       \n",
      "_________________________________________________________________\n",
      "dense_26 (Dense)             (None, 30)                1530      \n",
      "_________________________________________________________________\n",
      "dropout_26 (Dropout)         (None, 30)                0         \n",
      "_________________________________________________________________\n",
      "batch_normalization_22 (Batc (None, 30)                120       \n",
      "_________________________________________________________________\n",
      "dense_27 (Dense)             (None, 1)                 31        \n",
      "=================================================================\n",
      "Total params: 5,981\n",
      "Trainable params: 5,821\n",
      "Non-trainable params: 160\n",
      "_________________________________________________________________\n"
     ]
    }
   ],
   "source": [
    "sgd = SGD(lr=0.01, momentum=0.8, decay=0.1/200, nesterov=True)\n",
    "mlp.compile(optimizer=sgd,loss='mse',metrics=['mae'])\n",
    "mlp.summary()"
   ]
  },
  {
   "cell_type": "code",
   "execution_count": 232,
   "metadata": {
    "scrolled": true
   },
   "outputs": [
    {
     "name": "stdout",
     "output_type": "stream",
     "text": [
      "Train on 199484 samples, validate on 29000 samples\n",
      "Epoch 1/200\n",
      "199484/199484 [==============================] - 4s 18us/step - loss: 1.3485 - mean_absolute_error: 0.6765 - val_loss: 0.9397 - val_mean_absolute_error: 0.6073\n",
      "Epoch 2/200\n",
      "199484/199484 [==============================] - 3s 13us/step - loss: 0.8256 - mean_absolute_error: 0.5983 - val_loss: 0.6699 - val_mean_absolute_error: 0.5414\n",
      "Epoch 3/200\n",
      "199484/199484 [==============================] - 3s 13us/step - loss: 0.6857 - mean_absolute_error: 0.5683 - val_loss: 0.5768 - val_mean_absolute_error: 0.5142\n",
      "Epoch 4/200\n",
      "199484/199484 [==============================] - 3s 13us/step - loss: 0.6296 - mean_absolute_error: 0.5538 - val_loss: 0.5362 - val_mean_absolute_error: 0.5034\n",
      "Epoch 5/200\n",
      "199484/199484 [==============================] - 3s 13us/step - loss: 0.6021 - mean_absolute_error: 0.5470 - val_loss: 0.5152 - val_mean_absolute_error: 0.4934\n",
      "Epoch 6/200\n",
      "199484/199484 [==============================] - 3s 13us/step - loss: 0.5876 - mean_absolute_error: 0.5429 - val_loss: 0.5007 - val_mean_absolute_error: 0.4900\n",
      "Epoch 7/200\n",
      "199484/199484 [==============================] - 3s 14us/step - loss: 0.5797 - mean_absolute_error: 0.5410 - val_loss: 0.4935 - val_mean_absolute_error: 0.4880\n",
      "Epoch 8/200\n",
      "199484/199484 [==============================] - 3s 14us/step - loss: 0.5739 - mean_absolute_error: 0.5390 - val_loss: 0.5051 - val_mean_absolute_error: 0.5004\n",
      "Epoch 9/200\n",
      "199484/199484 [==============================] - 3s 13us/step - loss: 0.5695 - mean_absolute_error: 0.5382 - val_loss: 0.4846 - val_mean_absolute_error: 0.4847\n",
      "Epoch 10/200\n",
      "199484/199484 [==============================] - 3s 14us/step - loss: 0.5662 - mean_absolute_error: 0.5366 - val_loss: 0.4825 - val_mean_absolute_error: 0.4829\n",
      "Epoch 11/200\n",
      "199484/199484 [==============================] - 3s 13us/step - loss: 0.5634 - mean_absolute_error: 0.5358 - val_loss: 0.4813 - val_mean_absolute_error: 0.4824\n",
      "Epoch 12/200\n",
      "199484/199484 [==============================] - 3s 13us/step - loss: 0.5612 - mean_absolute_error: 0.5355 - val_loss: 0.4835 - val_mean_absolute_error: 0.4852\n",
      "Epoch 13/200\n",
      "199484/199484 [==============================] - 3s 13us/step - loss: 0.5579 - mean_absolute_error: 0.5338 - val_loss: 0.4722 - val_mean_absolute_error: 0.4782\n",
      "Epoch 14/200\n",
      "199484/199484 [==============================] - 3s 13us/step - loss: 0.5586 - mean_absolute_error: 0.5346 - val_loss: 0.4785 - val_mean_absolute_error: 0.4853\n",
      "Epoch 15/200\n",
      "199484/199484 [==============================] - 3s 13us/step - loss: 0.5553 - mean_absolute_error: 0.5327 - val_loss: 0.4781 - val_mean_absolute_error: 0.4865\n",
      "Epoch 16/200\n",
      "199484/199484 [==============================] - 3s 13us/step - loss: 0.5561 - mean_absolute_error: 0.5337 - val_loss: 0.4763 - val_mean_absolute_error: 0.4843\n",
      "Epoch 17/200\n",
      "199484/199484 [==============================] - ETA: 0s - loss: 0.5545 - mean_absolute_error: 0.533 - 3s 13us/step - loss: 0.5544 - mean_absolute_error: 0.5332 - val_loss: 0.4725 - val_mean_absolute_error: 0.4814\n",
      "Epoch 00017: early stopping\n"
     ]
    }
   ],
   "source": [
    "from keras.callbacks import EarlyStopping\n",
    "train_res = mlp.fit(ml_train,\n",
    "                      yml_train,\n",
    "                      batch_size=312,\n",
    "                      epochs=200,\n",
    "                      verbose=True,\n",
    "                      validation_data=(ml_val,\n",
    "                                       yml_val),\n",
    "                      callbacks=\n",
    "                      [EarlyStopping(patience=4,mode='min',\n",
    "                                     verbose=True)]\n",
    "                      )"
   ]
  },
  {
   "cell_type": "code",
   "execution_count": 237,
   "metadata": {
    "collapsed": true
   },
   "outputs": [],
   "source": [
    "mlp_preds=mlp.predict(ml_test)\n",
    "mlp_test['visitors']=np.expm1((mlp_preds))\n",
    "mlp_test[['id','visitors']].to_csv('mlp_hout_cv.csv',index=False)"
   ]
  },
  {
   "cell_type": "markdown",
   "metadata": {},
   "source": [
    "** MLP with Hold one out CV**: Public Leaderboard vs Private Leaderboard \n",
    "![Public LB](submissions/mlp_hout_feat.PNG)"
   ]
  },
  {
   "cell_type": "markdown",
   "metadata": {},
   "source": [
    "# Stacking the baseline models"
   ]
  },
  {
   "cell_type": "markdown",
   "metadata": {},
   "source": [
    "## Baseline Leaderboard"
   ]
  },
  {
   "cell_type": "markdown",
   "metadata": {},
   "source": [
    "| Rank| Baseline Model| Cross Validation Strategy| Private Score|Public Score|Training Time|\n",
    "| -------------| ------------- |:-------------:| -----:| ------------- |:-------------:| -----:|\n",
    "| 1 | XGBoost| Hold one out CV with fixed params | 0.512|0.480|5 min|\n",
    "| 2 | Light GBM| Hold one out CV with fixed params | 0.514|0.472|2 min|\n",
    "| 3 | Extra Trees| Time series CV with Random Gridsearch + custom feat | 0.516|0.485|60 min|\n",
    "| 4 | random Forests| Hold one out CV with Random Gridsearch + custom feat | 0.524|0.496|29.3 min|\n",
    "| 5 | LSTM| Hold one out CV and one dense layer | 0.525|0.498|2 min|\n",
    "| 6 | Light GBM| Time series CV with Random Gridsearch + custom feat| 0.526|0.490|160 min|\n",
    "| 7 | XGBoost| Time series CV with Random Gridsearch + custom feat | 0.555|0.495|41 min|\n",
    "| 8 | **Benchmark H2OAutoML**| Kfold CV with Random grid search | 0.566|0.524|45 min|\n",
    "| 9 | MLP regressor| Holdone out CV + custom feat | 0.625|0.611|2 min|\n",
    "| 10 | KNN regressor| Time series CV with Random Gridsearch + custom feat | 0.698|0.603|1.3 min|\n",
    "| 11 |**Benchamrk ARIMA**| No CV with fixed params | 0.787|0.552|62 min|\n"
   ]
  },
  {
   "cell_type": "markdown",
   "metadata": {},
   "source": [
    "**Observation:** Time Series CV is not working use many new restaurants which are added in June do not have enough data and due to less number of observations the algorithms are overfitting"
   ]
  },
  {
   "cell_type": "markdown",
   "metadata": {},
   "source": [
    "Till now i have built up various baseline models and now i will be stacking them and **i will not be considering the last three models because they have very less score **"
   ]
  },
  {
   "cell_type": "code",
   "execution_count": 450,
   "metadata": {},
   "outputs": [
    {
     "data": {
      "text/html": [
       "<div>\n",
       "<style scoped>\n",
       "    .dataframe tbody tr th:only-of-type {\n",
       "        vertical-align: middle;\n",
       "    }\n",
       "\n",
       "    .dataframe tbody tr th {\n",
       "        vertical-align: top;\n",
       "    }\n",
       "\n",
       "    .dataframe thead th {\n",
       "        text-align: right;\n",
       "    }\n",
       "</style>\n",
       "<table border=\"1\" class=\"dataframe\">\n",
       "  <thead>\n",
       "    <tr style=\"text-align: right;\">\n",
       "      <th></th>\n",
       "      <th>air_store_id</th>\n",
       "      <th>visit_date</th>\n",
       "      <th>pred_gb</th>\n",
       "      <th>pred_knn</th>\n",
       "      <th>pred_xgb</th>\n",
       "      <th>pred_rf</th>\n",
       "      <th>pred_lgb</th>\n",
       "    </tr>\n",
       "  </thead>\n",
       "  <tbody>\n",
       "    <tr>\n",
       "      <th>0</th>\n",
       "      <td>air_ba937bf13d40fb24</td>\n",
       "      <td>2016-01-13</td>\n",
       "      <td>3.050962</td>\n",
       "      <td>3.338959</td>\n",
       "      <td>3.222193</td>\n",
       "      <td>3.143372</td>\n",
       "      <td>3.067253</td>\n",
       "    </tr>\n",
       "    <tr>\n",
       "      <th>1</th>\n",
       "      <td>air_ba937bf13d40fb24</td>\n",
       "      <td>2016-01-14</td>\n",
       "      <td>3.139613</td>\n",
       "      <td>3.245285</td>\n",
       "      <td>3.194851</td>\n",
       "      <td>2.824464</td>\n",
       "      <td>2.952177</td>\n",
       "    </tr>\n",
       "    <tr>\n",
       "      <th>2</th>\n",
       "      <td>air_ba937bf13d40fb24</td>\n",
       "      <td>2016-01-15</td>\n",
       "      <td>3.436442</td>\n",
       "      <td>3.184807</td>\n",
       "      <td>3.350678</td>\n",
       "      <td>3.393375</td>\n",
       "      <td>3.439580</td>\n",
       "    </tr>\n",
       "    <tr>\n",
       "      <th>3</th>\n",
       "      <td>air_ba937bf13d40fb24</td>\n",
       "      <td>2016-01-16</td>\n",
       "      <td>3.083693</td>\n",
       "      <td>3.338959</td>\n",
       "      <td>3.136229</td>\n",
       "      <td>3.229037</td>\n",
       "      <td>3.262667</td>\n",
       "    </tr>\n",
       "    <tr>\n",
       "      <th>4</th>\n",
       "      <td>air_ba937bf13d40fb24</td>\n",
       "      <td>2016-01-18</td>\n",
       "      <td>2.194771</td>\n",
       "      <td>2.456111</td>\n",
       "      <td>2.115015</td>\n",
       "      <td>2.560959</td>\n",
       "      <td>2.350257</td>\n",
       "    </tr>\n",
       "  </tbody>\n",
       "</table>\n",
       "</div>"
      ],
      "text/plain": [
       "           air_store_id  visit_date   pred_gb  pred_knn  pred_xgb   pred_rf  \\\n",
       "0  air_ba937bf13d40fb24  2016-01-13  3.050962  3.338959  3.222193  3.143372   \n",
       "1  air_ba937bf13d40fb24  2016-01-14  3.139613  3.245285  3.194851  2.824464   \n",
       "2  air_ba937bf13d40fb24  2016-01-15  3.436442  3.184807  3.350678  3.393375   \n",
       "3  air_ba937bf13d40fb24  2016-01-16  3.083693  3.338959  3.136229  3.229037   \n",
       "4  air_ba937bf13d40fb24  2016-01-18  2.194771  2.456111  2.115015  2.560959   \n",
       "\n",
       "   pred_lgb  \n",
       "0  3.067253  \n",
       "1  2.952177  \n",
       "2  3.439580  \n",
       "3  3.262667  \n",
       "4  2.350257  "
      ]
     },
     "execution_count": 450,
     "metadata": {},
     "output_type": "execute_result"
    }
   ],
   "source": [
    "st_input=pd.read_csv('stacking_input/stack_no_cv_pub_mine.csv')\n",
    "st_input.head() \n",
    "# here we have 5 prediction values, i think i will take the average of this dataframe as 1 feature for meta learner"
   ]
  },
  {
   "cell_type": "code",
   "execution_count": 451,
   "metadata": {
    "collapsed": true
   },
   "outputs": [],
   "source": [
    "st_input['visitors_avg_nocv']=0.2*st_input['pred_gb']+0.2*st_input['pred_knn']+0.3*st_input['pred_xgb']+0.1*st_input['pred_rf']+0.2*st_input['pred_lgb']\n",
    "st_input.drop(['pred_gb','pred_knn','pred_xgb','pred_rf','pred_lgb'],axis=1,inplace=True)"
   ]
  },
  {
   "cell_type": "code",
   "execution_count": 452,
   "metadata": {},
   "outputs": [
    {
     "data": {
      "text/html": [
       "<div>\n",
       "<style scoped>\n",
       "    .dataframe tbody tr th:only-of-type {\n",
       "        vertical-align: middle;\n",
       "    }\n",
       "\n",
       "    .dataframe tbody tr th {\n",
       "        vertical-align: top;\n",
       "    }\n",
       "\n",
       "    .dataframe thead th {\n",
       "        text-align: right;\n",
       "    }\n",
       "</style>\n",
       "<table border=\"1\" class=\"dataframe\">\n",
       "  <thead>\n",
       "    <tr style=\"text-align: right;\">\n",
       "      <th></th>\n",
       "      <th>air_store_id</th>\n",
       "      <th>visit_date</th>\n",
       "      <th>visitors_rf</th>\n",
       "    </tr>\n",
       "  </thead>\n",
       "  <tbody>\n",
       "    <tr>\n",
       "      <th>0</th>\n",
       "      <td>air_0241aa3964b7f861</td>\n",
       "      <td>2016-03-01</td>\n",
       "      <td>2.187622</td>\n",
       "    </tr>\n",
       "    <tr>\n",
       "      <th>1</th>\n",
       "      <td>air_03963426c9312048</td>\n",
       "      <td>2016-03-01</td>\n",
       "      <td>3.274666</td>\n",
       "    </tr>\n",
       "    <tr>\n",
       "      <th>2</th>\n",
       "      <td>air_04341b588bde96cd</td>\n",
       "      <td>2016-03-01</td>\n",
       "      <td>3.269900</td>\n",
       "    </tr>\n",
       "    <tr>\n",
       "      <th>3</th>\n",
       "      <td>air_05c325d315cc17f5</td>\n",
       "      <td>2016-03-01</td>\n",
       "      <td>2.788204</td>\n",
       "    </tr>\n",
       "    <tr>\n",
       "      <th>4</th>\n",
       "      <td>air_06f95ac5c33aca10</td>\n",
       "      <td>2016-03-01</td>\n",
       "      <td>2.785223</td>\n",
       "    </tr>\n",
       "  </tbody>\n",
       "</table>\n",
       "</div>"
      ],
      "text/plain": [
       "           air_store_id  visit_date  visitors_rf\n",
       "0  air_0241aa3964b7f861  2016-03-01     2.187622\n",
       "1  air_03963426c9312048  2016-03-01     3.274666\n",
       "2  air_04341b588bde96cd  2016-03-01     3.269900\n",
       "3  air_05c325d315cc17f5  2016-03-01     2.788204\n",
       "4  air_06f95ac5c33aca10  2016-03-01     2.785223"
      ]
     },
     "execution_count": 452,
     "metadata": {},
     "output_type": "execute_result"
    }
   ],
   "source": [
    "st_input_2=pd.read_csv('stacking_input/train_stack_rf_hout_tscv.csv')\n",
    "st_input_2.head()"
   ]
  },
  {
   "cell_type": "code",
   "execution_count": 453,
   "metadata": {},
   "outputs": [
    {
     "data": {
      "text/html": [
       "<div>\n",
       "<style scoped>\n",
       "    .dataframe tbody tr th:only-of-type {\n",
       "        vertical-align: middle;\n",
       "    }\n",
       "\n",
       "    .dataframe tbody tr th {\n",
       "        vertical-align: top;\n",
       "    }\n",
       "\n",
       "    .dataframe thead th {\n",
       "        text-align: right;\n",
       "    }\n",
       "</style>\n",
       "<table border=\"1\" class=\"dataframe\">\n",
       "  <thead>\n",
       "    <tr style=\"text-align: right;\">\n",
       "      <th></th>\n",
       "      <th>air_store_id</th>\n",
       "      <th>visit_date</th>\n",
       "      <th>train_lgbm</th>\n",
       "      <th>train_xgb</th>\n",
       "    </tr>\n",
       "  </thead>\n",
       "  <tbody>\n",
       "    <tr>\n",
       "      <th>0</th>\n",
       "      <td>air_ba937bf13d40fb24</td>\n",
       "      <td>2016-03-01</td>\n",
       "      <td>2.972467</td>\n",
       "      <td>2.696861</td>\n",
       "    </tr>\n",
       "    <tr>\n",
       "      <th>1</th>\n",
       "      <td>air_ba937bf13d40fb24</td>\n",
       "      <td>2016-03-02</td>\n",
       "      <td>3.028701</td>\n",
       "      <td>3.025458</td>\n",
       "    </tr>\n",
       "    <tr>\n",
       "      <th>2</th>\n",
       "      <td>air_ba937bf13d40fb24</td>\n",
       "      <td>2016-03-03</td>\n",
       "      <td>3.101271</td>\n",
       "      <td>2.965118</td>\n",
       "    </tr>\n",
       "    <tr>\n",
       "      <th>3</th>\n",
       "      <td>air_ba937bf13d40fb24</td>\n",
       "      <td>2016-03-04</td>\n",
       "      <td>3.388205</td>\n",
       "      <td>3.440097</td>\n",
       "    </tr>\n",
       "    <tr>\n",
       "      <th>4</th>\n",
       "      <td>air_ba937bf13d40fb24</td>\n",
       "      <td>2016-03-05</td>\n",
       "      <td>2.984628</td>\n",
       "      <td>2.890149</td>\n",
       "    </tr>\n",
       "  </tbody>\n",
       "</table>\n",
       "</div>"
      ],
      "text/plain": [
       "           air_store_id  visit_date  train_lgbm  train_xgb\n",
       "0  air_ba937bf13d40fb24  2016-03-01    2.972467   2.696861\n",
       "1  air_ba937bf13d40fb24  2016-03-02    3.028701   3.025458\n",
       "2  air_ba937bf13d40fb24  2016-03-03    3.101271   2.965118\n",
       "3  air_ba937bf13d40fb24  2016-03-04    3.388205   3.440097\n",
       "4  air_ba937bf13d40fb24  2016-03-05    2.984628   2.890149"
      ]
     },
     "execution_count": 453,
     "metadata": {},
     "output_type": "execute_result"
    }
   ],
   "source": [
    "# I will be using this because it is after custom feat with no Time series cv but Hold one Out CV\n",
    "st_input_31=pd.read_csv('stacking_input/base_stack_train_lgbm_xgb_no_tscv.csv')\n",
    "st_input_32=pd.read_csv('stacking_input/base_stack_val_lgbm_xgb_no_tscv.csv')\n",
    "st_input_32=st_input_32.rename(columns={'val_lgbm':'train_lgbm','val_xgb':'train_xgb'})\n",
    "st_input_3=pd.concat([st_input_31,st_input_32])\n",
    "st_input_3.head()"
   ]
  },
  {
   "cell_type": "code",
   "execution_count": 454,
   "metadata": {},
   "outputs": [
    {
     "data": {
      "text/html": [
       "<div>\n",
       "<style scoped>\n",
       "    .dataframe tbody tr th:only-of-type {\n",
       "        vertical-align: middle;\n",
       "    }\n",
       "\n",
       "    .dataframe tbody tr th {\n",
       "        vertical-align: top;\n",
       "    }\n",
       "\n",
       "    .dataframe thead th {\n",
       "        text-align: right;\n",
       "    }\n",
       "</style>\n",
       "<table border=\"1\" class=\"dataframe\">\n",
       "  <thead>\n",
       "    <tr style=\"text-align: right;\">\n",
       "      <th></th>\n",
       "      <th>air_store_id</th>\n",
       "      <th>visit_date</th>\n",
       "      <th>visitors_train</th>\n",
       "    </tr>\n",
       "  </thead>\n",
       "  <tbody>\n",
       "    <tr>\n",
       "      <th>0</th>\n",
       "      <td>air_ba937bf13d40fb24</td>\n",
       "      <td>2016-03-01</td>\n",
       "      <td>2.640174</td>\n",
       "    </tr>\n",
       "    <tr>\n",
       "      <th>1</th>\n",
       "      <td>air_ba937bf13d40fb24</td>\n",
       "      <td>2016-03-02</td>\n",
       "      <td>2.988439</td>\n",
       "    </tr>\n",
       "    <tr>\n",
       "      <th>2</th>\n",
       "      <td>air_ba937bf13d40fb24</td>\n",
       "      <td>2016-03-03</td>\n",
       "      <td>2.958388</td>\n",
       "    </tr>\n",
       "    <tr>\n",
       "      <th>3</th>\n",
       "      <td>air_ba937bf13d40fb24</td>\n",
       "      <td>2016-03-04</td>\n",
       "      <td>3.284989</td>\n",
       "    </tr>\n",
       "    <tr>\n",
       "      <th>4</th>\n",
       "      <td>air_ba937bf13d40fb24</td>\n",
       "      <td>2016-03-05</td>\n",
       "      <td>2.936615</td>\n",
       "    </tr>\n",
       "  </tbody>\n",
       "</table>\n",
       "</div>"
      ],
      "text/plain": [
       "           air_store_id  visit_date  visitors_train\n",
       "0  air_ba937bf13d40fb24  2016-03-01        2.640174\n",
       "1  air_ba937bf13d40fb24  2016-03-02        2.988439\n",
       "2  air_ba937bf13d40fb24  2016-03-03        2.958388\n",
       "3  air_ba937bf13d40fb24  2016-03-04        3.284989\n",
       "4  air_ba937bf13d40fb24  2016-03-05        2.936615"
      ]
     },
     "execution_count": 454,
     "metadata": {},
     "output_type": "execute_result"
    }
   ],
   "source": [
    "# LSTM model after custom feat and Val\n",
    "st_input_41=pd.read_csv('stacking_input/train_lstm.csv')\n",
    "st_input_42=pd.read_csv('stacking_input/val_lstm.csv')\n",
    "st_input_42=st_input_42.rename(columns={'visitors_val':'visitors_train'})\n",
    "st_input_4=pd.concat([st_input_41,st_input_42])\n",
    "st_input_4['visitors_train']=np.log1p(st_input_4['visitors_train'])\n",
    "st_input_4.head()"
   ]
  },
  {
   "cell_type": "code",
   "execution_count": 456,
   "metadata": {
    "collapsed": true
   },
   "outputs": [],
   "source": [
    "# this dataframe is LGBM 4 fold tscv\n",
    "st_input_6=pd.read_csv('stacking_input/lgb_4foldcv.csv')"
   ]
  },
  {
   "cell_type": "code",
   "execution_count": 458,
   "metadata": {
    "collapsed": true
   },
   "outputs": [],
   "source": [
    "st_input_8=pd.read_csv('stacking_input/et_train.csv')\n",
    "st_input_8=st_input_8.rename(columns={'visitors':'train_et_tscv'})"
   ]
  },
  {
   "cell_type": "markdown",
   "metadata": {},
   "source": [
    "** merging all the stacking inputs into one dataframe **"
   ]
  },
  {
   "cell_type": "code",
   "execution_count": 459,
   "metadata": {},
   "outputs": [
    {
     "data": {
      "text/html": [
       "<div>\n",
       "<style scoped>\n",
       "    .dataframe tbody tr th:only-of-type {\n",
       "        vertical-align: middle;\n",
       "    }\n",
       "\n",
       "    .dataframe tbody tr th {\n",
       "        vertical-align: top;\n",
       "    }\n",
       "\n",
       "    .dataframe thead th {\n",
       "        text-align: right;\n",
       "    }\n",
       "</style>\n",
       "<table border=\"1\" class=\"dataframe\">\n",
       "  <thead>\n",
       "    <tr style=\"text-align: right;\">\n",
       "      <th></th>\n",
       "      <th>air_store_id</th>\n",
       "      <th>visit_date</th>\n",
       "      <th>visitors_avg_nocv</th>\n",
       "      <th>visitors_rf</th>\n",
       "      <th>train_lgbm</th>\n",
       "      <th>train_xgb</th>\n",
       "      <th>visitors_train</th>\n",
       "      <th>visitors_lgb</th>\n",
       "      <th>train_et_tscv</th>\n",
       "    </tr>\n",
       "  </thead>\n",
       "  <tbody>\n",
       "    <tr>\n",
       "      <th>0</th>\n",
       "      <td>air_ba937bf13d40fb24</td>\n",
       "      <td>2016-01-13</td>\n",
       "      <td>3.172430</td>\n",
       "      <td>NaN</td>\n",
       "      <td>NaN</td>\n",
       "      <td>NaN</td>\n",
       "      <td>NaN</td>\n",
       "      <td>2.344823</td>\n",
       "      <td>NaN</td>\n",
       "    </tr>\n",
       "    <tr>\n",
       "      <th>1</th>\n",
       "      <td>air_ba937bf13d40fb24</td>\n",
       "      <td>2016-01-14</td>\n",
       "      <td>3.108317</td>\n",
       "      <td>NaN</td>\n",
       "      <td>NaN</td>\n",
       "      <td>NaN</td>\n",
       "      <td>NaN</td>\n",
       "      <td>2.335940</td>\n",
       "      <td>NaN</td>\n",
       "    </tr>\n",
       "    <tr>\n",
       "      <th>2</th>\n",
       "      <td>air_ba937bf13d40fb24</td>\n",
       "      <td>2016-01-15</td>\n",
       "      <td>3.356707</td>\n",
       "      <td>NaN</td>\n",
       "      <td>NaN</td>\n",
       "      <td>NaN</td>\n",
       "      <td>NaN</td>\n",
       "      <td>2.384751</td>\n",
       "      <td>NaN</td>\n",
       "    </tr>\n",
       "    <tr>\n",
       "      <th>3</th>\n",
       "      <td>air_ba937bf13d40fb24</td>\n",
       "      <td>2016-01-16</td>\n",
       "      <td>3.200836</td>\n",
       "      <td>NaN</td>\n",
       "      <td>NaN</td>\n",
       "      <td>NaN</td>\n",
       "      <td>NaN</td>\n",
       "      <td>3.291423</td>\n",
       "      <td>NaN</td>\n",
       "    </tr>\n",
       "    <tr>\n",
       "      <th>4</th>\n",
       "      <td>air_ba937bf13d40fb24</td>\n",
       "      <td>2016-01-18</td>\n",
       "      <td>2.290828</td>\n",
       "      <td>NaN</td>\n",
       "      <td>NaN</td>\n",
       "      <td>NaN</td>\n",
       "      <td>NaN</td>\n",
       "      <td>2.855732</td>\n",
       "      <td>NaN</td>\n",
       "    </tr>\n",
       "  </tbody>\n",
       "</table>\n",
       "</div>"
      ],
      "text/plain": [
       "           air_store_id  visit_date  visitors_avg_nocv  visitors_rf  \\\n",
       "0  air_ba937bf13d40fb24  2016-01-13           3.172430          NaN   \n",
       "1  air_ba937bf13d40fb24  2016-01-14           3.108317          NaN   \n",
       "2  air_ba937bf13d40fb24  2016-01-15           3.356707          NaN   \n",
       "3  air_ba937bf13d40fb24  2016-01-16           3.200836          NaN   \n",
       "4  air_ba937bf13d40fb24  2016-01-18           2.290828          NaN   \n",
       "\n",
       "   train_lgbm  train_xgb  visitors_train  visitors_lgb  train_et_tscv  \n",
       "0         NaN        NaN             NaN      2.344823            NaN  \n",
       "1         NaN        NaN             NaN      2.335940            NaN  \n",
       "2         NaN        NaN             NaN      2.384751            NaN  \n",
       "3         NaN        NaN             NaN      3.291423            NaN  \n",
       "4         NaN        NaN             NaN      2.855732            NaN  "
      ]
     },
     "execution_count": 459,
     "metadata": {},
     "output_type": "execute_result"
    }
   ],
   "source": [
    "stack_input=pd.merge(st_input,st_input_2,on=['air_store_id','visit_date'],how='left')\n",
    "stack_input=pd.merge(stack_input,st_input_3,on=['air_store_id','visit_date'],how='left')\n",
    "stack_input=pd.merge(stack_input,st_input_4,on=['air_store_id','visit_date'],how='left')\n",
    "#stack_input=pd.merge(stack_input,st_input_5,on=['air_store_id','visit_date'],how='left')\n",
    "stack_input=pd.merge(stack_input,st_input_6,on=['air_store_id','visit_date'],how='left')\n",
    "#stack_input=pd.merge(stack_input,st_input_7,on=['air_store_id','visit_date'],how='left')\n",
    "stack_input=pd.merge(stack_input,st_input_8,on=['air_store_id','visit_date'],how='left')\n",
    "stack_input.head()"
   ]
  },
  {
   "cell_type": "code",
   "execution_count": 460,
   "metadata": {},
   "outputs": [
    {
     "data": {
      "text/plain": [
       "(237184, 9)"
      ]
     },
     "execution_count": 460,
     "metadata": {},
     "output_type": "execute_result"
    }
   ],
   "source": [
    "stack_input=stack_input[stack_input.visit_date>='2016-03-01']\n",
    "stack_input.shape"
   ]
  },
  {
   "cell_type": "code",
   "execution_count": 461,
   "metadata": {
    "collapsed": true
   },
   "outputs": [],
   "source": [
    "col_num=['visitors_avg_nocv','visitors_rf','train_lgbm','train_xgb','visitors_train','visitors_lgb','train_et_tscv']"
   ]
  },
  {
   "cell_type": "code",
   "execution_count": 462,
   "metadata": {},
   "outputs": [
    {
     "data": {
      "text/plain": [
       "<matplotlib.axes._subplots.AxesSubplot at 0x7f6b0116c390>"
      ]
     },
     "execution_count": 462,
     "metadata": {},
     "output_type": "execute_result"
    },
    {
     "data": {
      "image/png": "[encoded data removed]",
      "text/plain": [
       "<matplotlib.figure.Figure at 0x7f6ce0a94668>"
      ]
     },
     "metadata": {},
     "output_type": "display_data"
    }
   ],
   "source": [
    "# checking for correlation\n",
    "import seaborn as sns\n",
    "import matplotlib.style as style\n",
    "style.use('fivethirtyeight')\n",
    "colormap = plt.cm.viridis_r\n",
    "plt.figure(figsize=(14,12))\n",
    "plt.title('Pearson Correlation of Stacked Features', y=1.05, size=15)\n",
    "sns.heatmap(stack_input[col_num].astype(float).corr(),linewidths=0.05,vmax=1.0, square=True, cmap=colormap, linecolor='black', annot=False)"
   ]
  },
  {
   "cell_type": "markdown",
   "metadata": {},
   "source": [
    "** Observations: ** In the 7 models which i created even though i used randomgrid search and for few classifiers i supplied a little bit different data sets by dropping few columns. i was not able to generate diversity in the base learners. So i will just stack themp up with a very simple meta learner i.e by using a linear Regressor"
   ]
  },
  {
   "cell_type": "code",
   "execution_count": 463,
   "metadata": {},
   "outputs": [
    {
     "data": {
      "text/html": [
       "<div>\n",
       "<style scoped>\n",
       "    .dataframe tbody tr th:only-of-type {\n",
       "        vertical-align: middle;\n",
       "    }\n",
       "\n",
       "    .dataframe tbody tr th {\n",
       "        vertical-align: top;\n",
       "    }\n",
       "\n",
       "    .dataframe thead th {\n",
       "        text-align: right;\n",
       "    }\n",
       "</style>\n",
       "<table border=\"1\" class=\"dataframe\">\n",
       "  <thead>\n",
       "    <tr style=\"text-align: right;\">\n",
       "      <th></th>\n",
       "      <th>visitors_avg_nocv</th>\n",
       "      <th>visitors_rf</th>\n",
       "      <th>train_lgbm</th>\n",
       "      <th>train_xgb</th>\n",
       "      <th>visitors_train</th>\n",
       "      <th>visitors_lgb</th>\n",
       "      <th>train_et_tscv</th>\n",
       "    </tr>\n",
       "  </thead>\n",
       "  <tbody>\n",
       "    <tr>\n",
       "      <th>visitors_avg_nocv</th>\n",
       "      <td>1.000000</td>\n",
       "      <td>0.909424</td>\n",
       "      <td>0.363928</td>\n",
       "      <td>0.962190</td>\n",
       "      <td>0.917362</td>\n",
       "      <td>0.947202</td>\n",
       "      <td>0.935597</td>\n",
       "    </tr>\n",
       "    <tr>\n",
       "      <th>visitors_rf</th>\n",
       "      <td>0.909424</td>\n",
       "      <td>1.000000</td>\n",
       "      <td>0.362258</td>\n",
       "      <td>0.958816</td>\n",
       "      <td>0.978525</td>\n",
       "      <td>0.969161</td>\n",
       "      <td>0.987836</td>\n",
       "    </tr>\n",
       "    <tr>\n",
       "      <th>train_lgbm</th>\n",
       "      <td>0.363928</td>\n",
       "      <td>0.362258</td>\n",
       "      <td>1.000000</td>\n",
       "      <td>0.353155</td>\n",
       "      <td>0.348122</td>\n",
       "      <td>0.345395</td>\n",
       "      <td>0.361415</td>\n",
       "    </tr>\n",
       "    <tr>\n",
       "      <th>train_xgb</th>\n",
       "      <td>0.962190</td>\n",
       "      <td>0.958816</td>\n",
       "      <td>0.353155</td>\n",
       "      <td>1.000000</td>\n",
       "      <td>0.967742</td>\n",
       "      <td>0.986173</td>\n",
       "      <td>0.980571</td>\n",
       "    </tr>\n",
       "    <tr>\n",
       "      <th>visitors_train</th>\n",
       "      <td>0.917362</td>\n",
       "      <td>0.978525</td>\n",
       "      <td>0.348122</td>\n",
       "      <td>0.967742</td>\n",
       "      <td>1.000000</td>\n",
       "      <td>0.975110</td>\n",
       "      <td>0.982744</td>\n",
       "    </tr>\n",
       "    <tr>\n",
       "      <th>visitors_lgb</th>\n",
       "      <td>0.947202</td>\n",
       "      <td>0.969161</td>\n",
       "      <td>0.345395</td>\n",
       "      <td>0.986173</td>\n",
       "      <td>0.975110</td>\n",
       "      <td>1.000000</td>\n",
       "      <td>0.983451</td>\n",
       "    </tr>\n",
       "    <tr>\n",
       "      <th>train_et_tscv</th>\n",
       "      <td>0.935597</td>\n",
       "      <td>0.987836</td>\n",
       "      <td>0.361415</td>\n",
       "      <td>0.980571</td>\n",
       "      <td>0.982744</td>\n",
       "      <td>0.983451</td>\n",
       "      <td>1.000000</td>\n",
       "    </tr>\n",
       "  </tbody>\n",
       "</table>\n",
       "</div>"
      ],
      "text/plain": [
       "                   visitors_avg_nocv  visitors_rf  train_lgbm  train_xgb  \\\n",
       "visitors_avg_nocv           1.000000     0.909424    0.363928   0.962190   \n",
       "visitors_rf                 0.909424     1.000000    0.362258   0.958816   \n",
       "train_lgbm                  0.363928     0.362258    1.000000   0.353155   \n",
       "train_xgb                   0.962190     0.958816    0.353155   1.000000   \n",
       "visitors_train              0.917362     0.978525    0.348122   0.967742   \n",
       "visitors_lgb                0.947202     0.969161    0.345395   0.986173   \n",
       "train_et_tscv               0.935597     0.987836    0.361415   0.980571   \n",
       "\n",
       "                   visitors_train  visitors_lgb  train_et_tscv  \n",
       "visitors_avg_nocv        0.917362      0.947202       0.935597  \n",
       "visitors_rf              0.978525      0.969161       0.987836  \n",
       "train_lgbm               0.348122      0.345395       0.361415  \n",
       "train_xgb                0.967742      0.986173       0.980571  \n",
       "visitors_train           1.000000      0.975110       0.982744  \n",
       "visitors_lgb             0.975110      1.000000       0.983451  \n",
       "train_et_tscv            0.982744      0.983451       1.000000  "
      ]
     },
     "execution_count": 463,
     "metadata": {},
     "output_type": "execute_result"
    }
   ],
   "source": [
    "stack_input[col_num].astype(float).corr()"
   ]
  },
  {
   "cell_type": "code",
   "execution_count": 464,
   "metadata": {
    "collapsed": true
   },
   "outputs": [],
   "source": [
    "m_train=train[['air_store_id','visit_date','visitors']]\n",
    "m_train=m_train[m_train.visit_date >='2016-03-01']\n",
    "stack_input['visit_date']=pd.to_datetime(stack_input['visit_date'])\n",
    "stack_input=pd.merge(m_train,stack_input,how='left',on=['air_store_id','visit_date'])"
   ]
  },
  {
   "cell_type": "code",
   "execution_count": 465,
   "metadata": {},
   "outputs": [
    {
     "data": {
      "text/html": [
       "<div>\n",
       "<style scoped>\n",
       "    .dataframe tbody tr th:only-of-type {\n",
       "        vertical-align: middle;\n",
       "    }\n",
       "\n",
       "    .dataframe tbody tr th {\n",
       "        vertical-align: top;\n",
       "    }\n",
       "\n",
       "    .dataframe thead th {\n",
       "        text-align: right;\n",
       "    }\n",
       "</style>\n",
       "<table border=\"1\" class=\"dataframe\">\n",
       "  <thead>\n",
       "    <tr style=\"text-align: right;\">\n",
       "      <th></th>\n",
       "      <th>air_store_id</th>\n",
       "      <th>visit_date</th>\n",
       "      <th>visitors</th>\n",
       "      <th>visitors_avg_nocv</th>\n",
       "      <th>visitors_rf</th>\n",
       "      <th>train_lgbm</th>\n",
       "      <th>train_xgb</th>\n",
       "      <th>visitors_train</th>\n",
       "      <th>visitors_lgb</th>\n",
       "      <th>train_et_tscv</th>\n",
       "    </tr>\n",
       "  </thead>\n",
       "  <tbody>\n",
       "    <tr>\n",
       "      <th>0</th>\n",
       "      <td>air_ba937bf13d40fb24</td>\n",
       "      <td>2016-03-01</td>\n",
       "      <td>2.995732</td>\n",
       "      <td>2.747285</td>\n",
       "      <td>2.774349</td>\n",
       "      <td>2.972467</td>\n",
       "      <td>2.696861</td>\n",
       "      <td>2.640174</td>\n",
       "      <td>2.714897</td>\n",
       "      <td>2.714558</td>\n",
       "    </tr>\n",
       "    <tr>\n",
       "      <th>1</th>\n",
       "      <td>air_ba937bf13d40fb24</td>\n",
       "      <td>2016-03-02</td>\n",
       "      <td>3.091042</td>\n",
       "      <td>3.070176</td>\n",
       "      <td>3.044470</td>\n",
       "      <td>3.028701</td>\n",
       "      <td>3.025458</td>\n",
       "      <td>2.988439</td>\n",
       "      <td>3.011456</td>\n",
       "      <td>3.057967</td>\n",
       "    </tr>\n",
       "    <tr>\n",
       "      <th>2</th>\n",
       "      <td>air_ba937bf13d40fb24</td>\n",
       "      <td>2016-03-03</td>\n",
       "      <td>3.044522</td>\n",
       "      <td>2.951606</td>\n",
       "      <td>2.923900</td>\n",
       "      <td>3.101271</td>\n",
       "      <td>2.965118</td>\n",
       "      <td>2.958388</td>\n",
       "      <td>2.984625</td>\n",
       "      <td>3.005630</td>\n",
       "    </tr>\n",
       "    <tr>\n",
       "      <th>3</th>\n",
       "      <td>air_ba937bf13d40fb24</td>\n",
       "      <td>2016-03-04</td>\n",
       "      <td>3.637586</td>\n",
       "      <td>3.484350</td>\n",
       "      <td>3.413028</td>\n",
       "      <td>3.388205</td>\n",
       "      <td>3.440097</td>\n",
       "      <td>3.284989</td>\n",
       "      <td>3.442903</td>\n",
       "      <td>3.394437</td>\n",
       "    </tr>\n",
       "    <tr>\n",
       "      <th>4</th>\n",
       "      <td>air_ba937bf13d40fb24</td>\n",
       "      <td>2016-03-05</td>\n",
       "      <td>2.639057</td>\n",
       "      <td>3.091615</td>\n",
       "      <td>2.862957</td>\n",
       "      <td>2.984628</td>\n",
       "      <td>2.890149</td>\n",
       "      <td>2.936615</td>\n",
       "      <td>2.878592</td>\n",
       "      <td>2.852855</td>\n",
       "    </tr>\n",
       "  </tbody>\n",
       "</table>\n",
       "</div>"
      ],
      "text/plain": [
       "           air_store_id visit_date  visitors  visitors_avg_nocv  visitors_rf  \\\n",
       "0  air_ba937bf13d40fb24 2016-03-01  2.995732           2.747285     2.774349   \n",
       "1  air_ba937bf13d40fb24 2016-03-02  3.091042           3.070176     3.044470   \n",
       "2  air_ba937bf13d40fb24 2016-03-03  3.044522           2.951606     2.923900   \n",
       "3  air_ba937bf13d40fb24 2016-03-04  3.637586           3.484350     3.413028   \n",
       "4  air_ba937bf13d40fb24 2016-03-05  2.639057           3.091615     2.862957   \n",
       "\n",
       "   train_lgbm  train_xgb  visitors_train  visitors_lgb  train_et_tscv  \n",
       "0    2.972467   2.696861        2.640174      2.714897       2.714558  \n",
       "1    3.028701   3.025458        2.988439      3.011456       3.057967  \n",
       "2    3.101271   2.965118        2.958388      2.984625       3.005630  \n",
       "3    3.388205   3.440097        3.284989      3.442903       3.394437  \n",
       "4    2.984628   2.890149        2.936615      2.878592       2.852855  "
      ]
     },
     "execution_count": 465,
     "metadata": {},
     "output_type": "execute_result"
    }
   ],
   "source": [
    "stack_input.reset_index(inplace=True)\n",
    "stack_input.drop('index',axis=1,inplace=True)\n",
    "stack_input.head()"
   ]
  },
  {
   "cell_type": "code",
   "execution_count": 466,
   "metadata": {},
   "outputs": [
    {
     "name": "stdout",
     "output_type": "stream",
     "text": [
      "(228484, 10)\n"
     ]
    }
   ],
   "source": [
    "stack_input.dropna(inplace=True)\n",
    "print(stack_input.shape)"
   ]
  },
  {
   "cell_type": "markdown",
   "metadata": {},
   "source": [
    "** now collecting the test data frames from all the base classifiers **"
   ]
  },
  {
   "cell_type": "code",
   "execution_count": 467,
   "metadata": {
    "collapsed": true
   },
   "outputs": [],
   "source": [
    "stack_test=df_test2[['id','visitors','air_store_id','visit_date']]"
   ]
  },
  {
   "cell_type": "code",
   "execution_count": 468,
   "metadata": {
    "collapsed": true
   },
   "outputs": [],
   "source": [
    "stack_temp=pd.read_csv('sub_average_5models_nocv.csv').rename(columns={'visitors':'visitors_avg_nocv'})\n",
    "stack_test=pd.merge(stack_test,stack_temp,on=['id'],how='left')\n",
    "stack_temp=pd.read_csv('rf_custom_feat6.csv').rename(columns={'visitors':'visitors_rf'})\n",
    "stack_test=pd.merge(stack_test,stack_temp,on=['id'],how='left')\n",
    "stack_temp=pd.read_csv('lgb_custom_feat6.csv').rename(columns={'visitors':'train_lgbm'})\n",
    "stack_test=pd.merge(stack_test,stack_temp,on=['id'],how='left')\n",
    "stack_temp=pd.read_csv('xgb_custom_feat6.csv').rename(columns={'visitors':'train_xgb'})\n",
    "stack_test=pd.merge(stack_test,stack_temp,on=['id'],how='left')\n",
    "stack_temp=pd.read_csv('submission_lstm.csv').rename(columns={'visitors':'visitors_train'})\n",
    "stack_test=pd.merge(stack_test,stack_temp,on=['id'],how='left')\n",
    "stack_temp=pd.read_csv('lgbmtscv_feat_tscv_s2_v8.csv').rename(columns={'visitors':'visitors_lgb'})\n",
    "stack_test=pd.merge(stack_test,stack_temp,on=['id'],how='left')\n",
    "stack_temp=pd.read_csv('et_pred_rtscv.csv').rename(columns={'visitors':'train_et_tscv'})\n",
    "stack_test=pd.merge(stack_test,stack_temp,on=['id'],how='left')"
   ]
  },
  {
   "cell_type": "code",
   "execution_count": 469,
   "metadata": {},
   "outputs": [
    {
     "data": {
      "text/html": [
       "<div>\n",
       "<style scoped>\n",
       "    .dataframe tbody tr th:only-of-type {\n",
       "        vertical-align: middle;\n",
       "    }\n",
       "\n",
       "    .dataframe tbody tr th {\n",
       "        vertical-align: top;\n",
       "    }\n",
       "\n",
       "    .dataframe thead th {\n",
       "        text-align: right;\n",
       "    }\n",
       "</style>\n",
       "<table border=\"1\" class=\"dataframe\">\n",
       "  <thead>\n",
       "    <tr style=\"text-align: right;\">\n",
       "      <th></th>\n",
       "      <th>id</th>\n",
       "      <th>visitors</th>\n",
       "      <th>air_store_id</th>\n",
       "      <th>visit_date</th>\n",
       "      <th>visitors_avg_nocv</th>\n",
       "      <th>visitors_rf</th>\n",
       "      <th>train_lgbm</th>\n",
       "      <th>train_xgb</th>\n",
       "      <th>visitors_train</th>\n",
       "      <th>visitors_lgb</th>\n",
       "      <th>train_et_tscv</th>\n",
       "    </tr>\n",
       "  </thead>\n",
       "  <tbody>\n",
       "    <tr>\n",
       "      <th>0</th>\n",
       "      <td>air_00a91d42b08b08d9_2017-04-23</td>\n",
       "      <td>0</td>\n",
       "      <td>air_00a91d42b08b08d9</td>\n",
       "      <td>2017-04-23</td>\n",
       "      <td>1.935118</td>\n",
       "      <td>9.341814</td>\n",
       "      <td>2.979738</td>\n",
       "      <td>2.715885</td>\n",
       "      <td>4.230</td>\n",
       "      <td>5.124713</td>\n",
       "      <td>4.107479</td>\n",
       "    </tr>\n",
       "    <tr>\n",
       "      <th>1</th>\n",
       "      <td>air_00a91d42b08b08d9_2017-04-24</td>\n",
       "      <td>0</td>\n",
       "      <td>air_00a91d42b08b08d9</td>\n",
       "      <td>2017-04-24</td>\n",
       "      <td>22.742191</td>\n",
       "      <td>22.532612</td>\n",
       "      <td>23.952488</td>\n",
       "      <td>24.754105</td>\n",
       "      <td>26.321</td>\n",
       "      <td>19.997988</td>\n",
       "      <td>23.249179</td>\n",
       "    </tr>\n",
       "    <tr>\n",
       "      <th>2</th>\n",
       "      <td>air_00a91d42b08b08d9_2017-04-25</td>\n",
       "      <td>0</td>\n",
       "      <td>air_00a91d42b08b08d9</td>\n",
       "      <td>2017-04-25</td>\n",
       "      <td>25.257026</td>\n",
       "      <td>25.016202</td>\n",
       "      <td>26.965426</td>\n",
       "      <td>26.201387</td>\n",
       "      <td>28.983</td>\n",
       "      <td>22.778007</td>\n",
       "      <td>25.333136</td>\n",
       "    </tr>\n",
       "    <tr>\n",
       "      <th>3</th>\n",
       "      <td>air_00a91d42b08b08d9_2017-04-26</td>\n",
       "      <td>0</td>\n",
       "      <td>air_00a91d42b08b08d9</td>\n",
       "      <td>2017-04-26</td>\n",
       "      <td>28.765542</td>\n",
       "      <td>26.248111</td>\n",
       "      <td>27.271219</td>\n",
       "      <td>27.652216</td>\n",
       "      <td>26.980</td>\n",
       "      <td>28.605739</td>\n",
       "      <td>26.538586</td>\n",
       "    </tr>\n",
       "    <tr>\n",
       "      <th>4</th>\n",
       "      <td>air_00a91d42b08b08d9_2017-04-27</td>\n",
       "      <td>0</td>\n",
       "      <td>air_00a91d42b08b08d9</td>\n",
       "      <td>2017-04-27</td>\n",
       "      <td>33.028357</td>\n",
       "      <td>29.686175</td>\n",
       "      <td>31.688178</td>\n",
       "      <td>31.778515</td>\n",
       "      <td>35.182</td>\n",
       "      <td>31.564612</td>\n",
       "      <td>30.091465</td>\n",
       "    </tr>\n",
       "  </tbody>\n",
       "</table>\n",
       "</div>"
      ],
      "text/plain": [
       "                                id  visitors          air_store_id visit_date  \\\n",
       "0  air_00a91d42b08b08d9_2017-04-23         0  air_00a91d42b08b08d9 2017-04-23   \n",
       "1  air_00a91d42b08b08d9_2017-04-24         0  air_00a91d42b08b08d9 2017-04-24   \n",
       "2  air_00a91d42b08b08d9_2017-04-25         0  air_00a91d42b08b08d9 2017-04-25   \n",
       "3  air_00a91d42b08b08d9_2017-04-26         0  air_00a91d42b08b08d9 2017-04-26   \n",
       "4  air_00a91d42b08b08d9_2017-04-27         0  air_00a91d42b08b08d9 2017-04-27   \n",
       "\n",
       "   visitors_avg_nocv  visitors_rf  train_lgbm  train_xgb  visitors_train  \\\n",
       "0           1.935118     9.341814    2.979738   2.715885           4.230   \n",
       "1          22.742191    22.532612   23.952488  24.754105          26.321   \n",
       "2          25.257026    25.016202   26.965426  26.201387          28.983   \n",
       "3          28.765542    26.248111   27.271219  27.652216          26.980   \n",
       "4          33.028357    29.686175   31.688178  31.778515          35.182   \n",
       "\n",
       "   visitors_lgb  train_et_tscv  \n",
       "0      5.124713       4.107479  \n",
       "1     19.997988      23.249179  \n",
       "2     22.778007      25.333136  \n",
       "3     28.605739      26.538586  \n",
       "4     31.564612      30.091465  "
      ]
     },
     "execution_count": 469,
     "metadata": {},
     "output_type": "execute_result"
    }
   ],
   "source": [
    "stack_test.head()"
   ]
  },
  {
   "cell_type": "code",
   "execution_count": 470,
   "metadata": {},
   "outputs": [
    {
     "data": {
      "text/html": [
       "<div>\n",
       "<style scoped>\n",
       "    .dataframe tbody tr th:only-of-type {\n",
       "        vertical-align: middle;\n",
       "    }\n",
       "\n",
       "    .dataframe tbody tr th {\n",
       "        vertical-align: top;\n",
       "    }\n",
       "\n",
       "    .dataframe thead th {\n",
       "        text-align: right;\n",
       "    }\n",
       "</style>\n",
       "<table border=\"1\" class=\"dataframe\">\n",
       "  <thead>\n",
       "    <tr style=\"text-align: right;\">\n",
       "      <th></th>\n",
       "      <th>visitors</th>\n",
       "      <th>visitors_avg_nocv</th>\n",
       "      <th>visitors_rf</th>\n",
       "      <th>train_lgbm</th>\n",
       "      <th>train_xgb</th>\n",
       "      <th>visitors_train</th>\n",
       "      <th>visitors_lgb</th>\n",
       "      <th>train_et_tscv</th>\n",
       "    </tr>\n",
       "  </thead>\n",
       "  <tbody>\n",
       "    <tr>\n",
       "      <th>0</th>\n",
       "      <td>0</td>\n",
       "      <td>1.935118</td>\n",
       "      <td>9.341814</td>\n",
       "      <td>2.979738</td>\n",
       "      <td>2.715885</td>\n",
       "      <td>4.230</td>\n",
       "      <td>5.124713</td>\n",
       "      <td>4.107479</td>\n",
       "    </tr>\n",
       "    <tr>\n",
       "      <th>1</th>\n",
       "      <td>0</td>\n",
       "      <td>22.742191</td>\n",
       "      <td>22.532612</td>\n",
       "      <td>23.952488</td>\n",
       "      <td>24.754105</td>\n",
       "      <td>26.321</td>\n",
       "      <td>19.997988</td>\n",
       "      <td>23.249179</td>\n",
       "    </tr>\n",
       "    <tr>\n",
       "      <th>2</th>\n",
       "      <td>0</td>\n",
       "      <td>25.257026</td>\n",
       "      <td>25.016202</td>\n",
       "      <td>26.965426</td>\n",
       "      <td>26.201387</td>\n",
       "      <td>28.983</td>\n",
       "      <td>22.778007</td>\n",
       "      <td>25.333136</td>\n",
       "    </tr>\n",
       "    <tr>\n",
       "      <th>3</th>\n",
       "      <td>0</td>\n",
       "      <td>28.765542</td>\n",
       "      <td>26.248111</td>\n",
       "      <td>27.271219</td>\n",
       "      <td>27.652216</td>\n",
       "      <td>26.980</td>\n",
       "      <td>28.605739</td>\n",
       "      <td>26.538586</td>\n",
       "    </tr>\n",
       "    <tr>\n",
       "      <th>4</th>\n",
       "      <td>0</td>\n",
       "      <td>33.028357</td>\n",
       "      <td>29.686175</td>\n",
       "      <td>31.688178</td>\n",
       "      <td>31.778515</td>\n",
       "      <td>35.182</td>\n",
       "      <td>31.564612</td>\n",
       "      <td>30.091465</td>\n",
       "    </tr>\n",
       "    <tr>\n",
       "      <th>5</th>\n",
       "      <td>0</td>\n",
       "      <td>37.363631</td>\n",
       "      <td>34.596299</td>\n",
       "      <td>38.847140</td>\n",
       "      <td>37.155468</td>\n",
       "      <td>46.709</td>\n",
       "      <td>41.654076</td>\n",
       "      <td>34.509563</td>\n",
       "    </tr>\n",
       "    <tr>\n",
       "      <th>6</th>\n",
       "      <td>0</td>\n",
       "      <td>9.344577</td>\n",
       "      <td>20.456511</td>\n",
       "      <td>9.151873</td>\n",
       "      <td>10.037499</td>\n",
       "      <td>19.858</td>\n",
       "      <td>26.258592</td>\n",
       "      <td>14.099321</td>\n",
       "    </tr>\n",
       "    <tr>\n",
       "      <th>7</th>\n",
       "      <td>0</td>\n",
       "      <td>1.854709</td>\n",
       "      <td>9.341814</td>\n",
       "      <td>3.268084</td>\n",
       "      <td>2.856851</td>\n",
       "      <td>3.763</td>\n",
       "      <td>7.471969</td>\n",
       "      <td>4.166120</td>\n",
       "    </tr>\n",
       "    <tr>\n",
       "      <th>8</th>\n",
       "      <td>0</td>\n",
       "      <td>20.271127</td>\n",
       "      <td>22.532612</td>\n",
       "      <td>22.897079</td>\n",
       "      <td>24.032574</td>\n",
       "      <td>25.482</td>\n",
       "      <td>20.788899</td>\n",
       "      <td>23.166328</td>\n",
       "    </tr>\n",
       "    <tr>\n",
       "      <th>9</th>\n",
       "      <td>0</td>\n",
       "      <td>22.612261</td>\n",
       "      <td>25.016202</td>\n",
       "      <td>31.425688</td>\n",
       "      <td>27.595260</td>\n",
       "      <td>34.570</td>\n",
       "      <td>27.488446</td>\n",
       "      <td>26.749118</td>\n",
       "    </tr>\n",
       "  </tbody>\n",
       "</table>\n",
       "</div>"
      ],
      "text/plain": [
       "   visitors  visitors_avg_nocv  visitors_rf  train_lgbm  train_xgb  \\\n",
       "0         0           1.935118     9.341814    2.979738   2.715885   \n",
       "1         0          22.742191    22.532612   23.952488  24.754105   \n",
       "2         0          25.257026    25.016202   26.965426  26.201387   \n",
       "3         0          28.765542    26.248111   27.271219  27.652216   \n",
       "4         0          33.028357    29.686175   31.688178  31.778515   \n",
       "5         0          37.363631    34.596299   38.847140  37.155468   \n",
       "6         0           9.344577    20.456511    9.151873  10.037499   \n",
       "7         0           1.854709     9.341814    3.268084   2.856851   \n",
       "8         0          20.271127    22.532612   22.897079  24.032574   \n",
       "9         0          22.612261    25.016202   31.425688  27.595260   \n",
       "\n",
       "   visitors_train  visitors_lgb  train_et_tscv  \n",
       "0           4.230      5.124713       4.107479  \n",
       "1          26.321     19.997988      23.249179  \n",
       "2          28.983     22.778007      25.333136  \n",
       "3          26.980     28.605739      26.538586  \n",
       "4          35.182     31.564612      30.091465  \n",
       "5          46.709     41.654076      34.509563  \n",
       "6          19.858     26.258592      14.099321  \n",
       "7           3.763      7.471969       4.166120  \n",
       "8          25.482     20.788899      23.166328  \n",
       "9          34.570     27.488446      26.749118  "
      ]
     },
     "execution_count": 470,
     "metadata": {},
     "output_type": "execute_result"
    }
   ],
   "source": [
    "stack_test_final=stack_test.drop(['id','visit_date','air_store_id'],axis=1)\n",
    "stack_test_final.head(10)"
   ]
  },
  {
   "cell_type": "code",
   "execution_count": 471,
   "metadata": {
    "collapsed": true
   },
   "outputs": [],
   "source": [
    "stack_test_final.drop('visitors',axis=1,inplace=True)\n",
    "stack_test_final=np.log1p(stack_test_final)"
   ]
  },
  {
   "cell_type": "code",
   "execution_count": 472,
   "metadata": {},
   "outputs": [
    {
     "data": {
      "text/html": [
       "<div>\n",
       "<style scoped>\n",
       "    .dataframe tbody tr th:only-of-type {\n",
       "        vertical-align: middle;\n",
       "    }\n",
       "\n",
       "    .dataframe tbody tr th {\n",
       "        vertical-align: top;\n",
       "    }\n",
       "\n",
       "    .dataframe thead th {\n",
       "        text-align: right;\n",
       "    }\n",
       "</style>\n",
       "<table border=\"1\" class=\"dataframe\">\n",
       "  <thead>\n",
       "    <tr style=\"text-align: right;\">\n",
       "      <th></th>\n",
       "      <th>visitors_avg_nocv</th>\n",
       "      <th>visitors_rf</th>\n",
       "      <th>train_lgbm</th>\n",
       "      <th>train_xgb</th>\n",
       "      <th>visitors_train</th>\n",
       "      <th>visitors_lgb</th>\n",
       "      <th>train_et_tscv</th>\n",
       "    </tr>\n",
       "  </thead>\n",
       "  <tbody>\n",
       "    <tr>\n",
       "      <th>0</th>\n",
       "      <td>1.076748</td>\n",
       "      <td>2.336195</td>\n",
       "      <td>1.381216</td>\n",
       "      <td>1.312617</td>\n",
       "      <td>1.654411</td>\n",
       "      <td>1.812332</td>\n",
       "      <td>1.630706</td>\n",
       "    </tr>\n",
       "    <tr>\n",
       "      <th>1</th>\n",
       "      <td>3.167254</td>\n",
       "      <td>3.158387</td>\n",
       "      <td>3.216974</td>\n",
       "      <td>3.248594</td>\n",
       "      <td>3.307656</td>\n",
       "      <td>3.044427</td>\n",
       "      <td>3.188383</td>\n",
       "    </tr>\n",
       "    <tr>\n",
       "      <th>2</th>\n",
       "      <td>3.267934</td>\n",
       "      <td>3.258719</td>\n",
       "      <td>3.330969</td>\n",
       "      <td>3.303268</td>\n",
       "      <td>3.400631</td>\n",
       "      <td>3.168761</td>\n",
       "      <td>3.270828</td>\n",
       "    </tr>\n",
       "    <tr>\n",
       "      <th>3</th>\n",
       "      <td>3.393351</td>\n",
       "      <td>3.304984</td>\n",
       "      <td>3.341844</td>\n",
       "      <td>3.355231</td>\n",
       "      <td>3.331490</td>\n",
       "      <td>3.387968</td>\n",
       "      <td>3.315588</td>\n",
       "    </tr>\n",
       "    <tr>\n",
       "      <th>4</th>\n",
       "      <td>3.527194</td>\n",
       "      <td>3.423812</td>\n",
       "      <td>3.487013</td>\n",
       "      <td>3.489773</td>\n",
       "      <td>3.588562</td>\n",
       "      <td>3.483226</td>\n",
       "      <td>3.436933</td>\n",
       "    </tr>\n",
       "  </tbody>\n",
       "</table>\n",
       "</div>"
      ],
      "text/plain": [
       "   visitors_avg_nocv  visitors_rf  train_lgbm  train_xgb  visitors_train  \\\n",
       "0           1.076748     2.336195    1.381216   1.312617        1.654411   \n",
       "1           3.167254     3.158387    3.216974   3.248594        3.307656   \n",
       "2           3.267934     3.258719    3.330969   3.303268        3.400631   \n",
       "3           3.393351     3.304984    3.341844   3.355231        3.331490   \n",
       "4           3.527194     3.423812    3.487013   3.489773        3.588562   \n",
       "\n",
       "   visitors_lgb  train_et_tscv  \n",
       "0      1.812332       1.630706  \n",
       "1      3.044427       3.188383  \n",
       "2      3.168761       3.270828  \n",
       "3      3.387968       3.315588  \n",
       "4      3.483226       3.436933  "
      ]
     },
     "execution_count": 472,
     "metadata": {},
     "output_type": "execute_result"
    }
   ],
   "source": [
    "stack_test_final.head()"
   ]
  },
  {
   "cell_type": "code",
   "execution_count": 473,
   "metadata": {},
   "outputs": [
    {
     "data": {
      "text/html": [
       "<div>\n",
       "<style scoped>\n",
       "    .dataframe tbody tr th:only-of-type {\n",
       "        vertical-align: middle;\n",
       "    }\n",
       "\n",
       "    .dataframe tbody tr th {\n",
       "        vertical-align: top;\n",
       "    }\n",
       "\n",
       "    .dataframe thead th {\n",
       "        text-align: right;\n",
       "    }\n",
       "</style>\n",
       "<table border=\"1\" class=\"dataframe\">\n",
       "  <thead>\n",
       "    <tr style=\"text-align: right;\">\n",
       "      <th></th>\n",
       "      <th>air_store_id</th>\n",
       "      <th>visit_date</th>\n",
       "      <th>visitors</th>\n",
       "      <th>visitors_avg_nocv</th>\n",
       "      <th>visitors_rf</th>\n",
       "      <th>train_lgbm</th>\n",
       "      <th>train_xgb</th>\n",
       "      <th>visitors_train</th>\n",
       "      <th>visitors_lgb</th>\n",
       "      <th>train_et_tscv</th>\n",
       "    </tr>\n",
       "  </thead>\n",
       "  <tbody>\n",
       "    <tr>\n",
       "      <th>0</th>\n",
       "      <td>air_ba937bf13d40fb24</td>\n",
       "      <td>2016-03-01</td>\n",
       "      <td>2.995732</td>\n",
       "      <td>2.747285</td>\n",
       "      <td>2.774349</td>\n",
       "      <td>2.972467</td>\n",
       "      <td>2.696861</td>\n",
       "      <td>2.640174</td>\n",
       "      <td>2.714897</td>\n",
       "      <td>2.714558</td>\n",
       "    </tr>\n",
       "    <tr>\n",
       "      <th>1</th>\n",
       "      <td>air_ba937bf13d40fb24</td>\n",
       "      <td>2016-03-02</td>\n",
       "      <td>3.091042</td>\n",
       "      <td>3.070176</td>\n",
       "      <td>3.044470</td>\n",
       "      <td>3.028701</td>\n",
       "      <td>3.025458</td>\n",
       "      <td>2.988439</td>\n",
       "      <td>3.011456</td>\n",
       "      <td>3.057967</td>\n",
       "    </tr>\n",
       "    <tr>\n",
       "      <th>2</th>\n",
       "      <td>air_ba937bf13d40fb24</td>\n",
       "      <td>2016-03-03</td>\n",
       "      <td>3.044522</td>\n",
       "      <td>2.951606</td>\n",
       "      <td>2.923900</td>\n",
       "      <td>3.101271</td>\n",
       "      <td>2.965118</td>\n",
       "      <td>2.958388</td>\n",
       "      <td>2.984625</td>\n",
       "      <td>3.005630</td>\n",
       "    </tr>\n",
       "    <tr>\n",
       "      <th>3</th>\n",
       "      <td>air_ba937bf13d40fb24</td>\n",
       "      <td>2016-03-04</td>\n",
       "      <td>3.637586</td>\n",
       "      <td>3.484350</td>\n",
       "      <td>3.413028</td>\n",
       "      <td>3.388205</td>\n",
       "      <td>3.440097</td>\n",
       "      <td>3.284989</td>\n",
       "      <td>3.442903</td>\n",
       "      <td>3.394437</td>\n",
       "    </tr>\n",
       "    <tr>\n",
       "      <th>4</th>\n",
       "      <td>air_ba937bf13d40fb24</td>\n",
       "      <td>2016-03-05</td>\n",
       "      <td>2.639057</td>\n",
       "      <td>3.091615</td>\n",
       "      <td>2.862957</td>\n",
       "      <td>2.984628</td>\n",
       "      <td>2.890149</td>\n",
       "      <td>2.936615</td>\n",
       "      <td>2.878592</td>\n",
       "      <td>2.852855</td>\n",
       "    </tr>\n",
       "  </tbody>\n",
       "</table>\n",
       "</div>"
      ],
      "text/plain": [
       "           air_store_id visit_date  visitors  visitors_avg_nocv  visitors_rf  \\\n",
       "0  air_ba937bf13d40fb24 2016-03-01  2.995732           2.747285     2.774349   \n",
       "1  air_ba937bf13d40fb24 2016-03-02  3.091042           3.070176     3.044470   \n",
       "2  air_ba937bf13d40fb24 2016-03-03  3.044522           2.951606     2.923900   \n",
       "3  air_ba937bf13d40fb24 2016-03-04  3.637586           3.484350     3.413028   \n",
       "4  air_ba937bf13d40fb24 2016-03-05  2.639057           3.091615     2.862957   \n",
       "\n",
       "   train_lgbm  train_xgb  visitors_train  visitors_lgb  train_et_tscv  \n",
       "0    2.972467   2.696861        2.640174      2.714897       2.714558  \n",
       "1    3.028701   3.025458        2.988439      3.011456       3.057967  \n",
       "2    3.101271   2.965118        2.958388      2.984625       3.005630  \n",
       "3    3.388205   3.440097        3.284989      3.442903       3.394437  \n",
       "4    2.984628   2.890149        2.936615      2.878592       2.852855  "
      ]
     },
     "execution_count": 473,
     "metadata": {},
     "output_type": "execute_result"
    }
   ],
   "source": [
    "stack_input.head()"
   ]
  },
  {
   "cell_type": "code",
   "execution_count": 474,
   "metadata": {
    "collapsed": true
   },
   "outputs": [],
   "source": [
    "stack_train=stack_input.copy()\n",
    "stack_train.reset_index(inplace=True)\n",
    "stack_train.drop('index',axis=1,inplace=True)\n",
    "\n",
    "stack_cv_set=[]\n",
    "\n",
    "cut_dates=['2017-03-12']\n",
    "for dts in range(int(len(cut_dates))):\n",
    "    mask = ((stack_train['visit_date']>='2016-01-22') & (stack_train['visit_date']<cut_dates[0]))\n",
    "    X_train= stack_train.loc[mask]\n",
    "    X_training= X_train.drop(['visitors','air_store_id','visit_date'], axis=1)\n",
    "    y_training = (X_train['visitors'])\n",
    "    mask2 = (stack_train['visit_date']>=cut_dates[0])\n",
    "    X_valid= stack_train.loc[mask2]\n",
    "    X_validate= X_valid.drop(['visitors','air_store_id','visit_date'], axis=1)\n",
    "    y_validate = (X_valid['visitors'])\n",
    "    stack_cv_set.append(X_training.index.tolist())\n",
    "    stack_cv_set.append(X_validate.index.tolist())"
   ]
  },
  {
   "cell_type": "code",
   "execution_count": 475,
   "metadata": {
    "collapsed": true
   },
   "outputs": [],
   "source": [
    "id_set=[0]\n",
    "\n",
    "stack_cvd=[]\n",
    "stack_cvd = [(stack_cv_set[i],stack_cv_set[i+1])\n",
    "      for i in id_set]"
   ]
  },
  {
   "cell_type": "code",
   "execution_count": 476,
   "metadata": {
    "collapsed": true
   },
   "outputs": [],
   "source": [
    "y_train=stack_train[['visitors']]\n",
    "stack_train.drop(['visitors','air_store_id','visit_date'],axis=1,inplace=True)"
   ]
  },
  {
   "cell_type": "markdown",
   "metadata": {},
   "source": [
    "# Meta learner Section\n",
    "\n",
    "Cross validation: I will use the Sequential hold one out technique"
   ]
  },
  {
   "cell_type": "markdown",
   "metadata": {},
   "source": [
    "# Meta-Learner-1: ElasticNetCV"
   ]
  },
  {
   "cell_type": "code",
   "execution_count": 477,
   "metadata": {
    "collapsed": true
   },
   "outputs": [],
   "source": [
    "from sklearn.preprocessing import StandardScaler\n",
    "scl=StandardScaler()\n",
    "stack_train=scl.fit_transform(stack_train)\n",
    "stack_test_scl=scl.fit_transform(stack_test_final)"
   ]
  },
  {
   "cell_type": "code",
   "execution_count": 478,
   "metadata": {},
   "outputs": [
    {
     "data": {
      "text/plain": [
       "ElasticNetCV(alphas=None, copy_X=True,\n",
       "       cv=[([0, 1, 2, 3, 4, 5, 6, 7, 8, 9, 10, 11, 12, 13, 14, 15, 16, 17, 18, 19, 20, 21, 22, 23, 24, 25, 26, 27, 28, 29, 30, 31, 32, 33, 34, 35, 36, 37, 38, 39, 40, 41, 42, 43, 44, 45, 46, 47, 48, 49, 50, 51, 52, 53, 54, 55, 56, 57, 58, 59, 60, 61, 62, 63, 64, 65, 66, 67, 68, 69, 70, 71, 72, 73, 74, 75, ...1, 228472, 228473, 228474, 228475, 228476, 228477, 228478, 228479, 228480, 228481, 228482, 228483])],\n",
       "       eps=0.001, fit_intercept=True, l1_ratio=0.5, max_iter=1000,\n",
       "       n_alphas=100, n_jobs=1, normalize=False, positive=False,\n",
       "       precompute='auto', random_state=0, selection='cyclic', tol=0.0001,\n",
       "       verbose=0)"
      ]
     },
     "execution_count": 478,
     "metadata": {},
     "output_type": "execute_result"
    }
   ],
   "source": [
    "from sklearn.linear_model import ElasticNetCV\n",
    "elv=ElasticNetCV(cv=stack_cvd,random_state=0)\n",
    "elv.fit(stack_train,y_train.values)"
   ]
  },
  {
   "cell_type": "code",
   "execution_count": 479,
   "metadata": {
    "collapsed": true
   },
   "outputs": [],
   "source": [
    "stack_preds=elv.predict(stack_test_scl)\n",
    "stack_test['visitors']=np.expm1(stack_preds)\n",
    "stack_test[['id','visitors']].to_csv('stacked_preds_elasticnet_cv.csv',index=False)"
   ]
  },
  {
   "cell_type": "code",
   "execution_count": 480,
   "metadata": {
    "scrolled": true
   },
   "outputs": [
    {
     "data": {
      "text/html": [
       "<div>\n",
       "<style scoped>\n",
       "    .dataframe tbody tr th:only-of-type {\n",
       "        vertical-align: middle;\n",
       "    }\n",
       "\n",
       "    .dataframe tbody tr th {\n",
       "        vertical-align: top;\n",
       "    }\n",
       "\n",
       "    .dataframe thead th {\n",
       "        text-align: right;\n",
       "    }\n",
       "</style>\n",
       "<table border=\"1\" class=\"dataframe\">\n",
       "  <thead>\n",
       "    <tr style=\"text-align: right;\">\n",
       "      <th></th>\n",
       "      <th>id</th>\n",
       "      <th>visitors</th>\n",
       "    </tr>\n",
       "  </thead>\n",
       "  <tbody>\n",
       "    <tr>\n",
       "      <th>0</th>\n",
       "      <td>air_00a91d42b08b08d9_2017-04-23</td>\n",
       "      <td>1.257361</td>\n",
       "    </tr>\n",
       "    <tr>\n",
       "      <th>1</th>\n",
       "      <td>air_00a91d42b08b08d9_2017-04-24</td>\n",
       "      <td>26.556564</td>\n",
       "    </tr>\n",
       "    <tr>\n",
       "      <th>2</th>\n",
       "      <td>air_00a91d42b08b08d9_2017-04-25</td>\n",
       "      <td>29.555017</td>\n",
       "    </tr>\n",
       "    <tr>\n",
       "      <th>3</th>\n",
       "      <td>air_00a91d42b08b08d9_2017-04-26</td>\n",
       "      <td>35.127448</td>\n",
       "    </tr>\n",
       "    <tr>\n",
       "      <th>4</th>\n",
       "      <td>air_00a91d42b08b08d9_2017-04-27</td>\n",
       "      <td>39.784807</td>\n",
       "    </tr>\n",
       "    <tr>\n",
       "      <th>5</th>\n",
       "      <td>air_00a91d42b08b08d9_2017-04-28</td>\n",
       "      <td>43.282611</td>\n",
       "    </tr>\n",
       "    <tr>\n",
       "      <th>6</th>\n",
       "      <td>air_00a91d42b08b08d9_2017-04-29</td>\n",
       "      <td>7.589559</td>\n",
       "    </tr>\n",
       "    <tr>\n",
       "      <th>7</th>\n",
       "      <td>air_00a91d42b08b08d9_2017-04-30</td>\n",
       "      <td>1.161365</td>\n",
       "    </tr>\n",
       "    <tr>\n",
       "      <th>8</th>\n",
       "      <td>air_00a91d42b08b08d9_2017-05-01</td>\n",
       "      <td>22.566057</td>\n",
       "    </tr>\n",
       "    <tr>\n",
       "      <th>9</th>\n",
       "      <td>air_00a91d42b08b08d9_2017-05-02</td>\n",
       "      <td>24.268850</td>\n",
       "    </tr>\n",
       "  </tbody>\n",
       "</table>\n",
       "</div>"
      ],
      "text/plain": [
       "                                id   visitors\n",
       "0  air_00a91d42b08b08d9_2017-04-23   1.257361\n",
       "1  air_00a91d42b08b08d9_2017-04-24  26.556564\n",
       "2  air_00a91d42b08b08d9_2017-04-25  29.555017\n",
       "3  air_00a91d42b08b08d9_2017-04-26  35.127448\n",
       "4  air_00a91d42b08b08d9_2017-04-27  39.784807\n",
       "5  air_00a91d42b08b08d9_2017-04-28  43.282611\n",
       "6  air_00a91d42b08b08d9_2017-04-29   7.589559\n",
       "7  air_00a91d42b08b08d9_2017-04-30   1.161365\n",
       "8  air_00a91d42b08b08d9_2017-05-01  22.566057\n",
       "9  air_00a91d42b08b08d9_2017-05-02  24.268850"
      ]
     },
     "execution_count": 480,
     "metadata": {},
     "output_type": "execute_result"
    }
   ],
   "source": [
    "stack_test[['id','visitors']].head(10)"
   ]
  },
  {
   "cell_type": "code",
   "execution_count": 481,
   "metadata": {
    "collapsed": true
   },
   "outputs": [],
   "source": [
    "sub1=stack_test[['id','visitors']].copy()"
   ]
  },
  {
   "cell_type": "markdown",
   "metadata": {},
   "source": [
    "** ElasticNet CV metalearner**: Public Leaderboard vs Private Leaderboard \n",
    "![Public LB](submissions/stacked_preds_elasticnet_cv.PNG)"
   ]
  },
  {
   "cell_type": "markdown",
   "metadata": {},
   "source": [
    "# Meta learner 2 - LassoCV"
   ]
  },
  {
   "cell_type": "code",
   "execution_count": 482,
   "metadata": {},
   "outputs": [
    {
     "data": {
      "text/plain": [
       "LassoCV(alphas=None, copy_X=True,\n",
       "    cv=[([0, 1, 2, 3, 4, 5, 6, 7, 8, 9, 10, 11, 12, 13, 14, 15, 16, 17, 18, 19, 20, 21, 22, 23, 24, 25, 26, 27, 28, 29, 30, 31, 32, 33, 34, 35, 36, 37, 38, 39, 40, 41, 42, 43, 44, 45, 46, 47, 48, 49, 50, 51, 52, 53, 54, 55, 56, 57, 58, 59, 60, 61, 62, 63, 64, 65, 66, 67, 68, 69, 70, 71, 72, 73, 74, 75, ...1, 228472, 228473, 228474, 228475, 228476, 228477, 228478, 228479, 228480, 228481, 228482, 228483])],\n",
       "    eps=0.001, fit_intercept=True, max_iter=1000, n_alphas=100, n_jobs=1,\n",
       "    normalize=False, positive=False, precompute='auto', random_state=None,\n",
       "    selection='cyclic', tol=0.0001, verbose=False)"
      ]
     },
     "execution_count": 482,
     "metadata": {},
     "output_type": "execute_result"
    }
   ],
   "source": [
    "from sklearn import linear_model\n",
    "clf = linear_model.LassoCV(cv=stack_cvd)\n",
    "clf.fit(stack_train,y_train.values)"
   ]
  },
  {
   "cell_type": "code",
   "execution_count": 483,
   "metadata": {},
   "outputs": [
    {
     "data": {
      "text/plain": [
       "array([ 1.15213008, 26.87293484, 29.87203022, ...,  2.66545345,\n",
       "        3.1003264 ,  1.73088271])"
      ]
     },
     "execution_count": 483,
     "metadata": {},
     "output_type": "execute_result"
    }
   ],
   "source": [
    "np.expm1(clf.predict(stack_test_scl))"
   ]
  },
  {
   "cell_type": "code",
   "execution_count": 484,
   "metadata": {
    "collapsed": true
   },
   "outputs": [],
   "source": [
    "stack_preds=np.expm1(clf.predict(stack_test_scl))\n",
    "stack_test['visitors']=(stack_preds)\n",
    "stack_test[['id','visitors']].to_csv('stacked_preds_lasso.csv',index=False)"
   ]
  },
  {
   "cell_type": "code",
   "execution_count": 485,
   "metadata": {
    "collapsed": true
   },
   "outputs": [],
   "source": [
    "sub2=stack_test[['id','visitors']].copy()"
   ]
  },
  {
   "cell_type": "markdown",
   "metadata": {},
   "source": [
    "** Lasso CV metalearner**: Public Leaderboard vs Private Leaderboard \n",
    "![Public LB](submissions/stacked_preds_lasso_cv.PNG)"
   ]
  },
  {
   "cell_type": "markdown",
   "metadata": {},
   "source": [
    "# Meta learner-3: Decision Tree"
   ]
  },
  {
   "cell_type": "code",
   "execution_count": 486,
   "metadata": {
    "collapsed": true
   },
   "outputs": [],
   "source": [
    "from sklearn.tree import DecisionTreeRegressor\n",
    "clf=DecisionTreeRegressor(random_state=0)\n",
    "param_dtree={'max_depth':st.randint(3,6),'min_samples_split':st.randint(2,5)}\n",
    "dttrscv=model_selection.RandomizedSearchCV(clf,param_distributions=param_dtree,n_iter=5,n_jobs=5,scoring=scored,cv=stack_cvd)"
   ]
  },
  {
   "cell_type": "code",
   "execution_count": 487,
   "metadata": {},
   "outputs": [
    {
     "data": {
      "text/plain": [
       "RandomizedSearchCV(cv=[([0, 1, 2, 3, 4, 5, 6, 7, 8, 9, 10, 11, 12, 13, 14, 15, 16, 17, 18, 19, 20, 21, 22, 23, 24, 25, 26, 27, 28, 29, 30, 31, 32, 33, 34, 35, 36, 37, 38, 39, 40, 41, 42, 43, 44, 45, 46, 47, 48, 49, 50, 51, 52, 53, 54, 55, 56, 57, 58, 59, 60, 61, 62, 63, 64, 65, 66, 67, 68, 69, 70, 71, 72, 73, 74, 75, ...1, 228472, 228473, 228474, 228475, 228476, 228477, 228478, 228479, 228480, 228481, 228482, 228483])],\n",
       "          error_score='raise',\n",
       "          estimator=DecisionTreeRegressor(criterion='mse', max_depth=None, max_features=None,\n",
       "           max_leaf_nodes=None, min_impurity_decrease=0.0,\n",
       "           min_impurity_split=None, min_samples_leaf=1,\n",
       "           min_samples_split=2, min_weight_fraction_leaf=0.0,\n",
       "           presort=False, random_state=0, splitter='best'),\n",
       "          fit_params=None, iid=True, n_iter=5, n_jobs=5,\n",
       "          param_distributions={'max_depth': <scipy.stats._distn_infrastructure.rv_frozen object at 0x7f6b0131f5f8>, 'min_samples_split': <scipy.stats._distn_infrastructure.rv_frozen object at 0x7f6b0131f240>},\n",
       "          pre_dispatch='2*n_jobs', random_state=None, refit=True,\n",
       "          return_train_score=True, scoring=make_scorer(mean_squared_error),\n",
       "          verbose=0)"
      ]
     },
     "execution_count": 487,
     "metadata": {},
     "output_type": "execute_result"
    }
   ],
   "source": [
    "dttrscv.fit(stack_train,y_train.values)"
   ]
  },
  {
   "cell_type": "code",
   "execution_count": 488,
   "metadata": {
    "collapsed": true
   },
   "outputs": [],
   "source": [
    "dt_best=dttrscv.best_estimator_"
   ]
  },
  {
   "cell_type": "code",
   "execution_count": 489,
   "metadata": {
    "collapsed": true
   },
   "outputs": [],
   "source": [
    "stack_test['visitors']=np.expm1(dt_best.predict(stack_test_scl))\n",
    "stack_test[['id','visitors']].to_csv('stacked_preds_dtree.csv',index=False)"
   ]
  },
  {
   "cell_type": "code",
   "execution_count": 490,
   "metadata": {
    "collapsed": true
   },
   "outputs": [],
   "source": [
    "sub3=stack_test[['id','visitors']].copy()"
   ]
  },
  {
   "cell_type": "markdown",
   "metadata": {},
   "source": [
    "** Decision tree metalearner with RandomGrid+ Hold one out CV **: Public Leaderboard vs Private Leaderboard \n",
    "![Public LB](submissions/stacked_preds_dtree_cv.PNG)"
   ]
  },
  {
   "cell_type": "markdown",
   "metadata": {},
   "source": [
    "# Hklee public kernel for averaging"
   ]
  },
  {
   "cell_type": "markdown",
   "metadata": {},
   "source": [
    "** I am using the kernel from the user hklee : https://www.kaggle.com/zeemeen/weighted-mean-comparisons-lb-0-497-1st **\n",
    "and this kernel: https://www.kaggle.com/the1owl/surprise-me\n",
    "\n",
    "I was doing it average my predictions to improve my score"
   ]
  },
  {
   "cell_type": "code",
   "execution_count": 3,
   "metadata": {
    "collapsed": true
   },
   "outputs": [],
   "source": [
    "# air_visit_data: Visitos data as main training set\n",
    "air_visit_data=pd.read_csv('air_visit_data.csv')\n",
    "\n",
    "#air store info and hpg store informations\n",
    "air_store_info=pd.read_csv('air_store_info.csv')\n",
    "hpg_store_info=pd.read_csv('hpg_store_info.csv')\n",
    "\n",
    "#reservation info\n",
    "air_reserve=pd.read_csv('air_reserve.csv')\n",
    "hpg_reserve=pd.read_csv('hpg_reserve.csv')\n",
    "\n",
    "#store id relation between hpg and air\n",
    "\n",
    "store_id_relation=pd.read_csv('store_id_relation.csv')\n",
    "date_info=pd.read_csv('date_info.csv')\n",
    "sample_submission=pd.read_csv('sample_submission.csv')"
   ]
  },
  {
   "cell_type": "code",
   "execution_count": 4,
   "metadata": {
    "collapsed": true
   },
   "outputs": [],
   "source": [
    "wkend_holidays = date_info.apply(\n",
    "    (lambda x:(x.day_of_week=='Sunday' or x.day_of_week=='Saturday') and x.holiday_flg==1), axis=1)\n",
    "date_info.loc[wkend_holidays, 'holiday_flg'] = 0\n",
    "date_info['weight'] = ((date_info.index + 1) / len(date_info)) ** 5  \n",
    "\n",
    "visit_data = air_visit_data.merge(date_info, left_on='visit_date', right_on='calendar_date', how='left')\n",
    "visit_data.drop('calendar_date', axis=1, inplace=True)\n",
    "visit_data['visitors'] = visit_data.visitors.map(pd.np.log1p)\n",
    "\n",
    "wmean = lambda x:( (x.weight * x.visitors).sum() / x.weight.sum() )\n",
    "visitors = visit_data.groupby(['air_store_id', 'day_of_week', 'holiday_flg']).apply(wmean).reset_index()\n",
    "visitors.rename(columns={0:'visitors'}, inplace=True) \n",
    "\n",
    "sample_submission['air_store_id'] = sample_submission.id.map(lambda x: '_'.join(x.split('_')[:-1]))\n",
    "sample_submission['calendar_date'] = sample_submission.id.map(lambda x: x.split('_')[2])\n",
    "sample_submission.drop('visitors', axis=1, inplace=True)\n",
    "sample_submission = sample_submission.merge(date_info, on='calendar_date', how='left')\n",
    "sample_submission = sample_submission.merge(visitors, on=[\n",
    "    'air_store_id', 'day_of_week', 'holiday_flg'], how='left')\n",
    "\n",
    "missings = sample_submission.visitors.isnull()\n",
    "sample_submission.loc[missings, 'visitors'] = sample_submission[missings].merge(\n",
    "    visitors[visitors.holiday_flg==0], on=('air_store_id', 'day_of_week'), \n",
    "    how='left')['visitors_y'].values\n",
    "\n",
    "missings = sample_submission.visitors.isnull()\n",
    "sample_submission.loc[missings, 'visitors'] = sample_submission[missings].merge(\n",
    "    visitors[['air_store_id', 'visitors']].groupby('air_store_id').mean().reset_index(), \n",
    "    on='air_store_id', how='left')['visitors_y'].values\n",
    "\n",
    "sample_submission['visitors'] = sample_submission.visitors.map(pd.np.expm1)\n",
    "sub_hk = sample_submission[['id', 'visitors']].copy()"
   ]
  },
  {
   "cell_type": "markdown",
   "metadata": {},
   "source": [
    "# Avergaing hklee public kernel + Stacked preds with Elastic Net"
   ]
  },
  {
   "cell_type": "code",
   "execution_count": 493,
   "metadata": {
    "collapsed": true
   },
   "outputs": [],
   "source": [
    "sub_merge = pd.merge(sub1, sub_hk, on='id', how='inner')\n",
    "sub_merge['visitors'] = 0.4*sub_merge['visitors_x'] + 0.6*sub_merge['visitors_y']* 1.1\n",
    "sub_merge[['id', 'visitors']].to_csv('avg_hk_stack_elastic_feat.csv', index=False)"
   ]
  },
  {
   "cell_type": "markdown",
   "metadata": {},
   "source": [
    "** ElasticNetCV avg with hklee kernel **: Public Leaderboard vs Private Leaderboard \n",
    "![Public LB](submissions/avg_hk_elastic.PNG)"
   ]
  },
  {
   "cell_type": "markdown",
   "metadata": {},
   "source": [
    "# Avergaing hklee public kernel + Stacked preds with  Lasso"
   ]
  },
  {
   "cell_type": "code",
   "execution_count": 494,
   "metadata": {
    "collapsed": true
   },
   "outputs": [],
   "source": [
    "sub_merge = pd.merge(sub2, sub_hk, on='id', how='inner')\n",
    "sub_merge['visitors'] = 0.4*sub_merge['visitors_x'] + 0.6*sub_merge['visitors_y']* 1.1\n",
    "sub_merge[['id', 'visitors']].to_csv('avg_hk_stack_lasso_feat.csv', index=False)"
   ]
  },
  {
   "cell_type": "markdown",
   "metadata": {},
   "source": [
    "** LassoCV avg with hklee kernel **: Public Leaderboard vs Private Leaderboard \n",
    "![Public LB](submissions/avg_hk_lasso.PNG)"
   ]
  },
  {
   "cell_type": "markdown",
   "metadata": {},
   "source": [
    "# Avergaing hklee public kernel + Stacked preds with Decision tree"
   ]
  },
  {
   "cell_type": "code",
   "execution_count": 495,
   "metadata": {
    "collapsed": true
   },
   "outputs": [],
   "source": [
    "sub_merge = pd.merge(sub3, sub_hk, on='id', how='inner')\n",
    "sub_merge['visitors'] = 0.4*sub_merge['visitors_x'] + 0.6*sub_merge['visitors_y']* 1.1\n",
    "sub_merge[['id', 'visitors']].to_csv('avg_hk_stack_dtree_feat.csv', index=False)"
   ]
  },
  {
   "cell_type": "markdown",
   "metadata": {},
   "source": [
    "** Dtree Tscv avg with hklee kernel **: Public Leaderboard vs Private Leaderboard \n",
    "![Public LB](submissions/avg_hk_dtree.PNG)"
   ]
  },
  {
   "cell_type": "markdown",
   "metadata": {},
   "source": [
    "# Averaging baseline models"
   ]
  },
  {
   "cell_type": "code",
   "execution_count": 499,
   "metadata": {
    "collapsed": true
   },
   "outputs": [],
   "source": [
    "stack_avg=stack_test.drop(['air_store_id','visitors_avg_nocv','visit_date'],axis=1)"
   ]
  },
  {
   "cell_type": "code",
   "execution_count": 502,
   "metadata": {},
   "outputs": [
    {
     "data": {
      "text/html": [
       "<div>\n",
       "<style scoped>\n",
       "    .dataframe tbody tr th:only-of-type {\n",
       "        vertical-align: middle;\n",
       "    }\n",
       "\n",
       "    .dataframe tbody tr th {\n",
       "        vertical-align: top;\n",
       "    }\n",
       "\n",
       "    .dataframe thead th {\n",
       "        text-align: right;\n",
       "    }\n",
       "</style>\n",
       "<table border=\"1\" class=\"dataframe\">\n",
       "  <thead>\n",
       "    <tr style=\"text-align: right;\">\n",
       "      <th></th>\n",
       "      <th>id</th>\n",
       "      <th>visitors</th>\n",
       "      <th>visitors_rf</th>\n",
       "      <th>train_lgbm</th>\n",
       "      <th>train_xgb</th>\n",
       "      <th>visitors_train</th>\n",
       "      <th>visitors_lgb</th>\n",
       "      <th>train_et_tscv</th>\n",
       "    </tr>\n",
       "  </thead>\n",
       "  <tbody>\n",
       "    <tr>\n",
       "      <th>0</th>\n",
       "      <td>air_00a91d42b08b08d9_2017-04-23</td>\n",
       "      <td>3.994613</td>\n",
       "      <td>9.341814</td>\n",
       "      <td>2.979738</td>\n",
       "      <td>2.715885</td>\n",
       "      <td>4.230</td>\n",
       "      <td>5.124713</td>\n",
       "      <td>4.107479</td>\n",
       "    </tr>\n",
       "    <tr>\n",
       "      <th>1</th>\n",
       "      <td>air_00a91d42b08b08d9_2017-04-24</td>\n",
       "      <td>23.949450</td>\n",
       "      <td>22.532612</td>\n",
       "      <td>23.952488</td>\n",
       "      <td>24.754105</td>\n",
       "      <td>26.321</td>\n",
       "      <td>19.997988</td>\n",
       "      <td>23.249179</td>\n",
       "    </tr>\n",
       "    <tr>\n",
       "      <th>2</th>\n",
       "      <td>air_00a91d42b08b08d9_2017-04-25</td>\n",
       "      <td>26.207220</td>\n",
       "      <td>25.016202</td>\n",
       "      <td>26.965426</td>\n",
       "      <td>26.201387</td>\n",
       "      <td>28.983</td>\n",
       "      <td>22.778007</td>\n",
       "      <td>25.333136</td>\n",
       "    </tr>\n",
       "    <tr>\n",
       "      <th>3</th>\n",
       "      <td>air_00a91d42b08b08d9_2017-04-26</td>\n",
       "      <td>27.174285</td>\n",
       "      <td>26.248111</td>\n",
       "      <td>27.271219</td>\n",
       "      <td>27.652216</td>\n",
       "      <td>26.980</td>\n",
       "      <td>28.605739</td>\n",
       "      <td>26.538586</td>\n",
       "    </tr>\n",
       "    <tr>\n",
       "      <th>4</th>\n",
       "      <td>air_00a91d42b08b08d9_2017-04-27</td>\n",
       "      <td>31.538940</td>\n",
       "      <td>29.686175</td>\n",
       "      <td>31.688178</td>\n",
       "      <td>31.778515</td>\n",
       "      <td>35.182</td>\n",
       "      <td>31.564612</td>\n",
       "      <td>30.091465</td>\n",
       "    </tr>\n",
       "    <tr>\n",
       "      <th>5</th>\n",
       "      <td>air_00a91d42b08b08d9_2017-04-28</td>\n",
       "      <td>37.973572</td>\n",
       "      <td>34.596299</td>\n",
       "      <td>38.847140</td>\n",
       "      <td>37.155468</td>\n",
       "      <td>46.709</td>\n",
       "      <td>41.654076</td>\n",
       "      <td>34.509563</td>\n",
       "    </tr>\n",
       "    <tr>\n",
       "      <th>6</th>\n",
       "      <td>air_00a91d42b08b08d9_2017-04-29</td>\n",
       "      <td>13.463463</td>\n",
       "      <td>20.456511</td>\n",
       "      <td>9.151873</td>\n",
       "      <td>10.037499</td>\n",
       "      <td>19.858</td>\n",
       "      <td>26.258592</td>\n",
       "      <td>14.099321</td>\n",
       "    </tr>\n",
       "    <tr>\n",
       "      <th>7</th>\n",
       "      <td>air_00a91d42b08b08d9_2017-04-30</td>\n",
       "      <td>4.191380</td>\n",
       "      <td>9.341814</td>\n",
       "      <td>3.268084</td>\n",
       "      <td>2.856851</td>\n",
       "      <td>3.763</td>\n",
       "      <td>7.471969</td>\n",
       "      <td>4.166120</td>\n",
       "    </tr>\n",
       "    <tr>\n",
       "      <th>8</th>\n",
       "      <td>air_00a91d42b08b08d9_2017-05-01</td>\n",
       "      <td>23.408214</td>\n",
       "      <td>22.532612</td>\n",
       "      <td>22.897079</td>\n",
       "      <td>24.032574</td>\n",
       "      <td>25.482</td>\n",
       "      <td>20.788899</td>\n",
       "      <td>23.166328</td>\n",
       "    </tr>\n",
       "    <tr>\n",
       "      <th>9</th>\n",
       "      <td>air_00a91d42b08b08d9_2017-05-02</td>\n",
       "      <td>28.817866</td>\n",
       "      <td>25.016202</td>\n",
       "      <td>31.425688</td>\n",
       "      <td>27.595260</td>\n",
       "      <td>34.570</td>\n",
       "      <td>27.488446</td>\n",
       "      <td>26.749118</td>\n",
       "    </tr>\n",
       "  </tbody>\n",
       "</table>\n",
       "</div>"
      ],
      "text/plain": [
       "                                id   visitors  visitors_rf  train_lgbm  \\\n",
       "0  air_00a91d42b08b08d9_2017-04-23   3.994613     9.341814    2.979738   \n",
       "1  air_00a91d42b08b08d9_2017-04-24  23.949450    22.532612   23.952488   \n",
       "2  air_00a91d42b08b08d9_2017-04-25  26.207220    25.016202   26.965426   \n",
       "3  air_00a91d42b08b08d9_2017-04-26  27.174285    26.248111   27.271219   \n",
       "4  air_00a91d42b08b08d9_2017-04-27  31.538940    29.686175   31.688178   \n",
       "5  air_00a91d42b08b08d9_2017-04-28  37.973572    34.596299   38.847140   \n",
       "6  air_00a91d42b08b08d9_2017-04-29  13.463463    20.456511    9.151873   \n",
       "7  air_00a91d42b08b08d9_2017-04-30   4.191380     9.341814    3.268084   \n",
       "8  air_00a91d42b08b08d9_2017-05-01  23.408214    22.532612   22.897079   \n",
       "9  air_00a91d42b08b08d9_2017-05-02  28.817866    25.016202   31.425688   \n",
       "\n",
       "   train_xgb  visitors_train  visitors_lgb  train_et_tscv  \n",
       "0   2.715885           4.230      5.124713       4.107479  \n",
       "1  24.754105          26.321     19.997988      23.249179  \n",
       "2  26.201387          28.983     22.778007      25.333136  \n",
       "3  27.652216          26.980     28.605739      26.538586  \n",
       "4  31.778515          35.182     31.564612      30.091465  \n",
       "5  37.155468          46.709     41.654076      34.509563  \n",
       "6  10.037499          19.858     26.258592      14.099321  \n",
       "7   2.856851           3.763      7.471969       4.166120  \n",
       "8  24.032574          25.482     20.788899      23.166328  \n",
       "9  27.595260          34.570     27.488446      26.749118  "
      ]
     },
     "execution_count": 502,
     "metadata": {},
     "output_type": "execute_result"
    }
   ],
   "source": [
    "stack_avg['visitors']=0.25*stack_avg['train_lgbm']+0.3*stack_avg['train_xgb']+0.1*stack_avg['visitors_rf']+0.1*stack_avg['visitors_train']+0.05*stack_avg['visitors_lgb']+0.2*stack_avg['train_et_tscv'] \n",
    "stack_avg.head(10)"
   ]
  },
  {
   "cell_type": "code",
   "execution_count": 503,
   "metadata": {
    "collapsed": true
   },
   "outputs": [],
   "source": [
    "stack_avg[['id','visitors']].to_csv('stack_avg.csv',index=False)"
   ]
  },
  {
   "cell_type": "markdown",
   "metadata": {},
   "source": [
    "** Base Learners with CV Averaged **: Public Leaderboard vs Private Leaderboard \n",
    "![Public LB](submissions/avg_baseline_cv.PNG)"
   ]
  },
  {
   "cell_type": "markdown",
   "metadata": {},
   "source": [
    "# Averaging with hklee public kernel + average of baseline models"
   ]
  },
  {
   "cell_type": "code",
   "execution_count": 504,
   "metadata": {
    "collapsed": true
   },
   "outputs": [],
   "source": [
    "sub4=stack_avg[['id','visitors']].copy()\n",
    "sub_merge = pd.merge(sub4, sub_hk, on='id', how='inner')\n",
    "sub_merge['visitors'] = 0.8*sub_merge['visitors_x'] + 0.2*sub_merge['visitors_y']* 1.1\n",
    "sub_merge[['id', 'visitors']].to_csv('avg_hk_stack_avg.csv', index=False)"
   ]
  },
  {
   "cell_type": "markdown",
   "metadata": {},
   "source": [
    "** Base Learners with CV Averaged with hklee kernel **: Public Leaderboard vs Private Leaderboard \n",
    "![Public LB](submissions/avg_hklee_baseline_cv.PNG)"
   ]
  },
  {
   "cell_type": "markdown",
   "metadata": {},
   "source": [
    "# Total Leaderboard Summary"
   ]
  },
  {
   "cell_type": "markdown",
   "metadata": {},
   "source": [
    "| Rank| Model| Model Level| Cross Validation Strategy| Private Score|Public Score|Delta|\n",
    "| -------------| ------------- |:-------------:| -----:| ------------- |:-------------:|:-------------:|\n",
    "| 1 | Baseline CV* Average|  Averaged|different CV strategies | 0.510|0.477|0.033|\n",
    "| 2 | Baseline CV* + hklee Average|  Averaged|different CV strategies | 0.510|0.479|0.031|\n",
    "| 3 | XGBoost|  Baseline|Hold one out CV with fixed params+ feat| 0.512|0.480|0.032|\n",
    "| 4 | Light GBM|   Baseline|Hold one out CV with fixed params + feat | 0.514|0.472|0.042|\n",
    "| 5 | Extra Trees|   Baseline|Time series CV with Random Gridsearch + custom feat | 0.516|0.485|0.031|\n",
    "| 6 | random Forests|   Baseline|Hold one out CV with Random Gridsearch + custom feat | 0.524|0.496|0.028|\n",
    "| 7 | LSTM|   Baseline|Hold one out CV and one dense layer | 0.525|0.498|0.027|\n",
    "| 8 | Light GBM|   Baseline|Time series CV with Random Gridsearch + custom feat| 0.526|0.490|0.036|\n",
    "| 9 | Avg hklee + Stacked with Dtree|Averaged|different CV stratagies | 0.536|0.493|0.043|\n",
    "| 10 | Avg hklee + Stacked with Elasticnet|Averaged|different CV stratagies | 0.540|0.494|0.046|\n",
    "| 11 | Avg hklee + Stacked with lasso|Averaged|different CV stratagies | 0.542|0.495|0.047|\n",
    "| 12 | XGBoost|   Baseline|Time series CV with Random Gridsearch + custom feat | 0.555|0.495|0.06|\n",
    "| 13 | Stacked with Dtree|   Stacked|different CV stratagies | 0.562|0.516|0.046|\n",
    "| 14 | **Benchmark H2OAutoML**| Stacked-benchmark|Kfold CV with Random grid search | 0.566|0.524|0.042|\n",
    "| 15 | Stacked with Elastic net|   Stacked|different CV stratagies | 0.582|0.525|0.057|\n",
    "| 16 | Stacked with Lasso|   Stacked|different CV stratagies | 0.590|0.535|0.055|\n",
    "| 17 | MLP regressor|   Baseline|Hold one out CV + custom feat | 0.625|0.611|0.014|\n",
    "| 18 | KNN regressor|   Baseline|Time series CV with Random Gridsearch + custom feat | 0.698|0.603|0.095|\n",
    "| 19 |**Benchamrk ARIMA**| Baseline-benchmark|No CV with fixed params | 0.787|0.552|0.235|"
   ]
  },
  {
   "cell_type": "markdown",
   "metadata": {},
   "source": [
    "# Conclusions"
   ]
  },
  {
   "cell_type": "markdown",
   "metadata": {},
   "source": [
    "The important conclusions to be drawn from here are:\n",
    "\n",
    "* Hold One out Cross validation works best for this problem\n",
    "    \n",
    "* Model avergaing worked in improving the private leaderboard scores\n",
    "    \n",
    "* The use of different rolling avergaes : Weighted rolling average , exponential rolling avergaes and rolling averages did help to boost the Private leaderboard score\n",
    "    \n",
    "* Time series cross validation did not work because of less amount of data being present for the restaurants added in June\n",
    "    \n",
    "* Stacking did not work because the models are correlated. Could not generate lot of diverse models within the frame work i had, due to this all the stacked models were in the middle of the leaderboard ranking"
   ]
  },
  {
   "cell_type": "markdown",
   "metadata": {},
   "source": [
    "# Further Improvements"
   ]
  },
  {
   "cell_type": "markdown",
   "metadata": {},
   "source": [
    "* I should have tried bayesian tuning to some of the baseline models\n",
    "* I would also change the time series cross validation to only 2 folds may be just before Golden week and just before new years eve in 2016-2017\n",
    "* I think may be using embeddings for categorical columns in MLP could have helped (but there are lot of categorical columns) "
   ]
  },
  {
   "cell_type": "markdown",
   "metadata": {},
   "source": [
    "# Some graphs for the report"
   ]
  },
  {
   "cell_type": "code",
   "execution_count": 52,
   "metadata": {},
   "outputs": [],
   "source": [
    "restaurants_before_july=train_data[train_data.visit_date<'2016-07-01'].air_store_id.unique()"
   ]
  },
  {
   "cell_type": "code",
   "execution_count": 54,
   "metadata": {},
   "outputs": [],
   "source": [
    "restaurants_before_july=restaurants_before_july.tolist()"
   ]
  },
  {
   "cell_type": "code",
   "execution_count": 56,
   "metadata": {},
   "outputs": [],
   "source": [
    "restaurants_after_july=train_data[train_data.visit_date>'2016-07-01'].air_store_id.unique()\n",
    "restaurants_after_july=restaurants_after_july.tolist()"
   ]
  },
  {
   "cell_type": "code",
   "execution_count": 60,
   "metadata": {},
   "outputs": [],
   "source": [
    "for i in range(len(restaurants_before_july)):\n",
    "    restaurants_after_july.remove(restaurants_before_july[i])"
   ]
  },
  {
   "cell_type": "code",
   "execution_count": 63,
   "metadata": {},
   "outputs": [
    {
     "data": {
      "text/plain": [
       "['air_8e4360a64dbd4c50',\n",
       " 'air_a271c9ba19e81d17',\n",
       " 'air_cf22e368c1a71d53',\n",
       " 'air_f3f9824b7d70c3cf',\n",
       " 'air_820d1919cbecaa0a',\n",
       " 'air_9ae7081cb77dc51e',\n",
       " 'air_d69b08a175bc0387',\n",
       " 'air_3e93f3c81008696d',\n",
       " 'air_cb935ff8610ba3d3',\n",
       " 'air_9bf595ef095572fb',\n",
       " 'air_876d7a23c47811cb',\n",
       " 'air_6902e4ec305b3d08',\n",
       " 'air_cd5f54969be9ed08',\n",
       " 'air_b80fed1a07c817d2',\n",
       " 'air_45326ebb8dc72cfb',\n",
       " 'air_6ca1d941c8199a67',\n",
       " 'air_7514d90009613cd6',\n",
       " 'air_8b4a46dc521bfcfe',\n",
       " 'air_7ef9a5ea5c8fe39f',\n",
       " 'air_831658500aa7c846',\n",
       " 'air_eec5e572b9eb9c23',\n",
       " 'air_90f0efbb702d77b7',\n",
       " 'air_256be208a979e023',\n",
       " 'air_324f7c39a8410e7c',\n",
       " 'air_938ef91ecdde6878',\n",
       " 'air_5d7c744c3a2ef624',\n",
       " 'air_1c0b150f9e696a5f',\n",
       " 'air_8f13ef0f5e8c64dd',\n",
       " 'air_f8233ad00755c35c',\n",
       " 'air_c47aa7493b15f297',\n",
       " 'air_51281cd059d7b89b',\n",
       " 'air_fcfbdcf7b1f82c6e',\n",
       " 'air_d07e57b21109304a',\n",
       " 'air_bcce1ea4350b7b72',\n",
       " 'air_627cabe2fe53f33f',\n",
       " 'air_5485912b44f976de',\n",
       " 'air_965b2e0cf4119003',\n",
       " 'air_c7f78b4f3cba33ff',\n",
       " 'air_710d6537cb7623df',\n",
       " 'air_b2d97bd2337c5ba7',\n",
       " 'air_e7fbee4e3cfe65c5',\n",
       " 'air_6b2268863b14a2af',\n",
       " 'air_97cf68dc1a9beac0',\n",
       " 'air_a88ac559064dec08',\n",
       " 'air_a24bf50c3e90d583',\n",
       " 'air_ee3ba9af184c6c82',\n",
       " 'air_20add8092c9bb51d',\n",
       " 'air_04cae7c1bc9b2a0b',\n",
       " 'air_36429b5ca4407b3e',\n",
       " 'air_7420042ff75f9aca',\n",
       " 'air_b23d0f519291247d',\n",
       " 'air_a257c9749d8d0ff6',\n",
       " 'air_97b2a9f975fc702c',\n",
       " 'air_4c727b55acdee495',\n",
       " 'air_cfcc94797d2b5d3d',\n",
       " 'air_ecab54b57a71b10d',\n",
       " 'air_8523d6a70de49e6c',\n",
       " 'air_7f9e15afafcf4c75',\n",
       " 'air_4d21676ed11f0bac',\n",
       " 'air_25c583983246b7b0',\n",
       " 'air_db1233ad855b34d5',\n",
       " 'air_947eb2cae4f3e8f2',\n",
       " 'air_fea5dc9594450608',\n",
       " 'air_e657ca554b0c008c',\n",
       " 'air_0b1e72d2d4422b20',\n",
       " 'air_f0fb0975bdc2cdf9',\n",
       " 'air_0a74a5408a0b8642',\n",
       " 'air_2c6fef1ce0e13a5a',\n",
       " 'air_cf5ab75a0afb8af9',\n",
       " 'air_258ad2619d7bff9a',\n",
       " 'air_5acc13d655a6e8b2',\n",
       " 'air_5f6fa1b897fe80d5',\n",
       " 'air_375a5241615b5e22',\n",
       " 'air_ca6ae8d49a2f1eaf',\n",
       " 'air_fee8dcf4d619598e',\n",
       " 'air_bedd35489e666605',\n",
       " 'air_a546cbf478a8b6e4',\n",
       " 'air_0f0cdeee6c9bf3d7',\n",
       " 'air_af63df35857b16e6',\n",
       " 'air_396166d47733d5c9',\n",
       " 'air_915558a55c2bc56c',\n",
       " 'air_5fbda8e9302f7c13',\n",
       " 'air_1ab60ce33bfed8a8',\n",
       " 'air_c6ffd6a93e6b68d6',\n",
       " 'air_1dd8f6f47480d1a2',\n",
       " 'air_10713fbf3071c361',\n",
       " 'air_929d8513e3cdb423',\n",
       " 'air_036d4f1ee7285390',\n",
       " 'air_303bac187b53083a',\n",
       " 'air_6411203a47b5ec77',\n",
       " 'air_0b9038300f8b2b50',\n",
       " 'air_88c8e34baa79217b',\n",
       " 'air_9aa92007e3628dbc',\n",
       " 'air_b8a5ee69e5fdcc5b',\n",
       " 'air_bac5f4441db21db9',\n",
       " 'air_9c6787aa03a45586',\n",
       " 'air_1eeff462acb24fb7',\n",
       " 'air_ec0fad2def4dcff0',\n",
       " 'air_33b01025210d6007',\n",
       " 'air_70f834596eb99fee',\n",
       " 'air_229d7e508d9f1b5e',\n",
       " 'air_397d3f32a7196aa2',\n",
       " 'air_6873982b9e19c7ad',\n",
       " 'air_1707a3f18bb0da07',\n",
       " 'air_258dc112912fc458',\n",
       " 'air_2a24aec099333f39',\n",
       " 'air_c0385db498b391e5',\n",
       " 'air_fef9ccb3ba0da2f7',\n",
       " 'air_67f87c159d9e2ee2',\n",
       " 'air_eeeadee005c006a2',\n",
       " 'air_43b65e4b05bff2d3',\n",
       " 'air_9ca2767761efff4d',\n",
       " 'air_a9178f19da58fe99',\n",
       " 'air_bb09595bab7d5cfb',\n",
       " 'air_df507aec929ce5f6',\n",
       " 'air_df9355c47c5df9d3',\n",
       " 'air_657a0748462f85de',\n",
       " 'air_f9168b23fdfc1e52',\n",
       " 'air_a2567267116a3b75',\n",
       " 'air_9387ff95e886ebc7',\n",
       " 'air_84060403939d8216',\n",
       " 'air_d4d218b451f82c3d',\n",
       " 'air_3c938075889fc059',\n",
       " 'air_645cb18b33f938cf',\n",
       " 'air_c8265ecc116f2284',\n",
       " 'air_96005f79124e12bf',\n",
       " 'air_5bd22f9cc1426a90',\n",
       " 'air_48f4da6223571da4',\n",
       " 'air_5c7489c9ec755e2d',\n",
       " 'air_c8fe396d6c46275d',\n",
       " 'air_c3585b0fba3998d0',\n",
       " 'air_b2a639cc7e02edf1',\n",
       " 'air_fc477473134e9ae5',\n",
       " 'air_9a6f6e7f623003d2',\n",
       " 'air_0867f7bebad6a649',\n",
       " 'air_465bddfed3353b23',\n",
       " 'air_712dd258f7f91b4b',\n",
       " 'air_3b20733899b5287f',\n",
       " 'air_edd5e3d696a5811b',\n",
       " 'air_64a5d5c1381837af',\n",
       " 'air_629edf21ea38ac2d',\n",
       " 'air_7dacea2f22afccfb',\n",
       " 'air_b439391e72899756',\n",
       " 'air_890d7e28e8eaaa11',\n",
       " 'air_8e429650fcf7a0ae',\n",
       " 'air_10bbe8acd943d8f6',\n",
       " 'air_f2985de32bb792e0',\n",
       " 'air_a11473cc1eb9a27f',\n",
       " 'air_78df4dc6a7e83e41',\n",
       " 'air_86f7b2109e4abd65',\n",
       " 'air_c5459218282bedd5',\n",
       " 'air_a33461f4392ec62c',\n",
       " 'air_4de6d887a7b1c1fc',\n",
       " 'air_5b704df317ed1962',\n",
       " 'air_220cba70c890b119',\n",
       " 'air_87ca98aa7664de94',\n",
       " 'air_9483d65e9cc9a6b7',\n",
       " 'air_ffcc2d5087e1b476',\n",
       " 'air_72f5146cf0c49beb',\n",
       " 'air_ef47430bcd6f6a89',\n",
       " 'air_d3e7b5952cd09ccb',\n",
       " 'air_08f994758a1e76d4',\n",
       " 'air_59cc9b2b209c6331',\n",
       " 'air_8e8f42f047537154',\n",
       " 'air_939964477035ef0b',\n",
       " 'air_97e0f2feec4d577a',\n",
       " 'air_859feab8e3c9f98d',\n",
       " 'air_38746ffe9aa20c7e',\n",
       " 'air_2c505f9ad67d4635',\n",
       " 'air_bed603c423b7d9d4',\n",
       " 'air_b0a6a4c5e95c74cf',\n",
       " 'air_2bffb19a24d11729',\n",
       " 'air_47beaffd3806c979',\n",
       " 'air_87059630ab6fe47f',\n",
       " 'air_82a6ae14151953ba',\n",
       " 'air_2b9bc9f5f5168ea1',\n",
       " 'air_8cc350fd70ee0757',\n",
       " 'air_6c1128955c58b690',\n",
       " 'air_2c6c79d597e48096',\n",
       " 'air_6a15e4eae523189d',\n",
       " 'air_bf13014b6e3e60ca',\n",
       " 'air_c52c63c781fe48f6',\n",
       " 'air_00a91d42b08b08d9',\n",
       " 'air_99b01136f451fc0e',\n",
       " 'air_0919d54f0c9a24b8',\n",
       " 'air_98b54e32ccddd896',\n",
       " 'air_caf996ac27206301',\n",
       " 'air_b30fffd7ab1e75a5',\n",
       " 'air_cd4b301d5d3918d8',\n",
       " 'air_0164b9927d20bcc3',\n",
       " 'air_32f5d7cd696e3c4a',\n",
       " 'air_8f273fb9ad2fed6f',\n",
       " 'air_7a81bd7fadcbf3d8',\n",
       " 'air_8ce035ee1d8a56a6',\n",
       " 'air_a304330715435390',\n",
       " 'air_4b9085d0d46a6211',\n",
       " 'air_97958e7fce98b6a3',\n",
       " 'air_b711b43ae472cb6b',\n",
       " 'air_81c2600146d07d16',\n",
       " 'air_cc1a0e985ce63711',\n",
       " 'air_fdc02ec4a3d21ea4',\n",
       " 'air_dc0e080ba0a5e5af',\n",
       " 'air_629d9935273c82ae',\n",
       " 'air_15ae33469e9ea2dd',\n",
       " 'air_48ffd31594bc3263',\n",
       " 'air_4d90a22572fa1ec9',\n",
       " 'air_c2626f5f86d57342',\n",
       " 'air_b88192b35ac03c24',\n",
       " 'air_d477b6339b8ce69f',\n",
       " 'air_709262d948dd0b6e',\n",
       " 'air_d1f20424f76cc78e',\n",
       " 'air_aed3a8b49abe4a48',\n",
       " 'air_09fd1f5c58583141',\n",
       " 'air_848616680ef061bd',\n",
       " 'air_16179d43b6ee5fd8',\n",
       " 'air_e3020992d5fe5dfd',\n",
       " 'air_6d64dba2edd4fc0c',\n",
       " 'air_d63cfa6d6ab78446',\n",
       " 'air_f6bfd27e2e174d16',\n",
       " 'air_75bd5d1b6dc6670d',\n",
       " 'air_90213bcae4afa274',\n",
       " 'air_2ac361b97630e2df',\n",
       " 'air_b28bed4b2e7167b7',\n",
       " 'air_af03c277a167b2bd',\n",
       " 'air_68cc910e7b307b09',\n",
       " 'air_a17f0778617c76e2',\n",
       " 'air_4433ab8e9999915f',\n",
       " 'air_1ba4e87ef7422183',\n",
       " 'air_b8925441167c3152',\n",
       " 'air_89e7328af22efe74',\n",
       " 'air_6b942d5ebbc759c2',\n",
       " 'air_10393f12e9069760',\n",
       " 'air_6b65745d432fd77f',\n",
       " 'air_7db266904cb0d72a',\n",
       " 'air_e76a668009c5dabc',\n",
       " 'air_cbe867adcf44e14f',\n",
       " 'air_61b8d37c33617f21',\n",
       " 'air_4481a87c1d7c9896',\n",
       " 'air_52a08ef3efdb4bb0',\n",
       " 'air_b2395df0e874078d',\n",
       " 'air_f3602e4fa2f12993',\n",
       " 'air_064e203265ee5753',\n",
       " 'air_99c3eae84130c1cb',\n",
       " 'air_abcdc8115988a010',\n",
       " 'air_88f31db64991768a',\n",
       " 'air_c88467d88b2c8ecd',\n",
       " 'air_4579cb0669fd411b',\n",
       " 'air_473cf23b9e7c0a37',\n",
       " 'air_dabfbd0ec951925a',\n",
       " 'air_52e2a1fd42bc917a',\n",
       " 'air_b1a72bf1ebf4b8ef',\n",
       " 'air_421670f21da5ba31',\n",
       " 'air_2a184c1745274b2b',\n",
       " 'air_de803f7e324936b8',\n",
       " 'air_066f0221b8a4d533',\n",
       " 'air_a9a380530c1e121f',\n",
       " 'air_a21ffca0bea1661a',\n",
       " 'air_68d075113f368946',\n",
       " 'air_99a5183695b849f9',\n",
       " 'air_382f5ace4e2247b8',\n",
       " 'air_9dc9483f717d73ee',\n",
       " 'air_c26f027b5bc1f081',\n",
       " 'air_694571ea13fb9e0e',\n",
       " 'air_d473620754bf9fc2',\n",
       " 'air_df843e6b22e8d540',\n",
       " 'air_2195cd5025a98033',\n",
       " 'air_2fed81034f8834e5',\n",
       " 'air_eda179770dfa9f91',\n",
       " 'air_d4981cdde163b172',\n",
       " 'air_2e7cb1f1a2a9cd6a',\n",
       " 'air_95e917913cd988f3',\n",
       " 'air_07b314d83059c4d2',\n",
       " 'air_3ac24136722e2291',\n",
       " 'air_6ced51c24fb54262',\n",
       " 'air_cf2229e64408d9fe',\n",
       " 'air_40953e2d8b4f2857',\n",
       " 'air_8a59bb0c497b771e',\n",
       " 'air_a239a44805932bab',\n",
       " 'air_bc9a129e11a2efe0',\n",
       " 'air_9d5a980b211e1795',\n",
       " 'air_ebd31e812960f517',\n",
       " 'air_cb25551c4cd8d9f3',\n",
       " 'air_b3a824511477a4ed',\n",
       " 'air_2a7f14da7fe0f699',\n",
       " 'air_e89735e80d614a7e',\n",
       " 'air_ad60f6b76c9df7ed',\n",
       " 'air_9cd5e310f488bced',\n",
       " 'air_f180301886c21375',\n",
       " 'air_bf617aa68d5f1cfa',\n",
       " 'air_47070be6093f123e',\n",
       " 'air_7f3dc18494bce98b',\n",
       " 'air_75864c80d2fb334a',\n",
       " 'air_2f8ced25216df926',\n",
       " 'air_3f91d592acd6cc0b',\n",
       " 'air_472b19e3b5bffa41',\n",
       " 'air_0647f17b4dc041c8',\n",
       " 'air_2fc149abe33adcb4',\n",
       " 'air_464a62de0d57be1e',\n",
       " 'air_9dd7d38b0f1760c4',\n",
       " 'air_c77ee2b7d36da265',\n",
       " 'air_96929a799b12a43e',\n",
       " 'air_87467487d21891dd',\n",
       " 'air_08ef81d5b7a0d13f',\n",
       " 'air_add9a575623726c8',\n",
       " 'air_ca957d3a1529fbd3',\n",
       " 'air_e42bdc3377d1eee7',\n",
       " 'air_fb44f566d4f64a4e',\n",
       " 'air_4feeb8600f131e43',\n",
       " 'air_2703dcb33192b181',\n",
       " 'air_7bda6048a4a78837',\n",
       " 'air_0ead98dd07e7a82a',\n",
       " 'air_6e64fb5821402cd2',\n",
       " 'air_23e1b11aee2a1407',\n",
       " 'air_f593fa60ac3541e2',\n",
       " 'air_349278fa964bb12f',\n",
       " 'air_87078cf7903a648c',\n",
       " 'air_8110d68cc869b85e',\n",
       " 'air_28dbe91c4c9656be',\n",
       " 'air_347be2c4feeb408b',\n",
       " 'air_28064154614b2e6c',\n",
       " 'air_96773a6236d279b1',\n",
       " 'air_56cebcbd6906e04c',\n",
       " 'air_8f3b563416efc6ad',\n",
       " 'air_646b93e336f0dded',\n",
       " 'air_32c61b620a766138',\n",
       " 'air_ea6d0c3acf00b22a',\n",
       " 'air_e00fe7853c0100d6',\n",
       " 'air_a2b29aa7feb4e36f',\n",
       " 'air_789103bf53b8096b',\n",
       " 'air_900d755ebd2f7bbd',\n",
       " 'air_1d3f797dd1f7cf1c',\n",
       " 'air_034a3d5b40d5b1b1',\n",
       " 'air_dc71c6cc06cd1aa2',\n",
       " 'air_7fbf7649eb13ad9b',\n",
       " 'air_6ff5fca957798daa',\n",
       " 'air_d186b2cb0b9ce022',\n",
       " 'air_4974785f48853db9',\n",
       " 'air_9cf2f1ba86229773',\n",
       " 'air_56ea46c14b2dd967',\n",
       " 'air_21f5052d5330528d',\n",
       " 'air_5dea8a7a5bf5eb71',\n",
       " 'air_f183a514cb8ff4fa',\n",
       " 'air_16c4cfddeb2cf69b',\n",
       " 'air_b2dcec37b83e2494',\n",
       " 'air_f267dd70a6a6b5d3',\n",
       " 'air_e34c631c766f2766',\n",
       " 'air_84f6876ff7e83ae7',\n",
       " 'air_9828505fefc77d75',\n",
       " 'air_e524c6a9e06cc3a1',\n",
       " 'air_9efaa7ded03c5a71',\n",
       " 'air_e0e69668214ff972',\n",
       " 'air_12c4fb7a423df20d',\n",
       " 'air_ad13e71e21235131',\n",
       " 'air_5878b6f2a9da12c1',\n",
       " 'air_e2208a79e2678432',\n",
       " 'air_0845d8395f30c6bb',\n",
       " 'air_eca5e0064dc9314a',\n",
       " 'air_602ca92c0db34f8f',\n",
       " 'air_a85f8c0bfd61889f',\n",
       " 'air_09661c0f3259cc04',\n",
       " 'air_bb4ff06cd661ee9b',\n",
       " 'air_4c2ed28f3f19ca52',\n",
       " 'air_91236b89d29567af',\n",
       " 'air_138ff410757b845f',\n",
       " 'air_f1094dbf2aef85d9',\n",
       " 'air_6108821ffafa9b72',\n",
       " 'air_049f6d5b402a31b2',\n",
       " 'air_9e920b758503ef54',\n",
       " 'air_c28983412a7eefcf',\n",
       " 'air_8e492076a1179383',\n",
       " 'air_85bd13a49370c392',\n",
       " 'air_746211c0b532e8aa',\n",
       " 'air_1408dd53f31a8a65',\n",
       " 'air_9b6af3db40da4ae2',\n",
       " 'air_e053c561f32acc28',\n",
       " 'air_f6cdaf7b7fdc6d78',\n",
       " 'air_3aa839e8e0cb6c87',\n",
       " 'air_1dea9815ccd36620',\n",
       " 'air_fdcfef8bd859f650',\n",
       " 'air_083ddc520ea47e1e',\n",
       " 'air_f85e21e543cf44f2',\n",
       " 'air_0585011fa179bcce',\n",
       " 'air_dbf64f1ce38c7442',\n",
       " 'air_0f60e1576a7d397d',\n",
       " 'air_f88898cd09f40496',\n",
       " 'air_81bd68142db76f58',\n",
       " 'air_9105a29b0eb250d2',\n",
       " 'air_ac7a7427c9ae12a5',\n",
       " 'air_ccd19a5bc5573ae5',\n",
       " 'air_310e467e6e625004',\n",
       " 'air_eb5788dba285e725',\n",
       " 'air_af24e3e817dea1e5',\n",
       " 'air_efd70b04de878f25',\n",
       " 'air_56cd12f31a0afc04',\n",
       " 'air_83db5aff8f50478e',\n",
       " 'air_d00a15343325e5f7',\n",
       " 'air_a7404a854919e990',\n",
       " 'air_4254c3fc3ad078bd',\n",
       " 'air_5cb030b9f0b91537',\n",
       " 'air_fff68b929994bfbd',\n",
       " 'air_6836438b543ba698',\n",
       " 'air_a49f1cf0634f13e5',\n",
       " 'air_c8c0ef02ed72053f',\n",
       " 'air_452100f5305dde64',\n",
       " 'air_22682e965418936f',\n",
       " 'air_bebd55ed63ab2422',\n",
       " 'air_f957c6d6467d4d90',\n",
       " 'air_55e11c33d4758131',\n",
       " 'air_fd154088b1de6fa7',\n",
       " 'air_d500b48a8735fbd3',\n",
       " 'air_747f375eb3900e1e',\n",
       " 'air_67483104fa38ef6c',\n",
       " 'air_c6aa2efba0ffc8eb',\n",
       " 'air_3440e0ea1b70a99b',\n",
       " 'air_9bf0ccac497c4af3',\n",
       " 'air_e64de0a6bf0739af',\n",
       " 'air_c66dbd2c37832d00',\n",
       " 'air_228f10bec0bda9c8',\n",
       " 'air_931a8a4321b6e7d1',\n",
       " 'air_a218912784bf767d',\n",
       " 'air_dfe068a1bf85f395',\n",
       " 'air_d1418d6fd6d634f2',\n",
       " 'air_e08b9cf82057a170',\n",
       " 'air_7bacc4d36fb094c9',\n",
       " 'air_c3bc011cca3bec65',\n",
       " 'air_e1b76fcb5208fb6b',\n",
       " 'air_fa12b40b02fecfd8',\n",
       " 'air_cc35590cd1da8554',\n",
       " 'air_728ff578acc6ac6e',\n",
       " 'air_42c9aa6d617c5057',\n",
       " 'air_bd74a9222edfdfe1',\n",
       " 'air_0e7c11b9abc50163',\n",
       " 'air_a85f0c0c889f6b7e',\n",
       " 'air_eceb97ad6a7d4c07',\n",
       " 'air_09040f6df960ddb8',\n",
       " 'air_c3dcaf3aeb18e20e',\n",
       " 'air_8c3175aa5e4fc569',\n",
       " 'air_ecf7f141339f1d57',\n",
       " 'air_ca1315af9e073bd1',\n",
       " 'air_c027e2b560442808',\n",
       " 'air_5afb1cca48ceaa19',\n",
       " 'air_105a7954e32dba9b',\n",
       " 'air_3bd49f98ab7f36ab',\n",
       " 'air_5cfc537125d97f16',\n",
       " 'air_2545dd3a00f265e2',\n",
       " 'air_8d61f49aa0373492',\n",
       " 'air_414ff459ed18fa48',\n",
       " 'air_d8abb9e490abf94f',\n",
       " 'air_ebe02c3090271fa9',\n",
       " 'air_e0aee25b56a069f2',\n",
       " 'air_ab9746a0f83084b7',\n",
       " 'air_5e34c6fe6fabd10e',\n",
       " 'air_4dea8d17f6f59c56',\n",
       " 'air_1d25ca6c76df48b4',\n",
       " 'air_b45b8e456f53942a',\n",
       " 'air_800c02226e2e0288',\n",
       " 'air_4beac252540f865e',\n",
       " 'air_08cb3c4ee6cd6a22',\n",
       " 'air_61668cc2b0778898',\n",
       " 'air_4e1c38f68f435596',\n",
       " 'air_8ec47c0f1e2c879e',\n",
       " 'air_b8d9e1624baaadc2',\n",
       " 'air_6607fe3671242ce3',\n",
       " 'air_c1ff20617c54fee7',\n",
       " 'air_990a642a3deb2903',\n",
       " 'air_81546875de9c8e78',\n",
       " 'air_90ed0a2f24755533',\n",
       " 'air_3980af67be35afdb',\n",
       " 'air_9a30407764f4ff84',\n",
       " 'air_1979eaff8189d086',\n",
       " 'air_950381108f839348',\n",
       " 'air_ade6e836ffd1da64',\n",
       " 'air_9d474ec2448c700d',\n",
       " 'air_17a6ab40f97fd4d8',\n",
       " 'air_68147db09287bf74',\n",
       " 'air_396942e6423a2145',\n",
       " 'air_4092cfbd95a3ac1b',\n",
       " 'air_5e339a1f364cdb00',\n",
       " 'air_f4936b91c9addbf0',\n",
       " 'air_1f34e9beded2231a',\n",
       " 'air_735bcbe1763d6e98',\n",
       " 'air_b5bdd318005d9aa4',\n",
       " 'air_32b02ba5dc2027f4',\n",
       " 'air_74cf22153214064c',\n",
       " 'air_baf28ac9f13a307d',\n",
       " 'air_daa7947e1c47f5ed',\n",
       " 'air_57013002b912772b',\n",
       " 'air_8a1d21fad48374e8',\n",
       " 'air_26f10355d9b4d82a',\n",
       " 'air_bbe1c1a47e09f161',\n",
       " 'air_152c1f08d7d20e07',\n",
       " 'air_2fc478dc9f0a6b31',\n",
       " 'air_bc991c51d6613745',\n",
       " 'air_42d41eb58cad170e',\n",
       " 'air_5a9a6cbeeb434c08',\n",
       " 'air_57c9eea1a2b66e65',\n",
       " 'air_d6b3e67261f07646',\n",
       " 'air_3d3a2b509180e798',\n",
       " 'air_4b380b4db9d37883',\n",
       " 'air_4b55d8aea1d2b395',\n",
       " 'air_0328696196e46f18',\n",
       " 'air_15e6e15c7ea2c162',\n",
       " 'air_dad0b6a36138f309',\n",
       " 'air_49211568cab5fdee',\n",
       " 'air_a510dcfe979f09eb',\n",
       " 'air_2d78d9a1f4dd02ca',\n",
       " 'air_7d65049f9d275c0d',\n",
       " 'air_754ae581ad80cc9f',\n",
       " 'air_084d98859256acf0',\n",
       " 'air_b5598d12d1b84890',\n",
       " 'air_31c753b48a657b6c',\n",
       " 'air_168441ada3e878e1',\n",
       " 'air_24e8414b9b07decb']"
      ]
     },
     "execution_count": 63,
     "metadata": {},
     "output_type": "execute_result"
    }
   ],
   "source": [
    "restaurants_after_july"
   ]
  },
  {
   "cell_type": "code",
   "execution_count": 64,
   "metadata": {},
   "outputs": [],
   "source": [
    "air_first=train_data[train_data.air_store_id=='air_8e4360a64dbd4c50']"
   ]
  },
  {
   "cell_type": "code",
   "execution_count": 65,
   "metadata": {},
   "outputs": [
    {
     "data": {
      "text/html": [
       "<div>\n",
       "<style scoped>\n",
       "    .dataframe tbody tr th:only-of-type {\n",
       "        vertical-align: middle;\n",
       "    }\n",
       "\n",
       "    .dataframe tbody tr th {\n",
       "        vertical-align: top;\n",
       "    }\n",
       "\n",
       "    .dataframe thead th {\n",
       "        text-align: right;\n",
       "    }\n",
       "</style>\n",
       "<table border=\"1\" class=\"dataframe\">\n",
       "  <thead>\n",
       "    <tr style=\"text-align: right;\">\n",
       "      <th></th>\n",
       "      <th>air_store_id</th>\n",
       "      <th>visit_date</th>\n",
       "      <th>visitors</th>\n",
       "    </tr>\n",
       "  </thead>\n",
       "  <tbody>\n",
       "    <tr>\n",
       "      <th>711</th>\n",
       "      <td>air_8e4360a64dbd4c50</td>\n",
       "      <td>2016-07-01</td>\n",
       "      <td>28</td>\n",
       "    </tr>\n",
       "    <tr>\n",
       "      <th>712</th>\n",
       "      <td>air_8e4360a64dbd4c50</td>\n",
       "      <td>2016-07-02</td>\n",
       "      <td>47</td>\n",
       "    </tr>\n",
       "    <tr>\n",
       "      <th>713</th>\n",
       "      <td>air_8e4360a64dbd4c50</td>\n",
       "      <td>2016-07-03</td>\n",
       "      <td>32</td>\n",
       "    </tr>\n",
       "    <tr>\n",
       "      <th>714</th>\n",
       "      <td>air_8e4360a64dbd4c50</td>\n",
       "      <td>2016-07-04</td>\n",
       "      <td>16</td>\n",
       "    </tr>\n",
       "    <tr>\n",
       "      <th>715</th>\n",
       "      <td>air_8e4360a64dbd4c50</td>\n",
       "      <td>2016-07-05</td>\n",
       "      <td>27</td>\n",
       "    </tr>\n",
       "  </tbody>\n",
       "</table>\n",
       "</div>"
      ],
      "text/plain": [
       "             air_store_id  visit_date  visitors\n",
       "711  air_8e4360a64dbd4c50  2016-07-01        28\n",
       "712  air_8e4360a64dbd4c50  2016-07-02        47\n",
       "713  air_8e4360a64dbd4c50  2016-07-03        32\n",
       "714  air_8e4360a64dbd4c50  2016-07-04        16\n",
       "715  air_8e4360a64dbd4c50  2016-07-05        27"
      ]
     },
     "execution_count": 65,
     "metadata": {},
     "output_type": "execute_result"
    }
   ],
   "source": [
    "air_first.head()"
   ]
  },
  {
   "cell_type": "code",
   "execution_count": 66,
   "metadata": {},
   "outputs": [],
   "source": [
    "air_first['visit_date']=pd.to_datetime(air_first['visit_date'])\n",
    "air_first.set_index('visit_date',inplace=True)"
   ]
  },
  {
   "cell_type": "code",
   "execution_count": 67,
   "metadata": {},
   "outputs": [],
   "source": [
    "xgb_data=pd.read_csv('predictions/xgb_custom_feat6.csv')\n",
    "xgb_data['visit_date'] = xgb_data['id'].map(lambda x: str(x).split('_')[2])\n",
    "xgb_data['air_store_id'] = xgb_data['id'].map(lambda x: '_'.join(x.split('_')[:2]))"
   ]
  },
  {
   "cell_type": "code",
   "execution_count": 68,
   "metadata": {},
   "outputs": [],
   "source": [
    "xgb_data=xgb_data[xgb_data.air_store_id=='air_8e4360a64dbd4c50']"
   ]
  },
  {
   "cell_type": "code",
   "execution_count": 69,
   "metadata": {},
   "outputs": [],
   "source": [
    "xgb_data.drop('id',axis=1,inplace=True)"
   ]
  },
  {
   "cell_type": "code",
   "execution_count": 70,
   "metadata": {},
   "outputs": [],
   "source": [
    "xgb_data['visit_date']=pd.to_datetime(xgb_data['visit_date'])\n",
    "xgb_data.set_index('visit_date',inplace=True)"
   ]
  },
  {
   "cell_type": "code",
   "execution_count": 71,
   "metadata": {},
   "outputs": [],
   "source": [
    "lgb_data=pd.read_csv('predictions/lgb_custom_feat6.csv')\n",
    "lgb_data['visit_date'] = lgb_data['id'].map(lambda x: str(x).split('_')[2])\n",
    "lgb_data['air_store_id'] = lgb_data['id'].map(lambda x: '_'.join(x.split('_')[:2]))"
   ]
  },
  {
   "cell_type": "code",
   "execution_count": 72,
   "metadata": {},
   "outputs": [],
   "source": [
    "lgb_data=lgb_data[lgb_data.air_store_id=='air_8e4360a64dbd4c50']"
   ]
  },
  {
   "cell_type": "code",
   "execution_count": 73,
   "metadata": {},
   "outputs": [],
   "source": [
    "lgb_data.drop('id',axis=1,inplace=True)"
   ]
  },
  {
   "cell_type": "code",
   "execution_count": 74,
   "metadata": {},
   "outputs": [],
   "source": [
    "lgb_data['visit_date']=pd.to_datetime(lgb_data['visit_date'])\n",
    "lgb_data.set_index('visit_date',inplace=True)"
   ]
  },
  {
   "cell_type": "code",
   "execution_count": 45,
   "metadata": {},
   "outputs": [],
   "source": [
    "hk_data=pd.read_csv('predictions/submission_hk_stack.csv')\n",
    "hk_data['visit_date'] = hk_data['id'].map(lambda x: str(x).split('_')[2])\n",
    "hk_data['air_store_id'] = hk_data['id'].map(lambda x: '_'.join(x.split('_')[:2]))"
   ]
  },
  {
   "cell_type": "code",
   "execution_count": 46,
   "metadata": {},
   "outputs": [],
   "source": [
    "hk_data=hk_data[hk_data.air_store_id=='air_ba937bf13d40fb24']"
   ]
  },
  {
   "cell_type": "code",
   "execution_count": 47,
   "metadata": {},
   "outputs": [],
   "source": [
    "hk_data.drop('id',axis=1,inplace=True)"
   ]
  },
  {
   "cell_type": "code",
   "execution_count": 48,
   "metadata": {},
   "outputs": [],
   "source": [
    "hk_data['visit_date']=pd.to_datetime(hk_data['visit_date'])\n",
    "hk_data.set_index('visit_date',inplace=True)"
   ]
  },
  {
   "cell_type": "code",
   "execution_count": 75,
   "metadata": {},
   "outputs": [],
   "source": [
    "arima_data=pd.read_csv('predictions/submission_arima.csv')\n",
    "arima_data['visit_date'] = arima_data['id'].map(lambda x: str(x).split('_')[2])\n",
    "arima_data['air_store_id'] = arima_data['id'].map(lambda x: '_'.join(x.split('_')[:2]))"
   ]
  },
  {
   "cell_type": "code",
   "execution_count": 76,
   "metadata": {},
   "outputs": [],
   "source": [
    "arima_data=arima_data[arima_data.air_store_id=='air_8e4360a64dbd4c50']"
   ]
  },
  {
   "cell_type": "code",
   "execution_count": 77,
   "metadata": {},
   "outputs": [],
   "source": [
    "arima_data.drop('id',axis=1,inplace=True)"
   ]
  },
  {
   "cell_type": "code",
   "execution_count": 78,
   "metadata": {},
   "outputs": [],
   "source": [
    "arima_data['visit_date']=pd.to_datetime(arima_data['visit_date'])\n",
    "arima_data.set_index('visit_date',inplace=True)"
   ]
  },
  {
   "cell_type": "code",
   "execution_count": 80,
   "metadata": {},
   "outputs": [
    {
     "data": {
      "text/plain": [
       "<matplotlib.legend.Legend at 0x109e0198>"
      ]
     },
     "execution_count": 80,
     "metadata": {},
     "output_type": "execute_result"
    },
    {
     "data": {
      "image/png": "[encoded data removed]",
      "text/plain": [
       "<matplotlib.figure.Figure at 0x11aa2160>"
      ]
     },
     "metadata": {},
     "output_type": "display_data"
    }
   ],
   "source": [
    "plt.style.use('ggplot')\n",
    "plt.subplots(1,1,figsize=(20,6))\n",
    "plt.plot(air_first.index, air_first.visitors, label='Visitors',color=\"blue\")\n",
    "plt.plot(arima_data.index, arima_data.visitors, color='red', label='SARIMAX')\n",
    "plt.plot(lgb_data.index, xgb_data.visitors, color='green', label='LGBM')\n",
    "plt.xlabel('visit Date')\n",
    "plt.ylabel('# of visitors')\n",
    "plt.legend()"
   ]
  },
  {
   "cell_type": "code",
   "execution_count": null,
   "metadata": {},
   "outputs": [],
   "source": []
  }
 ],
 "metadata": {
  "kernelspec": {
   "display_name": "Python 3",
   "language": "python",
   "name": "python3"
  },
  "language_info": {
   "codemirror_mode": {
    "name": "ipython",
    "version": 3
   },
   "file_extension": ".py",
   "mimetype": "text/x-python",
   "name": "python",
   "nbconvert_exporter": "python",
   "pygments_lexer": "ipython3",
   "version": "3.6.3"
  }
 },
 "nbformat": 4,
 "nbformat_minor": 2
}
